{
 "cells": [
  {
   "cell_type": "markdown",
   "id": "4595696c",
   "metadata": {},
   "source": [
    "# Searching for best hyperparameters set"
   ]
  },
  {
   "cell_type": "markdown",
   "id": "d6e16386",
   "metadata": {},
   "source": [
    "# AdaBoost optimization"
   ]
  },
  {
   "cell_type": "code",
   "execution_count": null,
   "id": "fbdca02b",
   "metadata": {},
   "outputs": [],
   "source": [
    "import pandas as pd\n",
    "import numpy as np\n",
    "from sklearn.ensemble import AdaBoostClassifier\n",
    "from sklearn.tree import DecisionTreeClassifier\n",
    "from sklearn.metrics import classification_report, accuracy_score\n",
    "from sklearn.model_selection import cross_val_score\n",
    "import optuna\n",
    "from optuna.visualization import plot_optimization_history, plot_param_importances, plot_slice, plot_parallel_coordinate\n",
    "import os\n",
    "import pickle"
   ]
  },
  {
   "cell_type": "code",
   "execution_count": null,
   "id": "7c0d9735",
   "metadata": {},
   "outputs": [],
   "source": [
    "from IPython.display import display, HTML\n",
    "display(HTML(\"<style>.container { width:100% !important; }</style>\"))"
   ]
  },
  {
   "cell_type": "code",
   "execution_count": null,
   "id": "1f0e9602",
   "metadata": {},
   "outputs": [],
   "source": [
    "train_df = pd.read_feather('./data/train_processed.ftr')\n",
    "val_df = pd.read_feather('./data/val_processed.ftr')\n",
    "cols = list(train_df.columns)"
   ]
  },
  {
   "cell_type": "code",
   "execution_count": null,
   "id": "1af3e27d",
   "metadata": {},
   "outputs": [],
   "source": [
    "cols"
   ]
  },
  {
   "cell_type": "markdown",
   "id": "b6876728",
   "metadata": {},
   "source": [
    "## Prepare AdaBoost model"
   ]
  },
  {
   "cell_type": "code",
   "execution_count": null,
   "id": "7d3b51a9",
   "metadata": {},
   "outputs": [],
   "source": [
    "train_x = train_df[cols[:-1]].to_numpy()\n",
    "train_y = train_df[cols[-1]].to_numpy()\n",
    "val_x = val_df[cols[:-1]].to_numpy()\n",
    "val_y = val_df[cols[-1]].to_numpy()"
   ]
  },
  {
   "cell_type": "code",
   "execution_count": null,
   "id": "e76e4fb5",
   "metadata": {},
   "outputs": [],
   "source": [
    "class ModelTester:\n",
    "    \n",
    "    def __init__(\n",
    "        self,\n",
    "        params: dict,\n",
    "        train_x: np.array,\n",
    "        train_y: np.array,\n",
    "        val_x: np.array,\n",
    "        val_y: np.array\n",
    "    ):\n",
    "        self.params = params\n",
    "        self.train_x = train_x\n",
    "        self.train_y = train_y\n",
    "        self.val_x = val_x\n",
    "        self.val_y = val_y\n",
    "        \n",
    "        self.model = self.train_model()\n",
    "        self.y_pred_bin = self.get_bin_predictions()\n",
    "            \n",
    "    def train_model(self):\n",
    "        # 1 - Run model\n",
    "        tree = DecisionTreeClassifier(\n",
    "            min_samples_split=self.params['min_samples_split'],\n",
    "            max_depth=self.params['max_depth'],\n",
    "            min_impurity_decrease=self.params['min_impurity_decrease'],\n",
    "            criterion=self.params['criterion']\n",
    "        )\n",
    "        model = AdaBoostClassifier(\n",
    "            base_estimator=tree,\n",
    "            n_estimators=self.params['n_estimators'],\n",
    "            learning_rate=self.params['learning_rate'],\n",
    "            algorithm=self.params['algorithm'],\n",
    "        )\n",
    "        model.fit(self.train_x, self.train_y)\n",
    "        return model\n",
    "    \n",
    "    def get_bin_predictions(self):\n",
    "        # 2 - Get predictions\n",
    "        y_pred = self.model.predict(val_x)\n",
    "        y_pred_bin = [1 if y else 0 for y in y_pred]\n",
    "        \n",
    "        return y_pred_bin\n",
    "    \n",
    "    def get_accuracy(self):\n",
    "        return round(accuracy_score(self.val_y, self.y_pred_bin), 3)\n",
    "    \n",
    "    def get_class_report(self):\n",
    "        return classification_report(self.val_y, self.y_pred_bin)    "
   ]
  },
  {
   "cell_type": "markdown",
   "id": "89b6431f",
   "metadata": {},
   "source": [
    "## Optuna research"
   ]
  },
  {
   "cell_type": "code",
   "execution_count": null,
   "id": "4f152fde",
   "metadata": {},
   "outputs": [],
   "source": [
    "def objective(trial):\n",
    "    # 0 - Prepare params\n",
    "    n_estimators = trial.suggest_int(\"n_estimators\", 10, 200)\n",
    "    algorithm = trial.suggest_categorical('algorithm', ['SAMME', 'SAMME.R'])\n",
    "    learning_rate = trial.suggest_float('learning_rate', 0.001, 0.5)\n",
    "    max_depth = trial.suggest_int('max_depth', 1, 100)\n",
    "    min_samples_split = trial.suggest_int('min_samples_split', 2, 100)\n",
    "    min_impurity_decrease = trial.suggest_float('min_impurity_decrease', 0, 0.0001)\n",
    "    criterion = trial.suggest_categorical('criterion', ['gini', 'entropy'])\n",
    "    \n",
    "    params = {\n",
    "        'n_estimators': n_estimators,\n",
    "        'learning_rate': learning_rate,\n",
    "        'algorithm': algorithm,\n",
    "        'max_depth': max_depth,\n",
    "        'min_samples_split': min_samples_split,\n",
    "        'min_impurity_decrease': min_impurity_decrease,\n",
    "        'criterion': criterion\n",
    "    }\n",
    "    \n",
    "    # 1 - Model\n",
    "    model_tester = ModelTester(params, train_x, train_y, val_x, val_y)\n",
    "    acc = model_tester.get_accuracy()\n",
    "    error = 1 - acc\n",
    "    \n",
    "    return error"
   ]
  },
  {
   "cell_type": "code",
   "execution_count": null,
   "id": "95179668",
   "metadata": {
    "collapsed": true
   },
   "outputs": [],
   "source": [
    "study = optuna.create_study()\n",
    "study.optimize(objective, n_trials=1000)"
   ]
  },
  {
   "cell_type": "markdown",
   "id": "d25d9501",
   "metadata": {},
   "source": [
    "### Show results"
   ]
  },
  {
   "cell_type": "code",
   "execution_count": null,
   "id": "ef653720",
   "metadata": {
    "collapsed": true
   },
   "outputs": [],
   "source": [
    "plot_optimization_history(study)"
   ]
  },
  {
   "cell_type": "code",
   "execution_count": null,
   "id": "5322cc73",
   "metadata": {
    "collapsed": true
   },
   "outputs": [],
   "source": [
    "plot_param_importances(study)"
   ]
  },
  {
   "cell_type": "code",
   "execution_count": null,
   "id": "005a9a2a",
   "metadata": {
    "collapsed": true
   },
   "outputs": [],
   "source": [
    "key_params = ['algorithm', 'learning_rate', 'n_estimators']\n",
    "plot_slice(study, params = key_params).show()"
   ]
  },
  {
   "cell_type": "code",
   "execution_count": null,
   "id": "42fbc305",
   "metadata": {},
   "outputs": [],
   "source": [
    "study.best_params"
   ]
  },
  {
   "cell_type": "code",
   "execution_count": null,
   "id": "ead10b2a",
   "metadata": {},
   "outputs": [],
   "source": [
    "best_params = {\n",
    "    'n_estimators': 106,\n",
    "    'algorithm': 'SAMME.R',\n",
    "    'learning_rate': 0.4827054897488229,\n",
    "    'max_depth': 11,\n",
    "    'min_samples_split': 1,\n",
    "    'min_impurity_decrease': 7.200517833654635e-05,\n",
    "    'criterion': 'gini'\n",
    "}"
   ]
  },
  {
   "cell_type": "markdown",
   "id": "70694319",
   "metadata": {},
   "source": [
    "## Create model with best params"
   ]
  },
  {
   "cell_type": "code",
   "execution_count": null,
   "id": "92f6c415",
   "metadata": {},
   "outputs": [],
   "source": [
    "train_x = train_df[cols[:-1]].to_numpy()\n",
    "train_y = train_df[cols[-1]].to_numpy()\n",
    "val_x = val_df[cols[:-1]].to_numpy()\n",
    "val_y = val_df[cols[-1]].to_numpy()"
   ]
  },
  {
   "cell_type": "code",
   "execution_count": null,
   "id": "ccf85a70",
   "metadata": {},
   "outputs": [],
   "source": [
    "params = best_params\n",
    "tree = DecisionTreeClassifier(\n",
    "#     min_samples_split=1,\n",
    "    max_depth=11,\n",
    "    min_impurity_decrease=7.200517833654635e-05,\n",
    "    criterion='gini'\n",
    ")\n",
    "model = AdaBoostClassifier(\n",
    "    base_estimator=tree,\n",
    "    n_estimators=106,\n",
    "    learning_rate=0.4827054897488229,\n",
    "    algorithm='SAMME.R'\n",
    ")"
   ]
  },
  {
   "cell_type": "code",
   "execution_count": null,
   "id": "0ee98031",
   "metadata": {},
   "outputs": [],
   "source": [
    "X = pd.concat([train_df[cols[:-1]], val_df[cols[:-1]]])\n",
    "y = pd.concat([train_df[cols[-1]], val_df[cols[-1]]])"
   ]
  },
  {
   "cell_type": "code",
   "execution_count": null,
   "id": "b381b946",
   "metadata": {},
   "outputs": [],
   "source": [
    "cv_scores = cross_val_score(model, X, y, cv=10)\n",
    "print(f'Mean cv (k=10) accuracy score = {round(np.mean(cv_scores), 3)}')"
   ]
  },
  {
   "cell_type": "markdown",
   "id": "9269b371",
   "metadata": {},
   "source": [
    "## Feature selection"
   ]
  },
  {
   "cell_type": "code",
   "execution_count": null,
   "id": "0598027b",
   "metadata": {},
   "outputs": [],
   "source": [
    "model.fit(train_x, train_y)"
   ]
  },
  {
   "cell_type": "code",
   "execution_count": null,
   "id": "fa6ccc86",
   "metadata": {},
   "outputs": [],
   "source": [
    "imp_df = pd.DataFrame({\n",
    "    'feature': cols[:-1],\n",
    "    'imp': model.feature_importances_\n",
    "}).sort_values('imp', ascending=False)\n",
    "best_features = imp_df['feature'].to_list()\n",
    "imp_df"
   ]
  },
  {
   "cell_type": "code",
   "execution_count": null,
   "id": "63880f52",
   "metadata": {},
   "outputs": [],
   "source": [
    "temp_cols = []\n",
    "cv_list = []\n",
    "\n",
    "for feature in best_features:\n",
    "    temp_cols.append(feature)\n",
    "    X = pd.concat([train_df[temp_cols], val_df[temp_cols]]).to_numpy()\n",
    "    cv_score = cross_val_score(model, X, y, cv=10)\n",
    "    cv_list.append(cv_score)"
   ]
  },
  {
   "cell_type": "code",
   "execution_count": null,
   "id": "b5a54e06",
   "metadata": {},
   "outputs": [],
   "source": [
    "means = []\n",
    "for scores in cv_list:\n",
    "    means.append(round(np.mean(scores), 3))\n",
    "\n",
    "i_features = 0\n",
    "for i in range(len(means)):\n",
    "    if means[i] == max(means):\n",
    "        i_features = i\n",
    "        print(i_features)\n",
    "        break"
   ]
  },
  {
   "cell_type": "code",
   "execution_count": null,
   "id": "715bcd4c",
   "metadata": {},
   "outputs": [],
   "source": [
    "best_features[:i_features+1]"
   ]
  },
  {
   "cell_type": "markdown",
   "id": "4e9bf73f",
   "metadata": {},
   "source": [
    "## Make final model"
   ]
  },
  {
   "cell_type": "code",
   "execution_count": null,
   "id": "e05e6bdf",
   "metadata": {},
   "outputs": [],
   "source": [
    "train_x = train_df[best_features[:i_features+1]].to_numpy()\n",
    "val_x = val_df[best_features[:i_features+1]].to_numpy()"
   ]
  },
  {
   "cell_type": "code",
   "execution_count": null,
   "id": "bef7140c",
   "metadata": {},
   "outputs": [],
   "source": [
    "params = best_params\n",
    "tree = DecisionTreeClassifier(\n",
    "#     min_samples_split=1,\n",
    "    max_depth=11,\n",
    "    min_impurity_decrease=7.200517833654635e-05,\n",
    "    criterion='gini'\n",
    ")\n",
    "model = AdaBoostClassifier(\n",
    "    base_estimator=tree,\n",
    "    n_estimators=106,\n",
    "    learning_rate=0.4827054897488229,\n",
    "    algorithm='SAMME.R'\n",
    ")"
   ]
  },
  {
   "cell_type": "code",
   "execution_count": null,
   "id": "c848b37b",
   "metadata": {},
   "outputs": [],
   "source": [
    "model.fit(train_x, train_y)\n",
    "pred_val = model.predict_proba(val_x)\n",
    "pred_train = model.predict_proba(train_x)"
   ]
  },
  {
   "cell_type": "code",
   "execution_count": null,
   "id": "3fa600be",
   "metadata": {},
   "outputs": [],
   "source": [
    "model_dict = {\n",
    "    'model': model,\n",
    "    'features': best_features\n",
    "}\n",
    "\n",
    "filepath = os.path.join('models', 'adaboost.pickle')\n",
    "with open(filepath, 'wb') as file:\n",
    "    pickle.dump(model_dict, file, protocol=pickle.HIGHEST_PROTOCOL)"
   ]
  },
  {
   "cell_type": "code",
   "execution_count": null,
   "id": "0ca04ebe",
   "metadata": {},
   "outputs": [],
   "source": [
    "model.fit(train_x, train_y)\n",
    "pred_val = model.predict_proba(val_x)\n",
    "pred_train = model.predict_proba(train_x)"
   ]
  },
  {
   "cell_type": "code",
   "execution_count": null,
   "id": "21671008",
   "metadata": {},
   "outputs": [],
   "source": [
    "train_proba_df = pd.DataFrame(pred_train)\n",
    "train_proba_df.columns = ['0', 'ada_boost']\n",
    "train_proba_df['y'] = train_y.astype(int)\n",
    "train_proba_df.drop(columns='0', inplace=True)\n",
    "train_proba_df"
   ]
  },
  {
   "cell_type": "code",
   "execution_count": null,
   "id": "e1872046",
   "metadata": {},
   "outputs": [],
   "source": [
    "val_proba_df = pd.DataFrame(pred_val)\n",
    "val_proba_df.columns = ['0', 'ada_boost']\n",
    "val_proba_df['y'] = val_y.astype(int)\n",
    "val_proba_df.drop(columns='0', inplace=True)\n",
    "val_proba_df"
   ]
  },
  {
   "cell_type": "code",
   "execution_count": null,
   "id": "b32c2316",
   "metadata": {},
   "outputs": [],
   "source": [
    "train_proba_df.to_csv('./data/ensemble_train_df.csv')\n",
    "val_proba_df.to_csv('./data/ensemble_val_df.csv')"
   ]
  },
  {
   "cell_type": "code",
   "execution_count": null,
   "id": "b28e9bb0",
   "metadata": {},
   "outputs": [],
   "source": [
    "filepath = os.path.join('models', 'adaboost.pickle')\n",
    "pickle.dump(model, open(filepath, 'wb'))"
   ]
  }
 ],
 "metadata": {
  "kernelspec": {
   "display_name": "Python 3.10.2 64-bit",
   "language": "python",
   "name": "python3"
  },
  "language_info": {
   "codemirror_mode": {
    "name": "ipython",
    "version": 3
   },
   "file_extension": ".py",
   "mimetype": "text/x-python",
   "name": "python",
   "nbconvert_exporter": "python",
   "pygments_lexer": "ipython3",
   "version": "3.10.2"
  },
  "vscode": {
   "interpreter": {
    "hash": "6a74854dbd35b3b1e1641f2d717929c6b738adcdd3262c03fe72ebc0e6c9a894"
   }
  }
 },
 "nbformat": 4,
 "nbformat_minor": 5
}
