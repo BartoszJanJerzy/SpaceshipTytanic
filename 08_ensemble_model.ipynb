{
 "cells": [
  {
   "cell_type": "markdown",
   "metadata": {},
   "source": [
    "# Find best model"
   ]
  },
  {
   "cell_type": "code",
   "execution_count": 1,
   "metadata": {},
   "outputs": [],
   "source": [
    "import warnings\n",
    "warnings.filterwarnings(\"ignore\")"
   ]
  },
  {
   "cell_type": "code",
   "execution_count": 162,
   "metadata": {},
   "outputs": [],
   "source": [
    "import pandas as pd\n",
    "from sklearn.metrics import accuracy_score\n",
    "import plotly.express as px\n",
    "import joblib\n",
    "import os\n",
    "\n",
    "from sklearn.feature_selection import mutual_info_classif\n",
    "\n",
    "# Deep Learning API for creating Neural Networks (Runs on TensorFlow)\n",
    "import tensorflow as tf\n",
    "from tensorflow import keras \n",
    "from tensorflow.keras.layers import Dense, Dropout\n",
    "from tensorflow import math\n",
    "from keras.utils.vis_utils import plot_model\n",
    "\n",
    "from my_utils.visualization import show_history_graph"
   ]
  },
  {
   "cell_type": "markdown",
   "metadata": {},
   "source": [
    "# Data"
   ]
  },
  {
   "cell_type": "code",
   "execution_count": 105,
   "metadata": {},
   "outputs": [],
   "source": [
    "train_df = pd.read_feather('./data/train_processed.ftr')\n",
    "val_df = pd.read_feather('./data/val_processed.ftr')\n",
    "train_ensemble_df = pd.read_feather('./data/ensemble_train_df.ftr')\n",
    "val_ensemble_df = pd.read_feather('./data/ensemble_val_df.ftr')\n",
    "\n",
    "standard_cols = list(train_df.columns)\n",
    "ensemble_cols = list(train_ensemble_df.columns)"
   ]
  },
  {
   "cell_type": "code",
   "execution_count": 106,
   "metadata": {},
   "outputs": [
    {
     "data": {
      "text/plain": [
       "['is_g734s',\n",
       " 'CryoSleep',\n",
       " 'VIP',\n",
       " 'Europa',\n",
       " 'Mars',\n",
       " 'PSO J318.5-22',\n",
       " 'TRAPPIST-1e',\n",
       " 'Age',\n",
       " 'RoomService',\n",
       " 'FoodCourt',\n",
       " 'ShoppingMall',\n",
       " 'Spa',\n",
       " 'VRDeck',\n",
       " 'segment']"
      ]
     },
     "execution_count": 106,
     "metadata": {},
     "output_type": "execute_result"
    }
   ],
   "source": [
    "standard_cols[:-1]"
   ]
  },
  {
   "cell_type": "code",
   "execution_count": 107,
   "metadata": {},
   "outputs": [],
   "source": [
    "train_df = pd.merge(\n",
    "    train_df.reset_index(),\n",
    "    train_ensemble_df.reset_index(),\n",
    "    on='index'\n",
    ")\n",
    "cols = standard_cols[:-1] + ensemble_cols\n",
    "train_df = train_df[cols]"
   ]
  },
  {
   "cell_type": "code",
   "execution_count": 108,
   "metadata": {},
   "outputs": [],
   "source": [
    "val_df = pd.merge(\n",
    "    val_df.reset_index(),\n",
    "    val_ensemble_df.reset_index(),\n",
    "    on='index'\n",
    ")\n",
    "cols = standard_cols[:-1] + ensemble_cols\n",
    "val_df = val_df[cols]"
   ]
  },
  {
   "cell_type": "code",
   "execution_count": 110,
   "metadata": {},
   "outputs": [],
   "source": [
    "train_x = train_df[cols[:-1]].to_numpy()\n",
    "val_x = val_df[cols[:-1]].to_numpy()\n",
    "train_y = train_df[cols[-1]].astype(int).to_numpy()\n",
    "val_y = val_df[cols[-1]].astype(int).to_numpy()"
   ]
  },
  {
   "cell_type": "markdown",
   "metadata": {},
   "source": [
    "# Mean prediction "
   ]
  },
  {
   "cell_type": "code",
   "execution_count": 22,
   "metadata": {},
   "outputs": [
    {
     "name": "stdout",
     "output_type": "stream",
     "text": [
      "Prediction based on probabilities mean has accuracy = 0.796\n"
     ]
    }
   ],
   "source": [
    "mean_pred = val_ensemble_df['mean'].apply(lambda x: int(round(x, 0))).to_numpy()\n",
    "mean_acc = round(accuracy_score(mean_pred, val_y), 3)\n",
    "\n",
    "print(f'Prediction based on probabilities mean has accuracy = {mean_acc}')"
   ]
  },
  {
   "cell_type": "markdown",
   "metadata": {},
   "source": [
    "# Feature selection"
   ]
  },
  {
   "cell_type": "code",
   "execution_count": 171,
   "metadata": {},
   "outputs": [],
   "source": [
    "mutual_info = mutual_info_classif(train_x, train_y)\n",
    "mutual_df = pd.DataFrame({\n",
    "    'Feature': cols[:-1],\n",
    "    'MutualInfo': mutual_info\n",
    "})\n",
    "mutual_df.sort_values(\n",
    "    by='MutualInfo',\n",
    "    ascending=False,\n",
    "    ignore_index=True,\n",
    "    inplace=True\n",
    ")\n",
    "mutual_df['MutualInfo'] = mutual_df['MutualInfo'].round(2)"
   ]
  },
  {
   "cell_type": "code",
   "execution_count": 175,
   "metadata": {},
   "outputs": [
    {
     "data": {
      "text/html": [
       "<div>\n",
       "<style scoped>\n",
       "    .dataframe tbody tr th:only-of-type {\n",
       "        vertical-align: middle;\n",
       "    }\n",
       "\n",
       "    .dataframe tbody tr th {\n",
       "        vertical-align: top;\n",
       "    }\n",
       "\n",
       "    .dataframe thead th {\n",
       "        text-align: right;\n",
       "    }\n",
       "</style>\n",
       "<table border=\"1\" class=\"dataframe\">\n",
       "  <thead>\n",
       "    <tr style=\"text-align: right;\">\n",
       "      <th></th>\n",
       "      <th>Feature</th>\n",
       "      <th>MutualInfo</th>\n",
       "    </tr>\n",
       "  </thead>\n",
       "  <tbody>\n",
       "    <tr>\n",
       "      <th>0</th>\n",
       "      <td>ada_boost</td>\n",
       "      <td>0.51</td>\n",
       "    </tr>\n",
       "    <tr>\n",
       "      <th>1</th>\n",
       "      <td>mean</td>\n",
       "      <td>0.33</td>\n",
       "    </tr>\n",
       "    <tr>\n",
       "      <th>2</th>\n",
       "      <td>lgbm</td>\n",
       "      <td>0.28</td>\n",
       "    </tr>\n",
       "    <tr>\n",
       "      <th>3</th>\n",
       "      <td>neural</td>\n",
       "      <td>0.27</td>\n",
       "    </tr>\n",
       "    <tr>\n",
       "      <th>4</th>\n",
       "      <td>svc</td>\n",
       "      <td>0.27</td>\n",
       "    </tr>\n",
       "    <tr>\n",
       "      <th>5</th>\n",
       "      <td>CryoSleep</td>\n",
       "      <td>0.11</td>\n",
       "    </tr>\n",
       "    <tr>\n",
       "      <th>6</th>\n",
       "      <td>segment</td>\n",
       "      <td>0.10</td>\n",
       "    </tr>\n",
       "    <tr>\n",
       "      <th>7</th>\n",
       "      <td>Spa</td>\n",
       "      <td>0.07</td>\n",
       "    </tr>\n",
       "    <tr>\n",
       "      <th>8</th>\n",
       "      <td>RoomService</td>\n",
       "      <td>0.07</td>\n",
       "    </tr>\n",
       "    <tr>\n",
       "      <th>9</th>\n",
       "      <td>VRDeck</td>\n",
       "      <td>0.06</td>\n",
       "    </tr>\n",
       "    <tr>\n",
       "      <th>10</th>\n",
       "      <td>FoodCourt</td>\n",
       "      <td>0.04</td>\n",
       "    </tr>\n",
       "    <tr>\n",
       "      <th>11</th>\n",
       "      <td>ShoppingMall</td>\n",
       "      <td>0.04</td>\n",
       "    </tr>\n",
       "    <tr>\n",
       "      <th>12</th>\n",
       "      <td>TRAPPIST-1e</td>\n",
       "      <td>0.02</td>\n",
       "    </tr>\n",
       "    <tr>\n",
       "      <th>13</th>\n",
       "      <td>Age</td>\n",
       "      <td>0.01</td>\n",
       "    </tr>\n",
       "    <tr>\n",
       "      <th>14</th>\n",
       "      <td>Europa</td>\n",
       "      <td>0.01</td>\n",
       "    </tr>\n",
       "    <tr>\n",
       "      <th>15</th>\n",
       "      <td>VIP</td>\n",
       "      <td>0.01</td>\n",
       "    </tr>\n",
       "    <tr>\n",
       "      <th>16</th>\n",
       "      <td>is_g734s</td>\n",
       "      <td>0.00</td>\n",
       "    </tr>\n",
       "    <tr>\n",
       "      <th>17</th>\n",
       "      <td>PSO J318.5-22</td>\n",
       "      <td>0.00</td>\n",
       "    </tr>\n",
       "    <tr>\n",
       "      <th>18</th>\n",
       "      <td>Mars</td>\n",
       "      <td>0.00</td>\n",
       "    </tr>\n",
       "  </tbody>\n",
       "</table>\n",
       "</div>"
      ],
      "text/plain": [
       "          Feature  MutualInfo\n",
       "0       ada_boost        0.51\n",
       "1            mean        0.33\n",
       "2            lgbm        0.28\n",
       "3          neural        0.27\n",
       "4             svc        0.27\n",
       "5       CryoSleep        0.11\n",
       "6         segment        0.10\n",
       "7             Spa        0.07\n",
       "8     RoomService        0.07\n",
       "9          VRDeck        0.06\n",
       "10      FoodCourt        0.04\n",
       "11   ShoppingMall        0.04\n",
       "12    TRAPPIST-1e        0.02\n",
       "13            Age        0.01\n",
       "14         Europa        0.01\n",
       "15            VIP        0.01\n",
       "16       is_g734s        0.00\n",
       "17  PSO J318.5-22        0.00\n",
       "18           Mars        0.00"
      ]
     },
     "execution_count": 175,
     "metadata": {},
     "output_type": "execute_result"
    }
   ],
   "source": [
    "mutual_df"
   ]
  },
  {
   "cell_type": "code",
   "execution_count": 176,
   "metadata": {},
   "outputs": [],
   "source": [
    "tresh = 0.10\n",
    "filter_tresh = mutual_df['MutualInfo'] >= tresh\n",
    "best_cols = mutual_df['Feature'].to_list()"
   ]
  },
  {
   "cell_type": "code",
   "execution_count": 178,
   "metadata": {},
   "outputs": [],
   "source": [
    "train_x = train_df[best_cols].to_numpy()\n",
    "val_x = val_df[best_cols].to_numpy()"
   ]
  },
  {
   "cell_type": "markdown",
   "metadata": {},
   "source": [
    "# Baseline neural model"
   ]
  },
  {
   "cell_type": "code",
   "execution_count": 179,
   "metadata": {},
   "outputs": [],
   "source": [
    "def get_accuracy(x, y, name, model):\n",
    "    y_pred = model.predict(x)\n",
    "    y_pred = [1 if y>=0.5 else 0 for y in y_pred.reshape(1,-1)[0]]\n",
    "    acc = accuracy_score(y, y_pred)\n",
    "    print(f'Accuracy on {name} data: {round(acc, 3)}')"
   ]
  },
  {
   "cell_type": "code",
   "execution_count": 180,
   "metadata": {},
   "outputs": [],
   "source": [
    "layers = [\n",
    "  Dense(4, activation=keras.activations.relu), # hidden layer 1, ReLU activation\n",
    "  Dense(4, activation=keras.activations.relu), # hidden layer 2, ReLU activation\n",
    "  Dense(1, activation=keras.activations.sigmoid) # ouput layer, sigmoid activation\n",
    "]\n",
    "\n",
    "base_model = keras.Sequential(layers)"
   ]
  },
  {
   "cell_type": "code",
   "execution_count": 181,
   "metadata": {},
   "outputs": [],
   "source": [
    "base_model.compile(\n",
    "    loss=keras.losses.binary_crossentropy,\n",
    "    optimizer=keras.optimizers.Adam(),\n",
    "    metrics=['accuracy']\n",
    ")"
   ]
  },
  {
   "cell_type": "code",
   "execution_count": 182,
   "metadata": {},
   "outputs": [
    {
     "name": "stdout",
     "output_type": "stream",
     "text": [
      "Epoch 1/100\n",
      "219/219 [==============================] - 1s 2ms/step - loss: 0.6726 - accuracy: 0.5962 - val_loss: 0.6166 - val_accuracy: 0.7157\n",
      "Epoch 2/100\n",
      "219/219 [==============================] - 0s 2ms/step - loss: 0.5922 - accuracy: 0.7526 - val_loss: 0.5733 - val_accuracy: 0.7636\n",
      "Epoch 3/100\n",
      "219/219 [==============================] - 0s 2ms/step - loss: 0.5526 - accuracy: 0.7837 - val_loss: 0.5400 - val_accuracy: 0.7855\n",
      "Epoch 4/100\n",
      "219/219 [==============================] - 0s 2ms/step - loss: 0.5194 - accuracy: 0.7989 - val_loss: 0.5121 - val_accuracy: 0.7949\n",
      "Epoch 5/100\n",
      "219/219 [==============================] - 0s 1ms/step - loss: 0.4929 - accuracy: 0.8073 - val_loss: 0.4926 - val_accuracy: 0.7979\n",
      "Epoch 6/100\n",
      "219/219 [==============================] - 0s 2ms/step - loss: 0.4718 - accuracy: 0.8109 - val_loss: 0.4768 - val_accuracy: 0.7973\n",
      "Epoch 7/100\n",
      "219/219 [==============================] - 0s 1ms/step - loss: 0.4551 - accuracy: 0.8136 - val_loss: 0.4660 - val_accuracy: 0.7996\n",
      "Epoch 8/100\n",
      "219/219 [==============================] - 0s 2ms/step - loss: 0.4420 - accuracy: 0.8166 - val_loss: 0.4581 - val_accuracy: 0.7979\n",
      "Epoch 9/100\n",
      "219/219 [==============================] - 0s 2ms/step - loss: 0.4309 - accuracy: 0.8182 - val_loss: 0.4533 - val_accuracy: 0.8002\n",
      "Epoch 10/100\n",
      "219/219 [==============================] - 0s 2ms/step - loss: 0.4211 - accuracy: 0.8215 - val_loss: 0.4520 - val_accuracy: 0.7979\n",
      "Epoch 11/100\n",
      "219/219 [==============================] - 0s 2ms/step - loss: 0.4135 - accuracy: 0.8220 - val_loss: 0.4502 - val_accuracy: 0.7967\n",
      "Epoch 12/100\n",
      "219/219 [==============================] - 0s 2ms/step - loss: 0.4051 - accuracy: 0.8245 - val_loss: 0.4499 - val_accuracy: 0.7967\n",
      "Epoch 13/100\n",
      "219/219 [==============================] - 0s 2ms/step - loss: 0.3973 - accuracy: 0.8262 - val_loss: 0.4499 - val_accuracy: 0.7979\n",
      "Epoch 14/100\n",
      "219/219 [==============================] - 0s 2ms/step - loss: 0.3899 - accuracy: 0.8292 - val_loss: 0.4515 - val_accuracy: 0.7985\n",
      "Epoch 15/100\n",
      "219/219 [==============================] - 0s 2ms/step - loss: 0.3827 - accuracy: 0.8312 - val_loss: 0.4503 - val_accuracy: 0.7943\n",
      "Epoch 16/100\n",
      "219/219 [==============================] - 0s 2ms/step - loss: 0.3748 - accuracy: 0.8337 - val_loss: 0.4511 - val_accuracy: 0.7937\n",
      "Epoch 17/100\n",
      "219/219 [==============================] - 0s 2ms/step - loss: 0.3675 - accuracy: 0.8356 - val_loss: 0.4503 - val_accuracy: 0.7949\n",
      "Epoch 18/100\n",
      "219/219 [==============================] - 0s 2ms/step - loss: 0.3611 - accuracy: 0.8383 - val_loss: 0.4520 - val_accuracy: 0.7943\n",
      "Epoch 19/100\n",
      "219/219 [==============================] - 0s 2ms/step - loss: 0.3543 - accuracy: 0.8410 - val_loss: 0.4536 - val_accuracy: 0.7920\n",
      "Epoch 20/100\n",
      "219/219 [==============================] - 0s 2ms/step - loss: 0.3471 - accuracy: 0.8420 - val_loss: 0.4565 - val_accuracy: 0.7920\n",
      "Epoch 21/100\n",
      "219/219 [==============================] - 0s 2ms/step - loss: 0.3408 - accuracy: 0.8457 - val_loss: 0.4626 - val_accuracy: 0.7902\n",
      "Epoch 22/100\n",
      "219/219 [==============================] - 0s 2ms/step - loss: 0.3343 - accuracy: 0.8490 - val_loss: 0.4663 - val_accuracy: 0.7843\n",
      "Epoch 23/100\n",
      "219/219 [==============================] - 0s 2ms/step - loss: 0.3277 - accuracy: 0.8524 - val_loss: 0.4726 - val_accuracy: 0.7855\n",
      "Epoch 24/100\n",
      "219/219 [==============================] - 0s 2ms/step - loss: 0.3203 - accuracy: 0.8562 - val_loss: 0.4728 - val_accuracy: 0.7855\n",
      "Epoch 25/100\n",
      "219/219 [==============================] - 0s 2ms/step - loss: 0.3144 - accuracy: 0.8604 - val_loss: 0.4765 - val_accuracy: 0.7790\n",
      "Epoch 26/100\n",
      "219/219 [==============================] - 0s 2ms/step - loss: 0.3086 - accuracy: 0.8627 - val_loss: 0.4826 - val_accuracy: 0.7772\n",
      "Epoch 27/100\n",
      "219/219 [==============================] - 0s 2ms/step - loss: 0.3009 - accuracy: 0.8686 - val_loss: 0.4890 - val_accuracy: 0.7790\n",
      "Epoch 28/100\n",
      "219/219 [==============================] - 0s 2ms/step - loss: 0.2942 - accuracy: 0.8752 - val_loss: 0.4968 - val_accuracy: 0.7719\n",
      "Epoch 29/100\n",
      "219/219 [==============================] - 0s 2ms/step - loss: 0.2895 - accuracy: 0.8780 - val_loss: 0.5016 - val_accuracy: 0.7713\n",
      "Epoch 30/100\n",
      "219/219 [==============================] - 0s 2ms/step - loss: 0.2829 - accuracy: 0.8800 - val_loss: 0.5092 - val_accuracy: 0.7701\n",
      "Epoch 31/100\n",
      "219/219 [==============================] - 0s 1ms/step - loss: 0.2768 - accuracy: 0.8823 - val_loss: 0.5190 - val_accuracy: 0.7671\n",
      "Epoch 32/100\n",
      "219/219 [==============================] - 0s 2ms/step - loss: 0.2724 - accuracy: 0.8846 - val_loss: 0.5271 - val_accuracy: 0.7671\n",
      "Epoch 33/100\n",
      "219/219 [==============================] - 0s 2ms/step - loss: 0.2675 - accuracy: 0.8884 - val_loss: 0.5337 - val_accuracy: 0.7660\n",
      "Epoch 34/100\n",
      "219/219 [==============================] - 0s 2ms/step - loss: 0.2625 - accuracy: 0.8923 - val_loss: 0.5426 - val_accuracy: 0.7660\n",
      "Epoch 35/100\n",
      "219/219 [==============================] - 0s 2ms/step - loss: 0.2583 - accuracy: 0.8946 - val_loss: 0.5595 - val_accuracy: 0.7583\n",
      "Epoch 36/100\n",
      "219/219 [==============================] - 0s 2ms/step - loss: 0.2542 - accuracy: 0.8952 - val_loss: 0.5577 - val_accuracy: 0.7612\n",
      "Epoch 37/100\n",
      "219/219 [==============================] - 0s 1ms/step - loss: 0.2509 - accuracy: 0.8972 - val_loss: 0.5617 - val_accuracy: 0.7636\n",
      "Epoch 38/100\n",
      "219/219 [==============================] - 0s 1ms/step - loss: 0.2465 - accuracy: 0.8986 - val_loss: 0.5757 - val_accuracy: 0.7642\n",
      "Epoch 39/100\n",
      "219/219 [==============================] - 0s 1ms/step - loss: 0.2424 - accuracy: 0.9023 - val_loss: 0.5835 - val_accuracy: 0.7618\n",
      "Epoch 40/100\n",
      "219/219 [==============================] - 0s 2ms/step - loss: 0.2390 - accuracy: 0.9042 - val_loss: 0.5920 - val_accuracy: 0.7606\n",
      "Epoch 41/100\n",
      "219/219 [==============================] - 0s 2ms/step - loss: 0.2363 - accuracy: 0.9074 - val_loss: 0.5885 - val_accuracy: 0.7583\n",
      "Epoch 42/100\n",
      "219/219 [==============================] - 0s 2ms/step - loss: 0.2331 - accuracy: 0.9069 - val_loss: 0.6087 - val_accuracy: 0.7577\n",
      "Epoch 43/100\n",
      "219/219 [==============================] - 0s 2ms/step - loss: 0.2287 - accuracy: 0.9070 - val_loss: 0.6065 - val_accuracy: 0.7606\n",
      "Epoch 44/100\n",
      "219/219 [==============================] - 0s 2ms/step - loss: 0.2270 - accuracy: 0.9076 - val_loss: 0.6299 - val_accuracy: 0.7595\n",
      "Epoch 45/100\n",
      "219/219 [==============================] - 1s 4ms/step - loss: 0.2241 - accuracy: 0.9057 - val_loss: 0.6341 - val_accuracy: 0.7600\n",
      "Epoch 46/100\n",
      "219/219 [==============================] - 1s 4ms/step - loss: 0.2220 - accuracy: 0.9084 - val_loss: 0.6454 - val_accuracy: 0.7654\n",
      "Epoch 47/100\n",
      "219/219 [==============================] - 1s 4ms/step - loss: 0.2196 - accuracy: 0.9107 - val_loss: 0.6395 - val_accuracy: 0.7595\n",
      "Epoch 48/100\n",
      "219/219 [==============================] - 1s 4ms/step - loss: 0.2170 - accuracy: 0.9103 - val_loss: 0.6509 - val_accuracy: 0.7565\n",
      "Epoch 49/100\n",
      "219/219 [==============================] - 1s 3ms/step - loss: 0.2148 - accuracy: 0.9112 - val_loss: 0.6678 - val_accuracy: 0.7547\n",
      "Epoch 50/100\n",
      "219/219 [==============================] - 1s 4ms/step - loss: 0.2127 - accuracy: 0.9123 - val_loss: 0.6906 - val_accuracy: 0.7565\n",
      "Epoch 51/100\n",
      "219/219 [==============================] - 1s 4ms/step - loss: 0.2117 - accuracy: 0.9123 - val_loss: 0.6834 - val_accuracy: 0.7530\n",
      "Epoch 52/100\n",
      "219/219 [==============================] - 1s 3ms/step - loss: 0.2093 - accuracy: 0.9136 - val_loss: 0.6912 - val_accuracy: 0.7565\n",
      "Epoch 53/100\n",
      "219/219 [==============================] - 1s 3ms/step - loss: 0.2092 - accuracy: 0.9130 - val_loss: 0.6942 - val_accuracy: 0.7559\n",
      "Epoch 54/100\n",
      "219/219 [==============================] - 1s 4ms/step - loss: 0.2067 - accuracy: 0.9134 - val_loss: 0.7017 - val_accuracy: 0.7553\n",
      "Epoch 55/100\n",
      "219/219 [==============================] - 1s 4ms/step - loss: 0.2046 - accuracy: 0.9142 - val_loss: 0.7129 - val_accuracy: 0.7595\n",
      "Epoch 56/100\n",
      "219/219 [==============================] - 1s 4ms/step - loss: 0.2026 - accuracy: 0.9147 - val_loss: 0.7251 - val_accuracy: 0.7524\n",
      "Epoch 57/100\n",
      "219/219 [==============================] - 1s 4ms/step - loss: 0.2017 - accuracy: 0.9134 - val_loss: 0.7292 - val_accuracy: 0.7530\n",
      "Epoch 58/100\n",
      "219/219 [==============================] - 1s 4ms/step - loss: 0.2004 - accuracy: 0.9120 - val_loss: 0.7339 - val_accuracy: 0.7547\n",
      "Epoch 59/100\n",
      "219/219 [==============================] - 1s 4ms/step - loss: 0.1999 - accuracy: 0.9143 - val_loss: 0.7454 - val_accuracy: 0.7559\n",
      "Epoch 60/100\n",
      "219/219 [==============================] - 1s 3ms/step - loss: 0.1976 - accuracy: 0.9136 - val_loss: 0.7590 - val_accuracy: 0.7547\n",
      "Epoch 61/100\n",
      "219/219 [==============================] - 1s 4ms/step - loss: 0.1972 - accuracy: 0.9142 - val_loss: 0.7459 - val_accuracy: 0.7541\n",
      "Epoch 62/100\n",
      "219/219 [==============================] - 1s 4ms/step - loss: 0.1959 - accuracy: 0.9162 - val_loss: 0.7791 - val_accuracy: 0.7488\n",
      "Epoch 63/100\n",
      "219/219 [==============================] - 1s 4ms/step - loss: 0.1960 - accuracy: 0.9140 - val_loss: 0.7789 - val_accuracy: 0.7535\n",
      "Epoch 64/100\n",
      "219/219 [==============================] - 1s 4ms/step - loss: 0.1947 - accuracy: 0.9129 - val_loss: 0.7876 - val_accuracy: 0.7506\n",
      "Epoch 65/100\n",
      "219/219 [==============================] - 1s 3ms/step - loss: 0.1930 - accuracy: 0.9164 - val_loss: 0.7750 - val_accuracy: 0.7553\n",
      "Epoch 66/100\n",
      "219/219 [==============================] - 1s 3ms/step - loss: 0.1919 - accuracy: 0.9170 - val_loss: 0.8022 - val_accuracy: 0.7500\n",
      "Epoch 67/100\n",
      "219/219 [==============================] - 1s 4ms/step - loss: 0.1913 - accuracy: 0.9160 - val_loss: 0.7838 - val_accuracy: 0.7541\n",
      "Epoch 68/100\n",
      "219/219 [==============================] - 1s 3ms/step - loss: 0.1905 - accuracy: 0.9160 - val_loss: 0.8218 - val_accuracy: 0.7470\n",
      "Epoch 69/100\n",
      "219/219 [==============================] - 1s 4ms/step - loss: 0.1899 - accuracy: 0.9139 - val_loss: 0.8188 - val_accuracy: 0.7535\n",
      "Epoch 70/100\n",
      "219/219 [==============================] - 1s 4ms/step - loss: 0.1898 - accuracy: 0.9174 - val_loss: 0.8102 - val_accuracy: 0.7488\n",
      "Epoch 71/100\n",
      "219/219 [==============================] - 1s 3ms/step - loss: 0.1886 - accuracy: 0.9157 - val_loss: 0.8495 - val_accuracy: 0.7447\n",
      "Epoch 72/100\n",
      "219/219 [==============================] - 1s 4ms/step - loss: 0.1891 - accuracy: 0.9164 - val_loss: 0.8384 - val_accuracy: 0.7547\n",
      "Epoch 73/100\n",
      "219/219 [==============================] - 1s 3ms/step - loss: 0.1874 - accuracy: 0.9147 - val_loss: 0.8410 - val_accuracy: 0.7565\n",
      "Epoch 74/100\n",
      "219/219 [==============================] - 1s 4ms/step - loss: 0.1865 - accuracy: 0.9139 - val_loss: 0.8583 - val_accuracy: 0.7559\n",
      "Epoch 75/100\n",
      "219/219 [==============================] - 1s 4ms/step - loss: 0.1867 - accuracy: 0.9153 - val_loss: 0.8308 - val_accuracy: 0.7547\n",
      "Epoch 76/100\n",
      "219/219 [==============================] - 1s 4ms/step - loss: 0.1866 - accuracy: 0.9149 - val_loss: 0.8690 - val_accuracy: 0.7559\n",
      "Epoch 77/100\n",
      "219/219 [==============================] - 1s 4ms/step - loss: 0.1838 - accuracy: 0.9153 - val_loss: 0.8390 - val_accuracy: 0.7547\n",
      "Epoch 78/100\n",
      "219/219 [==============================] - 1s 3ms/step - loss: 0.1845 - accuracy: 0.9156 - val_loss: 0.8938 - val_accuracy: 0.7535\n",
      "Epoch 79/100\n",
      "219/219 [==============================] - 1s 4ms/step - loss: 0.1831 - accuracy: 0.9172 - val_loss: 0.8622 - val_accuracy: 0.7535\n",
      "Epoch 80/100\n",
      "219/219 [==============================] - 1s 3ms/step - loss: 0.1834 - accuracy: 0.9162 - val_loss: 0.8700 - val_accuracy: 0.7565\n",
      "Epoch 81/100\n",
      "219/219 [==============================] - 1s 3ms/step - loss: 0.1832 - accuracy: 0.9142 - val_loss: 0.9140 - val_accuracy: 0.7547\n",
      "Epoch 82/100\n",
      "219/219 [==============================] - 1s 4ms/step - loss: 0.1850 - accuracy: 0.9166 - val_loss: 0.9005 - val_accuracy: 0.7512\n",
      "Epoch 83/100\n",
      "219/219 [==============================] - 1s 3ms/step - loss: 0.1820 - accuracy: 0.9163 - val_loss: 0.8950 - val_accuracy: 0.7583\n",
      "Epoch 84/100\n",
      "219/219 [==============================] - 1s 3ms/step - loss: 0.1828 - accuracy: 0.9183 - val_loss: 0.9085 - val_accuracy: 0.7506\n",
      "Epoch 85/100\n",
      "219/219 [==============================] - 1s 3ms/step - loss: 0.1800 - accuracy: 0.9166 - val_loss: 0.9117 - val_accuracy: 0.7530\n",
      "Epoch 86/100\n",
      "219/219 [==============================] - 1s 3ms/step - loss: 0.1814 - accuracy: 0.9137 - val_loss: 0.9112 - val_accuracy: 0.7559\n",
      "Epoch 87/100\n",
      "219/219 [==============================] - 1s 3ms/step - loss: 0.1800 - accuracy: 0.9167 - val_loss: 0.9241 - val_accuracy: 0.7524\n",
      "Epoch 88/100\n",
      "219/219 [==============================] - 1s 3ms/step - loss: 0.1797 - accuracy: 0.9163 - val_loss: 0.9167 - val_accuracy: 0.7553\n",
      "Epoch 89/100\n",
      "219/219 [==============================] - 1s 3ms/step - loss: 0.1805 - accuracy: 0.9142 - val_loss: 0.9247 - val_accuracy: 0.7553\n",
      "Epoch 90/100\n",
      "219/219 [==============================] - 1s 3ms/step - loss: 0.1786 - accuracy: 0.9172 - val_loss: 0.9208 - val_accuracy: 0.7571\n",
      "Epoch 91/100\n",
      "219/219 [==============================] - 1s 4ms/step - loss: 0.1795 - accuracy: 0.9166 - val_loss: 0.9318 - val_accuracy: 0.7535\n",
      "Epoch 92/100\n",
      "219/219 [==============================] - 1s 4ms/step - loss: 0.1782 - accuracy: 0.9187 - val_loss: 0.9487 - val_accuracy: 0.7530\n",
      "Epoch 93/100\n",
      "219/219 [==============================] - 1s 4ms/step - loss: 0.1786 - accuracy: 0.9134 - val_loss: 0.9543 - val_accuracy: 0.7512\n",
      "Epoch 94/100\n",
      "219/219 [==============================] - 1s 4ms/step - loss: 0.1780 - accuracy: 0.9179 - val_loss: 0.9838 - val_accuracy: 0.7518\n",
      "Epoch 95/100\n",
      "219/219 [==============================] - 1s 3ms/step - loss: 0.1770 - accuracy: 0.9177 - val_loss: 0.9705 - val_accuracy: 0.7535\n",
      "Epoch 96/100\n",
      "219/219 [==============================] - 1s 4ms/step - loss: 0.1766 - accuracy: 0.9179 - val_loss: 0.9849 - val_accuracy: 0.7518\n",
      "Epoch 97/100\n",
      "219/219 [==============================] - 1s 3ms/step - loss: 0.1771 - accuracy: 0.9160 - val_loss: 0.9742 - val_accuracy: 0.7488\n",
      "Epoch 98/100\n",
      "219/219 [==============================] - 1s 4ms/step - loss: 0.1764 - accuracy: 0.9166 - val_loss: 0.9806 - val_accuracy: 0.7565\n",
      "Epoch 99/100\n",
      "219/219 [==============================] - 1s 4ms/step - loss: 0.1758 - accuracy: 0.9169 - val_loss: 1.0141 - val_accuracy: 0.7547\n",
      "Epoch 100/100\n",
      "219/219 [==============================] - 1s 3ms/step - loss: 0.1775 - accuracy: 0.9150 - val_loss: 0.9899 - val_accuracy: 0.7559\n"
     ]
    }
   ],
   "source": [
    "history = base_model.fit(\n",
    "    train_x,\n",
    "    train_y,\n",
    "    epochs=100,\n",
    "    validation_data=(val_x, val_y)\n",
    ")"
   ]
  },
  {
   "cell_type": "code",
   "execution_count": 183,
   "metadata": {},
   "outputs": [
    {
     "name": "stdout",
     "output_type": "stream",
     "text": [
      "219/219 [==============================] - 1s 2ms/step\n",
      "Accuracy on train data: 0.92\n"
     ]
    }
   ],
   "source": [
    "get_accuracy(train_x, train_y, 'train', base_model)"
   ]
  },
  {
   "cell_type": "code",
   "execution_count": 184,
   "metadata": {},
   "outputs": [
    {
     "name": "stdout",
     "output_type": "stream",
     "text": [
      "53/53 [==============================] - 0s 2ms/step\n",
      "Accuracy on train data: 0.756\n"
     ]
    }
   ],
   "source": [
    "get_accuracy(val_x, val_y, 'train', base_model)"
   ]
  },
  {
   "cell_type": "code",
   "execution_count": 185,
   "metadata": {},
   "outputs": [
    {
     "data": {
      "application/vnd.plotly.v1+json": {
       "config": {
        "plotlyServerURL": "https://plot.ly"
       },
       "data": [
        {
         "mode": "lines",
         "name": "loss",
         "type": "scatter",
         "x": [
          0,
          1,
          2,
          3,
          4,
          5,
          6,
          7,
          8,
          9,
          10,
          11,
          12,
          13,
          14,
          15,
          16,
          17,
          18,
          19,
          20,
          21,
          22,
          23,
          24,
          25,
          26,
          27,
          28,
          29,
          30,
          31,
          32,
          33,
          34,
          35,
          36,
          37,
          38,
          39,
          40,
          41,
          42,
          43,
          44,
          45,
          46,
          47,
          48,
          49,
          50,
          51,
          52,
          53,
          54,
          55,
          56,
          57,
          58,
          59,
          60,
          61,
          62,
          63,
          64,
          65,
          66,
          67,
          68,
          69,
          70,
          71,
          72,
          73,
          74,
          75,
          76,
          77,
          78,
          79,
          80,
          81,
          82,
          83,
          84,
          85,
          86,
          87,
          88,
          89,
          90,
          91,
          92,
          93,
          94,
          95,
          96,
          97,
          98,
          99
         ],
         "y": [
          0.6726325750350952,
          0.5921903252601624,
          0.5526361465454102,
          0.5193777084350586,
          0.49287039041519165,
          0.47178542613983154,
          0.45506760478019714,
          0.4420311152935028,
          0.43087416887283325,
          0.42107993364334106,
          0.413467139005661,
          0.40512534976005554,
          0.3972751796245575,
          0.3899451196193695,
          0.38269659876823425,
          0.37475213408470154,
          0.3674677908420563,
          0.3610885441303253,
          0.3543107807636261,
          0.34714701771736145,
          0.3408425748348236,
          0.33426758646965027,
          0.3276832103729248,
          0.3203071355819702,
          0.31437546014785767,
          0.30864521861076355,
          0.30089154839515686,
          0.2941707968711853,
          0.2895350158214569,
          0.2828782796859741,
          0.27678030729293823,
          0.2724307179450989,
          0.26746299862861633,
          0.262515664100647,
          0.258283406496048,
          0.25423896312713623,
          0.2508743703365326,
          0.24648936092853546,
          0.2423636019229889,
          0.23902717232704163,
          0.2363279014825821,
          0.23305979371070862,
          0.22874654829502106,
          0.2269681692123413,
          0.22406350076198578,
          0.2220272421836853,
          0.21962298452854156,
          0.21700145304203033,
          0.21475286781787872,
          0.21265773475170135,
          0.21166975796222687,
          0.20931264758110046,
          0.2091844528913498,
          0.20671196281909943,
          0.20464877784252167,
          0.20260252058506012,
          0.20170649886131287,
          0.20039495825767517,
          0.19988374412059784,
          0.19763913750648499,
          0.1972184032201767,
          0.19592466950416565,
          0.19602464139461517,
          0.19472171366214752,
          0.19298164546489716,
          0.1919286847114563,
          0.19133591651916504,
          0.19053973257541656,
          0.18993188440799713,
          0.18978026509284973,
          0.18860037624835968,
          0.1891402006149292,
          0.18744298815727234,
          0.1865091174840927,
          0.18668842315673828,
          0.18659856915473938,
          0.1838405281305313,
          0.18446126580238342,
          0.18305638432502747,
          0.18344761431217194,
          0.18316134810447693,
          0.18503797054290771,
          0.18202511966228485,
          0.18277263641357422,
          0.17998497188091278,
          0.1814170628786087,
          0.1799931526184082,
          0.17973598837852478,
          0.18052221834659576,
          0.1786373108625412,
          0.17947064340114594,
          0.17818330228328705,
          0.17859753966331482,
          0.17798903584480286,
          0.17699460685253143,
          0.17655198276042938,
          0.1770513355731964,
          0.17638185620307922,
          0.17578363418579102,
          0.1775214821100235
         ]
        },
        {
         "line": {
          "dash": "dot"
         },
         "mode": "lines",
         "name": "val_loss",
         "type": "scatter",
         "x": [
          0,
          1,
          2,
          3,
          4,
          5,
          6,
          7,
          8,
          9,
          10,
          11,
          12,
          13,
          14,
          15,
          16,
          17,
          18,
          19,
          20,
          21,
          22,
          23,
          24,
          25,
          26,
          27,
          28,
          29,
          30,
          31,
          32,
          33,
          34,
          35,
          36,
          37,
          38,
          39,
          40,
          41,
          42,
          43,
          44,
          45,
          46,
          47,
          48,
          49,
          50,
          51,
          52,
          53,
          54,
          55,
          56,
          57,
          58,
          59,
          60,
          61,
          62,
          63,
          64,
          65,
          66,
          67,
          68,
          69,
          70,
          71,
          72,
          73,
          74,
          75,
          76,
          77,
          78,
          79,
          80,
          81,
          82,
          83,
          84,
          85,
          86,
          87,
          88,
          89,
          90,
          91,
          92,
          93,
          94,
          95,
          96,
          97,
          98,
          99
         ],
         "y": [
          0.6165854334831238,
          0.5733186602592468,
          0.5399888157844543,
          0.5120795965194702,
          0.4926193356513977,
          0.476828396320343,
          0.4659719169139862,
          0.458148717880249,
          0.45328646898269653,
          0.4519769847393036,
          0.45016101002693176,
          0.44992557168006897,
          0.44991153478622437,
          0.45151492953300476,
          0.4503273367881775,
          0.4511161744594574,
          0.45025408267974854,
          0.45203548669815063,
          0.4535878598690033,
          0.45651060342788696,
          0.4625552296638489,
          0.46628445386886597,
          0.4725588858127594,
          0.47275397181510925,
          0.4765368103981018,
          0.4826226532459259,
          0.4889746904373169,
          0.4968312680721283,
          0.5016360282897949,
          0.5091611742973328,
          0.5190064907073975,
          0.5270934104919434,
          0.5336868166923523,
          0.5426151156425476,
          0.5595191717147827,
          0.5576691031455994,
          0.5616703629493713,
          0.575715959072113,
          0.583538293838501,
          0.5920217037200928,
          0.5884777307510376,
          0.6086947321891785,
          0.6065301299095154,
          0.6298601031303406,
          0.6341332793235779,
          0.6453585624694824,
          0.6395043134689331,
          0.6509241461753845,
          0.6678447127342224,
          0.6905645728111267,
          0.6834068894386292,
          0.6912274956703186,
          0.6942481398582458,
          0.7016870379447937,
          0.7128852605819702,
          0.7250950336456299,
          0.7291502952575684,
          0.7338672280311584,
          0.7454395890235901,
          0.7589669227600098,
          0.7459052205085754,
          0.7791476249694824,
          0.7788655757904053,
          0.7876017093658447,
          0.7749616503715515,
          0.8022168278694153,
          0.7837523818016052,
          0.821796178817749,
          0.8188318610191345,
          0.8101987242698669,
          0.8495416045188904,
          0.8383981585502625,
          0.8409926891326904,
          0.8582739233970642,
          0.8308413028717041,
          0.869036078453064,
          0.8389972448348999,
          0.8937750458717346,
          0.8622056841850281,
          0.8699539303779602,
          0.9140457510948181,
          0.9005229473114014,
          0.8949743509292603,
          0.9085323810577393,
          0.9117178916931152,
          0.9111724495887756,
          0.9240783452987671,
          0.9166927337646484,
          0.9246956706047058,
          0.9208383560180664,
          0.9318075776100159,
          0.9487427473068237,
          0.9543172717094421,
          0.9838107228279114,
          0.970515251159668,
          0.9848871827125549,
          0.9741526246070862,
          0.9806387424468994,
          1.0140585899353027,
          0.9899321794509888
         ]
        }
       ],
       "layout": {
        "height": 500,
        "template": {
         "data": {
          "bar": [
           {
            "error_x": {
             "color": "#2a3f5f"
            },
            "error_y": {
             "color": "#2a3f5f"
            },
            "marker": {
             "line": {
              "color": "#E5ECF6",
              "width": 0.5
             },
             "pattern": {
              "fillmode": "overlay",
              "size": 10,
              "solidity": 0.2
             }
            },
            "type": "bar"
           }
          ],
          "barpolar": [
           {
            "marker": {
             "line": {
              "color": "#E5ECF6",
              "width": 0.5
             },
             "pattern": {
              "fillmode": "overlay",
              "size": 10,
              "solidity": 0.2
             }
            },
            "type": "barpolar"
           }
          ],
          "carpet": [
           {
            "aaxis": {
             "endlinecolor": "#2a3f5f",
             "gridcolor": "white",
             "linecolor": "white",
             "minorgridcolor": "white",
             "startlinecolor": "#2a3f5f"
            },
            "baxis": {
             "endlinecolor": "#2a3f5f",
             "gridcolor": "white",
             "linecolor": "white",
             "minorgridcolor": "white",
             "startlinecolor": "#2a3f5f"
            },
            "type": "carpet"
           }
          ],
          "choropleth": [
           {
            "colorbar": {
             "outlinewidth": 0,
             "ticks": ""
            },
            "type": "choropleth"
           }
          ],
          "contour": [
           {
            "colorbar": {
             "outlinewidth": 0,
             "ticks": ""
            },
            "colorscale": [
             [
              0,
              "#0d0887"
             ],
             [
              0.1111111111111111,
              "#46039f"
             ],
             [
              0.2222222222222222,
              "#7201a8"
             ],
             [
              0.3333333333333333,
              "#9c179e"
             ],
             [
              0.4444444444444444,
              "#bd3786"
             ],
             [
              0.5555555555555556,
              "#d8576b"
             ],
             [
              0.6666666666666666,
              "#ed7953"
             ],
             [
              0.7777777777777778,
              "#fb9f3a"
             ],
             [
              0.8888888888888888,
              "#fdca26"
             ],
             [
              1,
              "#f0f921"
             ]
            ],
            "type": "contour"
           }
          ],
          "contourcarpet": [
           {
            "colorbar": {
             "outlinewidth": 0,
             "ticks": ""
            },
            "type": "contourcarpet"
           }
          ],
          "heatmap": [
           {
            "colorbar": {
             "outlinewidth": 0,
             "ticks": ""
            },
            "colorscale": [
             [
              0,
              "#0d0887"
             ],
             [
              0.1111111111111111,
              "#46039f"
             ],
             [
              0.2222222222222222,
              "#7201a8"
             ],
             [
              0.3333333333333333,
              "#9c179e"
             ],
             [
              0.4444444444444444,
              "#bd3786"
             ],
             [
              0.5555555555555556,
              "#d8576b"
             ],
             [
              0.6666666666666666,
              "#ed7953"
             ],
             [
              0.7777777777777778,
              "#fb9f3a"
             ],
             [
              0.8888888888888888,
              "#fdca26"
             ],
             [
              1,
              "#f0f921"
             ]
            ],
            "type": "heatmap"
           }
          ],
          "heatmapgl": [
           {
            "colorbar": {
             "outlinewidth": 0,
             "ticks": ""
            },
            "colorscale": [
             [
              0,
              "#0d0887"
             ],
             [
              0.1111111111111111,
              "#46039f"
             ],
             [
              0.2222222222222222,
              "#7201a8"
             ],
             [
              0.3333333333333333,
              "#9c179e"
             ],
             [
              0.4444444444444444,
              "#bd3786"
             ],
             [
              0.5555555555555556,
              "#d8576b"
             ],
             [
              0.6666666666666666,
              "#ed7953"
             ],
             [
              0.7777777777777778,
              "#fb9f3a"
             ],
             [
              0.8888888888888888,
              "#fdca26"
             ],
             [
              1,
              "#f0f921"
             ]
            ],
            "type": "heatmapgl"
           }
          ],
          "histogram": [
           {
            "marker": {
             "pattern": {
              "fillmode": "overlay",
              "size": 10,
              "solidity": 0.2
             }
            },
            "type": "histogram"
           }
          ],
          "histogram2d": [
           {
            "colorbar": {
             "outlinewidth": 0,
             "ticks": ""
            },
            "colorscale": [
             [
              0,
              "#0d0887"
             ],
             [
              0.1111111111111111,
              "#46039f"
             ],
             [
              0.2222222222222222,
              "#7201a8"
             ],
             [
              0.3333333333333333,
              "#9c179e"
             ],
             [
              0.4444444444444444,
              "#bd3786"
             ],
             [
              0.5555555555555556,
              "#d8576b"
             ],
             [
              0.6666666666666666,
              "#ed7953"
             ],
             [
              0.7777777777777778,
              "#fb9f3a"
             ],
             [
              0.8888888888888888,
              "#fdca26"
             ],
             [
              1,
              "#f0f921"
             ]
            ],
            "type": "histogram2d"
           }
          ],
          "histogram2dcontour": [
           {
            "colorbar": {
             "outlinewidth": 0,
             "ticks": ""
            },
            "colorscale": [
             [
              0,
              "#0d0887"
             ],
             [
              0.1111111111111111,
              "#46039f"
             ],
             [
              0.2222222222222222,
              "#7201a8"
             ],
             [
              0.3333333333333333,
              "#9c179e"
             ],
             [
              0.4444444444444444,
              "#bd3786"
             ],
             [
              0.5555555555555556,
              "#d8576b"
             ],
             [
              0.6666666666666666,
              "#ed7953"
             ],
             [
              0.7777777777777778,
              "#fb9f3a"
             ],
             [
              0.8888888888888888,
              "#fdca26"
             ],
             [
              1,
              "#f0f921"
             ]
            ],
            "type": "histogram2dcontour"
           }
          ],
          "mesh3d": [
           {
            "colorbar": {
             "outlinewidth": 0,
             "ticks": ""
            },
            "type": "mesh3d"
           }
          ],
          "parcoords": [
           {
            "line": {
             "colorbar": {
              "outlinewidth": 0,
              "ticks": ""
             }
            },
            "type": "parcoords"
           }
          ],
          "pie": [
           {
            "automargin": true,
            "type": "pie"
           }
          ],
          "scatter": [
           {
            "fillpattern": {
             "fillmode": "overlay",
             "size": 10,
             "solidity": 0.2
            },
            "type": "scatter"
           }
          ],
          "scatter3d": [
           {
            "line": {
             "colorbar": {
              "outlinewidth": 0,
              "ticks": ""
             }
            },
            "marker": {
             "colorbar": {
              "outlinewidth": 0,
              "ticks": ""
             }
            },
            "type": "scatter3d"
           }
          ],
          "scattercarpet": [
           {
            "marker": {
             "colorbar": {
              "outlinewidth": 0,
              "ticks": ""
             }
            },
            "type": "scattercarpet"
           }
          ],
          "scattergeo": [
           {
            "marker": {
             "colorbar": {
              "outlinewidth": 0,
              "ticks": ""
             }
            },
            "type": "scattergeo"
           }
          ],
          "scattergl": [
           {
            "marker": {
             "colorbar": {
              "outlinewidth": 0,
              "ticks": ""
             }
            },
            "type": "scattergl"
           }
          ],
          "scattermapbox": [
           {
            "marker": {
             "colorbar": {
              "outlinewidth": 0,
              "ticks": ""
             }
            },
            "type": "scattermapbox"
           }
          ],
          "scatterpolar": [
           {
            "marker": {
             "colorbar": {
              "outlinewidth": 0,
              "ticks": ""
             }
            },
            "type": "scatterpolar"
           }
          ],
          "scatterpolargl": [
           {
            "marker": {
             "colorbar": {
              "outlinewidth": 0,
              "ticks": ""
             }
            },
            "type": "scatterpolargl"
           }
          ],
          "scatterternary": [
           {
            "marker": {
             "colorbar": {
              "outlinewidth": 0,
              "ticks": ""
             }
            },
            "type": "scatterternary"
           }
          ],
          "surface": [
           {
            "colorbar": {
             "outlinewidth": 0,
             "ticks": ""
            },
            "colorscale": [
             [
              0,
              "#0d0887"
             ],
             [
              0.1111111111111111,
              "#46039f"
             ],
             [
              0.2222222222222222,
              "#7201a8"
             ],
             [
              0.3333333333333333,
              "#9c179e"
             ],
             [
              0.4444444444444444,
              "#bd3786"
             ],
             [
              0.5555555555555556,
              "#d8576b"
             ],
             [
              0.6666666666666666,
              "#ed7953"
             ],
             [
              0.7777777777777778,
              "#fb9f3a"
             ],
             [
              0.8888888888888888,
              "#fdca26"
             ],
             [
              1,
              "#f0f921"
             ]
            ],
            "type": "surface"
           }
          ],
          "table": [
           {
            "cells": {
             "fill": {
              "color": "#EBF0F8"
             },
             "line": {
              "color": "white"
             }
            },
            "header": {
             "fill": {
              "color": "#C8D4E3"
             },
             "line": {
              "color": "white"
             }
            },
            "type": "table"
           }
          ]
         },
         "layout": {
          "annotationdefaults": {
           "arrowcolor": "#2a3f5f",
           "arrowhead": 0,
           "arrowwidth": 1
          },
          "autotypenumbers": "strict",
          "coloraxis": {
           "colorbar": {
            "outlinewidth": 0,
            "ticks": ""
           }
          },
          "colorscale": {
           "diverging": [
            [
             0,
             "#8e0152"
            ],
            [
             0.1,
             "#c51b7d"
            ],
            [
             0.2,
             "#de77ae"
            ],
            [
             0.3,
             "#f1b6da"
            ],
            [
             0.4,
             "#fde0ef"
            ],
            [
             0.5,
             "#f7f7f7"
            ],
            [
             0.6,
             "#e6f5d0"
            ],
            [
             0.7,
             "#b8e186"
            ],
            [
             0.8,
             "#7fbc41"
            ],
            [
             0.9,
             "#4d9221"
            ],
            [
             1,
             "#276419"
            ]
           ],
           "sequential": [
            [
             0,
             "#0d0887"
            ],
            [
             0.1111111111111111,
             "#46039f"
            ],
            [
             0.2222222222222222,
             "#7201a8"
            ],
            [
             0.3333333333333333,
             "#9c179e"
            ],
            [
             0.4444444444444444,
             "#bd3786"
            ],
            [
             0.5555555555555556,
             "#d8576b"
            ],
            [
             0.6666666666666666,
             "#ed7953"
            ],
            [
             0.7777777777777778,
             "#fb9f3a"
            ],
            [
             0.8888888888888888,
             "#fdca26"
            ],
            [
             1,
             "#f0f921"
            ]
           ],
           "sequentialminus": [
            [
             0,
             "#0d0887"
            ],
            [
             0.1111111111111111,
             "#46039f"
            ],
            [
             0.2222222222222222,
             "#7201a8"
            ],
            [
             0.3333333333333333,
             "#9c179e"
            ],
            [
             0.4444444444444444,
             "#bd3786"
            ],
            [
             0.5555555555555556,
             "#d8576b"
            ],
            [
             0.6666666666666666,
             "#ed7953"
            ],
            [
             0.7777777777777778,
             "#fb9f3a"
            ],
            [
             0.8888888888888888,
             "#fdca26"
            ],
            [
             1,
             "#f0f921"
            ]
           ]
          },
          "colorway": [
           "#636efa",
           "#EF553B",
           "#00cc96",
           "#ab63fa",
           "#FFA15A",
           "#19d3f3",
           "#FF6692",
           "#B6E880",
           "#FF97FF",
           "#FECB52"
          ],
          "font": {
           "color": "#2a3f5f"
          },
          "geo": {
           "bgcolor": "white",
           "lakecolor": "white",
           "landcolor": "#E5ECF6",
           "showlakes": true,
           "showland": true,
           "subunitcolor": "white"
          },
          "hoverlabel": {
           "align": "left"
          },
          "hovermode": "closest",
          "mapbox": {
           "style": "light"
          },
          "paper_bgcolor": "white",
          "plot_bgcolor": "#E5ECF6",
          "polar": {
           "angularaxis": {
            "gridcolor": "white",
            "linecolor": "white",
            "ticks": ""
           },
           "bgcolor": "#E5ECF6",
           "radialaxis": {
            "gridcolor": "white",
            "linecolor": "white",
            "ticks": ""
           }
          },
          "scene": {
           "xaxis": {
            "backgroundcolor": "#E5ECF6",
            "gridcolor": "white",
            "gridwidth": 2,
            "linecolor": "white",
            "showbackground": true,
            "ticks": "",
            "zerolinecolor": "white"
           },
           "yaxis": {
            "backgroundcolor": "#E5ECF6",
            "gridcolor": "white",
            "gridwidth": 2,
            "linecolor": "white",
            "showbackground": true,
            "ticks": "",
            "zerolinecolor": "white"
           },
           "zaxis": {
            "backgroundcolor": "#E5ECF6",
            "gridcolor": "white",
            "gridwidth": 2,
            "linecolor": "white",
            "showbackground": true,
            "ticks": "",
            "zerolinecolor": "white"
           }
          },
          "shapedefaults": {
           "line": {
            "color": "#2a3f5f"
           }
          },
          "ternary": {
           "aaxis": {
            "gridcolor": "white",
            "linecolor": "white",
            "ticks": ""
           },
           "baxis": {
            "gridcolor": "white",
            "linecolor": "white",
            "ticks": ""
           },
           "bgcolor": "#E5ECF6",
           "caxis": {
            "gridcolor": "white",
            "linecolor": "white",
            "ticks": ""
           }
          },
          "title": {
           "x": 0.05
          },
          "xaxis": {
           "automargin": true,
           "gridcolor": "white",
           "linecolor": "white",
           "ticks": "",
           "title": {
            "standoff": 15
           },
           "zerolinecolor": "white",
           "zerolinewidth": 2
          },
          "yaxis": {
           "automargin": true,
           "gridcolor": "white",
           "linecolor": "white",
           "ticks": "",
           "title": {
            "standoff": 15
           },
           "zerolinecolor": "white",
           "zerolinewidth": 2
          }
         }
        },
        "title": {
         "text": "loss and val_loss"
        },
        "width": 700,
        "yaxis": {
         "range": [
          0,
          1
         ]
        }
       }
      }
     },
     "metadata": {},
     "output_type": "display_data"
    },
    {
     "data": {
      "application/vnd.plotly.v1+json": {
       "config": {
        "plotlyServerURL": "https://plot.ly"
       },
       "data": [
        {
         "mode": "lines",
         "name": "accuracy",
         "type": "scatter",
         "x": [
          0,
          1,
          2,
          3,
          4,
          5,
          6,
          7,
          8,
          9,
          10,
          11,
          12,
          13,
          14,
          15,
          16,
          17,
          18,
          19,
          20,
          21,
          22,
          23,
          24,
          25,
          26,
          27,
          28,
          29,
          30,
          31,
          32,
          33,
          34,
          35,
          36,
          37,
          38,
          39,
          40,
          41,
          42,
          43,
          44,
          45,
          46,
          47,
          48,
          49,
          50,
          51,
          52,
          53,
          54,
          55,
          56,
          57,
          58,
          59,
          60,
          61,
          62,
          63,
          64,
          65,
          66,
          67,
          68,
          69,
          70,
          71,
          72,
          73,
          74,
          75,
          76,
          77,
          78,
          79,
          80,
          81,
          82,
          83,
          84,
          85,
          86,
          87,
          88,
          89,
          90,
          91,
          92,
          93,
          94,
          95,
          96,
          97,
          98,
          99
         ],
         "y": [
          0.5962005257606506,
          0.7526067495346069,
          0.7837451696395874,
          0.7988858819007874,
          0.8073132634162903,
          0.8108841776847839,
          0.8135980367660522,
          0.8165976405143738,
          0.8181688189506531,
          0.8214541077613831,
          0.8220254182815552,
          0.8244536519050598,
          0.8261677026748657,
          0.8291672468185425,
          0.8311669826507568,
          0.8337380290031433,
          0.835594892501831,
          0.8383088111877441,
          0.8410227298736572,
          0.8420225977897644,
          0.8457363247871399,
          0.8490215539932251,
          0.8524496555328369,
          0.8561633825302124,
          0.8604484796524048,
          0.8627339005470276,
          0.8685901761054993,
          0.8751606941223145,
          0.8780174255371094,
          0.8800171613693237,
          0.8823025226593018,
          0.8845879435539246,
          0.8884444832801819,
          0.892301082611084,
          0.8945865035057068,
          0.8951578140258789,
          0.8971575498580933,
          0.8985859155654907,
          0.9022996425628662,
          0.9041565656661987,
          0.9074417948722839,
          0.906870424747467,
          0.9070132970809937,
          0.9075846076011658,
          0.905727744102478,
          0.9084416627883911,
          0.9107270240783691,
          0.9102985262870789,
          0.9111555218696594,
          0.9122982621192932,
          0.9122982621192932,
          0.9135837554931641,
          0.9130124449729919,
          0.9134409427642822,
          0.914155125617981,
          0.9147264957427979,
          0.9134409427642822,
          0.9120125770568848,
          0.9142979383468628,
          0.9135837554931641,
          0.914155125617981,
          0.9161548614501953,
          0.9140123128890991,
          0.9128695726394653,
          0.916440486907959,
          0.9170118570327759,
          0.9160119891166687,
          0.9160119891166687,
          0.9138694405555725,
          0.9174403548240662,
          0.9157263040542603,
          0.916440486907959,
          0.9147264957427979,
          0.9138694405555725,
          0.91529780626297,
          0.9148693084716797,
          0.91529780626297,
          0.9155834913253784,
          0.9171546697616577,
          0.9161548614501953,
          0.914155125617981,
          0.9165833592414856,
          0.9162976741790771,
          0.9182974100112915,
          0.9165833592414856,
          0.9137266278266907,
          0.9167261719703674,
          0.9162976741790771,
          0.914155125617981,
          0.9171546697616577,
          0.9165833592414856,
          0.9187259078025818,
          0.9134409427642822,
          0.9178688526153564,
          0.9177260398864746,
          0.9178688526153564,
          0.9160119891166687,
          0.9165833592414856,
          0.916869044303894,
          0.9150121212005615
         ]
        },
        {
         "line": {
          "dash": "dot"
         },
         "mode": "lines",
         "name": "val_accuracy",
         "type": "scatter",
         "x": [
          0,
          1,
          2,
          3,
          4,
          5,
          6,
          7,
          8,
          9,
          10,
          11,
          12,
          13,
          14,
          15,
          16,
          17,
          18,
          19,
          20,
          21,
          22,
          23,
          24,
          25,
          26,
          27,
          28,
          29,
          30,
          31,
          32,
          33,
          34,
          35,
          36,
          37,
          38,
          39,
          40,
          41,
          42,
          43,
          44,
          45,
          46,
          47,
          48,
          49,
          50,
          51,
          52,
          53,
          54,
          55,
          56,
          57,
          58,
          59,
          60,
          61,
          62,
          63,
          64,
          65,
          66,
          67,
          68,
          69,
          70,
          71,
          72,
          73,
          74,
          75,
          76,
          77,
          78,
          79,
          80,
          81,
          82,
          83,
          84,
          85,
          86,
          87,
          88,
          89,
          90,
          91,
          92,
          93,
          94,
          95,
          96,
          97,
          98,
          99
         ],
         "y": [
          0.7157210111618042,
          0.7635933756828308,
          0.7854610085487366,
          0.7949172854423523,
          0.7978723645210266,
          0.7972813248634338,
          0.7996453642845154,
          0.7978723645210266,
          0.8002364039421082,
          0.7978723645210266,
          0.7966902852058411,
          0.7966902852058411,
          0.7978723645210266,
          0.7984633445739746,
          0.7943262457847595,
          0.7937352061271667,
          0.7949172854423523,
          0.7943262457847595,
          0.7919621467590332,
          0.7919621467590332,
          0.7901891469955444,
          0.7842789888381958,
          0.7854610085487366,
          0.7854610085487366,
          0.7789598107337952,
          0.7771867513656616,
          0.7789598107337952,
          0.7718676328659058,
          0.771276593208313,
          0.7700945734977722,
          0.7671394944190979,
          0.7671394944190979,
          0.7659574747085571,
          0.7659574747085571,
          0.758274257183075,
          0.7612293362617493,
          0.7635933756828308,
          0.7641844153404236,
          0.7618203163146973,
          0.7606382966041565,
          0.758274257183075,
          0.7576832175254822,
          0.7606382966041565,
          0.7594562768936157,
          0.7600472569465637,
          0.7653664350509644,
          0.7594562768936157,
          0.7565011978149414,
          0.7547281384468079,
          0.7565011978149414,
          0.7529550790786743,
          0.7565011978149414,
          0.7559101581573486,
          0.7553191781044006,
          0.7594562768936157,
          0.7523640394210815,
          0.7529550790786743,
          0.7547281384468079,
          0.7559101581573486,
          0.7547281384468079,
          0.7541370987892151,
          0.7488179802894592,
          0.7535461187362671,
          0.7505910396575928,
          0.7553191781044006,
          0.75,
          0.7541370987892151,
          0.7470449209213257,
          0.7535461187362671,
          0.7488179802894592,
          0.7446808218955994,
          0.7547281384468079,
          0.7565011978149414,
          0.7559101581573486,
          0.7547281384468079,
          0.7559101581573486,
          0.7547281384468079,
          0.7535461187362671,
          0.7535461187362671,
          0.7565011978149414,
          0.7547281384468079,
          0.7511820197105408,
          0.758274257183075,
          0.7505910396575928,
          0.7529550790786743,
          0.7559101581573486,
          0.7523640394210815,
          0.7553191781044006,
          0.7553191781044006,
          0.7570921778678894,
          0.7535461187362671,
          0.7529550790786743,
          0.7511820197105408,
          0.7517730593681335,
          0.7535461187362671,
          0.7517730593681335,
          0.7488179802894592,
          0.7565011978149414,
          0.7547281384468079,
          0.7559101581573486
         ]
        }
       ],
       "layout": {
        "height": 500,
        "template": {
         "data": {
          "bar": [
           {
            "error_x": {
             "color": "#2a3f5f"
            },
            "error_y": {
             "color": "#2a3f5f"
            },
            "marker": {
             "line": {
              "color": "#E5ECF6",
              "width": 0.5
             },
             "pattern": {
              "fillmode": "overlay",
              "size": 10,
              "solidity": 0.2
             }
            },
            "type": "bar"
           }
          ],
          "barpolar": [
           {
            "marker": {
             "line": {
              "color": "#E5ECF6",
              "width": 0.5
             },
             "pattern": {
              "fillmode": "overlay",
              "size": 10,
              "solidity": 0.2
             }
            },
            "type": "barpolar"
           }
          ],
          "carpet": [
           {
            "aaxis": {
             "endlinecolor": "#2a3f5f",
             "gridcolor": "white",
             "linecolor": "white",
             "minorgridcolor": "white",
             "startlinecolor": "#2a3f5f"
            },
            "baxis": {
             "endlinecolor": "#2a3f5f",
             "gridcolor": "white",
             "linecolor": "white",
             "minorgridcolor": "white",
             "startlinecolor": "#2a3f5f"
            },
            "type": "carpet"
           }
          ],
          "choropleth": [
           {
            "colorbar": {
             "outlinewidth": 0,
             "ticks": ""
            },
            "type": "choropleth"
           }
          ],
          "contour": [
           {
            "colorbar": {
             "outlinewidth": 0,
             "ticks": ""
            },
            "colorscale": [
             [
              0,
              "#0d0887"
             ],
             [
              0.1111111111111111,
              "#46039f"
             ],
             [
              0.2222222222222222,
              "#7201a8"
             ],
             [
              0.3333333333333333,
              "#9c179e"
             ],
             [
              0.4444444444444444,
              "#bd3786"
             ],
             [
              0.5555555555555556,
              "#d8576b"
             ],
             [
              0.6666666666666666,
              "#ed7953"
             ],
             [
              0.7777777777777778,
              "#fb9f3a"
             ],
             [
              0.8888888888888888,
              "#fdca26"
             ],
             [
              1,
              "#f0f921"
             ]
            ],
            "type": "contour"
           }
          ],
          "contourcarpet": [
           {
            "colorbar": {
             "outlinewidth": 0,
             "ticks": ""
            },
            "type": "contourcarpet"
           }
          ],
          "heatmap": [
           {
            "colorbar": {
             "outlinewidth": 0,
             "ticks": ""
            },
            "colorscale": [
             [
              0,
              "#0d0887"
             ],
             [
              0.1111111111111111,
              "#46039f"
             ],
             [
              0.2222222222222222,
              "#7201a8"
             ],
             [
              0.3333333333333333,
              "#9c179e"
             ],
             [
              0.4444444444444444,
              "#bd3786"
             ],
             [
              0.5555555555555556,
              "#d8576b"
             ],
             [
              0.6666666666666666,
              "#ed7953"
             ],
             [
              0.7777777777777778,
              "#fb9f3a"
             ],
             [
              0.8888888888888888,
              "#fdca26"
             ],
             [
              1,
              "#f0f921"
             ]
            ],
            "type": "heatmap"
           }
          ],
          "heatmapgl": [
           {
            "colorbar": {
             "outlinewidth": 0,
             "ticks": ""
            },
            "colorscale": [
             [
              0,
              "#0d0887"
             ],
             [
              0.1111111111111111,
              "#46039f"
             ],
             [
              0.2222222222222222,
              "#7201a8"
             ],
             [
              0.3333333333333333,
              "#9c179e"
             ],
             [
              0.4444444444444444,
              "#bd3786"
             ],
             [
              0.5555555555555556,
              "#d8576b"
             ],
             [
              0.6666666666666666,
              "#ed7953"
             ],
             [
              0.7777777777777778,
              "#fb9f3a"
             ],
             [
              0.8888888888888888,
              "#fdca26"
             ],
             [
              1,
              "#f0f921"
             ]
            ],
            "type": "heatmapgl"
           }
          ],
          "histogram": [
           {
            "marker": {
             "pattern": {
              "fillmode": "overlay",
              "size": 10,
              "solidity": 0.2
             }
            },
            "type": "histogram"
           }
          ],
          "histogram2d": [
           {
            "colorbar": {
             "outlinewidth": 0,
             "ticks": ""
            },
            "colorscale": [
             [
              0,
              "#0d0887"
             ],
             [
              0.1111111111111111,
              "#46039f"
             ],
             [
              0.2222222222222222,
              "#7201a8"
             ],
             [
              0.3333333333333333,
              "#9c179e"
             ],
             [
              0.4444444444444444,
              "#bd3786"
             ],
             [
              0.5555555555555556,
              "#d8576b"
             ],
             [
              0.6666666666666666,
              "#ed7953"
             ],
             [
              0.7777777777777778,
              "#fb9f3a"
             ],
             [
              0.8888888888888888,
              "#fdca26"
             ],
             [
              1,
              "#f0f921"
             ]
            ],
            "type": "histogram2d"
           }
          ],
          "histogram2dcontour": [
           {
            "colorbar": {
             "outlinewidth": 0,
             "ticks": ""
            },
            "colorscale": [
             [
              0,
              "#0d0887"
             ],
             [
              0.1111111111111111,
              "#46039f"
             ],
             [
              0.2222222222222222,
              "#7201a8"
             ],
             [
              0.3333333333333333,
              "#9c179e"
             ],
             [
              0.4444444444444444,
              "#bd3786"
             ],
             [
              0.5555555555555556,
              "#d8576b"
             ],
             [
              0.6666666666666666,
              "#ed7953"
             ],
             [
              0.7777777777777778,
              "#fb9f3a"
             ],
             [
              0.8888888888888888,
              "#fdca26"
             ],
             [
              1,
              "#f0f921"
             ]
            ],
            "type": "histogram2dcontour"
           }
          ],
          "mesh3d": [
           {
            "colorbar": {
             "outlinewidth": 0,
             "ticks": ""
            },
            "type": "mesh3d"
           }
          ],
          "parcoords": [
           {
            "line": {
             "colorbar": {
              "outlinewidth": 0,
              "ticks": ""
             }
            },
            "type": "parcoords"
           }
          ],
          "pie": [
           {
            "automargin": true,
            "type": "pie"
           }
          ],
          "scatter": [
           {
            "fillpattern": {
             "fillmode": "overlay",
             "size": 10,
             "solidity": 0.2
            },
            "type": "scatter"
           }
          ],
          "scatter3d": [
           {
            "line": {
             "colorbar": {
              "outlinewidth": 0,
              "ticks": ""
             }
            },
            "marker": {
             "colorbar": {
              "outlinewidth": 0,
              "ticks": ""
             }
            },
            "type": "scatter3d"
           }
          ],
          "scattercarpet": [
           {
            "marker": {
             "colorbar": {
              "outlinewidth": 0,
              "ticks": ""
             }
            },
            "type": "scattercarpet"
           }
          ],
          "scattergeo": [
           {
            "marker": {
             "colorbar": {
              "outlinewidth": 0,
              "ticks": ""
             }
            },
            "type": "scattergeo"
           }
          ],
          "scattergl": [
           {
            "marker": {
             "colorbar": {
              "outlinewidth": 0,
              "ticks": ""
             }
            },
            "type": "scattergl"
           }
          ],
          "scattermapbox": [
           {
            "marker": {
             "colorbar": {
              "outlinewidth": 0,
              "ticks": ""
             }
            },
            "type": "scattermapbox"
           }
          ],
          "scatterpolar": [
           {
            "marker": {
             "colorbar": {
              "outlinewidth": 0,
              "ticks": ""
             }
            },
            "type": "scatterpolar"
           }
          ],
          "scatterpolargl": [
           {
            "marker": {
             "colorbar": {
              "outlinewidth": 0,
              "ticks": ""
             }
            },
            "type": "scatterpolargl"
           }
          ],
          "scatterternary": [
           {
            "marker": {
             "colorbar": {
              "outlinewidth": 0,
              "ticks": ""
             }
            },
            "type": "scatterternary"
           }
          ],
          "surface": [
           {
            "colorbar": {
             "outlinewidth": 0,
             "ticks": ""
            },
            "colorscale": [
             [
              0,
              "#0d0887"
             ],
             [
              0.1111111111111111,
              "#46039f"
             ],
             [
              0.2222222222222222,
              "#7201a8"
             ],
             [
              0.3333333333333333,
              "#9c179e"
             ],
             [
              0.4444444444444444,
              "#bd3786"
             ],
             [
              0.5555555555555556,
              "#d8576b"
             ],
             [
              0.6666666666666666,
              "#ed7953"
             ],
             [
              0.7777777777777778,
              "#fb9f3a"
             ],
             [
              0.8888888888888888,
              "#fdca26"
             ],
             [
              1,
              "#f0f921"
             ]
            ],
            "type": "surface"
           }
          ],
          "table": [
           {
            "cells": {
             "fill": {
              "color": "#EBF0F8"
             },
             "line": {
              "color": "white"
             }
            },
            "header": {
             "fill": {
              "color": "#C8D4E3"
             },
             "line": {
              "color": "white"
             }
            },
            "type": "table"
           }
          ]
         },
         "layout": {
          "annotationdefaults": {
           "arrowcolor": "#2a3f5f",
           "arrowhead": 0,
           "arrowwidth": 1
          },
          "autotypenumbers": "strict",
          "coloraxis": {
           "colorbar": {
            "outlinewidth": 0,
            "ticks": ""
           }
          },
          "colorscale": {
           "diverging": [
            [
             0,
             "#8e0152"
            ],
            [
             0.1,
             "#c51b7d"
            ],
            [
             0.2,
             "#de77ae"
            ],
            [
             0.3,
             "#f1b6da"
            ],
            [
             0.4,
             "#fde0ef"
            ],
            [
             0.5,
             "#f7f7f7"
            ],
            [
             0.6,
             "#e6f5d0"
            ],
            [
             0.7,
             "#b8e186"
            ],
            [
             0.8,
             "#7fbc41"
            ],
            [
             0.9,
             "#4d9221"
            ],
            [
             1,
             "#276419"
            ]
           ],
           "sequential": [
            [
             0,
             "#0d0887"
            ],
            [
             0.1111111111111111,
             "#46039f"
            ],
            [
             0.2222222222222222,
             "#7201a8"
            ],
            [
             0.3333333333333333,
             "#9c179e"
            ],
            [
             0.4444444444444444,
             "#bd3786"
            ],
            [
             0.5555555555555556,
             "#d8576b"
            ],
            [
             0.6666666666666666,
             "#ed7953"
            ],
            [
             0.7777777777777778,
             "#fb9f3a"
            ],
            [
             0.8888888888888888,
             "#fdca26"
            ],
            [
             1,
             "#f0f921"
            ]
           ],
           "sequentialminus": [
            [
             0,
             "#0d0887"
            ],
            [
             0.1111111111111111,
             "#46039f"
            ],
            [
             0.2222222222222222,
             "#7201a8"
            ],
            [
             0.3333333333333333,
             "#9c179e"
            ],
            [
             0.4444444444444444,
             "#bd3786"
            ],
            [
             0.5555555555555556,
             "#d8576b"
            ],
            [
             0.6666666666666666,
             "#ed7953"
            ],
            [
             0.7777777777777778,
             "#fb9f3a"
            ],
            [
             0.8888888888888888,
             "#fdca26"
            ],
            [
             1,
             "#f0f921"
            ]
           ]
          },
          "colorway": [
           "#636efa",
           "#EF553B",
           "#00cc96",
           "#ab63fa",
           "#FFA15A",
           "#19d3f3",
           "#FF6692",
           "#B6E880",
           "#FF97FF",
           "#FECB52"
          ],
          "font": {
           "color": "#2a3f5f"
          },
          "geo": {
           "bgcolor": "white",
           "lakecolor": "white",
           "landcolor": "#E5ECF6",
           "showlakes": true,
           "showland": true,
           "subunitcolor": "white"
          },
          "hoverlabel": {
           "align": "left"
          },
          "hovermode": "closest",
          "mapbox": {
           "style": "light"
          },
          "paper_bgcolor": "white",
          "plot_bgcolor": "#E5ECF6",
          "polar": {
           "angularaxis": {
            "gridcolor": "white",
            "linecolor": "white",
            "ticks": ""
           },
           "bgcolor": "#E5ECF6",
           "radialaxis": {
            "gridcolor": "white",
            "linecolor": "white",
            "ticks": ""
           }
          },
          "scene": {
           "xaxis": {
            "backgroundcolor": "#E5ECF6",
            "gridcolor": "white",
            "gridwidth": 2,
            "linecolor": "white",
            "showbackground": true,
            "ticks": "",
            "zerolinecolor": "white"
           },
           "yaxis": {
            "backgroundcolor": "#E5ECF6",
            "gridcolor": "white",
            "gridwidth": 2,
            "linecolor": "white",
            "showbackground": true,
            "ticks": "",
            "zerolinecolor": "white"
           },
           "zaxis": {
            "backgroundcolor": "#E5ECF6",
            "gridcolor": "white",
            "gridwidth": 2,
            "linecolor": "white",
            "showbackground": true,
            "ticks": "",
            "zerolinecolor": "white"
           }
          },
          "shapedefaults": {
           "line": {
            "color": "#2a3f5f"
           }
          },
          "ternary": {
           "aaxis": {
            "gridcolor": "white",
            "linecolor": "white",
            "ticks": ""
           },
           "baxis": {
            "gridcolor": "white",
            "linecolor": "white",
            "ticks": ""
           },
           "bgcolor": "#E5ECF6",
           "caxis": {
            "gridcolor": "white",
            "linecolor": "white",
            "ticks": ""
           }
          },
          "title": {
           "x": 0.05
          },
          "xaxis": {
           "automargin": true,
           "gridcolor": "white",
           "linecolor": "white",
           "ticks": "",
           "title": {
            "standoff": 15
           },
           "zerolinecolor": "white",
           "zerolinewidth": 2
          },
          "yaxis": {
           "automargin": true,
           "gridcolor": "white",
           "linecolor": "white",
           "ticks": "",
           "title": {
            "standoff": 15
           },
           "zerolinecolor": "white",
           "zerolinewidth": 2
          }
         }
        },
        "title": {
         "text": "accuracy and val_accuracy"
        },
        "width": 700,
        "yaxis": {
         "range": [
          0,
          1
         ]
        }
       }
      }
     },
     "metadata": {},
     "output_type": "display_data"
    }
   ],
   "source": [
    "history_df = pd.DataFrame(history.history)\n",
    "\n",
    "show_history_graph(history_df, 'loss', 'val_loss')\n",
    "show_history_graph(history_df, 'accuracy', 'val_accuracy')"
   ]
  },
  {
   "cell_type": "markdown",
   "metadata": {},
   "source": [
    "# Final model"
   ]
  },
  {
   "cell_type": "code",
   "execution_count": 224,
   "metadata": {},
   "outputs": [],
   "source": [
    "relu = keras.activations.relu\n",
    "layers = [\n",
    "    Dense(16, activation=relu),\n",
    "    Dropout(0.1),\n",
    "    Dense(8, activation=relu),\n",
    "    Dense(4, activation=relu),\n",
    "    Dense(1, activation=keras.activations.sigmoid)\n",
    "]\n",
    "\n",
    "final_model = keras.Sequential(layers)"
   ]
  },
  {
   "cell_type": "code",
   "execution_count": 225,
   "metadata": {},
   "outputs": [],
   "source": [
    "final_model.compile(\n",
    "    loss=keras.losses.binary_crossentropy,\n",
    "    optimizer=keras.optimizers.Adam(),\n",
    "    metrics=['accuracy']\n",
    ")\n",
    "\n",
    "early_stopping_callback = keras.callbacks.EarlyStopping(\n",
    "    monitor='val_accuracy',\n",
    "    min_delta=0.001,\n",
    "    patience=20,\n",
    "    verbose=0,\n",
    "    restore_best_weights=True\n",
    ")\n",
    "callbacks = [\n",
    "    early_stopping_callback\n",
    "]"
   ]
  },
  {
   "cell_type": "code",
   "execution_count": 226,
   "metadata": {},
   "outputs": [
    {
     "name": "stdout",
     "output_type": "stream",
     "text": [
      "Epoch 1/100\n",
      "219/219 [==============================] - 1s 3ms/step - loss: 0.5733 - accuracy: 0.7185 - val_loss: 0.4978 - val_accuracy: 0.7908\n",
      "Epoch 2/100\n",
      "219/219 [==============================] - 0s 2ms/step - loss: 0.4783 - accuracy: 0.7932 - val_loss: 0.4806 - val_accuracy: 0.7937\n",
      "Epoch 3/100\n",
      "219/219 [==============================] - 0s 2ms/step - loss: 0.4578 - accuracy: 0.7997 - val_loss: 0.4735 - val_accuracy: 0.7949\n",
      "Epoch 4/100\n",
      "219/219 [==============================] - 0s 2ms/step - loss: 0.4439 - accuracy: 0.8042 - val_loss: 0.4704 - val_accuracy: 0.7937\n",
      "Epoch 5/100\n",
      "219/219 [==============================] - 0s 2ms/step - loss: 0.4295 - accuracy: 0.8102 - val_loss: 0.4626 - val_accuracy: 0.7985\n",
      "Epoch 6/100\n",
      "219/219 [==============================] - 0s 2ms/step - loss: 0.4178 - accuracy: 0.8107 - val_loss: 0.4664 - val_accuracy: 0.7973\n",
      "Epoch 7/100\n",
      "219/219 [==============================] - 0s 2ms/step - loss: 0.4101 - accuracy: 0.8099 - val_loss: 0.4623 - val_accuracy: 0.7973\n",
      "Epoch 8/100\n",
      "219/219 [==============================] - 0s 2ms/step - loss: 0.3989 - accuracy: 0.8170 - val_loss: 0.4599 - val_accuracy: 0.8026\n",
      "Epoch 9/100\n",
      "219/219 [==============================] - 0s 2ms/step - loss: 0.3894 - accuracy: 0.8189 - val_loss: 0.4692 - val_accuracy: 0.7985\n",
      "Epoch 10/100\n",
      "219/219 [==============================] - 1s 4ms/step - loss: 0.3850 - accuracy: 0.8185 - val_loss: 0.4797 - val_accuracy: 0.7967\n",
      "Epoch 11/100\n",
      "219/219 [==============================] - 1s 5ms/step - loss: 0.3763 - accuracy: 0.8222 - val_loss: 0.4815 - val_accuracy: 0.7931\n",
      "Epoch 12/100\n",
      "219/219 [==============================] - 1s 4ms/step - loss: 0.3671 - accuracy: 0.8299 - val_loss: 0.4821 - val_accuracy: 0.7955\n",
      "Epoch 13/100\n",
      "219/219 [==============================] - 1s 4ms/step - loss: 0.3656 - accuracy: 0.8309 - val_loss: 0.4847 - val_accuracy: 0.7914\n",
      "Epoch 14/100\n",
      "219/219 [==============================] - 1s 4ms/step - loss: 0.3541 - accuracy: 0.8337 - val_loss: 0.4937 - val_accuracy: 0.7931\n",
      "Epoch 15/100\n",
      "219/219 [==============================] - 1s 4ms/step - loss: 0.3467 - accuracy: 0.8390 - val_loss: 0.5110 - val_accuracy: 0.7949\n",
      "Epoch 16/100\n",
      "219/219 [==============================] - 1s 4ms/step - loss: 0.3429 - accuracy: 0.8362 - val_loss: 0.5141 - val_accuracy: 0.7849\n",
      "Epoch 17/100\n",
      "219/219 [==============================] - 1s 4ms/step - loss: 0.3316 - accuracy: 0.8447 - val_loss: 0.5339 - val_accuracy: 0.7801\n",
      "Epoch 18/100\n",
      "219/219 [==============================] - 1s 4ms/step - loss: 0.3223 - accuracy: 0.8513 - val_loss: 0.5362 - val_accuracy: 0.7807\n",
      "Epoch 19/100\n",
      "219/219 [==============================] - 1s 4ms/step - loss: 0.3138 - accuracy: 0.8550 - val_loss: 0.5673 - val_accuracy: 0.7760\n",
      "Epoch 20/100\n",
      "219/219 [==============================] - 1s 4ms/step - loss: 0.3069 - accuracy: 0.8579 - val_loss: 0.5721 - val_accuracy: 0.7778\n",
      "Epoch 21/100\n",
      "219/219 [==============================] - 1s 4ms/step - loss: 0.2916 - accuracy: 0.8662 - val_loss: 0.6174 - val_accuracy: 0.7713\n",
      "Epoch 22/100\n",
      "219/219 [==============================] - 1s 4ms/step - loss: 0.2826 - accuracy: 0.8704 - val_loss: 0.6356 - val_accuracy: 0.7683\n",
      "Epoch 23/100\n",
      "219/219 [==============================] - 1s 4ms/step - loss: 0.2720 - accuracy: 0.8779 - val_loss: 0.6686 - val_accuracy: 0.7660\n",
      "Epoch 24/100\n",
      "219/219 [==============================] - 1s 4ms/step - loss: 0.2632 - accuracy: 0.8766 - val_loss: 0.7213 - val_accuracy: 0.7671\n",
      "Epoch 25/100\n",
      "219/219 [==============================] - 1s 4ms/step - loss: 0.2570 - accuracy: 0.8834 - val_loss: 0.7406 - val_accuracy: 0.7695\n",
      "Epoch 26/100\n",
      "219/219 [==============================] - 1s 4ms/step - loss: 0.2522 - accuracy: 0.8856 - val_loss: 0.7993 - val_accuracy: 0.7707\n",
      "Epoch 27/100\n",
      "219/219 [==============================] - 1s 4ms/step - loss: 0.2438 - accuracy: 0.8863 - val_loss: 0.7828 - val_accuracy: 0.7624\n",
      "Epoch 28/100\n",
      "219/219 [==============================] - 1s 4ms/step - loss: 0.2367 - accuracy: 0.8924 - val_loss: 0.8755 - val_accuracy: 0.7648\n"
     ]
    }
   ],
   "source": [
    "final_history = final_model.fit(\n",
    "    train_x,\n",
    "    train_y,\n",
    "    epochs=100,\n",
    "    validation_data=(val_x, val_y),\n",
    "    callbacks=callbacks\n",
    ")"
   ]
  },
  {
   "cell_type": "code",
   "execution_count": 227,
   "metadata": {},
   "outputs": [
    {
     "name": "stdout",
     "output_type": "stream",
     "text": [
      "219/219 [==============================] - 1s 2ms/step\n",
      "Accuracy on train data: 0.825\n"
     ]
    }
   ],
   "source": [
    "get_accuracy(train_x, train_y, 'train', final_model)"
   ]
  },
  {
   "cell_type": "code",
   "execution_count": 230,
   "metadata": {},
   "outputs": [
    {
     "name": "stdout",
     "output_type": "stream",
     "text": [
      "53/53 [==============================] - 0s 1ms/step\n",
      "Accuracy on train data: 0.803\n"
     ]
    }
   ],
   "source": [
    "get_accuracy(val_x, val_y, 'train', final_model)"
   ]
  },
  {
   "cell_type": "code",
   "execution_count": 229,
   "metadata": {},
   "outputs": [
    {
     "data": {
      "application/vnd.plotly.v1+json": {
       "config": {
        "plotlyServerURL": "https://plot.ly"
       },
       "data": [
        {
         "mode": "lines",
         "name": "loss",
         "type": "scatter",
         "x": [
          0,
          1,
          2,
          3,
          4,
          5,
          6,
          7,
          8,
          9,
          10,
          11,
          12,
          13,
          14,
          15,
          16,
          17,
          18,
          19,
          20,
          21,
          22,
          23,
          24,
          25,
          26,
          27
         ],
         "y": [
          0.5733345150947571,
          0.47828835248947144,
          0.4578411281108856,
          0.44387608766555786,
          0.42952796816825867,
          0.41784727573394775,
          0.4101490378379822,
          0.39888787269592285,
          0.38940757513046265,
          0.3849998414516449,
          0.3763332664966583,
          0.3671422004699707,
          0.3656436800956726,
          0.3540734052658081,
          0.34674137830734253,
          0.3428812325000763,
          0.33162760734558105,
          0.32228198647499084,
          0.3138193190097809,
          0.30688580870628357,
          0.291608601808548,
          0.28264087438583374,
          0.27204325795173645,
          0.2631567716598511,
          0.25704532861709595,
          0.2521727979183197,
          0.2438107579946518,
          0.23665665090084076
         ]
        },
        {
         "line": {
          "dash": "dot"
         },
         "mode": "lines",
         "name": "val_loss",
         "type": "scatter",
         "x": [
          0,
          1,
          2,
          3,
          4,
          5,
          6,
          7,
          8,
          9,
          10,
          11,
          12,
          13,
          14,
          15,
          16,
          17,
          18,
          19,
          20,
          21,
          22,
          23,
          24,
          25,
          26,
          27
         ],
         "y": [
          0.4978320598602295,
          0.48059701919555664,
          0.4734536111354828,
          0.47037947177886963,
          0.46256425976753235,
          0.46640336513519287,
          0.4623454511165619,
          0.45986825227737427,
          0.46916380524635315,
          0.47965288162231445,
          0.48145219683647156,
          0.4821428060531616,
          0.48474520444869995,
          0.49373388290405273,
          0.5110328197479248,
          0.5140727758407593,
          0.533872663974762,
          0.5362102389335632,
          0.5673160552978516,
          0.5720736980438232,
          0.6173729300498962,
          0.6355537176132202,
          0.6685945391654968,
          0.7212813496589661,
          0.7406409978866577,
          0.7992697954177856,
          0.7828150391578674,
          0.8755027651786804
         ]
        }
       ],
       "layout": {
        "height": 500,
        "template": {
         "data": {
          "bar": [
           {
            "error_x": {
             "color": "#2a3f5f"
            },
            "error_y": {
             "color": "#2a3f5f"
            },
            "marker": {
             "line": {
              "color": "#E5ECF6",
              "width": 0.5
             },
             "pattern": {
              "fillmode": "overlay",
              "size": 10,
              "solidity": 0.2
             }
            },
            "type": "bar"
           }
          ],
          "barpolar": [
           {
            "marker": {
             "line": {
              "color": "#E5ECF6",
              "width": 0.5
             },
             "pattern": {
              "fillmode": "overlay",
              "size": 10,
              "solidity": 0.2
             }
            },
            "type": "barpolar"
           }
          ],
          "carpet": [
           {
            "aaxis": {
             "endlinecolor": "#2a3f5f",
             "gridcolor": "white",
             "linecolor": "white",
             "minorgridcolor": "white",
             "startlinecolor": "#2a3f5f"
            },
            "baxis": {
             "endlinecolor": "#2a3f5f",
             "gridcolor": "white",
             "linecolor": "white",
             "minorgridcolor": "white",
             "startlinecolor": "#2a3f5f"
            },
            "type": "carpet"
           }
          ],
          "choropleth": [
           {
            "colorbar": {
             "outlinewidth": 0,
             "ticks": ""
            },
            "type": "choropleth"
           }
          ],
          "contour": [
           {
            "colorbar": {
             "outlinewidth": 0,
             "ticks": ""
            },
            "colorscale": [
             [
              0,
              "#0d0887"
             ],
             [
              0.1111111111111111,
              "#46039f"
             ],
             [
              0.2222222222222222,
              "#7201a8"
             ],
             [
              0.3333333333333333,
              "#9c179e"
             ],
             [
              0.4444444444444444,
              "#bd3786"
             ],
             [
              0.5555555555555556,
              "#d8576b"
             ],
             [
              0.6666666666666666,
              "#ed7953"
             ],
             [
              0.7777777777777778,
              "#fb9f3a"
             ],
             [
              0.8888888888888888,
              "#fdca26"
             ],
             [
              1,
              "#f0f921"
             ]
            ],
            "type": "contour"
           }
          ],
          "contourcarpet": [
           {
            "colorbar": {
             "outlinewidth": 0,
             "ticks": ""
            },
            "type": "contourcarpet"
           }
          ],
          "heatmap": [
           {
            "colorbar": {
             "outlinewidth": 0,
             "ticks": ""
            },
            "colorscale": [
             [
              0,
              "#0d0887"
             ],
             [
              0.1111111111111111,
              "#46039f"
             ],
             [
              0.2222222222222222,
              "#7201a8"
             ],
             [
              0.3333333333333333,
              "#9c179e"
             ],
             [
              0.4444444444444444,
              "#bd3786"
             ],
             [
              0.5555555555555556,
              "#d8576b"
             ],
             [
              0.6666666666666666,
              "#ed7953"
             ],
             [
              0.7777777777777778,
              "#fb9f3a"
             ],
             [
              0.8888888888888888,
              "#fdca26"
             ],
             [
              1,
              "#f0f921"
             ]
            ],
            "type": "heatmap"
           }
          ],
          "heatmapgl": [
           {
            "colorbar": {
             "outlinewidth": 0,
             "ticks": ""
            },
            "colorscale": [
             [
              0,
              "#0d0887"
             ],
             [
              0.1111111111111111,
              "#46039f"
             ],
             [
              0.2222222222222222,
              "#7201a8"
             ],
             [
              0.3333333333333333,
              "#9c179e"
             ],
             [
              0.4444444444444444,
              "#bd3786"
             ],
             [
              0.5555555555555556,
              "#d8576b"
             ],
             [
              0.6666666666666666,
              "#ed7953"
             ],
             [
              0.7777777777777778,
              "#fb9f3a"
             ],
             [
              0.8888888888888888,
              "#fdca26"
             ],
             [
              1,
              "#f0f921"
             ]
            ],
            "type": "heatmapgl"
           }
          ],
          "histogram": [
           {
            "marker": {
             "pattern": {
              "fillmode": "overlay",
              "size": 10,
              "solidity": 0.2
             }
            },
            "type": "histogram"
           }
          ],
          "histogram2d": [
           {
            "colorbar": {
             "outlinewidth": 0,
             "ticks": ""
            },
            "colorscale": [
             [
              0,
              "#0d0887"
             ],
             [
              0.1111111111111111,
              "#46039f"
             ],
             [
              0.2222222222222222,
              "#7201a8"
             ],
             [
              0.3333333333333333,
              "#9c179e"
             ],
             [
              0.4444444444444444,
              "#bd3786"
             ],
             [
              0.5555555555555556,
              "#d8576b"
             ],
             [
              0.6666666666666666,
              "#ed7953"
             ],
             [
              0.7777777777777778,
              "#fb9f3a"
             ],
             [
              0.8888888888888888,
              "#fdca26"
             ],
             [
              1,
              "#f0f921"
             ]
            ],
            "type": "histogram2d"
           }
          ],
          "histogram2dcontour": [
           {
            "colorbar": {
             "outlinewidth": 0,
             "ticks": ""
            },
            "colorscale": [
             [
              0,
              "#0d0887"
             ],
             [
              0.1111111111111111,
              "#46039f"
             ],
             [
              0.2222222222222222,
              "#7201a8"
             ],
             [
              0.3333333333333333,
              "#9c179e"
             ],
             [
              0.4444444444444444,
              "#bd3786"
             ],
             [
              0.5555555555555556,
              "#d8576b"
             ],
             [
              0.6666666666666666,
              "#ed7953"
             ],
             [
              0.7777777777777778,
              "#fb9f3a"
             ],
             [
              0.8888888888888888,
              "#fdca26"
             ],
             [
              1,
              "#f0f921"
             ]
            ],
            "type": "histogram2dcontour"
           }
          ],
          "mesh3d": [
           {
            "colorbar": {
             "outlinewidth": 0,
             "ticks": ""
            },
            "type": "mesh3d"
           }
          ],
          "parcoords": [
           {
            "line": {
             "colorbar": {
              "outlinewidth": 0,
              "ticks": ""
             }
            },
            "type": "parcoords"
           }
          ],
          "pie": [
           {
            "automargin": true,
            "type": "pie"
           }
          ],
          "scatter": [
           {
            "fillpattern": {
             "fillmode": "overlay",
             "size": 10,
             "solidity": 0.2
            },
            "type": "scatter"
           }
          ],
          "scatter3d": [
           {
            "line": {
             "colorbar": {
              "outlinewidth": 0,
              "ticks": ""
             }
            },
            "marker": {
             "colorbar": {
              "outlinewidth": 0,
              "ticks": ""
             }
            },
            "type": "scatter3d"
           }
          ],
          "scattercarpet": [
           {
            "marker": {
             "colorbar": {
              "outlinewidth": 0,
              "ticks": ""
             }
            },
            "type": "scattercarpet"
           }
          ],
          "scattergeo": [
           {
            "marker": {
             "colorbar": {
              "outlinewidth": 0,
              "ticks": ""
             }
            },
            "type": "scattergeo"
           }
          ],
          "scattergl": [
           {
            "marker": {
             "colorbar": {
              "outlinewidth": 0,
              "ticks": ""
             }
            },
            "type": "scattergl"
           }
          ],
          "scattermapbox": [
           {
            "marker": {
             "colorbar": {
              "outlinewidth": 0,
              "ticks": ""
             }
            },
            "type": "scattermapbox"
           }
          ],
          "scatterpolar": [
           {
            "marker": {
             "colorbar": {
              "outlinewidth": 0,
              "ticks": ""
             }
            },
            "type": "scatterpolar"
           }
          ],
          "scatterpolargl": [
           {
            "marker": {
             "colorbar": {
              "outlinewidth": 0,
              "ticks": ""
             }
            },
            "type": "scatterpolargl"
           }
          ],
          "scatterternary": [
           {
            "marker": {
             "colorbar": {
              "outlinewidth": 0,
              "ticks": ""
             }
            },
            "type": "scatterternary"
           }
          ],
          "surface": [
           {
            "colorbar": {
             "outlinewidth": 0,
             "ticks": ""
            },
            "colorscale": [
             [
              0,
              "#0d0887"
             ],
             [
              0.1111111111111111,
              "#46039f"
             ],
             [
              0.2222222222222222,
              "#7201a8"
             ],
             [
              0.3333333333333333,
              "#9c179e"
             ],
             [
              0.4444444444444444,
              "#bd3786"
             ],
             [
              0.5555555555555556,
              "#d8576b"
             ],
             [
              0.6666666666666666,
              "#ed7953"
             ],
             [
              0.7777777777777778,
              "#fb9f3a"
             ],
             [
              0.8888888888888888,
              "#fdca26"
             ],
             [
              1,
              "#f0f921"
             ]
            ],
            "type": "surface"
           }
          ],
          "table": [
           {
            "cells": {
             "fill": {
              "color": "#EBF0F8"
             },
             "line": {
              "color": "white"
             }
            },
            "header": {
             "fill": {
              "color": "#C8D4E3"
             },
             "line": {
              "color": "white"
             }
            },
            "type": "table"
           }
          ]
         },
         "layout": {
          "annotationdefaults": {
           "arrowcolor": "#2a3f5f",
           "arrowhead": 0,
           "arrowwidth": 1
          },
          "autotypenumbers": "strict",
          "coloraxis": {
           "colorbar": {
            "outlinewidth": 0,
            "ticks": ""
           }
          },
          "colorscale": {
           "diverging": [
            [
             0,
             "#8e0152"
            ],
            [
             0.1,
             "#c51b7d"
            ],
            [
             0.2,
             "#de77ae"
            ],
            [
             0.3,
             "#f1b6da"
            ],
            [
             0.4,
             "#fde0ef"
            ],
            [
             0.5,
             "#f7f7f7"
            ],
            [
             0.6,
             "#e6f5d0"
            ],
            [
             0.7,
             "#b8e186"
            ],
            [
             0.8,
             "#7fbc41"
            ],
            [
             0.9,
             "#4d9221"
            ],
            [
             1,
             "#276419"
            ]
           ],
           "sequential": [
            [
             0,
             "#0d0887"
            ],
            [
             0.1111111111111111,
             "#46039f"
            ],
            [
             0.2222222222222222,
             "#7201a8"
            ],
            [
             0.3333333333333333,
             "#9c179e"
            ],
            [
             0.4444444444444444,
             "#bd3786"
            ],
            [
             0.5555555555555556,
             "#d8576b"
            ],
            [
             0.6666666666666666,
             "#ed7953"
            ],
            [
             0.7777777777777778,
             "#fb9f3a"
            ],
            [
             0.8888888888888888,
             "#fdca26"
            ],
            [
             1,
             "#f0f921"
            ]
           ],
           "sequentialminus": [
            [
             0,
             "#0d0887"
            ],
            [
             0.1111111111111111,
             "#46039f"
            ],
            [
             0.2222222222222222,
             "#7201a8"
            ],
            [
             0.3333333333333333,
             "#9c179e"
            ],
            [
             0.4444444444444444,
             "#bd3786"
            ],
            [
             0.5555555555555556,
             "#d8576b"
            ],
            [
             0.6666666666666666,
             "#ed7953"
            ],
            [
             0.7777777777777778,
             "#fb9f3a"
            ],
            [
             0.8888888888888888,
             "#fdca26"
            ],
            [
             1,
             "#f0f921"
            ]
           ]
          },
          "colorway": [
           "#636efa",
           "#EF553B",
           "#00cc96",
           "#ab63fa",
           "#FFA15A",
           "#19d3f3",
           "#FF6692",
           "#B6E880",
           "#FF97FF",
           "#FECB52"
          ],
          "font": {
           "color": "#2a3f5f"
          },
          "geo": {
           "bgcolor": "white",
           "lakecolor": "white",
           "landcolor": "#E5ECF6",
           "showlakes": true,
           "showland": true,
           "subunitcolor": "white"
          },
          "hoverlabel": {
           "align": "left"
          },
          "hovermode": "closest",
          "mapbox": {
           "style": "light"
          },
          "paper_bgcolor": "white",
          "plot_bgcolor": "#E5ECF6",
          "polar": {
           "angularaxis": {
            "gridcolor": "white",
            "linecolor": "white",
            "ticks": ""
           },
           "bgcolor": "#E5ECF6",
           "radialaxis": {
            "gridcolor": "white",
            "linecolor": "white",
            "ticks": ""
           }
          },
          "scene": {
           "xaxis": {
            "backgroundcolor": "#E5ECF6",
            "gridcolor": "white",
            "gridwidth": 2,
            "linecolor": "white",
            "showbackground": true,
            "ticks": "",
            "zerolinecolor": "white"
           },
           "yaxis": {
            "backgroundcolor": "#E5ECF6",
            "gridcolor": "white",
            "gridwidth": 2,
            "linecolor": "white",
            "showbackground": true,
            "ticks": "",
            "zerolinecolor": "white"
           },
           "zaxis": {
            "backgroundcolor": "#E5ECF6",
            "gridcolor": "white",
            "gridwidth": 2,
            "linecolor": "white",
            "showbackground": true,
            "ticks": "",
            "zerolinecolor": "white"
           }
          },
          "shapedefaults": {
           "line": {
            "color": "#2a3f5f"
           }
          },
          "ternary": {
           "aaxis": {
            "gridcolor": "white",
            "linecolor": "white",
            "ticks": ""
           },
           "baxis": {
            "gridcolor": "white",
            "linecolor": "white",
            "ticks": ""
           },
           "bgcolor": "#E5ECF6",
           "caxis": {
            "gridcolor": "white",
            "linecolor": "white",
            "ticks": ""
           }
          },
          "title": {
           "x": 0.05
          },
          "xaxis": {
           "automargin": true,
           "gridcolor": "white",
           "linecolor": "white",
           "ticks": "",
           "title": {
            "standoff": 15
           },
           "zerolinecolor": "white",
           "zerolinewidth": 2
          },
          "yaxis": {
           "automargin": true,
           "gridcolor": "white",
           "linecolor": "white",
           "ticks": "",
           "title": {
            "standoff": 15
           },
           "zerolinecolor": "white",
           "zerolinewidth": 2
          }
         }
        },
        "title": {
         "text": "loss and val_loss"
        },
        "width": 700,
        "yaxis": {
         "range": [
          0,
          1
         ]
        }
       }
      }
     },
     "metadata": {},
     "output_type": "display_data"
    },
    {
     "data": {
      "application/vnd.plotly.v1+json": {
       "config": {
        "plotlyServerURL": "https://plot.ly"
       },
       "data": [
        {
         "mode": "lines",
         "name": "accuracy",
         "type": "scatter",
         "x": [
          0,
          1,
          2,
          3,
          4,
          5,
          6,
          7,
          8,
          9,
          10,
          11,
          12,
          13,
          14,
          15,
          16,
          17,
          18,
          19,
          20,
          21,
          22,
          23,
          24,
          25,
          26,
          27
         ],
         "y": [
          0.7184687852859497,
          0.7931724190711975,
          0.7997428774833679,
          0.8041708469390869,
          0.8101699948310852,
          0.8107413053512573,
          0.8098843097686768,
          0.8170261383056641,
          0.8188830018043518,
          0.8184545040130615,
          0.8221682906150818,
          0.8298814296722412,
          0.8308812975883484,
          0.8337380290031433,
          0.8390229940414429,
          0.836166262626648,
          0.8447364568710327,
          0.8513069748878479,
          0.8550207018852234,
          0.8578774333000183,
          0.8661620020866394,
          0.8704470992088318,
          0.8778746128082275,
          0.8765890598297119,
          0.8834452033042908,
          0.885587751865387,
          0.8863019347190857,
          0.8924439549446106
         ]
        },
        {
         "line": {
          "dash": "dot"
         },
         "mode": "lines",
         "name": "val_accuracy",
         "type": "scatter",
         "x": [
          0,
          1,
          2,
          3,
          4,
          5,
          6,
          7,
          8,
          9,
          10,
          11,
          12,
          13,
          14,
          15,
          16,
          17,
          18,
          19,
          20,
          21,
          22,
          23,
          24,
          25,
          26,
          27
         ],
         "y": [
          0.7907801270484924,
          0.7937352061271667,
          0.7949172854423523,
          0.7937352061271667,
          0.7984633445739746,
          0.7972813248634338,
          0.7972813248634338,
          0.8026004433631897,
          0.7984633445739746,
          0.7966902852058411,
          0.7931442260742188,
          0.7955082654953003,
          0.7913711667060852,
          0.7931442260742188,
          0.7949172854423523,
          0.7848699688911438,
          0.7801418304443359,
          0.7807328701019287,
          0.7760047316551208,
          0.7777777910232544,
          0.771276593208313,
          0.7683215141296387,
          0.7659574747085571,
          0.7671394944190979,
          0.7695035338401794,
          0.7706855535507202,
          0.76241135597229,
          0.7647753953933716
         ]
        }
       ],
       "layout": {
        "height": 500,
        "template": {
         "data": {
          "bar": [
           {
            "error_x": {
             "color": "#2a3f5f"
            },
            "error_y": {
             "color": "#2a3f5f"
            },
            "marker": {
             "line": {
              "color": "#E5ECF6",
              "width": 0.5
             },
             "pattern": {
              "fillmode": "overlay",
              "size": 10,
              "solidity": 0.2
             }
            },
            "type": "bar"
           }
          ],
          "barpolar": [
           {
            "marker": {
             "line": {
              "color": "#E5ECF6",
              "width": 0.5
             },
             "pattern": {
              "fillmode": "overlay",
              "size": 10,
              "solidity": 0.2
             }
            },
            "type": "barpolar"
           }
          ],
          "carpet": [
           {
            "aaxis": {
             "endlinecolor": "#2a3f5f",
             "gridcolor": "white",
             "linecolor": "white",
             "minorgridcolor": "white",
             "startlinecolor": "#2a3f5f"
            },
            "baxis": {
             "endlinecolor": "#2a3f5f",
             "gridcolor": "white",
             "linecolor": "white",
             "minorgridcolor": "white",
             "startlinecolor": "#2a3f5f"
            },
            "type": "carpet"
           }
          ],
          "choropleth": [
           {
            "colorbar": {
             "outlinewidth": 0,
             "ticks": ""
            },
            "type": "choropleth"
           }
          ],
          "contour": [
           {
            "colorbar": {
             "outlinewidth": 0,
             "ticks": ""
            },
            "colorscale": [
             [
              0,
              "#0d0887"
             ],
             [
              0.1111111111111111,
              "#46039f"
             ],
             [
              0.2222222222222222,
              "#7201a8"
             ],
             [
              0.3333333333333333,
              "#9c179e"
             ],
             [
              0.4444444444444444,
              "#bd3786"
             ],
             [
              0.5555555555555556,
              "#d8576b"
             ],
             [
              0.6666666666666666,
              "#ed7953"
             ],
             [
              0.7777777777777778,
              "#fb9f3a"
             ],
             [
              0.8888888888888888,
              "#fdca26"
             ],
             [
              1,
              "#f0f921"
             ]
            ],
            "type": "contour"
           }
          ],
          "contourcarpet": [
           {
            "colorbar": {
             "outlinewidth": 0,
             "ticks": ""
            },
            "type": "contourcarpet"
           }
          ],
          "heatmap": [
           {
            "colorbar": {
             "outlinewidth": 0,
             "ticks": ""
            },
            "colorscale": [
             [
              0,
              "#0d0887"
             ],
             [
              0.1111111111111111,
              "#46039f"
             ],
             [
              0.2222222222222222,
              "#7201a8"
             ],
             [
              0.3333333333333333,
              "#9c179e"
             ],
             [
              0.4444444444444444,
              "#bd3786"
             ],
             [
              0.5555555555555556,
              "#d8576b"
             ],
             [
              0.6666666666666666,
              "#ed7953"
             ],
             [
              0.7777777777777778,
              "#fb9f3a"
             ],
             [
              0.8888888888888888,
              "#fdca26"
             ],
             [
              1,
              "#f0f921"
             ]
            ],
            "type": "heatmap"
           }
          ],
          "heatmapgl": [
           {
            "colorbar": {
             "outlinewidth": 0,
             "ticks": ""
            },
            "colorscale": [
             [
              0,
              "#0d0887"
             ],
             [
              0.1111111111111111,
              "#46039f"
             ],
             [
              0.2222222222222222,
              "#7201a8"
             ],
             [
              0.3333333333333333,
              "#9c179e"
             ],
             [
              0.4444444444444444,
              "#bd3786"
             ],
             [
              0.5555555555555556,
              "#d8576b"
             ],
             [
              0.6666666666666666,
              "#ed7953"
             ],
             [
              0.7777777777777778,
              "#fb9f3a"
             ],
             [
              0.8888888888888888,
              "#fdca26"
             ],
             [
              1,
              "#f0f921"
             ]
            ],
            "type": "heatmapgl"
           }
          ],
          "histogram": [
           {
            "marker": {
             "pattern": {
              "fillmode": "overlay",
              "size": 10,
              "solidity": 0.2
             }
            },
            "type": "histogram"
           }
          ],
          "histogram2d": [
           {
            "colorbar": {
             "outlinewidth": 0,
             "ticks": ""
            },
            "colorscale": [
             [
              0,
              "#0d0887"
             ],
             [
              0.1111111111111111,
              "#46039f"
             ],
             [
              0.2222222222222222,
              "#7201a8"
             ],
             [
              0.3333333333333333,
              "#9c179e"
             ],
             [
              0.4444444444444444,
              "#bd3786"
             ],
             [
              0.5555555555555556,
              "#d8576b"
             ],
             [
              0.6666666666666666,
              "#ed7953"
             ],
             [
              0.7777777777777778,
              "#fb9f3a"
             ],
             [
              0.8888888888888888,
              "#fdca26"
             ],
             [
              1,
              "#f0f921"
             ]
            ],
            "type": "histogram2d"
           }
          ],
          "histogram2dcontour": [
           {
            "colorbar": {
             "outlinewidth": 0,
             "ticks": ""
            },
            "colorscale": [
             [
              0,
              "#0d0887"
             ],
             [
              0.1111111111111111,
              "#46039f"
             ],
             [
              0.2222222222222222,
              "#7201a8"
             ],
             [
              0.3333333333333333,
              "#9c179e"
             ],
             [
              0.4444444444444444,
              "#bd3786"
             ],
             [
              0.5555555555555556,
              "#d8576b"
             ],
             [
              0.6666666666666666,
              "#ed7953"
             ],
             [
              0.7777777777777778,
              "#fb9f3a"
             ],
             [
              0.8888888888888888,
              "#fdca26"
             ],
             [
              1,
              "#f0f921"
             ]
            ],
            "type": "histogram2dcontour"
           }
          ],
          "mesh3d": [
           {
            "colorbar": {
             "outlinewidth": 0,
             "ticks": ""
            },
            "type": "mesh3d"
           }
          ],
          "parcoords": [
           {
            "line": {
             "colorbar": {
              "outlinewidth": 0,
              "ticks": ""
             }
            },
            "type": "parcoords"
           }
          ],
          "pie": [
           {
            "automargin": true,
            "type": "pie"
           }
          ],
          "scatter": [
           {
            "fillpattern": {
             "fillmode": "overlay",
             "size": 10,
             "solidity": 0.2
            },
            "type": "scatter"
           }
          ],
          "scatter3d": [
           {
            "line": {
             "colorbar": {
              "outlinewidth": 0,
              "ticks": ""
             }
            },
            "marker": {
             "colorbar": {
              "outlinewidth": 0,
              "ticks": ""
             }
            },
            "type": "scatter3d"
           }
          ],
          "scattercarpet": [
           {
            "marker": {
             "colorbar": {
              "outlinewidth": 0,
              "ticks": ""
             }
            },
            "type": "scattercarpet"
           }
          ],
          "scattergeo": [
           {
            "marker": {
             "colorbar": {
              "outlinewidth": 0,
              "ticks": ""
             }
            },
            "type": "scattergeo"
           }
          ],
          "scattergl": [
           {
            "marker": {
             "colorbar": {
              "outlinewidth": 0,
              "ticks": ""
             }
            },
            "type": "scattergl"
           }
          ],
          "scattermapbox": [
           {
            "marker": {
             "colorbar": {
              "outlinewidth": 0,
              "ticks": ""
             }
            },
            "type": "scattermapbox"
           }
          ],
          "scatterpolar": [
           {
            "marker": {
             "colorbar": {
              "outlinewidth": 0,
              "ticks": ""
             }
            },
            "type": "scatterpolar"
           }
          ],
          "scatterpolargl": [
           {
            "marker": {
             "colorbar": {
              "outlinewidth": 0,
              "ticks": ""
             }
            },
            "type": "scatterpolargl"
           }
          ],
          "scatterternary": [
           {
            "marker": {
             "colorbar": {
              "outlinewidth": 0,
              "ticks": ""
             }
            },
            "type": "scatterternary"
           }
          ],
          "surface": [
           {
            "colorbar": {
             "outlinewidth": 0,
             "ticks": ""
            },
            "colorscale": [
             [
              0,
              "#0d0887"
             ],
             [
              0.1111111111111111,
              "#46039f"
             ],
             [
              0.2222222222222222,
              "#7201a8"
             ],
             [
              0.3333333333333333,
              "#9c179e"
             ],
             [
              0.4444444444444444,
              "#bd3786"
             ],
             [
              0.5555555555555556,
              "#d8576b"
             ],
             [
              0.6666666666666666,
              "#ed7953"
             ],
             [
              0.7777777777777778,
              "#fb9f3a"
             ],
             [
              0.8888888888888888,
              "#fdca26"
             ],
             [
              1,
              "#f0f921"
             ]
            ],
            "type": "surface"
           }
          ],
          "table": [
           {
            "cells": {
             "fill": {
              "color": "#EBF0F8"
             },
             "line": {
              "color": "white"
             }
            },
            "header": {
             "fill": {
              "color": "#C8D4E3"
             },
             "line": {
              "color": "white"
             }
            },
            "type": "table"
           }
          ]
         },
         "layout": {
          "annotationdefaults": {
           "arrowcolor": "#2a3f5f",
           "arrowhead": 0,
           "arrowwidth": 1
          },
          "autotypenumbers": "strict",
          "coloraxis": {
           "colorbar": {
            "outlinewidth": 0,
            "ticks": ""
           }
          },
          "colorscale": {
           "diverging": [
            [
             0,
             "#8e0152"
            ],
            [
             0.1,
             "#c51b7d"
            ],
            [
             0.2,
             "#de77ae"
            ],
            [
             0.3,
             "#f1b6da"
            ],
            [
             0.4,
             "#fde0ef"
            ],
            [
             0.5,
             "#f7f7f7"
            ],
            [
             0.6,
             "#e6f5d0"
            ],
            [
             0.7,
             "#b8e186"
            ],
            [
             0.8,
             "#7fbc41"
            ],
            [
             0.9,
             "#4d9221"
            ],
            [
             1,
             "#276419"
            ]
           ],
           "sequential": [
            [
             0,
             "#0d0887"
            ],
            [
             0.1111111111111111,
             "#46039f"
            ],
            [
             0.2222222222222222,
             "#7201a8"
            ],
            [
             0.3333333333333333,
             "#9c179e"
            ],
            [
             0.4444444444444444,
             "#bd3786"
            ],
            [
             0.5555555555555556,
             "#d8576b"
            ],
            [
             0.6666666666666666,
             "#ed7953"
            ],
            [
             0.7777777777777778,
             "#fb9f3a"
            ],
            [
             0.8888888888888888,
             "#fdca26"
            ],
            [
             1,
             "#f0f921"
            ]
           ],
           "sequentialminus": [
            [
             0,
             "#0d0887"
            ],
            [
             0.1111111111111111,
             "#46039f"
            ],
            [
             0.2222222222222222,
             "#7201a8"
            ],
            [
             0.3333333333333333,
             "#9c179e"
            ],
            [
             0.4444444444444444,
             "#bd3786"
            ],
            [
             0.5555555555555556,
             "#d8576b"
            ],
            [
             0.6666666666666666,
             "#ed7953"
            ],
            [
             0.7777777777777778,
             "#fb9f3a"
            ],
            [
             0.8888888888888888,
             "#fdca26"
            ],
            [
             1,
             "#f0f921"
            ]
           ]
          },
          "colorway": [
           "#636efa",
           "#EF553B",
           "#00cc96",
           "#ab63fa",
           "#FFA15A",
           "#19d3f3",
           "#FF6692",
           "#B6E880",
           "#FF97FF",
           "#FECB52"
          ],
          "font": {
           "color": "#2a3f5f"
          },
          "geo": {
           "bgcolor": "white",
           "lakecolor": "white",
           "landcolor": "#E5ECF6",
           "showlakes": true,
           "showland": true,
           "subunitcolor": "white"
          },
          "hoverlabel": {
           "align": "left"
          },
          "hovermode": "closest",
          "mapbox": {
           "style": "light"
          },
          "paper_bgcolor": "white",
          "plot_bgcolor": "#E5ECF6",
          "polar": {
           "angularaxis": {
            "gridcolor": "white",
            "linecolor": "white",
            "ticks": ""
           },
           "bgcolor": "#E5ECF6",
           "radialaxis": {
            "gridcolor": "white",
            "linecolor": "white",
            "ticks": ""
           }
          },
          "scene": {
           "xaxis": {
            "backgroundcolor": "#E5ECF6",
            "gridcolor": "white",
            "gridwidth": 2,
            "linecolor": "white",
            "showbackground": true,
            "ticks": "",
            "zerolinecolor": "white"
           },
           "yaxis": {
            "backgroundcolor": "#E5ECF6",
            "gridcolor": "white",
            "gridwidth": 2,
            "linecolor": "white",
            "showbackground": true,
            "ticks": "",
            "zerolinecolor": "white"
           },
           "zaxis": {
            "backgroundcolor": "#E5ECF6",
            "gridcolor": "white",
            "gridwidth": 2,
            "linecolor": "white",
            "showbackground": true,
            "ticks": "",
            "zerolinecolor": "white"
           }
          },
          "shapedefaults": {
           "line": {
            "color": "#2a3f5f"
           }
          },
          "ternary": {
           "aaxis": {
            "gridcolor": "white",
            "linecolor": "white",
            "ticks": ""
           },
           "baxis": {
            "gridcolor": "white",
            "linecolor": "white",
            "ticks": ""
           },
           "bgcolor": "#E5ECF6",
           "caxis": {
            "gridcolor": "white",
            "linecolor": "white",
            "ticks": ""
           }
          },
          "title": {
           "x": 0.05
          },
          "xaxis": {
           "automargin": true,
           "gridcolor": "white",
           "linecolor": "white",
           "ticks": "",
           "title": {
            "standoff": 15
           },
           "zerolinecolor": "white",
           "zerolinewidth": 2
          },
          "yaxis": {
           "automargin": true,
           "gridcolor": "white",
           "linecolor": "white",
           "ticks": "",
           "title": {
            "standoff": 15
           },
           "zerolinecolor": "white",
           "zerolinewidth": 2
          }
         }
        },
        "title": {
         "text": "accuracy and val_accuracy"
        },
        "width": 700,
        "yaxis": {
         "range": [
          0,
          1
         ]
        }
       }
      }
     },
     "metadata": {},
     "output_type": "display_data"
    }
   ],
   "source": [
    "history_df = pd.DataFrame(final_history.history)\n",
    "\n",
    "show_history_graph(history_df, 'loss', 'val_loss')\n",
    "show_history_graph(history_df, 'accuracy', 'val_accuracy')"
   ]
  },
  {
   "cell_type": "markdown",
   "metadata": {},
   "source": [
    "# Save model"
   ]
  },
  {
   "cell_type": "code",
   "execution_count": 192,
   "metadata": {},
   "outputs": [
    {
     "name": "stdout",
     "output_type": "stream",
     "text": [
      "INFO:tensorflow:Assets written to: c:\\PROJEKTY\\KAGGLE\\SpaceshipTytanic\\models\\final_model\\assets\n"
     ]
    }
   ],
   "source": [
    "model_name = 'final_model'\n",
    "path = os.path.join(\n",
    "    os.getcwd(),\n",
    "    'models',\n",
    "    model_name\n",
    ")\n",
    "final_model.save(path)"
   ]
  }
 ],
 "metadata": {
  "kernelspec": {
   "display_name": "Python 3.10.2 64-bit",
   "language": "python",
   "name": "python3"
  },
  "language_info": {
   "codemirror_mode": {
    "name": "ipython",
    "version": 3
   },
   "file_extension": ".py",
   "mimetype": "text/x-python",
   "name": "python",
   "nbconvert_exporter": "python",
   "pygments_lexer": "ipython3",
   "version": "3.10.2"
  },
  "orig_nbformat": 4,
  "vscode": {
   "interpreter": {
    "hash": "6a74854dbd35b3b1e1641f2d717929c6b738adcdd3262c03fe72ebc0e6c9a894"
   }
  }
 },
 "nbformat": 4,
 "nbformat_minor": 2
}
