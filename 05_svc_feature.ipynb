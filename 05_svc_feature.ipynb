{
 "cells": [
  {
   "cell_type": "markdown",
   "id": "4595696c",
   "metadata": {},
   "source": [
    "# SVC optimization"
   ]
  },
  {
   "cell_type": "code",
   "execution_count": 1,
   "id": "fbdca02b",
   "metadata": {},
   "outputs": [],
   "source": [
    "import pandas as pd\n",
    "import numpy as np\n",
    "from sklearn.svm import SVC\n",
    "from sklearn.metrics import classification_report, accuracy_score\n",
    "from sklearn.model_selection import cross_val_score\n",
    "from sklearn.feature_selection import mutual_info_classif, f_classif\n",
    "from sklearn.preprocessing import StandardScaler\n",
    "import optuna\n",
    "from optuna.visualization import plot_optimization_history, plot_param_importances, plot_slice, plot_parallel_coordinate\n",
    "import plotly.express as px\n",
    "import os\n",
    "import pickle"
   ]
  },
  {
   "cell_type": "code",
   "execution_count": 2,
   "id": "7c0d9735",
   "metadata": {},
   "outputs": [
    {
     "data": {
      "text/html": [
       "<style>.container { width:100% !important; }</style>"
      ],
      "text/plain": [
       "<IPython.core.display.HTML object>"
      ]
     },
     "metadata": {},
     "output_type": "display_data"
    }
   ],
   "source": [
    "from IPython.display import display, HTML\n",
    "display(HTML(\"<style>.container { width:100% !important; }</style>\"))"
   ]
  },
  {
   "cell_type": "code",
   "execution_count": 3,
   "id": "1f0e9602",
   "metadata": {},
   "outputs": [],
   "source": [
    "train_df = pd.read_feather('./data/train_processed.ftr')\n",
    "val_df = pd.read_feather('./data/val_processed.ftr')\n",
    "cols = list(train_df.columns)"
   ]
  },
  {
   "cell_type": "markdown",
   "id": "b6876728",
   "metadata": {},
   "source": [
    "## Prepare SVC model"
   ]
  },
  {
   "cell_type": "code",
   "execution_count": 4,
   "id": "7d3b51a9",
   "metadata": {},
   "outputs": [],
   "source": [
    "train_x = train_df[cols[:-1]].to_numpy()\n",
    "train_y = train_df[cols[-1]].to_numpy()\n",
    "val_x = val_df[cols[:-1]].to_numpy()\n",
    "val_y = val_df[cols[-1]].to_numpy()"
   ]
  },
  {
   "cell_type": "code",
   "execution_count": null,
   "id": "e76e4fb5",
   "metadata": {},
   "outputs": [],
   "source": [
    "class ModelTester:\n",
    "    \n",
    "    def __init__(\n",
    "        self,\n",
    "        params: dict,\n",
    "        train_x: np.array,\n",
    "        train_y: np.array,\n",
    "        val_x: np.array,\n",
    "        val_y: np.array\n",
    "    ):\n",
    "        self.params = params\n",
    "        self.train_x = train_x\n",
    "        self.train_y = train_y\n",
    "        self.val_x = val_x\n",
    "        self.val_y = val_y\n",
    "        \n",
    "        self.model = self.train_model()\n",
    "        self.y_pred_bin = self.get_bin_predictions()\n",
    "            \n",
    "    def train_model(self):\n",
    "        # 1 - Run model\n",
    "        model = SVC(\n",
    "            C=self.params['C'],\n",
    "            kernel=self.params['kernel'],\n",
    "            degree=self.params['degree'],\n",
    "            gamma=self.params['gamma'],\n",
    "            coef0=self.params['coef0'],\n",
    "            shrinking=self.params['shrinking'],\n",
    "            tol=self.params['tol']\n",
    "        )\n",
    "        model.fit(self.train_x, self.train_y)\n",
    "        return model\n",
    "    \n",
    "    def get_bin_predictions(self):\n",
    "        # 2 - Get predictions\n",
    "        y_pred = self.model.predict(val_x)\n",
    "        y_pred_bin = [1 if y else 0 for y in y_pred]\n",
    "        \n",
    "        return y_pred_bin\n",
    "    \n",
    "    def get_accuracy(self):\n",
    "        return round(accuracy_score(self.val_y, self.y_pred_bin), 3)\n",
    "    \n",
    "    def get_class_report(self):\n",
    "        return classification_report(self.val_y, self.y_pred_bin)    "
   ]
  },
  {
   "cell_type": "markdown",
   "id": "89b6431f",
   "metadata": {},
   "source": [
    "## Optuna research"
   ]
  },
  {
   "cell_type": "code",
   "execution_count": null,
   "id": "4f152fde",
   "metadata": {},
   "outputs": [],
   "source": [
    "def objective(trial):\n",
    "    # 0 - Prepare params\n",
    "    C = trial.suggest_float('C', 0.001, 100.)\n",
    "\n",
    "    \n",
    "    kernel = trial.suggest_categorical('kernel', ['linear', 'rbf', 'sigmoid'])\n",
    "    \n",
    "    degree = trial.suggest_int(\"degree\", 2, 10)\n",
    "    gamma= trial.suggest_categorical('gamma', ['scale', 'auto'])\n",
    "    coef0 = trial.suggest_float('coef0', 0.001, 10.)\n",
    "    shrinking = bool(trial.suggest_int('shrinking', 0, 2))\n",
    "    tol = trial.suggest_float('tol', 0.001, 1)\n",
    "    \n",
    "    params = {\n",
    "        'C': C,\n",
    "        'kernel': kernel,\n",
    "        'degree': degree,\n",
    "        'gamma': gamma,\n",
    "        'coef0': coef0,\n",
    "        'shrinking': shrinking,\n",
    "        'tol': tol,\n",
    "    }\n",
    "    \n",
    "    # 1 - Model\n",
    "    model_tester = ModelTester(params, train_x, train_y, val_x, val_y)\n",
    "    acc = model_tester.get_accuracy()\n",
    "    error = 1 - acc\n",
    "    \n",
    "    return error"
   ]
  },
  {
   "cell_type": "code",
   "execution_count": null,
   "id": "95179668",
   "metadata": {
    "collapsed": true
   },
   "outputs": [],
   "source": [
    "study = optuna.create_study()\n",
    "study.optimize(objective, n_trials=1000)"
   ]
  },
  {
   "cell_type": "markdown",
   "id": "d25d9501",
   "metadata": {},
   "source": [
    "### Show results"
   ]
  },
  {
   "cell_type": "code",
   "execution_count": null,
   "id": "ef653720",
   "metadata": {
    "collapsed": true
   },
   "outputs": [],
   "source": [
    "plot_optimization_history(study)"
   ]
  },
  {
   "cell_type": "code",
   "execution_count": null,
   "id": "5322cc73",
   "metadata": {
    "collapsed": true
   },
   "outputs": [],
   "source": [
    "plot_param_importances(study)"
   ]
  },
  {
   "cell_type": "code",
   "execution_count": null,
   "id": "005a9a2a",
   "metadata": {
    "collapsed": true
   },
   "outputs": [],
   "source": [
    "key_params = ['kernel', 'coef0', 'degree']\n",
    "plot_slice(study, params = key_params).show()"
   ]
  },
  {
   "cell_type": "code",
   "execution_count": null,
   "id": "42fbc305",
   "metadata": {},
   "outputs": [],
   "source": [
    "study.best_params"
   ]
  },
  {
   "cell_type": "code",
   "execution_count": 5,
   "id": "ead10b2a",
   "metadata": {},
   "outputs": [],
   "source": [
    "best_params = {\n",
    "    'C': 55.269088337763066,\n",
    "    'kernel': 'rbf',\n",
    "    'degree': 10,\n",
    "    'gamma': 'auto',\n",
    "    'coef0': 8.363572073854568,\n",
    "    'shrinking': 1,\n",
    "    'tol': 0.5608852633036548\n",
    " }"
   ]
  },
  {
   "cell_type": "markdown",
   "id": "70694319",
   "metadata": {},
   "source": [
    "## Create model with best params"
   ]
  },
  {
   "cell_type": "code",
   "execution_count": 6,
   "id": "92f6c415",
   "metadata": {},
   "outputs": [],
   "source": [
    "train_x = train_df[cols[:-1]].to_numpy()\n",
    "train_y = train_df[cols[-1]].to_numpy()\n",
    "val_x = val_df[cols[:-1]].to_numpy()\n",
    "val_y = val_df[cols[-1]].to_numpy()"
   ]
  },
  {
   "cell_type": "code",
   "execution_count": 7,
   "id": "ccf85a70",
   "metadata": {},
   "outputs": [],
   "source": [
    "params = best_params\n",
    "model = SVC(\n",
    "    C=params['C'],\n",
    "    kernel=params['kernel'],\n",
    "    degree=params['degree'],\n",
    "    gamma=params['gamma'],\n",
    "    coef0=params['coef0'],\n",
    "    shrinking=params['shrinking'],\n",
    "    tol=params['tol']\n",
    ")"
   ]
  },
  {
   "cell_type": "code",
   "execution_count": 8,
   "id": "0ee98031",
   "metadata": {},
   "outputs": [],
   "source": [
    "X = pd.concat([train_df[cols[:-1]], val_df[cols[:-1]]])\n",
    "y = pd.concat([train_df[cols[-1]], val_df[cols[-1]]])"
   ]
  },
  {
   "cell_type": "code",
   "execution_count": 9,
   "id": "b381b946",
   "metadata": {},
   "outputs": [
    {
     "name": "stdout",
     "output_type": "stream",
     "text": [
      "Mean cv (k=10) accuracy score = 0.791\n"
     ]
    }
   ],
   "source": [
    "cv_scores = cross_val_score(model, X, y, cv=10)\n",
    "print(f'Mean cv (k=10) accuracy score = {round(np.mean(cv_scores), 3)}')"
   ]
  },
  {
   "cell_type": "markdown",
   "id": "9269b371",
   "metadata": {},
   "source": [
    "## Feature selection"
   ]
  },
  {
   "cell_type": "code",
   "execution_count": 10,
   "id": "adebec87",
   "metadata": {},
   "outputs": [],
   "source": [
    "is_cat_col = {\n",
    "    'is_g734s': True,\n",
    "    'CryoSleep': True,\n",
    "    'VIP': True,\n",
    "    'Europa': True,\n",
    "    'Mars': True,\n",
    "    'PSO J318.5-22': True,\n",
    "    'TRAPPIST-1e': True,\n",
    "    'Age': False,\n",
    "    'RoomService': False,\n",
    "    'FoodCourt': False,\n",
    "    'ShoppingMall': False,\n",
    "    'Spa': False,\n",
    "    'VRDeck': False,\n",
    "    'segment': True\n",
    " }"
   ]
  },
  {
   "cell_type": "code",
   "execution_count": 11,
   "id": "0598027b",
   "metadata": {},
   "outputs": [],
   "source": [
    "feature_mi = mutual_info_classif(X, y, discrete_features=list(is_cat_col.values()))\n",
    "feature_f = f_classif(X, y)"
   ]
  },
  {
   "cell_type": "code",
   "execution_count": 12,
   "id": "fa6ccc86",
   "metadata": {},
   "outputs": [
    {
     "data": {
      "text/html": [
       "<div>\n",
       "<style scoped>\n",
       "    .dataframe tbody tr th:only-of-type {\n",
       "        vertical-align: middle;\n",
       "    }\n",
       "\n",
       "    .dataframe tbody tr th {\n",
       "        vertical-align: top;\n",
       "    }\n",
       "\n",
       "    .dataframe thead th {\n",
       "        text-align: right;\n",
       "    }\n",
       "</style>\n",
       "<table border=\"1\" class=\"dataframe\">\n",
       "  <thead>\n",
       "    <tr style=\"text-align: right;\">\n",
       "      <th></th>\n",
       "      <th>feature</th>\n",
       "      <th>mi</th>\n",
       "      <th>f</th>\n",
       "      <th>mi_z</th>\n",
       "      <th>f_z</th>\n",
       "      <th>feature_quality</th>\n",
       "    </tr>\n",
       "  </thead>\n",
       "  <tbody>\n",
       "    <tr>\n",
       "      <th>1</th>\n",
       "      <td>CryoSleep</td>\n",
       "      <td>1.072555e-01</td>\n",
       "      <td>2228.334929</td>\n",
       "      <td>1.801075</td>\n",
       "      <td>2.196114</td>\n",
       "      <td>1.998595</td>\n",
       "    </tr>\n",
       "    <tr>\n",
       "      <th>13</th>\n",
       "      <td>segment</td>\n",
       "      <td>1.066814e-01</td>\n",
       "      <td>1800.139509</td>\n",
       "      <td>1.786092</td>\n",
       "      <td>1.616080</td>\n",
       "      <td>1.701086</td>\n",
       "    </tr>\n",
       "    <tr>\n",
       "      <th>11</th>\n",
       "      <td>Spa</td>\n",
       "      <td>7.736723e-02</td>\n",
       "      <td>1285.480254</td>\n",
       "      <td>1.020988</td>\n",
       "      <td>0.918922</td>\n",
       "      <td>0.969955</td>\n",
       "    </tr>\n",
       "    <tr>\n",
       "      <th>8</th>\n",
       "      <td>RoomService</td>\n",
       "      <td>7.200160e-02</td>\n",
       "      <td>1239.221137</td>\n",
       "      <td>0.880944</td>\n",
       "      <td>0.856260</td>\n",
       "      <td>0.868602</td>\n",
       "    </tr>\n",
       "    <tr>\n",
       "      <th>12</th>\n",
       "      <td>VRDeck</td>\n",
       "      <td>5.877658e-02</td>\n",
       "      <td>1101.496913</td>\n",
       "      <td>0.535769</td>\n",
       "      <td>0.669698</td>\n",
       "      <td>0.602733</td>\n",
       "    </tr>\n",
       "    <tr>\n",
       "      <th>10</th>\n",
       "      <td>ShoppingMall</td>\n",
       "      <td>4.202217e-02</td>\n",
       "      <td>267.552878</td>\n",
       "      <td>0.098476</td>\n",
       "      <td>-0.459963</td>\n",
       "      <td>-0.180744</td>\n",
       "    </tr>\n",
       "    <tr>\n",
       "      <th>9</th>\n",
       "      <td>FoodCourt</td>\n",
       "      <td>3.584665e-02</td>\n",
       "      <td>151.085174</td>\n",
       "      <td>-0.062706</td>\n",
       "      <td>-0.617730</td>\n",
       "      <td>-0.340218</td>\n",
       "    </tr>\n",
       "    <tr>\n",
       "      <th>3</th>\n",
       "      <td>Europa</td>\n",
       "      <td>1.587072e-02</td>\n",
       "      <td>280.812746</td>\n",
       "      <td>-0.584082</td>\n",
       "      <td>-0.442001</td>\n",
       "      <td>-0.513041</td>\n",
       "    </tr>\n",
       "    <tr>\n",
       "      <th>7</th>\n",
       "      <td>Age</td>\n",
       "      <td>1.411507e-02</td>\n",
       "      <td>48.491713</td>\n",
       "      <td>-0.629904</td>\n",
       "      <td>-0.756703</td>\n",
       "      <td>-0.693304</td>\n",
       "    </tr>\n",
       "    <tr>\n",
       "      <th>6</th>\n",
       "      <td>TRAPPIST-1e</td>\n",
       "      <td>4.653416e-03</td>\n",
       "      <td>81.384065</td>\n",
       "      <td>-0.876855</td>\n",
       "      <td>-0.712147</td>\n",
       "      <td>-0.794501</td>\n",
       "    </tr>\n",
       "    <tr>\n",
       "      <th>2</th>\n",
       "      <td>VIP</td>\n",
       "      <td>7.002228e-04</td>\n",
       "      <td>12.083096</td>\n",
       "      <td>-0.980034</td>\n",
       "      <td>-0.806022</td>\n",
       "      <td>-0.893028</td>\n",
       "    </tr>\n",
       "    <tr>\n",
       "      <th>4</th>\n",
       "      <td>Mars</td>\n",
       "      <td>1.953682e-04</td>\n",
       "      <td>3.396187</td>\n",
       "      <td>-0.993211</td>\n",
       "      <td>-0.817790</td>\n",
       "      <td>-0.905500</td>\n",
       "    </tr>\n",
       "    <tr>\n",
       "      <th>0</th>\n",
       "      <td>is_g734s</td>\n",
       "      <td>2.644404e-06</td>\n",
       "      <td>0.045960</td>\n",
       "      <td>-0.998241</td>\n",
       "      <td>-0.822328</td>\n",
       "      <td>-0.910284</td>\n",
       "    </tr>\n",
       "    <tr>\n",
       "      <th>5</th>\n",
       "      <td>PSO J318.5-22</td>\n",
       "      <td>4.252760e-09</td>\n",
       "      <td>0.000074</td>\n",
       "      <td>-0.998310</td>\n",
       "      <td>-0.822390</td>\n",
       "      <td>-0.910350</td>\n",
       "    </tr>\n",
       "  </tbody>\n",
       "</table>\n",
       "</div>"
      ],
      "text/plain": [
       "          feature            mi            f      mi_z       f_z  \\\n",
       "1       CryoSleep  1.072555e-01  2228.334929  1.801075  2.196114   \n",
       "13        segment  1.066814e-01  1800.139509  1.786092  1.616080   \n",
       "11            Spa  7.736723e-02  1285.480254  1.020988  0.918922   \n",
       "8     RoomService  7.200160e-02  1239.221137  0.880944  0.856260   \n",
       "12         VRDeck  5.877658e-02  1101.496913  0.535769  0.669698   \n",
       "10   ShoppingMall  4.202217e-02   267.552878  0.098476 -0.459963   \n",
       "9       FoodCourt  3.584665e-02   151.085174 -0.062706 -0.617730   \n",
       "3          Europa  1.587072e-02   280.812746 -0.584082 -0.442001   \n",
       "7             Age  1.411507e-02    48.491713 -0.629904 -0.756703   \n",
       "6     TRAPPIST-1e  4.653416e-03    81.384065 -0.876855 -0.712147   \n",
       "2             VIP  7.002228e-04    12.083096 -0.980034 -0.806022   \n",
       "4            Mars  1.953682e-04     3.396187 -0.993211 -0.817790   \n",
       "0        is_g734s  2.644404e-06     0.045960 -0.998241 -0.822328   \n",
       "5   PSO J318.5-22  4.252760e-09     0.000074 -0.998310 -0.822390   \n",
       "\n",
       "    feature_quality  \n",
       "1          1.998595  \n",
       "13         1.701086  \n",
       "11         0.969955  \n",
       "8          0.868602  \n",
       "12         0.602733  \n",
       "10        -0.180744  \n",
       "9         -0.340218  \n",
       "3         -0.513041  \n",
       "7         -0.693304  \n",
       "6         -0.794501  \n",
       "2         -0.893028  \n",
       "4         -0.905500  \n",
       "0         -0.910284  \n",
       "5         -0.910350  "
      ]
     },
     "execution_count": 12,
     "metadata": {},
     "output_type": "execute_result"
    }
   ],
   "source": [
    "feature_df = pd.DataFrame({\n",
    "    'feature': cols[:-1],\n",
    "    'mi': feature_mi,\n",
    "    'f': feature_f[0]\n",
    "})\n",
    "\n",
    "scaler = StandardScaler()\n",
    "feature_df[['mi_z', 'f_z']] = scaler.fit_transform(feature_df[['mi', 'f']])\n",
    "feature_df['feature_quality'] = feature_df[['mi_z', 'f_z']].mean(axis=1)\n",
    "\n",
    "feature_df.sort_values('feature_quality', ascending=False, inplace=True)\n",
    "best_features = feature_df['feature'].to_list()\n",
    "feature_df"
   ]
  },
  {
   "cell_type": "code",
   "execution_count": 13,
   "id": "687cee0f",
   "metadata": {},
   "outputs": [
    {
     "data": {
      "application/vnd.plotly.v1+json": {
       "config": {
        "plotlyServerURL": "https://plot.ly"
       },
       "data": [
        {
         "alignmentgroup": "True",
         "hovertemplate": "feature_quality=%{x}<br>feature=%{y}<extra></extra>",
         "legendgroup": "",
         "marker": {
          "color": "#636efa",
          "pattern": {
           "shape": ""
          }
         },
         "name": "",
         "offsetgroup": "",
         "orientation": "h",
         "showlegend": false,
         "textposition": "auto",
         "type": "bar",
         "x": [
          1.9985945579930873,
          1.701086080608822,
          0.9699548924546348,
          0.8686017436621619,
          0.6027334811563998,
          -0.1807435857833199,
          -0.34021822366567633,
          -0.5130413265873763,
          -0.6933037068332731,
          -0.7945011269509912,
          -0.8930281968696827,
          -0.9055002378305179,
          -0.9102844093415567,
          -0.910349942012711
         ],
         "xaxis": "x",
         "y": [
          "CryoSleep",
          "segment",
          "Spa",
          "RoomService",
          "VRDeck",
          "ShoppingMall",
          "FoodCourt",
          "Europa",
          "Age",
          "TRAPPIST-1e",
          "VIP",
          "Mars",
          "is_g734s",
          "PSO J318.5-22"
         ],
         "yaxis": "y"
        }
       ],
       "layout": {
        "barmode": "relative",
        "legend": {
         "tracegroupgap": 0
        },
        "margin": {
         "t": 60
        },
        "template": {
         "data": {
          "bar": [
           {
            "error_x": {
             "color": "#2a3f5f"
            },
            "error_y": {
             "color": "#2a3f5f"
            },
            "marker": {
             "line": {
              "color": "#E5ECF6",
              "width": 0.5
             },
             "pattern": {
              "fillmode": "overlay",
              "size": 10,
              "solidity": 0.2
             }
            },
            "type": "bar"
           }
          ],
          "barpolar": [
           {
            "marker": {
             "line": {
              "color": "#E5ECF6",
              "width": 0.5
             },
             "pattern": {
              "fillmode": "overlay",
              "size": 10,
              "solidity": 0.2
             }
            },
            "type": "barpolar"
           }
          ],
          "carpet": [
           {
            "aaxis": {
             "endlinecolor": "#2a3f5f",
             "gridcolor": "white",
             "linecolor": "white",
             "minorgridcolor": "white",
             "startlinecolor": "#2a3f5f"
            },
            "baxis": {
             "endlinecolor": "#2a3f5f",
             "gridcolor": "white",
             "linecolor": "white",
             "minorgridcolor": "white",
             "startlinecolor": "#2a3f5f"
            },
            "type": "carpet"
           }
          ],
          "choropleth": [
           {
            "colorbar": {
             "outlinewidth": 0,
             "ticks": ""
            },
            "type": "choropleth"
           }
          ],
          "contour": [
           {
            "colorbar": {
             "outlinewidth": 0,
             "ticks": ""
            },
            "colorscale": [
             [
              0,
              "#0d0887"
             ],
             [
              0.1111111111111111,
              "#46039f"
             ],
             [
              0.2222222222222222,
              "#7201a8"
             ],
             [
              0.3333333333333333,
              "#9c179e"
             ],
             [
              0.4444444444444444,
              "#bd3786"
             ],
             [
              0.5555555555555556,
              "#d8576b"
             ],
             [
              0.6666666666666666,
              "#ed7953"
             ],
             [
              0.7777777777777778,
              "#fb9f3a"
             ],
             [
              0.8888888888888888,
              "#fdca26"
             ],
             [
              1,
              "#f0f921"
             ]
            ],
            "type": "contour"
           }
          ],
          "contourcarpet": [
           {
            "colorbar": {
             "outlinewidth": 0,
             "ticks": ""
            },
            "type": "contourcarpet"
           }
          ],
          "heatmap": [
           {
            "colorbar": {
             "outlinewidth": 0,
             "ticks": ""
            },
            "colorscale": [
             [
              0,
              "#0d0887"
             ],
             [
              0.1111111111111111,
              "#46039f"
             ],
             [
              0.2222222222222222,
              "#7201a8"
             ],
             [
              0.3333333333333333,
              "#9c179e"
             ],
             [
              0.4444444444444444,
              "#bd3786"
             ],
             [
              0.5555555555555556,
              "#d8576b"
             ],
             [
              0.6666666666666666,
              "#ed7953"
             ],
             [
              0.7777777777777778,
              "#fb9f3a"
             ],
             [
              0.8888888888888888,
              "#fdca26"
             ],
             [
              1,
              "#f0f921"
             ]
            ],
            "type": "heatmap"
           }
          ],
          "heatmapgl": [
           {
            "colorbar": {
             "outlinewidth": 0,
             "ticks": ""
            },
            "colorscale": [
             [
              0,
              "#0d0887"
             ],
             [
              0.1111111111111111,
              "#46039f"
             ],
             [
              0.2222222222222222,
              "#7201a8"
             ],
             [
              0.3333333333333333,
              "#9c179e"
             ],
             [
              0.4444444444444444,
              "#bd3786"
             ],
             [
              0.5555555555555556,
              "#d8576b"
             ],
             [
              0.6666666666666666,
              "#ed7953"
             ],
             [
              0.7777777777777778,
              "#fb9f3a"
             ],
             [
              0.8888888888888888,
              "#fdca26"
             ],
             [
              1,
              "#f0f921"
             ]
            ],
            "type": "heatmapgl"
           }
          ],
          "histogram": [
           {
            "marker": {
             "pattern": {
              "fillmode": "overlay",
              "size": 10,
              "solidity": 0.2
             }
            },
            "type": "histogram"
           }
          ],
          "histogram2d": [
           {
            "colorbar": {
             "outlinewidth": 0,
             "ticks": ""
            },
            "colorscale": [
             [
              0,
              "#0d0887"
             ],
             [
              0.1111111111111111,
              "#46039f"
             ],
             [
              0.2222222222222222,
              "#7201a8"
             ],
             [
              0.3333333333333333,
              "#9c179e"
             ],
             [
              0.4444444444444444,
              "#bd3786"
             ],
             [
              0.5555555555555556,
              "#d8576b"
             ],
             [
              0.6666666666666666,
              "#ed7953"
             ],
             [
              0.7777777777777778,
              "#fb9f3a"
             ],
             [
              0.8888888888888888,
              "#fdca26"
             ],
             [
              1,
              "#f0f921"
             ]
            ],
            "type": "histogram2d"
           }
          ],
          "histogram2dcontour": [
           {
            "colorbar": {
             "outlinewidth": 0,
             "ticks": ""
            },
            "colorscale": [
             [
              0,
              "#0d0887"
             ],
             [
              0.1111111111111111,
              "#46039f"
             ],
             [
              0.2222222222222222,
              "#7201a8"
             ],
             [
              0.3333333333333333,
              "#9c179e"
             ],
             [
              0.4444444444444444,
              "#bd3786"
             ],
             [
              0.5555555555555556,
              "#d8576b"
             ],
             [
              0.6666666666666666,
              "#ed7953"
             ],
             [
              0.7777777777777778,
              "#fb9f3a"
             ],
             [
              0.8888888888888888,
              "#fdca26"
             ],
             [
              1,
              "#f0f921"
             ]
            ],
            "type": "histogram2dcontour"
           }
          ],
          "mesh3d": [
           {
            "colorbar": {
             "outlinewidth": 0,
             "ticks": ""
            },
            "type": "mesh3d"
           }
          ],
          "parcoords": [
           {
            "line": {
             "colorbar": {
              "outlinewidth": 0,
              "ticks": ""
             }
            },
            "type": "parcoords"
           }
          ],
          "pie": [
           {
            "automargin": true,
            "type": "pie"
           }
          ],
          "scatter": [
           {
            "fillpattern": {
             "fillmode": "overlay",
             "size": 10,
             "solidity": 0.2
            },
            "type": "scatter"
           }
          ],
          "scatter3d": [
           {
            "line": {
             "colorbar": {
              "outlinewidth": 0,
              "ticks": ""
             }
            },
            "marker": {
             "colorbar": {
              "outlinewidth": 0,
              "ticks": ""
             }
            },
            "type": "scatter3d"
           }
          ],
          "scattercarpet": [
           {
            "marker": {
             "colorbar": {
              "outlinewidth": 0,
              "ticks": ""
             }
            },
            "type": "scattercarpet"
           }
          ],
          "scattergeo": [
           {
            "marker": {
             "colorbar": {
              "outlinewidth": 0,
              "ticks": ""
             }
            },
            "type": "scattergeo"
           }
          ],
          "scattergl": [
           {
            "marker": {
             "colorbar": {
              "outlinewidth": 0,
              "ticks": ""
             }
            },
            "type": "scattergl"
           }
          ],
          "scattermapbox": [
           {
            "marker": {
             "colorbar": {
              "outlinewidth": 0,
              "ticks": ""
             }
            },
            "type": "scattermapbox"
           }
          ],
          "scatterpolar": [
           {
            "marker": {
             "colorbar": {
              "outlinewidth": 0,
              "ticks": ""
             }
            },
            "type": "scatterpolar"
           }
          ],
          "scatterpolargl": [
           {
            "marker": {
             "colorbar": {
              "outlinewidth": 0,
              "ticks": ""
             }
            },
            "type": "scatterpolargl"
           }
          ],
          "scatterternary": [
           {
            "marker": {
             "colorbar": {
              "outlinewidth": 0,
              "ticks": ""
             }
            },
            "type": "scatterternary"
           }
          ],
          "surface": [
           {
            "colorbar": {
             "outlinewidth": 0,
             "ticks": ""
            },
            "colorscale": [
             [
              0,
              "#0d0887"
             ],
             [
              0.1111111111111111,
              "#46039f"
             ],
             [
              0.2222222222222222,
              "#7201a8"
             ],
             [
              0.3333333333333333,
              "#9c179e"
             ],
             [
              0.4444444444444444,
              "#bd3786"
             ],
             [
              0.5555555555555556,
              "#d8576b"
             ],
             [
              0.6666666666666666,
              "#ed7953"
             ],
             [
              0.7777777777777778,
              "#fb9f3a"
             ],
             [
              0.8888888888888888,
              "#fdca26"
             ],
             [
              1,
              "#f0f921"
             ]
            ],
            "type": "surface"
           }
          ],
          "table": [
           {
            "cells": {
             "fill": {
              "color": "#EBF0F8"
             },
             "line": {
              "color": "white"
             }
            },
            "header": {
             "fill": {
              "color": "#C8D4E3"
             },
             "line": {
              "color": "white"
             }
            },
            "type": "table"
           }
          ]
         },
         "layout": {
          "annotationdefaults": {
           "arrowcolor": "#2a3f5f",
           "arrowhead": 0,
           "arrowwidth": 1
          },
          "autotypenumbers": "strict",
          "coloraxis": {
           "colorbar": {
            "outlinewidth": 0,
            "ticks": ""
           }
          },
          "colorscale": {
           "diverging": [
            [
             0,
             "#8e0152"
            ],
            [
             0.1,
             "#c51b7d"
            ],
            [
             0.2,
             "#de77ae"
            ],
            [
             0.3,
             "#f1b6da"
            ],
            [
             0.4,
             "#fde0ef"
            ],
            [
             0.5,
             "#f7f7f7"
            ],
            [
             0.6,
             "#e6f5d0"
            ],
            [
             0.7,
             "#b8e186"
            ],
            [
             0.8,
             "#7fbc41"
            ],
            [
             0.9,
             "#4d9221"
            ],
            [
             1,
             "#276419"
            ]
           ],
           "sequential": [
            [
             0,
             "#0d0887"
            ],
            [
             0.1111111111111111,
             "#46039f"
            ],
            [
             0.2222222222222222,
             "#7201a8"
            ],
            [
             0.3333333333333333,
             "#9c179e"
            ],
            [
             0.4444444444444444,
             "#bd3786"
            ],
            [
             0.5555555555555556,
             "#d8576b"
            ],
            [
             0.6666666666666666,
             "#ed7953"
            ],
            [
             0.7777777777777778,
             "#fb9f3a"
            ],
            [
             0.8888888888888888,
             "#fdca26"
            ],
            [
             1,
             "#f0f921"
            ]
           ],
           "sequentialminus": [
            [
             0,
             "#0d0887"
            ],
            [
             0.1111111111111111,
             "#46039f"
            ],
            [
             0.2222222222222222,
             "#7201a8"
            ],
            [
             0.3333333333333333,
             "#9c179e"
            ],
            [
             0.4444444444444444,
             "#bd3786"
            ],
            [
             0.5555555555555556,
             "#d8576b"
            ],
            [
             0.6666666666666666,
             "#ed7953"
            ],
            [
             0.7777777777777778,
             "#fb9f3a"
            ],
            [
             0.8888888888888888,
             "#fdca26"
            ],
            [
             1,
             "#f0f921"
            ]
           ]
          },
          "colorway": [
           "#636efa",
           "#EF553B",
           "#00cc96",
           "#ab63fa",
           "#FFA15A",
           "#19d3f3",
           "#FF6692",
           "#B6E880",
           "#FF97FF",
           "#FECB52"
          ],
          "font": {
           "color": "#2a3f5f"
          },
          "geo": {
           "bgcolor": "white",
           "lakecolor": "white",
           "landcolor": "#E5ECF6",
           "showlakes": true,
           "showland": true,
           "subunitcolor": "white"
          },
          "hoverlabel": {
           "align": "left"
          },
          "hovermode": "closest",
          "mapbox": {
           "style": "light"
          },
          "paper_bgcolor": "white",
          "plot_bgcolor": "#E5ECF6",
          "polar": {
           "angularaxis": {
            "gridcolor": "white",
            "linecolor": "white",
            "ticks": ""
           },
           "bgcolor": "#E5ECF6",
           "radialaxis": {
            "gridcolor": "white",
            "linecolor": "white",
            "ticks": ""
           }
          },
          "scene": {
           "xaxis": {
            "backgroundcolor": "#E5ECF6",
            "gridcolor": "white",
            "gridwidth": 2,
            "linecolor": "white",
            "showbackground": true,
            "ticks": "",
            "zerolinecolor": "white"
           },
           "yaxis": {
            "backgroundcolor": "#E5ECF6",
            "gridcolor": "white",
            "gridwidth": 2,
            "linecolor": "white",
            "showbackground": true,
            "ticks": "",
            "zerolinecolor": "white"
           },
           "zaxis": {
            "backgroundcolor": "#E5ECF6",
            "gridcolor": "white",
            "gridwidth": 2,
            "linecolor": "white",
            "showbackground": true,
            "ticks": "",
            "zerolinecolor": "white"
           }
          },
          "shapedefaults": {
           "line": {
            "color": "#2a3f5f"
           }
          },
          "ternary": {
           "aaxis": {
            "gridcolor": "white",
            "linecolor": "white",
            "ticks": ""
           },
           "baxis": {
            "gridcolor": "white",
            "linecolor": "white",
            "ticks": ""
           },
           "bgcolor": "#E5ECF6",
           "caxis": {
            "gridcolor": "white",
            "linecolor": "white",
            "ticks": ""
           }
          },
          "title": {
           "x": 0.05
          },
          "xaxis": {
           "automargin": true,
           "gridcolor": "white",
           "linecolor": "white",
           "ticks": "",
           "title": {
            "standoff": 15
           },
           "zerolinecolor": "white",
           "zerolinewidth": 2
          },
          "yaxis": {
           "automargin": true,
           "gridcolor": "white",
           "linecolor": "white",
           "ticks": "",
           "title": {
            "standoff": 15
           },
           "zerolinecolor": "white",
           "zerolinewidth": 2
          }
         }
        },
        "xaxis": {
         "anchor": "y",
         "domain": [
          0,
          1
         ],
         "title": {
          "text": "feature_quality"
         }
        },
        "yaxis": {
         "anchor": "x",
         "domain": [
          0,
          1
         ],
         "title": {
          "text": "feature"
         }
        }
       }
      }
     },
     "metadata": {},
     "output_type": "display_data"
    }
   ],
   "source": [
    "fig = px.bar(feature_df, x='feature_quality', y='feature')\n",
    "fig.show()"
   ]
  },
  {
   "cell_type": "code",
   "execution_count": 14,
   "id": "63880f52",
   "metadata": {},
   "outputs": [],
   "source": [
    "temp_cols = []\n",
    "cv_list = []\n",
    "\n",
    "model = SVC(\n",
    "    C=params['C'],\n",
    "    kernel=params['kernel'],\n",
    "    degree=params['degree'],\n",
    "    gamma=params['gamma'],\n",
    "    coef0=params['coef0'],\n",
    "    shrinking=params['shrinking'],\n",
    "    tol=params['tol']\n",
    ")\n",
    "\n",
    "for feature in best_features:\n",
    "    temp_cols.append(feature)\n",
    "    X = pd.concat([train_df[temp_cols], val_df[temp_cols]]).to_numpy()\n",
    "    cv_score = cross_val_score(model, X, y, cv=10)\n",
    "    cv_list.append(cv_score)"
   ]
  },
  {
   "cell_type": "code",
   "execution_count": 15,
   "id": "b5a54e06",
   "metadata": {},
   "outputs": [
    {
     "name": "stdout",
     "output_type": "stream",
     "text": [
      "8\n"
     ]
    }
   ],
   "source": [
    "means = []\n",
    "for scores in cv_list:\n",
    "    means.append(round(np.mean(scores), 3))\n",
    "\n",
    "i_features = 0\n",
    "for i in range(len(means)):\n",
    "    if means[i] == max(means):\n",
    "        i_features = i\n",
    "        print(i_features)\n",
    "        break"
   ]
  },
  {
   "cell_type": "code",
   "execution_count": 16,
   "id": "715bcd4c",
   "metadata": {},
   "outputs": [
    {
     "data": {
      "text/plain": [
       "['CryoSleep',\n",
       " 'segment',\n",
       " 'Spa',\n",
       " 'RoomService',\n",
       " 'VRDeck',\n",
       " 'ShoppingMall',\n",
       " 'FoodCourt',\n",
       " 'Europa',\n",
       " 'Age']"
      ]
     },
     "execution_count": 16,
     "metadata": {},
     "output_type": "execute_result"
    }
   ],
   "source": [
    "best_features[:i_features+1]"
   ]
  },
  {
   "cell_type": "markdown",
   "id": "4e9bf73f",
   "metadata": {},
   "source": [
    "## Make final model"
   ]
  },
  {
   "cell_type": "code",
   "execution_count": 17,
   "id": "e05e6bdf",
   "metadata": {},
   "outputs": [],
   "source": [
    "train_x = train_df[best_features[:i_features+1]].to_numpy()\n",
    "val_x = val_df[best_features[:i_features+1]].to_numpy()"
   ]
  },
  {
   "cell_type": "code",
   "execution_count": 18,
   "id": "bef7140c",
   "metadata": {},
   "outputs": [],
   "source": [
    "params = best_params\n",
    "model = SVC(\n",
    "    C=params['C'],\n",
    "    kernel=params['kernel'],\n",
    "    degree=params['degree'],\n",
    "    gamma=params['gamma'],\n",
    "    coef0=params['coef0'],\n",
    "    shrinking=params['shrinking'],\n",
    "    tol=params['tol'],\n",
    "    probability=True\n",
    ")"
   ]
  },
  {
   "cell_type": "code",
   "execution_count": 19,
   "id": "c848b37b",
   "metadata": {},
   "outputs": [],
   "source": [
    "model.fit(train_x, train_y)\n",
    "pred_val = model.predict_proba(val_x)\n",
    "pred_train = model.predict_proba(train_x)"
   ]
  },
  {
   "cell_type": "code",
   "execution_count": 20,
   "id": "7b4745a9",
   "metadata": {},
   "outputs": [],
   "source": [
    "model_dict = {\n",
    "    'model': model,\n",
    "    'features': best_features[:i_features+1]\n",
    "}\n",
    "\n",
    "filepath = os.path.join('models', 'svc.pickle')\n",
    "with open(filepath, 'wb') as file:\n",
    "    pickle.dump(model_dict, file, protocol=pickle.HIGHEST_PROTOCOL)"
   ]
  },
  {
   "cell_type": "code",
   "execution_count": null,
   "id": "21671008",
   "metadata": {},
   "outputs": [],
   "source": [
    "train_proba_df = pd.DataFrame(pred_train)\n",
    "train_proba_df.columns = ['0', 'svc']\n",
    "train_proba_df['y'] = train_y.astype(int)\n",
    "train_proba_df.drop(columns='0', inplace=True)\n",
    "train_proba_df"
   ]
  },
  {
   "cell_type": "code",
   "execution_count": null,
   "id": "e1872046",
   "metadata": {},
   "outputs": [],
   "source": [
    "val_proba_df = pd.DataFrame(pred_val)\n",
    "val_proba_df.columns = ['0', 'svc']\n",
    "val_proba_df['y'] = val_y.astype(int)\n",
    "val_proba_df.drop(columns='0', inplace=True)\n",
    "val_proba_df"
   ]
  },
  {
   "cell_type": "code",
   "execution_count": null,
   "id": "a88225e9",
   "metadata": {},
   "outputs": [],
   "source": [
    "train_proba_final = pd.read_csv('./data/ensemble_train_df.csv')\n",
    "train_proba_final['svc'] = train_proba_df['svc']\n",
    "val_proba_final = pd.read_csv('./data/ensemble_val_df.csv')\n",
    "val_proba_final['svc'] = val_proba_df['svc']"
   ]
  },
  {
   "cell_type": "code",
   "execution_count": null,
   "id": "b32c2316",
   "metadata": {},
   "outputs": [],
   "source": [
    "train_proba_final.to_csv('./data/ensemble_train_df.csv')\n",
    "val_proba_final.to_csv('./data/ensemble_val_df.csv')"
   ]
  },
  {
   "cell_type": "code",
   "execution_count": null,
   "id": "872f5977",
   "metadata": {},
   "outputs": [],
   "source": [
    "filepath = os.path.join('models', 'svc.pickle')\n",
    "pickle.dump(model, open(filepath, 'wb'))"
   ]
  },
  {
   "cell_type": "code",
   "execution_count": null,
   "id": "1338a021",
   "metadata": {},
   "outputs": [],
   "source": []
  },
  {
   "cell_type": "code",
   "execution_count": null,
   "id": "8d46dc8b",
   "metadata": {},
   "outputs": [],
   "source": []
  }
 ],
 "metadata": {
  "kernelspec": {
   "display_name": "Python 3.10.2 64-bit",
   "language": "python",
   "name": "python3"
  },
  "language_info": {
   "codemirror_mode": {
    "name": "ipython",
    "version": 3
   },
   "file_extension": ".py",
   "mimetype": "text/x-python",
   "name": "python",
   "nbconvert_exporter": "python",
   "pygments_lexer": "ipython3",
   "version": "3.10.2"
  },
  "vscode": {
   "interpreter": {
    "hash": "6a74854dbd35b3b1e1641f2d717929c6b738adcdd3262c03fe72ebc0e6c9a894"
   }
  }
 },
 "nbformat": 4,
 "nbformat_minor": 5
}
