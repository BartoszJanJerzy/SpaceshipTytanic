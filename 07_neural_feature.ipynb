{
 "cells": [
  {
   "cell_type": "code",
   "execution_count": 1,
   "metadata": {},
   "outputs": [],
   "source": [
    "import os\n",
    "import pandas as pd\n",
    "import numpy as np\n",
    "import plotly.graph_objects as go\n",
    "\n",
    "# Deep Learning API for creating Neural Networks (Runs on TensorFlow)\n",
    "import tensorflow as tf\n",
    "from tensorflow import keras \n",
    "from tensorflow.keras.layers import Dense, Dropout\n",
    "from tensorflow import math\n",
    "from keras.utils.vis_utils import plot_model\n",
    "\n",
    "from sklearn.metrics import accuracy_score\n",
    "\n",
    "from my_utils.visualization import show_history_graph, show_ensemble_features"
   ]
  },
  {
   "cell_type": "markdown",
   "metadata": {},
   "source": [
    "# 0 - Data"
   ]
  },
  {
   "cell_type": "code",
   "execution_count": 2,
   "metadata": {},
   "outputs": [],
   "source": [
    "train_df = pd.read_feather(r'C:\\PROJEKTY\\KAGGLE\\SpaceshipTytanic\\data\\train_processed.ftr')\n",
    "val_df = pd.read_feather(r'C:\\PROJEKTY\\KAGGLE\\SpaceshipTytanic\\data\\val_processed.ftr')\n",
    "cols = list(train_df.columns)"
   ]
  },
  {
   "cell_type": "code",
   "execution_count": 10,
   "metadata": {},
   "outputs": [],
   "source": [
    "train_raw = pd.read_csv(r'C:\\PROJEKTY\\KAGGLE\\SpaceshipTytanic\\data\\train.csv')"
   ]
  },
  {
   "cell_type": "code",
   "execution_count": 16,
   "metadata": {},
   "outputs": [],
   "source": [
    "cols = [\n",
    "    'Age',\n",
    "    'RoomService',\n",
    "    'FoodCourt',\n",
    "    'ShoppingMall',\n",
    "    'Spa',\n",
    "    'VRDeck'\n",
    "]\n",
    "mean_dict = dict(train_raw[cols].mean())\n",
    "std_dict = dict(train_raw[cols].std())\n",
    "max_dict = dict(train_raw[cols].max())\n",
    "min_dict = dict(train_raw[cols].min())"
   ]
  },
  {
   "cell_type": "code",
   "execution_count": null,
   "metadata": {},
   "outputs": [],
   "source": [
    "path = os.join.path('models')\n",
    "# with open():"
   ]
  },
  {
   "cell_type": "code",
   "execution_count": 7,
   "metadata": {},
   "outputs": [
    {
     "data": {
      "text/html": [
       "<div>\n",
       "<style scoped>\n",
       "    .dataframe tbody tr th:only-of-type {\n",
       "        vertical-align: middle;\n",
       "    }\n",
       "\n",
       "    .dataframe tbody tr th {\n",
       "        vertical-align: top;\n",
       "    }\n",
       "\n",
       "    .dataframe thead th {\n",
       "        text-align: right;\n",
       "    }\n",
       "</style>\n",
       "<table border=\"1\" class=\"dataframe\">\n",
       "  <thead>\n",
       "    <tr style=\"text-align: right;\">\n",
       "      <th></th>\n",
       "      <th>is_g734s</th>\n",
       "      <th>CryoSleep</th>\n",
       "      <th>VIP</th>\n",
       "      <th>Europa</th>\n",
       "      <th>Mars</th>\n",
       "      <th>PSO J318.5-22</th>\n",
       "      <th>TRAPPIST-1e</th>\n",
       "      <th>Age</th>\n",
       "      <th>RoomService</th>\n",
       "      <th>FoodCourt</th>\n",
       "      <th>ShoppingMall</th>\n",
       "      <th>Spa</th>\n",
       "      <th>VRDeck</th>\n",
       "      <th>segment</th>\n",
       "      <th>Transported</th>\n",
       "    </tr>\n",
       "  </thead>\n",
       "  <tbody>\n",
       "    <tr>\n",
       "      <th>0</th>\n",
       "      <td>0</td>\n",
       "      <td>1</td>\n",
       "      <td>0</td>\n",
       "      <td>0</td>\n",
       "      <td>0</td>\n",
       "      <td>0</td>\n",
       "      <td>1</td>\n",
       "      <td>-1.091157</td>\n",
       "      <td>-0.632300</td>\n",
       "      <td>-0.641470</td>\n",
       "      <td>-0.620091</td>\n",
       "      <td>-0.652532</td>\n",
       "      <td>-0.632048</td>\n",
       "      <td>0</td>\n",
       "      <td>False</td>\n",
       "    </tr>\n",
       "    <tr>\n",
       "      <th>1</th>\n",
       "      <td>0</td>\n",
       "      <td>1</td>\n",
       "      <td>0</td>\n",
       "      <td>0</td>\n",
       "      <td>0</td>\n",
       "      <td>0</td>\n",
       "      <td>1</td>\n",
       "      <td>-0.394799</td>\n",
       "      <td>-0.632300</td>\n",
       "      <td>-0.641470</td>\n",
       "      <td>-0.620091</td>\n",
       "      <td>-0.652532</td>\n",
       "      <td>-0.632048</td>\n",
       "      <td>0</td>\n",
       "      <td>False</td>\n",
       "    </tr>\n",
       "    <tr>\n",
       "      <th>2</th>\n",
       "      <td>0</td>\n",
       "      <td>0</td>\n",
       "      <td>0</td>\n",
       "      <td>1</td>\n",
       "      <td>0</td>\n",
       "      <td>0</td>\n",
       "      <td>1</td>\n",
       "      <td>0.719374</td>\n",
       "      <td>-0.632300</td>\n",
       "      <td>1.253259</td>\n",
       "      <td>-0.620091</td>\n",
       "      <td>2.046458</td>\n",
       "      <td>2.081764</td>\n",
       "      <td>1</td>\n",
       "      <td>False</td>\n",
       "    </tr>\n",
       "    <tr>\n",
       "      <th>3</th>\n",
       "      <td>0</td>\n",
       "      <td>0</td>\n",
       "      <td>0</td>\n",
       "      <td>0</td>\n",
       "      <td>0</td>\n",
       "      <td>0</td>\n",
       "      <td>1</td>\n",
       "      <td>-1.160793</td>\n",
       "      <td>-0.632300</td>\n",
       "      <td>-0.641470</td>\n",
       "      <td>-0.620091</td>\n",
       "      <td>-0.652532</td>\n",
       "      <td>-0.632048</td>\n",
       "      <td>0</td>\n",
       "      <td>True</td>\n",
       "    </tr>\n",
       "    <tr>\n",
       "      <th>4</th>\n",
       "      <td>0</td>\n",
       "      <td>0</td>\n",
       "      <td>0</td>\n",
       "      <td>0</td>\n",
       "      <td>1</td>\n",
       "      <td>0</td>\n",
       "      <td>0</td>\n",
       "      <td>-0.951885</td>\n",
       "      <td>2.389482</td>\n",
       "      <td>-0.641470</td>\n",
       "      <td>1.201909</td>\n",
       "      <td>1.310410</td>\n",
       "      <td>-0.632048</td>\n",
       "      <td>2</td>\n",
       "      <td>False</td>\n",
       "    </tr>\n",
       "  </tbody>\n",
       "</table>\n",
       "</div>"
      ],
      "text/plain": [
       "   is_g734s  CryoSleep  VIP  Europa  Mars  PSO J318.5-22  TRAPPIST-1e  \\\n",
       "0         0          1    0       0     0              0            1   \n",
       "1         0          1    0       0     0              0            1   \n",
       "2         0          0    0       1     0              0            1   \n",
       "3         0          0    0       0     0              0            1   \n",
       "4         0          0    0       0     1              0            0   \n",
       "\n",
       "        Age  RoomService  FoodCourt  ShoppingMall       Spa    VRDeck  \\\n",
       "0 -1.091157    -0.632300  -0.641470     -0.620091 -0.652532 -0.632048   \n",
       "1 -0.394799    -0.632300  -0.641470     -0.620091 -0.652532 -0.632048   \n",
       "2  0.719374    -0.632300   1.253259     -0.620091  2.046458  2.081764   \n",
       "3 -1.160793    -0.632300  -0.641470     -0.620091 -0.652532 -0.632048   \n",
       "4 -0.951885     2.389482  -0.641470      1.201909  1.310410 -0.632048   \n",
       "\n",
       "   segment  Transported  \n",
       "0        0        False  \n",
       "1        0        False  \n",
       "2        1        False  \n",
       "3        0         True  \n",
       "4        2        False  "
      ]
     },
     "execution_count": 7,
     "metadata": {},
     "output_type": "execute_result"
    }
   ],
   "source": [
    "train_df.head()"
   ]
  },
  {
   "cell_type": "code",
   "execution_count": 8,
   "metadata": {},
   "outputs": [
    {
     "data": {
      "text/html": [
       "<div>\n",
       "<style scoped>\n",
       "    .dataframe tbody tr th:only-of-type {\n",
       "        vertical-align: middle;\n",
       "    }\n",
       "\n",
       "    .dataframe tbody tr th {\n",
       "        vertical-align: top;\n",
       "    }\n",
       "\n",
       "    .dataframe thead th {\n",
       "        text-align: right;\n",
       "    }\n",
       "</style>\n",
       "<table border=\"1\" class=\"dataframe\">\n",
       "  <thead>\n",
       "    <tr style=\"text-align: right;\">\n",
       "      <th></th>\n",
       "      <th>is_g734s</th>\n",
       "      <th>CryoSleep</th>\n",
       "      <th>VIP</th>\n",
       "      <th>Europa</th>\n",
       "      <th>Mars</th>\n",
       "      <th>PSO J318.5-22</th>\n",
       "      <th>TRAPPIST-1e</th>\n",
       "      <th>Age</th>\n",
       "      <th>RoomService</th>\n",
       "      <th>FoodCourt</th>\n",
       "      <th>ShoppingMall</th>\n",
       "      <th>Spa</th>\n",
       "      <th>VRDeck</th>\n",
       "      <th>segment</th>\n",
       "      <th>Transported</th>\n",
       "    </tr>\n",
       "  </thead>\n",
       "  <tbody>\n",
       "    <tr>\n",
       "      <th>0</th>\n",
       "      <td>0</td>\n",
       "      <td>0</td>\n",
       "      <td>0</td>\n",
       "      <td>0</td>\n",
       "      <td>1</td>\n",
       "      <td>0</td>\n",
       "      <td>1</td>\n",
       "      <td>-0.581879</td>\n",
       "      <td>0.509857</td>\n",
       "      <td>-0.643205</td>\n",
       "      <td>2.070229</td>\n",
       "      <td>1.321039</td>\n",
       "      <td>-0.623545</td>\n",
       "      <td>2</td>\n",
       "      <td>True</td>\n",
       "    </tr>\n",
       "    <tr>\n",
       "      <th>1</th>\n",
       "      <td>0</td>\n",
       "      <td>1</td>\n",
       "      <td>0</td>\n",
       "      <td>1</td>\n",
       "      <td>0</td>\n",
       "      <td>0</td>\n",
       "      <td>1</td>\n",
       "      <td>-1.915467</td>\n",
       "      <td>-0.617751</td>\n",
       "      <td>-0.643205</td>\n",
       "      <td>-0.579595</td>\n",
       "      <td>-0.656205</td>\n",
       "      <td>-0.623545</td>\n",
       "      <td>0</td>\n",
       "      <td>False</td>\n",
       "    </tr>\n",
       "    <tr>\n",
       "      <th>2</th>\n",
       "      <td>0</td>\n",
       "      <td>0</td>\n",
       "      <td>0</td>\n",
       "      <td>1</td>\n",
       "      <td>0</td>\n",
       "      <td>0</td>\n",
       "      <td>0</td>\n",
       "      <td>-0.792445</td>\n",
       "      <td>-0.617751</td>\n",
       "      <td>2.107556</td>\n",
       "      <td>-0.579595</td>\n",
       "      <td>1.560732</td>\n",
       "      <td>1.529699</td>\n",
       "      <td>1</td>\n",
       "      <td>True</td>\n",
       "    </tr>\n",
       "    <tr>\n",
       "      <th>3</th>\n",
       "      <td>0</td>\n",
       "      <td>0</td>\n",
       "      <td>0</td>\n",
       "      <td>0</td>\n",
       "      <td>1</td>\n",
       "      <td>0</td>\n",
       "      <td>1</td>\n",
       "      <td>0.330576</td>\n",
       "      <td>1.886978</td>\n",
       "      <td>-0.643205</td>\n",
       "      <td>1.591363</td>\n",
       "      <td>-0.656205</td>\n",
       "      <td>0.688500</td>\n",
       "      <td>2</td>\n",
       "      <td>False</td>\n",
       "    </tr>\n",
       "    <tr>\n",
       "      <th>4</th>\n",
       "      <td>0</td>\n",
       "      <td>1</td>\n",
       "      <td>0</td>\n",
       "      <td>1</td>\n",
       "      <td>0</td>\n",
       "      <td>0</td>\n",
       "      <td>0</td>\n",
       "      <td>-0.230935</td>\n",
       "      <td>-0.617751</td>\n",
       "      <td>-0.643205</td>\n",
       "      <td>-0.579595</td>\n",
       "      <td>-0.656205</td>\n",
       "      <td>-0.623545</td>\n",
       "      <td>0</td>\n",
       "      <td>True</td>\n",
       "    </tr>\n",
       "  </tbody>\n",
       "</table>\n",
       "</div>"
      ],
      "text/plain": [
       "   is_g734s  CryoSleep  VIP  Europa  Mars  PSO J318.5-22  TRAPPIST-1e  \\\n",
       "0         0          0    0       0     1              0            1   \n",
       "1         0          1    0       1     0              0            1   \n",
       "2         0          0    0       1     0              0            0   \n",
       "3         0          0    0       0     1              0            1   \n",
       "4         0          1    0       1     0              0            0   \n",
       "\n",
       "        Age  RoomService  FoodCourt  ShoppingMall       Spa    VRDeck  \\\n",
       "0 -0.581879     0.509857  -0.643205      2.070229  1.321039 -0.623545   \n",
       "1 -1.915467    -0.617751  -0.643205     -0.579595 -0.656205 -0.623545   \n",
       "2 -0.792445    -0.617751   2.107556     -0.579595  1.560732  1.529699   \n",
       "3  0.330576     1.886978  -0.643205      1.591363 -0.656205  0.688500   \n",
       "4 -0.230935    -0.617751  -0.643205     -0.579595 -0.656205 -0.623545   \n",
       "\n",
       "   segment  Transported  \n",
       "0        2         True  \n",
       "1        0        False  \n",
       "2        1         True  \n",
       "3        2        False  \n",
       "4        0         True  "
      ]
     },
     "execution_count": 8,
     "metadata": {},
     "output_type": "execute_result"
    }
   ],
   "source": [
    "val_df.head()"
   ]
  },
  {
   "cell_type": "code",
   "execution_count": 3,
   "metadata": {},
   "outputs": [
    {
     "data": {
      "text/plain": [
       "['is_g734s',\n",
       " 'CryoSleep',\n",
       " 'VIP',\n",
       " 'Europa',\n",
       " 'Mars',\n",
       " 'PSO J318.5-22',\n",
       " 'TRAPPIST-1e',\n",
       " 'Age',\n",
       " 'RoomService',\n",
       " 'FoodCourt',\n",
       " 'ShoppingMall',\n",
       " 'Spa',\n",
       " 'VRDeck',\n",
       " 'segment',\n",
       " 'Transported']"
      ]
     },
     "execution_count": 3,
     "metadata": {},
     "output_type": "execute_result"
    }
   ],
   "source": [
    "cols"
   ]
  },
  {
   "cell_type": "code",
   "execution_count": 3,
   "metadata": {},
   "outputs": [],
   "source": [
    "x_train = train_df[cols[:-1]].to_numpy()\n",
    "x_val = val_df[cols[:-1]].to_numpy()\n",
    "y_train = train_df[cols[-1]].astype(float).to_numpy()\n",
    "y_val = val_df[cols[-1]].astype(float).to_numpy()"
   ]
  },
  {
   "cell_type": "markdown",
   "metadata": {},
   "source": [
    "# 1 - Baseline model\n",
    "* Train and val accuracy are almost the same (~0.78)\n",
    "* It means that the model in under-fitted"
   ]
  },
  {
   "cell_type": "code",
   "execution_count": 4,
   "metadata": {},
   "outputs": [],
   "source": [
    "def get_accuracy(x, y, name, model):\n",
    "    y_pred = model.predict(x)\n",
    "    y_pred = [1 if y>=0.5 else 0 for y in y_pred.reshape(1,-1)[0]]\n",
    "    acc = accuracy_score(y, y_pred)\n",
    "    print(f'Accuracy on {name} data: {round(acc, 3)}')"
   ]
  },
  {
   "cell_type": "code",
   "execution_count": 5,
   "metadata": {},
   "outputs": [],
   "source": [
    "layers = [\n",
    "  Dense(4, activation=keras.activations.relu), # hidden layer 1, ReLU activation\n",
    "  Dense(4, activation=keras.activations.relu), # hidden layer 2, ReLU activation\n",
    "  Dense(1, activation=keras.activations.sigmoid) # ouput layer, sigmoid activation\n",
    "]\n",
    "\n",
    "base_model = keras.Sequential(layers)"
   ]
  },
  {
   "cell_type": "code",
   "execution_count": 6,
   "metadata": {},
   "outputs": [],
   "source": [
    "base_model.compile(\n",
    "    loss=keras.losses.binary_crossentropy,\n",
    "    optimizer=keras.optimizers.Adam(),\n",
    "    metrics=['accuracy']\n",
    ")"
   ]
  },
  {
   "cell_type": "code",
   "execution_count": 7,
   "metadata": {},
   "outputs": [
    {
     "name": "stdout",
     "output_type": "stream",
     "text": [
      "Epoch 1/100\n",
      "219/219 [==============================] - 1s 3ms/step - loss: 0.7033 - accuracy: 0.5563 - val_loss: 0.6399 - val_accuracy: 0.6678\n",
      "Epoch 2/100\n",
      "219/219 [==============================] - 0s 2ms/step - loss: 0.6071 - accuracy: 0.7300 - val_loss: 0.5941 - val_accuracy: 0.7488\n",
      "Epoch 3/100\n",
      "219/219 [==============================] - 0s 2ms/step - loss: 0.5709 - accuracy: 0.7612 - val_loss: 0.5678 - val_accuracy: 0.7565\n",
      "Epoch 4/100\n",
      "219/219 [==============================] - 0s 2ms/step - loss: 0.5491 - accuracy: 0.7685 - val_loss: 0.5484 - val_accuracy: 0.7665\n",
      "Epoch 5/100\n",
      "219/219 [==============================] - 0s 2ms/step - loss: 0.5360 - accuracy: 0.7686 - val_loss: 0.5366 - val_accuracy: 0.7671\n",
      "Epoch 6/100\n",
      "219/219 [==============================] - 0s 2ms/step - loss: 0.5269 - accuracy: 0.7727 - val_loss: 0.5273 - val_accuracy: 0.7695\n",
      "Epoch 7/100\n",
      "219/219 [==============================] - 0s 2ms/step - loss: 0.5202 - accuracy: 0.7742 - val_loss: 0.5223 - val_accuracy: 0.7707\n",
      "Epoch 8/100\n",
      "219/219 [==============================] - 0s 2ms/step - loss: 0.5151 - accuracy: 0.7762 - val_loss: 0.5170 - val_accuracy: 0.7772\n",
      "Epoch 9/100\n",
      "219/219 [==============================] - 0s 2ms/step - loss: 0.5105 - accuracy: 0.7790 - val_loss: 0.5135 - val_accuracy: 0.7790\n",
      "Epoch 10/100\n",
      "219/219 [==============================] - 0s 2ms/step - loss: 0.5072 - accuracy: 0.7810 - val_loss: 0.5140 - val_accuracy: 0.7748\n",
      "Epoch 11/100\n",
      "219/219 [==============================] - 0s 2ms/step - loss: 0.5045 - accuracy: 0.7820 - val_loss: 0.5086 - val_accuracy: 0.7790\n",
      "Epoch 12/100\n",
      "219/219 [==============================] - 0s 2ms/step - loss: 0.5019 - accuracy: 0.7829 - val_loss: 0.5065 - val_accuracy: 0.7837\n",
      "Epoch 13/100\n",
      "219/219 [==============================] - 0s 2ms/step - loss: 0.4999 - accuracy: 0.7832 - val_loss: 0.5038 - val_accuracy: 0.7861\n",
      "Epoch 14/100\n",
      "219/219 [==============================] - 0s 2ms/step - loss: 0.4973 - accuracy: 0.7833 - val_loss: 0.5000 - val_accuracy: 0.7819\n",
      "Epoch 15/100\n",
      "219/219 [==============================] - 0s 1ms/step - loss: 0.4935 - accuracy: 0.7845 - val_loss: 0.4955 - val_accuracy: 0.7813\n",
      "Epoch 16/100\n",
      "219/219 [==============================] - 0s 2ms/step - loss: 0.4909 - accuracy: 0.7835 - val_loss: 0.4928 - val_accuracy: 0.7796\n",
      "Epoch 17/100\n",
      "219/219 [==============================] - 0s 2ms/step - loss: 0.4875 - accuracy: 0.7839 - val_loss: 0.4913 - val_accuracy: 0.7784\n",
      "Epoch 18/100\n",
      "219/219 [==============================] - 0s 2ms/step - loss: 0.4855 - accuracy: 0.7832 - val_loss: 0.4873 - val_accuracy: 0.7807\n",
      "Epoch 19/100\n",
      "219/219 [==============================] - 0s 2ms/step - loss: 0.4830 - accuracy: 0.7840 - val_loss: 0.4863 - val_accuracy: 0.7801\n",
      "Epoch 20/100\n",
      "219/219 [==============================] - 0s 1ms/step - loss: 0.4812 - accuracy: 0.7836 - val_loss: 0.4837 - val_accuracy: 0.7825\n",
      "Epoch 21/100\n",
      "219/219 [==============================] - 0s 2ms/step - loss: 0.4796 - accuracy: 0.7842 - val_loss: 0.4829 - val_accuracy: 0.7801\n",
      "Epoch 22/100\n",
      "219/219 [==============================] - 0s 1ms/step - loss: 0.4783 - accuracy: 0.7835 - val_loss: 0.4823 - val_accuracy: 0.7807\n",
      "Epoch 23/100\n",
      "219/219 [==============================] - 0s 2ms/step - loss: 0.4767 - accuracy: 0.7840 - val_loss: 0.4805 - val_accuracy: 0.7807\n",
      "Epoch 24/100\n",
      "219/219 [==============================] - 0s 1ms/step - loss: 0.4755 - accuracy: 0.7839 - val_loss: 0.4781 - val_accuracy: 0.7825\n",
      "Epoch 25/100\n",
      "219/219 [==============================] - 0s 1ms/step - loss: 0.4746 - accuracy: 0.7840 - val_loss: 0.4775 - val_accuracy: 0.7825\n",
      "Epoch 26/100\n",
      "219/219 [==============================] - 0s 1ms/step - loss: 0.4729 - accuracy: 0.7852 - val_loss: 0.4769 - val_accuracy: 0.7825\n",
      "Epoch 27/100\n",
      "219/219 [==============================] - 0s 1ms/step - loss: 0.4716 - accuracy: 0.7842 - val_loss: 0.4757 - val_accuracy: 0.7796\n",
      "Epoch 28/100\n",
      "219/219 [==============================] - 0s 2ms/step - loss: 0.4713 - accuracy: 0.7845 - val_loss: 0.4740 - val_accuracy: 0.7813\n",
      "Epoch 29/100\n",
      "219/219 [==============================] - 0s 1ms/step - loss: 0.4700 - accuracy: 0.7852 - val_loss: 0.4749 - val_accuracy: 0.7813\n",
      "Epoch 30/100\n",
      "219/219 [==============================] - 0s 2ms/step - loss: 0.4691 - accuracy: 0.7836 - val_loss: 0.4741 - val_accuracy: 0.7825\n",
      "Epoch 31/100\n",
      "219/219 [==============================] - 0s 2ms/step - loss: 0.4682 - accuracy: 0.7836 - val_loss: 0.4717 - val_accuracy: 0.7843\n",
      "Epoch 32/100\n",
      "219/219 [==============================] - 0s 2ms/step - loss: 0.4673 - accuracy: 0.7857 - val_loss: 0.4719 - val_accuracy: 0.7837\n",
      "Epoch 33/100\n",
      "219/219 [==============================] - 0s 2ms/step - loss: 0.4667 - accuracy: 0.7846 - val_loss: 0.4722 - val_accuracy: 0.7843\n",
      "Epoch 34/100\n",
      "219/219 [==============================] - 1s 4ms/step - loss: 0.4662 - accuracy: 0.7855 - val_loss: 0.4716 - val_accuracy: 0.7843\n",
      "Epoch 35/100\n",
      "219/219 [==============================] - 1s 4ms/step - loss: 0.4654 - accuracy: 0.7852 - val_loss: 0.4714 - val_accuracy: 0.7861\n",
      "Epoch 36/100\n",
      "219/219 [==============================] - 1s 3ms/step - loss: 0.4645 - accuracy: 0.7846 - val_loss: 0.4722 - val_accuracy: 0.7831\n",
      "Epoch 37/100\n",
      "219/219 [==============================] - 1s 3ms/step - loss: 0.4641 - accuracy: 0.7843 - val_loss: 0.4682 - val_accuracy: 0.7837\n",
      "Epoch 38/100\n",
      "219/219 [==============================] - 1s 3ms/step - loss: 0.4636 - accuracy: 0.7842 - val_loss: 0.4690 - val_accuracy: 0.7837\n",
      "Epoch 39/100\n",
      "219/219 [==============================] - 1s 3ms/step - loss: 0.4631 - accuracy: 0.7849 - val_loss: 0.4675 - val_accuracy: 0.7837\n",
      "Epoch 40/100\n",
      "219/219 [==============================] - 1s 3ms/step - loss: 0.4620 - accuracy: 0.7842 - val_loss: 0.4688 - val_accuracy: 0.7825\n",
      "Epoch 41/100\n",
      "219/219 [==============================] - 1s 3ms/step - loss: 0.4609 - accuracy: 0.7850 - val_loss: 0.4663 - val_accuracy: 0.7837\n",
      "Epoch 42/100\n",
      "219/219 [==============================] - 1s 3ms/step - loss: 0.4599 - accuracy: 0.7852 - val_loss: 0.4689 - val_accuracy: 0.7825\n",
      "Epoch 43/100\n",
      "219/219 [==============================] - 1s 3ms/step - loss: 0.4595 - accuracy: 0.7856 - val_loss: 0.4672 - val_accuracy: 0.7825\n",
      "Epoch 44/100\n",
      "219/219 [==============================] - 1s 3ms/step - loss: 0.4589 - accuracy: 0.7857 - val_loss: 0.4655 - val_accuracy: 0.7849\n",
      "Epoch 45/100\n",
      "219/219 [==============================] - 1s 4ms/step - loss: 0.4583 - accuracy: 0.7853 - val_loss: 0.4630 - val_accuracy: 0.7825\n",
      "Epoch 46/100\n",
      "219/219 [==============================] - 1s 4ms/step - loss: 0.4581 - accuracy: 0.7857 - val_loss: 0.4633 - val_accuracy: 0.7843\n",
      "Epoch 47/100\n",
      "219/219 [==============================] - 1s 4ms/step - loss: 0.4574 - accuracy: 0.7852 - val_loss: 0.4621 - val_accuracy: 0.7825\n",
      "Epoch 48/100\n",
      "219/219 [==============================] - 1s 4ms/step - loss: 0.4570 - accuracy: 0.7860 - val_loss: 0.4619 - val_accuracy: 0.7831\n",
      "Epoch 49/100\n",
      "219/219 [==============================] - 1s 3ms/step - loss: 0.4563 - accuracy: 0.7856 - val_loss: 0.4600 - val_accuracy: 0.7831\n",
      "Epoch 50/100\n",
      "219/219 [==============================] - 1s 3ms/step - loss: 0.4561 - accuracy: 0.7873 - val_loss: 0.4604 - val_accuracy: 0.7837\n",
      "Epoch 51/100\n",
      "219/219 [==============================] - 1s 3ms/step - loss: 0.4556 - accuracy: 0.7869 - val_loss: 0.4623 - val_accuracy: 0.7837\n",
      "Epoch 52/100\n",
      "219/219 [==============================] - 1s 3ms/step - loss: 0.4553 - accuracy: 0.7857 - val_loss: 0.4601 - val_accuracy: 0.7831\n",
      "Epoch 53/100\n",
      "219/219 [==============================] - 1s 3ms/step - loss: 0.4549 - accuracy: 0.7883 - val_loss: 0.4624 - val_accuracy: 0.7825\n",
      "Epoch 54/100\n",
      "219/219 [==============================] - 1s 3ms/step - loss: 0.4546 - accuracy: 0.7873 - val_loss: 0.4613 - val_accuracy: 0.7825\n",
      "Epoch 55/100\n",
      "219/219 [==============================] - 1s 3ms/step - loss: 0.4543 - accuracy: 0.7865 - val_loss: 0.4602 - val_accuracy: 0.7825\n",
      "Epoch 56/100\n",
      "219/219 [==============================] - 1s 3ms/step - loss: 0.4539 - accuracy: 0.7879 - val_loss: 0.4601 - val_accuracy: 0.7819\n",
      "Epoch 57/100\n",
      "219/219 [==============================] - 1s 3ms/step - loss: 0.4537 - accuracy: 0.7879 - val_loss: 0.4591 - val_accuracy: 0.7825\n",
      "Epoch 58/100\n",
      "219/219 [==============================] - 1s 3ms/step - loss: 0.4532 - accuracy: 0.7870 - val_loss: 0.4596 - val_accuracy: 0.7837\n",
      "Epoch 59/100\n",
      "219/219 [==============================] - 1s 3ms/step - loss: 0.4532 - accuracy: 0.7867 - val_loss: 0.4593 - val_accuracy: 0.7837\n",
      "Epoch 60/100\n",
      "219/219 [==============================] - 1s 3ms/step - loss: 0.4526 - accuracy: 0.7869 - val_loss: 0.4581 - val_accuracy: 0.7831\n",
      "Epoch 61/100\n",
      "219/219 [==============================] - 1s 4ms/step - loss: 0.4522 - accuracy: 0.7866 - val_loss: 0.4600 - val_accuracy: 0.7837\n",
      "Epoch 62/100\n",
      "219/219 [==============================] - 1s 3ms/step - loss: 0.4518 - accuracy: 0.7883 - val_loss: 0.4585 - val_accuracy: 0.7837\n",
      "Epoch 63/100\n",
      "219/219 [==============================] - 1s 3ms/step - loss: 0.4517 - accuracy: 0.7887 - val_loss: 0.4580 - val_accuracy: 0.7849\n",
      "Epoch 64/100\n",
      "219/219 [==============================] - 1s 3ms/step - loss: 0.4518 - accuracy: 0.7885 - val_loss: 0.4584 - val_accuracy: 0.7843\n",
      "Epoch 65/100\n",
      "219/219 [==============================] - 1s 3ms/step - loss: 0.4511 - accuracy: 0.7859 - val_loss: 0.4561 - val_accuracy: 0.7843\n",
      "Epoch 66/100\n",
      "219/219 [==============================] - 1s 3ms/step - loss: 0.4507 - accuracy: 0.7883 - val_loss: 0.4593 - val_accuracy: 0.7837\n",
      "Epoch 67/100\n",
      "219/219 [==============================] - 1s 3ms/step - loss: 0.4504 - accuracy: 0.7867 - val_loss: 0.4574 - val_accuracy: 0.7843\n",
      "Epoch 68/100\n",
      "219/219 [==============================] - 1s 3ms/step - loss: 0.4505 - accuracy: 0.7873 - val_loss: 0.4580 - val_accuracy: 0.7831\n",
      "Epoch 69/100\n",
      "219/219 [==============================] - 1s 3ms/step - loss: 0.4503 - accuracy: 0.7872 - val_loss: 0.4556 - val_accuracy: 0.7837\n",
      "Epoch 70/100\n",
      "219/219 [==============================] - 1s 3ms/step - loss: 0.4501 - accuracy: 0.7883 - val_loss: 0.4587 - val_accuracy: 0.7825\n",
      "Epoch 71/100\n",
      "219/219 [==============================] - 1s 3ms/step - loss: 0.4499 - accuracy: 0.7875 - val_loss: 0.4557 - val_accuracy: 0.7843\n",
      "Epoch 72/100\n",
      "219/219 [==============================] - 1s 3ms/step - loss: 0.4496 - accuracy: 0.7876 - val_loss: 0.4587 - val_accuracy: 0.7831\n",
      "Epoch 73/100\n",
      "219/219 [==============================] - 1s 3ms/step - loss: 0.4496 - accuracy: 0.7882 - val_loss: 0.4566 - val_accuracy: 0.7849\n",
      "Epoch 74/100\n",
      "219/219 [==============================] - 1s 3ms/step - loss: 0.4495 - accuracy: 0.7875 - val_loss: 0.4580 - val_accuracy: 0.7843\n",
      "Epoch 75/100\n",
      "219/219 [==============================] - 1s 3ms/step - loss: 0.4493 - accuracy: 0.7865 - val_loss: 0.4554 - val_accuracy: 0.7843\n",
      "Epoch 76/100\n",
      "219/219 [==============================] - 1s 3ms/step - loss: 0.4491 - accuracy: 0.7876 - val_loss: 0.4571 - val_accuracy: 0.7837\n",
      "Epoch 77/100\n",
      "219/219 [==============================] - 1s 3ms/step - loss: 0.4493 - accuracy: 0.7880 - val_loss: 0.4552 - val_accuracy: 0.7855\n",
      "Epoch 78/100\n",
      "219/219 [==============================] - 1s 4ms/step - loss: 0.4486 - accuracy: 0.7877 - val_loss: 0.4560 - val_accuracy: 0.7866\n",
      "Epoch 79/100\n",
      "219/219 [==============================] - 1s 3ms/step - loss: 0.4489 - accuracy: 0.7863 - val_loss: 0.4565 - val_accuracy: 0.7843\n",
      "Epoch 80/100\n",
      "219/219 [==============================] - 1s 3ms/step - loss: 0.4485 - accuracy: 0.7875 - val_loss: 0.4578 - val_accuracy: 0.7831\n",
      "Epoch 81/100\n",
      "219/219 [==============================] - 1s 3ms/step - loss: 0.4484 - accuracy: 0.7883 - val_loss: 0.4560 - val_accuracy: 0.7843\n",
      "Epoch 82/100\n",
      "219/219 [==============================] - 1s 3ms/step - loss: 0.4481 - accuracy: 0.7876 - val_loss: 0.4554 - val_accuracy: 0.7831\n",
      "Epoch 83/100\n",
      "219/219 [==============================] - 1s 3ms/step - loss: 0.4479 - accuracy: 0.7880 - val_loss: 0.4566 - val_accuracy: 0.7837\n",
      "Epoch 84/100\n",
      "219/219 [==============================] - 1s 3ms/step - loss: 0.4477 - accuracy: 0.7863 - val_loss: 0.4546 - val_accuracy: 0.7861\n",
      "Epoch 85/100\n",
      "219/219 [==============================] - 1s 4ms/step - loss: 0.4477 - accuracy: 0.7875 - val_loss: 0.4567 - val_accuracy: 0.7861\n",
      "Epoch 86/100\n",
      "219/219 [==============================] - 1s 3ms/step - loss: 0.4475 - accuracy: 0.7877 - val_loss: 0.4545 - val_accuracy: 0.7849\n",
      "Epoch 87/100\n",
      "219/219 [==============================] - 1s 3ms/step - loss: 0.4475 - accuracy: 0.7880 - val_loss: 0.4550 - val_accuracy: 0.7861\n",
      "Epoch 88/100\n",
      "219/219 [==============================] - 1s 3ms/step - loss: 0.4475 - accuracy: 0.7877 - val_loss: 0.4552 - val_accuracy: 0.7855\n",
      "Epoch 89/100\n",
      "219/219 [==============================] - 1s 3ms/step - loss: 0.4474 - accuracy: 0.7863 - val_loss: 0.4555 - val_accuracy: 0.7843\n",
      "Epoch 90/100\n",
      "219/219 [==============================] - 1s 3ms/step - loss: 0.4473 - accuracy: 0.7875 - val_loss: 0.4556 - val_accuracy: 0.7825\n",
      "Epoch 91/100\n",
      "219/219 [==============================] - 1s 3ms/step - loss: 0.4469 - accuracy: 0.7877 - val_loss: 0.4551 - val_accuracy: 0.7855\n",
      "Epoch 92/100\n",
      "219/219 [==============================] - 1s 3ms/step - loss: 0.4471 - accuracy: 0.7872 - val_loss: 0.4544 - val_accuracy: 0.7866\n",
      "Epoch 93/100\n",
      "219/219 [==============================] - 1s 3ms/step - loss: 0.4467 - accuracy: 0.7887 - val_loss: 0.4585 - val_accuracy: 0.7819\n",
      "Epoch 94/100\n",
      "219/219 [==============================] - 1s 3ms/step - loss: 0.4470 - accuracy: 0.7872 - val_loss: 0.4533 - val_accuracy: 0.7855\n",
      "Epoch 95/100\n",
      "219/219 [==============================] - 1s 3ms/step - loss: 0.4468 - accuracy: 0.7870 - val_loss: 0.4558 - val_accuracy: 0.7837\n",
      "Epoch 96/100\n",
      "219/219 [==============================] - 1s 4ms/step - loss: 0.4469 - accuracy: 0.7890 - val_loss: 0.4543 - val_accuracy: 0.7855\n",
      "Epoch 97/100\n",
      "219/219 [==============================] - 1s 4ms/step - loss: 0.4463 - accuracy: 0.7879 - val_loss: 0.4535 - val_accuracy: 0.7872\n",
      "Epoch 98/100\n",
      "219/219 [==============================] - 1s 4ms/step - loss: 0.4469 - accuracy: 0.7876 - val_loss: 0.4556 - val_accuracy: 0.7837\n",
      "Epoch 99/100\n",
      "219/219 [==============================] - 1s 3ms/step - loss: 0.4465 - accuracy: 0.7877 - val_loss: 0.4536 - val_accuracy: 0.7861\n",
      "Epoch 100/100\n",
      "219/219 [==============================] - 1s 4ms/step - loss: 0.4468 - accuracy: 0.7882 - val_loss: 0.4543 - val_accuracy: 0.7855\n"
     ]
    }
   ],
   "source": [
    "history = base_model.fit(\n",
    "    x_train,\n",
    "    y_train,\n",
    "    epochs=100,\n",
    "    validation_data=(x_val, y_val)\n",
    ")"
   ]
  },
  {
   "cell_type": "code",
   "execution_count": 8,
   "metadata": {},
   "outputs": [
    {
     "name": "stdout",
     "output_type": "stream",
     "text": [
      "219/219 [==============================] - 1s 2ms/step\n",
      "Accuracy on train data: 0.788\n"
     ]
    }
   ],
   "source": [
    "get_accuracy(x_train, y_train, 'train', base_model)"
   ]
  },
  {
   "cell_type": "code",
   "execution_count": 9,
   "metadata": {},
   "outputs": [
    {
     "name": "stdout",
     "output_type": "stream",
     "text": [
      "53/53 [==============================] - 0s 3ms/step\n",
      "Accuracy on train data: 0.785\n"
     ]
    }
   ],
   "source": [
    "get_accuracy(x_val, y_val, 'train', base_model)"
   ]
  },
  {
   "cell_type": "code",
   "execution_count": 10,
   "metadata": {},
   "outputs": [
    {
     "data": {
      "application/vnd.plotly.v1+json": {
       "config": {
        "plotlyServerURL": "https://plot.ly"
       },
       "data": [
        {
         "mode": "lines",
         "name": "loss",
         "type": "scatter",
         "x": [
          0,
          1,
          2,
          3,
          4,
          5,
          6,
          7,
          8,
          9,
          10,
          11,
          12,
          13,
          14,
          15,
          16,
          17,
          18,
          19,
          20,
          21,
          22,
          23,
          24,
          25,
          26,
          27,
          28,
          29,
          30,
          31,
          32,
          33,
          34,
          35,
          36,
          37,
          38,
          39,
          40,
          41,
          42,
          43,
          44,
          45,
          46,
          47,
          48,
          49,
          50,
          51,
          52,
          53,
          54,
          55,
          56,
          57,
          58,
          59,
          60,
          61,
          62,
          63,
          64,
          65,
          66,
          67,
          68,
          69,
          70,
          71,
          72,
          73,
          74,
          75,
          76,
          77,
          78,
          79,
          80,
          81,
          82,
          83,
          84,
          85,
          86,
          87,
          88,
          89,
          90,
          91,
          92,
          93,
          94,
          95,
          96,
          97,
          98,
          99
         ],
         "y": [
          0.7033267021179199,
          0.6071119904518127,
          0.5708553194999695,
          0.5490592122077942,
          0.5360347628593445,
          0.5269068479537964,
          0.5202299952507019,
          0.5150997042655945,
          0.5104904174804688,
          0.5071913599967957,
          0.5044756531715393,
          0.5018973350524902,
          0.499949187040329,
          0.49731433391571045,
          0.4934654235839844,
          0.4909341335296631,
          0.4874689280986786,
          0.4854637682437897,
          0.4830479323863983,
          0.48123541474342346,
          0.47961103916168213,
          0.47832122445106506,
          0.4767073392868042,
          0.47551238536834717,
          0.47457486391067505,
          0.47291645407676697,
          0.471608966588974,
          0.47125208377838135,
          0.47004127502441406,
          0.46913447976112366,
          0.4682324528694153,
          0.46725955605506897,
          0.46670854091644287,
          0.4661576747894287,
          0.4653502106666565,
          0.4644501805305481,
          0.4641326367855072,
          0.46356090903282166,
          0.46308842301368713,
          0.46204960346221924,
          0.46094635128974915,
          0.4599277675151825,
          0.45948106050491333,
          0.45885583758354187,
          0.4583042860031128,
          0.45807451009750366,
          0.4573807120323181,
          0.4570361077785492,
          0.4563404619693756,
          0.45609399676322937,
          0.45555633306503296,
          0.45533812046051025,
          0.45486658811569214,
          0.4545668661594391,
          0.45433205366134644,
          0.4538795053958893,
          0.45366230607032776,
          0.4532177746295929,
          0.45320722460746765,
          0.4526395797729492,
          0.45221036672592163,
          0.45175451040267944,
          0.4517202079296112,
          0.4517570436000824,
          0.4511178433895111,
          0.45074281096458435,
          0.45040711760520935,
          0.45054304599761963,
          0.4502997100353241,
          0.4501364529132843,
          0.44990861415863037,
          0.4496166408061981,
          0.4495680630207062,
          0.44945573806762695,
          0.4493071436882019,
          0.4490533471107483,
          0.4493282735347748,
          0.4486004412174225,
          0.44888660311698914,
          0.4485055208206177,
          0.4483571946620941,
          0.4480876624584198,
          0.4478594660758972,
          0.4477352797985077,
          0.447661817073822,
          0.4474979341030121,
          0.4474511742591858,
          0.447468101978302,
          0.44742006063461304,
          0.44731995463371277,
          0.44694653153419495,
          0.44708845019340515,
          0.44666221737861633,
          0.446996808052063,
          0.44682061672210693,
          0.44693928956985474,
          0.4463278651237488,
          0.44686639308929443,
          0.44649839401245117,
          0.4468250274658203
         ]
        },
        {
         "line": {
          "dash": "dot"
         },
         "mode": "lines",
         "name": "val_loss",
         "type": "scatter",
         "x": [
          0,
          1,
          2,
          3,
          4,
          5,
          6,
          7,
          8,
          9,
          10,
          11,
          12,
          13,
          14,
          15,
          16,
          17,
          18,
          19,
          20,
          21,
          22,
          23,
          24,
          25,
          26,
          27,
          28,
          29,
          30,
          31,
          32,
          33,
          34,
          35,
          36,
          37,
          38,
          39,
          40,
          41,
          42,
          43,
          44,
          45,
          46,
          47,
          48,
          49,
          50,
          51,
          52,
          53,
          54,
          55,
          56,
          57,
          58,
          59,
          60,
          61,
          62,
          63,
          64,
          65,
          66,
          67,
          68,
          69,
          70,
          71,
          72,
          73,
          74,
          75,
          76,
          77,
          78,
          79,
          80,
          81,
          82,
          83,
          84,
          85,
          86,
          87,
          88,
          89,
          90,
          91,
          92,
          93,
          94,
          95,
          96,
          97,
          98,
          99
         ],
         "y": [
          0.6399127244949341,
          0.5941228270530701,
          0.567836582660675,
          0.5483502149581909,
          0.5366284251213074,
          0.5272572040557861,
          0.5223368406295776,
          0.5169822573661804,
          0.5135294198989868,
          0.514011800289154,
          0.5086182355880737,
          0.5065386891365051,
          0.5037580728530884,
          0.5000283122062683,
          0.4954652488231659,
          0.4928392171859741,
          0.49128565192222595,
          0.48730209469795227,
          0.4863428771495819,
          0.48372527956962585,
          0.4828927218914032,
          0.4822511672973633,
          0.4804636240005493,
          0.4780556261539459,
          0.4775257110595703,
          0.4768712520599365,
          0.4756620526313782,
          0.47404518723487854,
          0.4749092161655426,
          0.47408297657966614,
          0.4717499613761902,
          0.47193869948387146,
          0.4721536338329315,
          0.4716204106807709,
          0.47136175632476807,
          0.472248911857605,
          0.468159556388855,
          0.46896272897720337,
          0.46750256419181824,
          0.46881502866744995,
          0.4663195312023163,
          0.4689437448978424,
          0.4672258496284485,
          0.465532124042511,
          0.46303144097328186,
          0.4633196294307709,
          0.4620729386806488,
          0.4619346857070923,
          0.46000444889068604,
          0.4604300856590271,
          0.46229541301727295,
          0.4600716829299927,
          0.4624099135398865,
          0.46131452918052673,
          0.46016138792037964,
          0.4600755274295807,
          0.45913368463516235,
          0.45959314703941345,
          0.4593352973461151,
          0.4580705165863037,
          0.4599566161632538,
          0.4585359990596771,
          0.45799222588539124,
          0.4583853483200073,
          0.45609068870544434,
          0.45929980278015137,
          0.4573676288127899,
          0.4579903185367584,
          0.45564019680023193,
          0.4586521089076996,
          0.4557414948940277,
          0.4587198793888092,
          0.4566496014595032,
          0.4579879641532898,
          0.4553721845149994,
          0.45708635449409485,
          0.4551990330219269,
          0.45596209168434143,
          0.4564646780490875,
          0.45782214403152466,
          0.4559989869594574,
          0.4554100036621094,
          0.4565556049346924,
          0.45464226603507996,
          0.4567417800426483,
          0.454467236995697,
          0.4549572467803955,
          0.45515918731689453,
          0.4554983973503113,
          0.4555688500404358,
          0.4551007151603699,
          0.45442134141921997,
          0.4584762752056122,
          0.45326247811317444,
          0.4557749927043915,
          0.45429834723472595,
          0.45350727438926697,
          0.45562809705734253,
          0.4536369740962982,
          0.4543345868587494
         ]
        }
       ],
       "layout": {
        "height": 500,
        "template": {
         "data": {
          "bar": [
           {
            "error_x": {
             "color": "#2a3f5f"
            },
            "error_y": {
             "color": "#2a3f5f"
            },
            "marker": {
             "line": {
              "color": "#E5ECF6",
              "width": 0.5
             },
             "pattern": {
              "fillmode": "overlay",
              "size": 10,
              "solidity": 0.2
             }
            },
            "type": "bar"
           }
          ],
          "barpolar": [
           {
            "marker": {
             "line": {
              "color": "#E5ECF6",
              "width": 0.5
             },
             "pattern": {
              "fillmode": "overlay",
              "size": 10,
              "solidity": 0.2
             }
            },
            "type": "barpolar"
           }
          ],
          "carpet": [
           {
            "aaxis": {
             "endlinecolor": "#2a3f5f",
             "gridcolor": "white",
             "linecolor": "white",
             "minorgridcolor": "white",
             "startlinecolor": "#2a3f5f"
            },
            "baxis": {
             "endlinecolor": "#2a3f5f",
             "gridcolor": "white",
             "linecolor": "white",
             "minorgridcolor": "white",
             "startlinecolor": "#2a3f5f"
            },
            "type": "carpet"
           }
          ],
          "choropleth": [
           {
            "colorbar": {
             "outlinewidth": 0,
             "ticks": ""
            },
            "type": "choropleth"
           }
          ],
          "contour": [
           {
            "colorbar": {
             "outlinewidth": 0,
             "ticks": ""
            },
            "colorscale": [
             [
              0,
              "#0d0887"
             ],
             [
              0.1111111111111111,
              "#46039f"
             ],
             [
              0.2222222222222222,
              "#7201a8"
             ],
             [
              0.3333333333333333,
              "#9c179e"
             ],
             [
              0.4444444444444444,
              "#bd3786"
             ],
             [
              0.5555555555555556,
              "#d8576b"
             ],
             [
              0.6666666666666666,
              "#ed7953"
             ],
             [
              0.7777777777777778,
              "#fb9f3a"
             ],
             [
              0.8888888888888888,
              "#fdca26"
             ],
             [
              1,
              "#f0f921"
             ]
            ],
            "type": "contour"
           }
          ],
          "contourcarpet": [
           {
            "colorbar": {
             "outlinewidth": 0,
             "ticks": ""
            },
            "type": "contourcarpet"
           }
          ],
          "heatmap": [
           {
            "colorbar": {
             "outlinewidth": 0,
             "ticks": ""
            },
            "colorscale": [
             [
              0,
              "#0d0887"
             ],
             [
              0.1111111111111111,
              "#46039f"
             ],
             [
              0.2222222222222222,
              "#7201a8"
             ],
             [
              0.3333333333333333,
              "#9c179e"
             ],
             [
              0.4444444444444444,
              "#bd3786"
             ],
             [
              0.5555555555555556,
              "#d8576b"
             ],
             [
              0.6666666666666666,
              "#ed7953"
             ],
             [
              0.7777777777777778,
              "#fb9f3a"
             ],
             [
              0.8888888888888888,
              "#fdca26"
             ],
             [
              1,
              "#f0f921"
             ]
            ],
            "type": "heatmap"
           }
          ],
          "heatmapgl": [
           {
            "colorbar": {
             "outlinewidth": 0,
             "ticks": ""
            },
            "colorscale": [
             [
              0,
              "#0d0887"
             ],
             [
              0.1111111111111111,
              "#46039f"
             ],
             [
              0.2222222222222222,
              "#7201a8"
             ],
             [
              0.3333333333333333,
              "#9c179e"
             ],
             [
              0.4444444444444444,
              "#bd3786"
             ],
             [
              0.5555555555555556,
              "#d8576b"
             ],
             [
              0.6666666666666666,
              "#ed7953"
             ],
             [
              0.7777777777777778,
              "#fb9f3a"
             ],
             [
              0.8888888888888888,
              "#fdca26"
             ],
             [
              1,
              "#f0f921"
             ]
            ],
            "type": "heatmapgl"
           }
          ],
          "histogram": [
           {
            "marker": {
             "pattern": {
              "fillmode": "overlay",
              "size": 10,
              "solidity": 0.2
             }
            },
            "type": "histogram"
           }
          ],
          "histogram2d": [
           {
            "colorbar": {
             "outlinewidth": 0,
             "ticks": ""
            },
            "colorscale": [
             [
              0,
              "#0d0887"
             ],
             [
              0.1111111111111111,
              "#46039f"
             ],
             [
              0.2222222222222222,
              "#7201a8"
             ],
             [
              0.3333333333333333,
              "#9c179e"
             ],
             [
              0.4444444444444444,
              "#bd3786"
             ],
             [
              0.5555555555555556,
              "#d8576b"
             ],
             [
              0.6666666666666666,
              "#ed7953"
             ],
             [
              0.7777777777777778,
              "#fb9f3a"
             ],
             [
              0.8888888888888888,
              "#fdca26"
             ],
             [
              1,
              "#f0f921"
             ]
            ],
            "type": "histogram2d"
           }
          ],
          "histogram2dcontour": [
           {
            "colorbar": {
             "outlinewidth": 0,
             "ticks": ""
            },
            "colorscale": [
             [
              0,
              "#0d0887"
             ],
             [
              0.1111111111111111,
              "#46039f"
             ],
             [
              0.2222222222222222,
              "#7201a8"
             ],
             [
              0.3333333333333333,
              "#9c179e"
             ],
             [
              0.4444444444444444,
              "#bd3786"
             ],
             [
              0.5555555555555556,
              "#d8576b"
             ],
             [
              0.6666666666666666,
              "#ed7953"
             ],
             [
              0.7777777777777778,
              "#fb9f3a"
             ],
             [
              0.8888888888888888,
              "#fdca26"
             ],
             [
              1,
              "#f0f921"
             ]
            ],
            "type": "histogram2dcontour"
           }
          ],
          "mesh3d": [
           {
            "colorbar": {
             "outlinewidth": 0,
             "ticks": ""
            },
            "type": "mesh3d"
           }
          ],
          "parcoords": [
           {
            "line": {
             "colorbar": {
              "outlinewidth": 0,
              "ticks": ""
             }
            },
            "type": "parcoords"
           }
          ],
          "pie": [
           {
            "automargin": true,
            "type": "pie"
           }
          ],
          "scatter": [
           {
            "fillpattern": {
             "fillmode": "overlay",
             "size": 10,
             "solidity": 0.2
            },
            "type": "scatter"
           }
          ],
          "scatter3d": [
           {
            "line": {
             "colorbar": {
              "outlinewidth": 0,
              "ticks": ""
             }
            },
            "marker": {
             "colorbar": {
              "outlinewidth": 0,
              "ticks": ""
             }
            },
            "type": "scatter3d"
           }
          ],
          "scattercarpet": [
           {
            "marker": {
             "colorbar": {
              "outlinewidth": 0,
              "ticks": ""
             }
            },
            "type": "scattercarpet"
           }
          ],
          "scattergeo": [
           {
            "marker": {
             "colorbar": {
              "outlinewidth": 0,
              "ticks": ""
             }
            },
            "type": "scattergeo"
           }
          ],
          "scattergl": [
           {
            "marker": {
             "colorbar": {
              "outlinewidth": 0,
              "ticks": ""
             }
            },
            "type": "scattergl"
           }
          ],
          "scattermapbox": [
           {
            "marker": {
             "colorbar": {
              "outlinewidth": 0,
              "ticks": ""
             }
            },
            "type": "scattermapbox"
           }
          ],
          "scatterpolar": [
           {
            "marker": {
             "colorbar": {
              "outlinewidth": 0,
              "ticks": ""
             }
            },
            "type": "scatterpolar"
           }
          ],
          "scatterpolargl": [
           {
            "marker": {
             "colorbar": {
              "outlinewidth": 0,
              "ticks": ""
             }
            },
            "type": "scatterpolargl"
           }
          ],
          "scatterternary": [
           {
            "marker": {
             "colorbar": {
              "outlinewidth": 0,
              "ticks": ""
             }
            },
            "type": "scatterternary"
           }
          ],
          "surface": [
           {
            "colorbar": {
             "outlinewidth": 0,
             "ticks": ""
            },
            "colorscale": [
             [
              0,
              "#0d0887"
             ],
             [
              0.1111111111111111,
              "#46039f"
             ],
             [
              0.2222222222222222,
              "#7201a8"
             ],
             [
              0.3333333333333333,
              "#9c179e"
             ],
             [
              0.4444444444444444,
              "#bd3786"
             ],
             [
              0.5555555555555556,
              "#d8576b"
             ],
             [
              0.6666666666666666,
              "#ed7953"
             ],
             [
              0.7777777777777778,
              "#fb9f3a"
             ],
             [
              0.8888888888888888,
              "#fdca26"
             ],
             [
              1,
              "#f0f921"
             ]
            ],
            "type": "surface"
           }
          ],
          "table": [
           {
            "cells": {
             "fill": {
              "color": "#EBF0F8"
             },
             "line": {
              "color": "white"
             }
            },
            "header": {
             "fill": {
              "color": "#C8D4E3"
             },
             "line": {
              "color": "white"
             }
            },
            "type": "table"
           }
          ]
         },
         "layout": {
          "annotationdefaults": {
           "arrowcolor": "#2a3f5f",
           "arrowhead": 0,
           "arrowwidth": 1
          },
          "autotypenumbers": "strict",
          "coloraxis": {
           "colorbar": {
            "outlinewidth": 0,
            "ticks": ""
           }
          },
          "colorscale": {
           "diverging": [
            [
             0,
             "#8e0152"
            ],
            [
             0.1,
             "#c51b7d"
            ],
            [
             0.2,
             "#de77ae"
            ],
            [
             0.3,
             "#f1b6da"
            ],
            [
             0.4,
             "#fde0ef"
            ],
            [
             0.5,
             "#f7f7f7"
            ],
            [
             0.6,
             "#e6f5d0"
            ],
            [
             0.7,
             "#b8e186"
            ],
            [
             0.8,
             "#7fbc41"
            ],
            [
             0.9,
             "#4d9221"
            ],
            [
             1,
             "#276419"
            ]
           ],
           "sequential": [
            [
             0,
             "#0d0887"
            ],
            [
             0.1111111111111111,
             "#46039f"
            ],
            [
             0.2222222222222222,
             "#7201a8"
            ],
            [
             0.3333333333333333,
             "#9c179e"
            ],
            [
             0.4444444444444444,
             "#bd3786"
            ],
            [
             0.5555555555555556,
             "#d8576b"
            ],
            [
             0.6666666666666666,
             "#ed7953"
            ],
            [
             0.7777777777777778,
             "#fb9f3a"
            ],
            [
             0.8888888888888888,
             "#fdca26"
            ],
            [
             1,
             "#f0f921"
            ]
           ],
           "sequentialminus": [
            [
             0,
             "#0d0887"
            ],
            [
             0.1111111111111111,
             "#46039f"
            ],
            [
             0.2222222222222222,
             "#7201a8"
            ],
            [
             0.3333333333333333,
             "#9c179e"
            ],
            [
             0.4444444444444444,
             "#bd3786"
            ],
            [
             0.5555555555555556,
             "#d8576b"
            ],
            [
             0.6666666666666666,
             "#ed7953"
            ],
            [
             0.7777777777777778,
             "#fb9f3a"
            ],
            [
             0.8888888888888888,
             "#fdca26"
            ],
            [
             1,
             "#f0f921"
            ]
           ]
          },
          "colorway": [
           "#636efa",
           "#EF553B",
           "#00cc96",
           "#ab63fa",
           "#FFA15A",
           "#19d3f3",
           "#FF6692",
           "#B6E880",
           "#FF97FF",
           "#FECB52"
          ],
          "font": {
           "color": "#2a3f5f"
          },
          "geo": {
           "bgcolor": "white",
           "lakecolor": "white",
           "landcolor": "#E5ECF6",
           "showlakes": true,
           "showland": true,
           "subunitcolor": "white"
          },
          "hoverlabel": {
           "align": "left"
          },
          "hovermode": "closest",
          "mapbox": {
           "style": "light"
          },
          "paper_bgcolor": "white",
          "plot_bgcolor": "#E5ECF6",
          "polar": {
           "angularaxis": {
            "gridcolor": "white",
            "linecolor": "white",
            "ticks": ""
           },
           "bgcolor": "#E5ECF6",
           "radialaxis": {
            "gridcolor": "white",
            "linecolor": "white",
            "ticks": ""
           }
          },
          "scene": {
           "xaxis": {
            "backgroundcolor": "#E5ECF6",
            "gridcolor": "white",
            "gridwidth": 2,
            "linecolor": "white",
            "showbackground": true,
            "ticks": "",
            "zerolinecolor": "white"
           },
           "yaxis": {
            "backgroundcolor": "#E5ECF6",
            "gridcolor": "white",
            "gridwidth": 2,
            "linecolor": "white",
            "showbackground": true,
            "ticks": "",
            "zerolinecolor": "white"
           },
           "zaxis": {
            "backgroundcolor": "#E5ECF6",
            "gridcolor": "white",
            "gridwidth": 2,
            "linecolor": "white",
            "showbackground": true,
            "ticks": "",
            "zerolinecolor": "white"
           }
          },
          "shapedefaults": {
           "line": {
            "color": "#2a3f5f"
           }
          },
          "ternary": {
           "aaxis": {
            "gridcolor": "white",
            "linecolor": "white",
            "ticks": ""
           },
           "baxis": {
            "gridcolor": "white",
            "linecolor": "white",
            "ticks": ""
           },
           "bgcolor": "#E5ECF6",
           "caxis": {
            "gridcolor": "white",
            "linecolor": "white",
            "ticks": ""
           }
          },
          "title": {
           "x": 0.05
          },
          "xaxis": {
           "automargin": true,
           "gridcolor": "white",
           "linecolor": "white",
           "ticks": "",
           "title": {
            "standoff": 15
           },
           "zerolinecolor": "white",
           "zerolinewidth": 2
          },
          "yaxis": {
           "automargin": true,
           "gridcolor": "white",
           "linecolor": "white",
           "ticks": "",
           "title": {
            "standoff": 15
           },
           "zerolinecolor": "white",
           "zerolinewidth": 2
          }
         }
        },
        "title": {
         "text": "loss and val_loss"
        },
        "width": 700,
        "yaxis": {
         "range": [
          0,
          1
         ]
        }
       }
      }
     },
     "metadata": {},
     "output_type": "display_data"
    },
    {
     "data": {
      "application/vnd.plotly.v1+json": {
       "config": {
        "plotlyServerURL": "https://plot.ly"
       },
       "data": [
        {
         "mode": "lines",
         "name": "accuracy",
         "type": "scatter",
         "x": [
          0,
          1,
          2,
          3,
          4,
          5,
          6,
          7,
          8,
          9,
          10,
          11,
          12,
          13,
          14,
          15,
          16,
          17,
          18,
          19,
          20,
          21,
          22,
          23,
          24,
          25,
          26,
          27,
          28,
          29,
          30,
          31,
          32,
          33,
          34,
          35,
          36,
          37,
          38,
          39,
          40,
          41,
          42,
          43,
          44,
          45,
          46,
          47,
          48,
          49,
          50,
          51,
          52,
          53,
          54,
          55,
          56,
          57,
          58,
          59,
          60,
          61,
          62,
          63,
          64,
          65,
          66,
          67,
          68,
          69,
          70,
          71,
          72,
          73,
          74,
          75,
          76,
          77,
          78,
          79,
          80,
          81,
          82,
          83,
          84,
          85,
          86,
          87,
          88,
          89,
          90,
          91,
          92,
          93,
          94,
          95,
          96,
          97,
          98,
          99
         ],
         "y": [
          0.5563490986824036,
          0.730038583278656,
          0.7611770033836365,
          0.7684616446495056,
          0.7686044573783875,
          0.772746741771698,
          0.7741751074790955,
          0.7761748433113098,
          0.7790315747261047,
          0.7810313105583191,
          0.7820311188697815,
          0.7828881740570068,
          0.7831738591194153,
          0.7833166718482971,
          0.7844593524932861,
          0.783459484577179,
          0.783888041973114,
          0.7831738591194153,
          0.7840308547019958,
          0.7836023569107056,
          0.7841736674308777,
          0.783459484577179,
          0.7840308547019958,
          0.783888041973114,
          0.7840308547019958,
          0.7851735353469849,
          0.7841736674308777,
          0.7844593524932861,
          0.7851735353469849,
          0.7836023569107056,
          0.7836023569107056,
          0.7857449054718018,
          0.7846022248268127,
          0.7854592204093933,
          0.7851735353469849,
          0.7846022248268127,
          0.7843165397644043,
          0.7841736674308777,
          0.7848878502845764,
          0.7841736674308777,
          0.785030722618103,
          0.7851735353469849,
          0.7856020331382751,
          0.7857449054718018,
          0.7853164076805115,
          0.7857449054718018,
          0.7851735353469849,
          0.7860305905342102,
          0.7856020331382751,
          0.787316083908081,
          0.7868875861167908,
          0.7857449054718018,
          0.7883159518241882,
          0.787316083908081,
          0.7864590883255005,
          0.787887454032898,
          0.787887454032898,
          0.7870303988456726,
          0.7867447733879089,
          0.7868875861167908,
          0.7866019010543823,
          0.7883159518241882,
          0.7887444496154785,
          0.7884587645530701,
          0.7858877182006836,
          0.7883159518241882,
          0.7867447733879089,
          0.787316083908081,
          0.7871732711791992,
          0.7883159518241882,
          0.7874589562416077,
          0.7876017689704895,
          0.7881731390953064,
          0.7874589562416077,
          0.7864590883255005,
          0.7876017689704895,
          0.7880302667617798,
          0.7877445816993713,
          0.7863162159919739,
          0.7874589562416077,
          0.7883159518241882,
          0.7876017689704895,
          0.7880302667617798,
          0.7863162159919739,
          0.7874589562416077,
          0.7877445816993713,
          0.7880302667617798,
          0.7877445816993713,
          0.7863162159919739,
          0.7874589562416077,
          0.7877445816993713,
          0.7871732711791992,
          0.7887444496154785,
          0.7871732711791992,
          0.7870303988456726,
          0.789030134677887,
          0.787887454032898,
          0.7876017689704895,
          0.7877445816993713,
          0.7881731390953064
         ]
        },
        {
         "line": {
          "dash": "dot"
         },
         "mode": "lines",
         "name": "val_accuracy",
         "type": "scatter",
         "x": [
          0,
          1,
          2,
          3,
          4,
          5,
          6,
          7,
          8,
          9,
          10,
          11,
          12,
          13,
          14,
          15,
          16,
          17,
          18,
          19,
          20,
          21,
          22,
          23,
          24,
          25,
          26,
          27,
          28,
          29,
          30,
          31,
          32,
          33,
          34,
          35,
          36,
          37,
          38,
          39,
          40,
          41,
          42,
          43,
          44,
          45,
          46,
          47,
          48,
          49,
          50,
          51,
          52,
          53,
          54,
          55,
          56,
          57,
          58,
          59,
          60,
          61,
          62,
          63,
          64,
          65,
          66,
          67,
          68,
          69,
          70,
          71,
          72,
          73,
          74,
          75,
          76,
          77,
          78,
          79,
          80,
          81,
          82,
          83,
          84,
          85,
          86,
          87,
          88,
          89,
          90,
          91,
          92,
          93,
          94,
          95,
          96,
          97,
          98,
          99
         ],
         "y": [
          0.6678487062454224,
          0.7488179802894592,
          0.7565011978149414,
          0.7665484547615051,
          0.7671394944190979,
          0.7695035338401794,
          0.7706855535507202,
          0.7771867513656616,
          0.7789598107337952,
          0.7748227119445801,
          0.7789598107337952,
          0.783687949180603,
          0.7860519886016846,
          0.7819148898124695,
          0.7813238501548767,
          0.7795508503913879,
          0.7783687710762024,
          0.7807328701019287,
          0.7801418304443359,
          0.7825059294700623,
          0.7801418304443359,
          0.7807328701019287,
          0.7807328701019287,
          0.7825059294700623,
          0.7825059294700623,
          0.7825059294700623,
          0.7795508503913879,
          0.7813238501548767,
          0.7813238501548767,
          0.7825059294700623,
          0.7842789888381958,
          0.783687949180603,
          0.7842789888381958,
          0.7842789888381958,
          0.7860519886016846,
          0.7830969095230103,
          0.783687949180603,
          0.783687949180603,
          0.783687949180603,
          0.7825059294700623,
          0.783687949180603,
          0.7825059294700623,
          0.7825059294700623,
          0.7848699688911438,
          0.7825059294700623,
          0.7842789888381958,
          0.7825059294700623,
          0.7830969095230103,
          0.7830969095230103,
          0.783687949180603,
          0.783687949180603,
          0.7830969095230103,
          0.7825059294700623,
          0.7825059294700623,
          0.7825059294700623,
          0.7819148898124695,
          0.7825059294700623,
          0.783687949180603,
          0.783687949180603,
          0.7830969095230103,
          0.783687949180603,
          0.783687949180603,
          0.7848699688911438,
          0.7842789888381958,
          0.7842789888381958,
          0.783687949180603,
          0.7842789888381958,
          0.7830969095230103,
          0.783687949180603,
          0.7825059294700623,
          0.7842789888381958,
          0.7830969095230103,
          0.7848699688911438,
          0.7842789888381958,
          0.7842789888381958,
          0.783687949180603,
          0.7854610085487366,
          0.7866430282592773,
          0.7842789888381958,
          0.7830969095230103,
          0.7842789888381958,
          0.7830969095230103,
          0.783687949180603,
          0.7860519886016846,
          0.7860519886016846,
          0.7848699688911438,
          0.7860519886016846,
          0.7854610085487366,
          0.7842789888381958,
          0.7825059294700623,
          0.7854610085487366,
          0.7866430282592773,
          0.7819148898124695,
          0.7854610085487366,
          0.783687949180603,
          0.7854610085487366,
          0.7872340679168701,
          0.783687949180603,
          0.7860519886016846,
          0.7854610085487366
         ]
        }
       ],
       "layout": {
        "height": 500,
        "template": {
         "data": {
          "bar": [
           {
            "error_x": {
             "color": "#2a3f5f"
            },
            "error_y": {
             "color": "#2a3f5f"
            },
            "marker": {
             "line": {
              "color": "#E5ECF6",
              "width": 0.5
             },
             "pattern": {
              "fillmode": "overlay",
              "size": 10,
              "solidity": 0.2
             }
            },
            "type": "bar"
           }
          ],
          "barpolar": [
           {
            "marker": {
             "line": {
              "color": "#E5ECF6",
              "width": 0.5
             },
             "pattern": {
              "fillmode": "overlay",
              "size": 10,
              "solidity": 0.2
             }
            },
            "type": "barpolar"
           }
          ],
          "carpet": [
           {
            "aaxis": {
             "endlinecolor": "#2a3f5f",
             "gridcolor": "white",
             "linecolor": "white",
             "minorgridcolor": "white",
             "startlinecolor": "#2a3f5f"
            },
            "baxis": {
             "endlinecolor": "#2a3f5f",
             "gridcolor": "white",
             "linecolor": "white",
             "minorgridcolor": "white",
             "startlinecolor": "#2a3f5f"
            },
            "type": "carpet"
           }
          ],
          "choropleth": [
           {
            "colorbar": {
             "outlinewidth": 0,
             "ticks": ""
            },
            "type": "choropleth"
           }
          ],
          "contour": [
           {
            "colorbar": {
             "outlinewidth": 0,
             "ticks": ""
            },
            "colorscale": [
             [
              0,
              "#0d0887"
             ],
             [
              0.1111111111111111,
              "#46039f"
             ],
             [
              0.2222222222222222,
              "#7201a8"
             ],
             [
              0.3333333333333333,
              "#9c179e"
             ],
             [
              0.4444444444444444,
              "#bd3786"
             ],
             [
              0.5555555555555556,
              "#d8576b"
             ],
             [
              0.6666666666666666,
              "#ed7953"
             ],
             [
              0.7777777777777778,
              "#fb9f3a"
             ],
             [
              0.8888888888888888,
              "#fdca26"
             ],
             [
              1,
              "#f0f921"
             ]
            ],
            "type": "contour"
           }
          ],
          "contourcarpet": [
           {
            "colorbar": {
             "outlinewidth": 0,
             "ticks": ""
            },
            "type": "contourcarpet"
           }
          ],
          "heatmap": [
           {
            "colorbar": {
             "outlinewidth": 0,
             "ticks": ""
            },
            "colorscale": [
             [
              0,
              "#0d0887"
             ],
             [
              0.1111111111111111,
              "#46039f"
             ],
             [
              0.2222222222222222,
              "#7201a8"
             ],
             [
              0.3333333333333333,
              "#9c179e"
             ],
             [
              0.4444444444444444,
              "#bd3786"
             ],
             [
              0.5555555555555556,
              "#d8576b"
             ],
             [
              0.6666666666666666,
              "#ed7953"
             ],
             [
              0.7777777777777778,
              "#fb9f3a"
             ],
             [
              0.8888888888888888,
              "#fdca26"
             ],
             [
              1,
              "#f0f921"
             ]
            ],
            "type": "heatmap"
           }
          ],
          "heatmapgl": [
           {
            "colorbar": {
             "outlinewidth": 0,
             "ticks": ""
            },
            "colorscale": [
             [
              0,
              "#0d0887"
             ],
             [
              0.1111111111111111,
              "#46039f"
             ],
             [
              0.2222222222222222,
              "#7201a8"
             ],
             [
              0.3333333333333333,
              "#9c179e"
             ],
             [
              0.4444444444444444,
              "#bd3786"
             ],
             [
              0.5555555555555556,
              "#d8576b"
             ],
             [
              0.6666666666666666,
              "#ed7953"
             ],
             [
              0.7777777777777778,
              "#fb9f3a"
             ],
             [
              0.8888888888888888,
              "#fdca26"
             ],
             [
              1,
              "#f0f921"
             ]
            ],
            "type": "heatmapgl"
           }
          ],
          "histogram": [
           {
            "marker": {
             "pattern": {
              "fillmode": "overlay",
              "size": 10,
              "solidity": 0.2
             }
            },
            "type": "histogram"
           }
          ],
          "histogram2d": [
           {
            "colorbar": {
             "outlinewidth": 0,
             "ticks": ""
            },
            "colorscale": [
             [
              0,
              "#0d0887"
             ],
             [
              0.1111111111111111,
              "#46039f"
             ],
             [
              0.2222222222222222,
              "#7201a8"
             ],
             [
              0.3333333333333333,
              "#9c179e"
             ],
             [
              0.4444444444444444,
              "#bd3786"
             ],
             [
              0.5555555555555556,
              "#d8576b"
             ],
             [
              0.6666666666666666,
              "#ed7953"
             ],
             [
              0.7777777777777778,
              "#fb9f3a"
             ],
             [
              0.8888888888888888,
              "#fdca26"
             ],
             [
              1,
              "#f0f921"
             ]
            ],
            "type": "histogram2d"
           }
          ],
          "histogram2dcontour": [
           {
            "colorbar": {
             "outlinewidth": 0,
             "ticks": ""
            },
            "colorscale": [
             [
              0,
              "#0d0887"
             ],
             [
              0.1111111111111111,
              "#46039f"
             ],
             [
              0.2222222222222222,
              "#7201a8"
             ],
             [
              0.3333333333333333,
              "#9c179e"
             ],
             [
              0.4444444444444444,
              "#bd3786"
             ],
             [
              0.5555555555555556,
              "#d8576b"
             ],
             [
              0.6666666666666666,
              "#ed7953"
             ],
             [
              0.7777777777777778,
              "#fb9f3a"
             ],
             [
              0.8888888888888888,
              "#fdca26"
             ],
             [
              1,
              "#f0f921"
             ]
            ],
            "type": "histogram2dcontour"
           }
          ],
          "mesh3d": [
           {
            "colorbar": {
             "outlinewidth": 0,
             "ticks": ""
            },
            "type": "mesh3d"
           }
          ],
          "parcoords": [
           {
            "line": {
             "colorbar": {
              "outlinewidth": 0,
              "ticks": ""
             }
            },
            "type": "parcoords"
           }
          ],
          "pie": [
           {
            "automargin": true,
            "type": "pie"
           }
          ],
          "scatter": [
           {
            "fillpattern": {
             "fillmode": "overlay",
             "size": 10,
             "solidity": 0.2
            },
            "type": "scatter"
           }
          ],
          "scatter3d": [
           {
            "line": {
             "colorbar": {
              "outlinewidth": 0,
              "ticks": ""
             }
            },
            "marker": {
             "colorbar": {
              "outlinewidth": 0,
              "ticks": ""
             }
            },
            "type": "scatter3d"
           }
          ],
          "scattercarpet": [
           {
            "marker": {
             "colorbar": {
              "outlinewidth": 0,
              "ticks": ""
             }
            },
            "type": "scattercarpet"
           }
          ],
          "scattergeo": [
           {
            "marker": {
             "colorbar": {
              "outlinewidth": 0,
              "ticks": ""
             }
            },
            "type": "scattergeo"
           }
          ],
          "scattergl": [
           {
            "marker": {
             "colorbar": {
              "outlinewidth": 0,
              "ticks": ""
             }
            },
            "type": "scattergl"
           }
          ],
          "scattermapbox": [
           {
            "marker": {
             "colorbar": {
              "outlinewidth": 0,
              "ticks": ""
             }
            },
            "type": "scattermapbox"
           }
          ],
          "scatterpolar": [
           {
            "marker": {
             "colorbar": {
              "outlinewidth": 0,
              "ticks": ""
             }
            },
            "type": "scatterpolar"
           }
          ],
          "scatterpolargl": [
           {
            "marker": {
             "colorbar": {
              "outlinewidth": 0,
              "ticks": ""
             }
            },
            "type": "scatterpolargl"
           }
          ],
          "scatterternary": [
           {
            "marker": {
             "colorbar": {
              "outlinewidth": 0,
              "ticks": ""
             }
            },
            "type": "scatterternary"
           }
          ],
          "surface": [
           {
            "colorbar": {
             "outlinewidth": 0,
             "ticks": ""
            },
            "colorscale": [
             [
              0,
              "#0d0887"
             ],
             [
              0.1111111111111111,
              "#46039f"
             ],
             [
              0.2222222222222222,
              "#7201a8"
             ],
             [
              0.3333333333333333,
              "#9c179e"
             ],
             [
              0.4444444444444444,
              "#bd3786"
             ],
             [
              0.5555555555555556,
              "#d8576b"
             ],
             [
              0.6666666666666666,
              "#ed7953"
             ],
             [
              0.7777777777777778,
              "#fb9f3a"
             ],
             [
              0.8888888888888888,
              "#fdca26"
             ],
             [
              1,
              "#f0f921"
             ]
            ],
            "type": "surface"
           }
          ],
          "table": [
           {
            "cells": {
             "fill": {
              "color": "#EBF0F8"
             },
             "line": {
              "color": "white"
             }
            },
            "header": {
             "fill": {
              "color": "#C8D4E3"
             },
             "line": {
              "color": "white"
             }
            },
            "type": "table"
           }
          ]
         },
         "layout": {
          "annotationdefaults": {
           "arrowcolor": "#2a3f5f",
           "arrowhead": 0,
           "arrowwidth": 1
          },
          "autotypenumbers": "strict",
          "coloraxis": {
           "colorbar": {
            "outlinewidth": 0,
            "ticks": ""
           }
          },
          "colorscale": {
           "diverging": [
            [
             0,
             "#8e0152"
            ],
            [
             0.1,
             "#c51b7d"
            ],
            [
             0.2,
             "#de77ae"
            ],
            [
             0.3,
             "#f1b6da"
            ],
            [
             0.4,
             "#fde0ef"
            ],
            [
             0.5,
             "#f7f7f7"
            ],
            [
             0.6,
             "#e6f5d0"
            ],
            [
             0.7,
             "#b8e186"
            ],
            [
             0.8,
             "#7fbc41"
            ],
            [
             0.9,
             "#4d9221"
            ],
            [
             1,
             "#276419"
            ]
           ],
           "sequential": [
            [
             0,
             "#0d0887"
            ],
            [
             0.1111111111111111,
             "#46039f"
            ],
            [
             0.2222222222222222,
             "#7201a8"
            ],
            [
             0.3333333333333333,
             "#9c179e"
            ],
            [
             0.4444444444444444,
             "#bd3786"
            ],
            [
             0.5555555555555556,
             "#d8576b"
            ],
            [
             0.6666666666666666,
             "#ed7953"
            ],
            [
             0.7777777777777778,
             "#fb9f3a"
            ],
            [
             0.8888888888888888,
             "#fdca26"
            ],
            [
             1,
             "#f0f921"
            ]
           ],
           "sequentialminus": [
            [
             0,
             "#0d0887"
            ],
            [
             0.1111111111111111,
             "#46039f"
            ],
            [
             0.2222222222222222,
             "#7201a8"
            ],
            [
             0.3333333333333333,
             "#9c179e"
            ],
            [
             0.4444444444444444,
             "#bd3786"
            ],
            [
             0.5555555555555556,
             "#d8576b"
            ],
            [
             0.6666666666666666,
             "#ed7953"
            ],
            [
             0.7777777777777778,
             "#fb9f3a"
            ],
            [
             0.8888888888888888,
             "#fdca26"
            ],
            [
             1,
             "#f0f921"
            ]
           ]
          },
          "colorway": [
           "#636efa",
           "#EF553B",
           "#00cc96",
           "#ab63fa",
           "#FFA15A",
           "#19d3f3",
           "#FF6692",
           "#B6E880",
           "#FF97FF",
           "#FECB52"
          ],
          "font": {
           "color": "#2a3f5f"
          },
          "geo": {
           "bgcolor": "white",
           "lakecolor": "white",
           "landcolor": "#E5ECF6",
           "showlakes": true,
           "showland": true,
           "subunitcolor": "white"
          },
          "hoverlabel": {
           "align": "left"
          },
          "hovermode": "closest",
          "mapbox": {
           "style": "light"
          },
          "paper_bgcolor": "white",
          "plot_bgcolor": "#E5ECF6",
          "polar": {
           "angularaxis": {
            "gridcolor": "white",
            "linecolor": "white",
            "ticks": ""
           },
           "bgcolor": "#E5ECF6",
           "radialaxis": {
            "gridcolor": "white",
            "linecolor": "white",
            "ticks": ""
           }
          },
          "scene": {
           "xaxis": {
            "backgroundcolor": "#E5ECF6",
            "gridcolor": "white",
            "gridwidth": 2,
            "linecolor": "white",
            "showbackground": true,
            "ticks": "",
            "zerolinecolor": "white"
           },
           "yaxis": {
            "backgroundcolor": "#E5ECF6",
            "gridcolor": "white",
            "gridwidth": 2,
            "linecolor": "white",
            "showbackground": true,
            "ticks": "",
            "zerolinecolor": "white"
           },
           "zaxis": {
            "backgroundcolor": "#E5ECF6",
            "gridcolor": "white",
            "gridwidth": 2,
            "linecolor": "white",
            "showbackground": true,
            "ticks": "",
            "zerolinecolor": "white"
           }
          },
          "shapedefaults": {
           "line": {
            "color": "#2a3f5f"
           }
          },
          "ternary": {
           "aaxis": {
            "gridcolor": "white",
            "linecolor": "white",
            "ticks": ""
           },
           "baxis": {
            "gridcolor": "white",
            "linecolor": "white",
            "ticks": ""
           },
           "bgcolor": "#E5ECF6",
           "caxis": {
            "gridcolor": "white",
            "linecolor": "white",
            "ticks": ""
           }
          },
          "title": {
           "x": 0.05
          },
          "xaxis": {
           "automargin": true,
           "gridcolor": "white",
           "linecolor": "white",
           "ticks": "",
           "title": {
            "standoff": 15
           },
           "zerolinecolor": "white",
           "zerolinewidth": 2
          },
          "yaxis": {
           "automargin": true,
           "gridcolor": "white",
           "linecolor": "white",
           "ticks": "",
           "title": {
            "standoff": 15
           },
           "zerolinecolor": "white",
           "zerolinewidth": 2
          }
         }
        },
        "title": {
         "text": "accuracy and val_accuracy"
        },
        "width": 700,
        "yaxis": {
         "range": [
          0,
          1
         ]
        }
       }
      }
     },
     "metadata": {},
     "output_type": "display_data"
    }
   ],
   "source": [
    "history_df = pd.DataFrame(history.history)\n",
    "\n",
    "show_history_graph(history_df, 'loss', 'val_loss')\n",
    "show_history_graph(history_df, 'accuracy', 'val_accuracy')"
   ]
  },
  {
   "cell_type": "markdown",
   "metadata": {},
   "source": [
    "# 2 - More layers, more neurons, more dropout!\n",
    "* More layers with more neurons and Dropout actions got better model\n",
    "* Both train and val accuracy is near ~0.80"
   ]
  },
  {
   "cell_type": "code",
   "execution_count": 11,
   "metadata": {},
   "outputs": [],
   "source": [
    "relu = keras.activations.relu\n",
    "layers = [\n",
    "    Dense(512, activation=relu),\n",
    "    Dropout(0.4),\n",
    "    Dense(256, activation=relu),\n",
    "    Dropout(0.4),\n",
    "    Dense(128, activation=relu),\n",
    "    Dropout(0.3),\n",
    "    Dense(64, activation=relu),\n",
    "    Dropout(0.2),\n",
    "    Dense(32, activation=relu),\n",
    "    Dropout(0.15),\n",
    "    Dense(16, activation=relu),\n",
    "    Dropout(0.1),\n",
    "    Dense(8, activation=relu),\n",
    "    Dense(4, activation=relu),\n",
    "    Dense(1, activation=keras.activations.sigmoid)\n",
    "]\n",
    "\n",
    "model_2 = keras.Sequential(layers)"
   ]
  },
  {
   "cell_type": "code",
   "execution_count": 12,
   "metadata": {},
   "outputs": [],
   "source": [
    "model_2.compile(\n",
    "    loss=keras.losses.binary_crossentropy,\n",
    "    optimizer=keras.optimizers.Adam(),\n",
    "    metrics=['accuracy']\n",
    ")\n",
    "\n",
    "early_stopping_callback = keras.callbacks.EarlyStopping(\n",
    "    monitor='val_accuracy',\n",
    "    min_delta=0.001,\n",
    "    patience=20,\n",
    "    verbose=0,\n",
    "    restore_best_weights=True\n",
    ")\n",
    "callbacks = [\n",
    "    early_stopping_callback\n",
    "]"
   ]
  },
  {
   "cell_type": "code",
   "execution_count": 13,
   "metadata": {},
   "outputs": [
    {
     "name": "stdout",
     "output_type": "stream",
     "text": [
      "Epoch 1/100\n",
      "219/219 [==============================] - 4s 11ms/step - loss: 0.5888 - accuracy: 0.7313 - val_loss: 0.4922 - val_accuracy: 0.7766\n",
      "Epoch 2/100\n",
      "219/219 [==============================] - 2s 9ms/step - loss: 0.4991 - accuracy: 0.7743 - val_loss: 0.4602 - val_accuracy: 0.7843\n",
      "Epoch 3/100\n",
      "219/219 [==============================] - 2s 9ms/step - loss: 0.4833 - accuracy: 0.7762 - val_loss: 0.4523 - val_accuracy: 0.7914\n",
      "Epoch 4/100\n",
      "219/219 [==============================] - 2s 9ms/step - loss: 0.4696 - accuracy: 0.7827 - val_loss: 0.4534 - val_accuracy: 0.7896\n",
      "Epoch 5/100\n",
      "219/219 [==============================] - 2s 9ms/step - loss: 0.4689 - accuracy: 0.7837 - val_loss: 0.4501 - val_accuracy: 0.7926\n",
      "Epoch 6/100\n",
      "219/219 [==============================] - 2s 9ms/step - loss: 0.4603 - accuracy: 0.7903 - val_loss: 0.4499 - val_accuracy: 0.7920\n",
      "Epoch 7/100\n",
      "219/219 [==============================] - 2s 9ms/step - loss: 0.4567 - accuracy: 0.7889 - val_loss: 0.4427 - val_accuracy: 0.7979\n",
      "Epoch 8/100\n",
      "219/219 [==============================] - 2s 9ms/step - loss: 0.4519 - accuracy: 0.7889 - val_loss: 0.4381 - val_accuracy: 0.7973\n",
      "Epoch 9/100\n",
      "219/219 [==============================] - 2s 9ms/step - loss: 0.4522 - accuracy: 0.7937 - val_loss: 0.4493 - val_accuracy: 0.7855\n",
      "Epoch 10/100\n",
      "219/219 [==============================] - 2s 9ms/step - loss: 0.4540 - accuracy: 0.7906 - val_loss: 0.4447 - val_accuracy: 0.7926\n",
      "Epoch 11/100\n",
      "219/219 [==============================] - 2s 9ms/step - loss: 0.4464 - accuracy: 0.7913 - val_loss: 0.4443 - val_accuracy: 0.7908\n",
      "Epoch 12/100\n",
      "219/219 [==============================] - 2s 9ms/step - loss: 0.4480 - accuracy: 0.7926 - val_loss: 0.4487 - val_accuracy: 0.7949\n",
      "Epoch 13/100\n",
      "219/219 [==============================] - 2s 8ms/step - loss: 0.4465 - accuracy: 0.7939 - val_loss: 0.4512 - val_accuracy: 0.7872\n",
      "Epoch 14/100\n",
      "219/219 [==============================] - 2s 9ms/step - loss: 0.4448 - accuracy: 0.7937 - val_loss: 0.4494 - val_accuracy: 0.7967\n",
      "Epoch 15/100\n",
      "219/219 [==============================] - 2s 9ms/step - loss: 0.4439 - accuracy: 0.7955 - val_loss: 0.4538 - val_accuracy: 0.7967\n",
      "Epoch 16/100\n",
      "219/219 [==============================] - 2s 9ms/step - loss: 0.4449 - accuracy: 0.7960 - val_loss: 0.4448 - val_accuracy: 0.7908\n",
      "Epoch 17/100\n",
      "219/219 [==============================] - 2s 9ms/step - loss: 0.4406 - accuracy: 0.7955 - val_loss: 0.4421 - val_accuracy: 0.7961\n",
      "Epoch 18/100\n",
      "219/219 [==============================] - 2s 9ms/step - loss: 0.4396 - accuracy: 0.7955 - val_loss: 0.4406 - val_accuracy: 0.7920\n",
      "Epoch 19/100\n",
      "219/219 [==============================] - 2s 10ms/step - loss: 0.4374 - accuracy: 0.7960 - val_loss: 0.4403 - val_accuracy: 0.7949\n",
      "Epoch 20/100\n",
      "219/219 [==============================] - 2s 9ms/step - loss: 0.4378 - accuracy: 0.7959 - val_loss: 0.4449 - val_accuracy: 0.7967\n",
      "Epoch 21/100\n",
      "219/219 [==============================] - 2s 9ms/step - loss: 0.4337 - accuracy: 0.8000 - val_loss: 0.4390 - val_accuracy: 0.7926\n",
      "Epoch 22/100\n",
      "219/219 [==============================] - 2s 9ms/step - loss: 0.4383 - accuracy: 0.7972 - val_loss: 0.4535 - val_accuracy: 0.7908\n",
      "Epoch 23/100\n",
      "219/219 [==============================] - 2s 9ms/step - loss: 0.4315 - accuracy: 0.7999 - val_loss: 0.4437 - val_accuracy: 0.7937\n",
      "Epoch 24/100\n",
      "219/219 [==============================] - 2s 9ms/step - loss: 0.4351 - accuracy: 0.7982 - val_loss: 0.4529 - val_accuracy: 0.7937\n",
      "Epoch 25/100\n",
      "219/219 [==============================] - 2s 9ms/step - loss: 0.4351 - accuracy: 0.7952 - val_loss: 0.4453 - val_accuracy: 0.7914\n",
      "Epoch 26/100\n",
      "219/219 [==============================] - 2s 9ms/step - loss: 0.4350 - accuracy: 0.7977 - val_loss: 0.4425 - val_accuracy: 0.7896\n",
      "Epoch 27/100\n",
      "219/219 [==============================] - 2s 9ms/step - loss: 0.4355 - accuracy: 0.7979 - val_loss: 0.4409 - val_accuracy: 0.7961\n"
     ]
    }
   ],
   "source": [
    "history = model_2.fit(\n",
    "    x_train,\n",
    "    y_train,\n",
    "    epochs=100,\n",
    "    validation_data=(x_val, y_val),\n",
    "    callbacks=callbacks\n",
    ")"
   ]
  },
  {
   "cell_type": "code",
   "execution_count": 14,
   "metadata": {},
   "outputs": [
    {
     "name": "stdout",
     "output_type": "stream",
     "text": [
      "219/219 [==============================] - 1s 3ms/step\n",
      "Accuracy on train data: 0.8\n"
     ]
    }
   ],
   "source": [
    "get_accuracy(x_train, y_train, 'train', model_2)"
   ]
  },
  {
   "cell_type": "code",
   "execution_count": 15,
   "metadata": {},
   "outputs": [
    {
     "name": "stdout",
     "output_type": "stream",
     "text": [
      "53/53 [==============================] - 0s 4ms/step\n",
      "Accuracy on val data: 0.798\n"
     ]
    }
   ],
   "source": [
    "get_accuracy(x_val, y_val, 'val', model_2)"
   ]
  },
  {
   "cell_type": "code",
   "execution_count": 16,
   "metadata": {},
   "outputs": [
    {
     "data": {
      "application/vnd.plotly.v1+json": {
       "config": {
        "plotlyServerURL": "https://plot.ly"
       },
       "data": [
        {
         "mode": "lines",
         "name": "loss",
         "type": "scatter",
         "x": [
          0,
          1,
          2,
          3,
          4,
          5,
          6,
          7,
          8,
          9,
          10,
          11,
          12,
          13,
          14,
          15,
          16,
          17,
          18,
          19,
          20,
          21,
          22,
          23,
          24,
          25,
          26
         ],
         "y": [
          0.5887829065322876,
          0.4990568459033966,
          0.4833185076713562,
          0.46957510709762573,
          0.46893858909606934,
          0.46033522486686707,
          0.4567360281944275,
          0.4519040584564209,
          0.45217078924179077,
          0.45395562052726746,
          0.4463682472705841,
          0.44796934723854065,
          0.4464839696884155,
          0.44481998682022095,
          0.44390201568603516,
          0.4449150562286377,
          0.440557062625885,
          0.4395880103111267,
          0.4373675584793091,
          0.4378189146518707,
          0.43370094895362854,
          0.4382730722427368,
          0.4314720928668976,
          0.4350510537624359,
          0.43505701422691345,
          0.4350413978099823,
          0.4355408549308777
         ]
        },
        {
         "line": {
          "dash": "dot"
         },
         "mode": "lines",
         "name": "val_loss",
         "type": "scatter",
         "x": [
          0,
          1,
          2,
          3,
          4,
          5,
          6,
          7,
          8,
          9,
          10,
          11,
          12,
          13,
          14,
          15,
          16,
          17,
          18,
          19,
          20,
          21,
          22,
          23,
          24,
          25,
          26
         ],
         "y": [
          0.4921972453594208,
          0.46024003624916077,
          0.4523124694824219,
          0.4533684551715851,
          0.45010706782341003,
          0.4498676359653473,
          0.4426986277103424,
          0.4380561411380768,
          0.4493406116962433,
          0.44467905163764954,
          0.4443327486515045,
          0.4486888349056244,
          0.45115500688552856,
          0.4494112432003021,
          0.4537963271141052,
          0.4448048770427704,
          0.4420737028121948,
          0.4406023621559143,
          0.4402834475040436,
          0.44493168592453003,
          0.43903034925460815,
          0.45352107286453247,
          0.44369763135910034,
          0.4528903365135193,
          0.4453076422214508,
          0.4424510598182678,
          0.44089481234550476
         ]
        }
       ],
       "layout": {
        "height": 500,
        "template": {
         "data": {
          "bar": [
           {
            "error_x": {
             "color": "#2a3f5f"
            },
            "error_y": {
             "color": "#2a3f5f"
            },
            "marker": {
             "line": {
              "color": "#E5ECF6",
              "width": 0.5
             },
             "pattern": {
              "fillmode": "overlay",
              "size": 10,
              "solidity": 0.2
             }
            },
            "type": "bar"
           }
          ],
          "barpolar": [
           {
            "marker": {
             "line": {
              "color": "#E5ECF6",
              "width": 0.5
             },
             "pattern": {
              "fillmode": "overlay",
              "size": 10,
              "solidity": 0.2
             }
            },
            "type": "barpolar"
           }
          ],
          "carpet": [
           {
            "aaxis": {
             "endlinecolor": "#2a3f5f",
             "gridcolor": "white",
             "linecolor": "white",
             "minorgridcolor": "white",
             "startlinecolor": "#2a3f5f"
            },
            "baxis": {
             "endlinecolor": "#2a3f5f",
             "gridcolor": "white",
             "linecolor": "white",
             "minorgridcolor": "white",
             "startlinecolor": "#2a3f5f"
            },
            "type": "carpet"
           }
          ],
          "choropleth": [
           {
            "colorbar": {
             "outlinewidth": 0,
             "ticks": ""
            },
            "type": "choropleth"
           }
          ],
          "contour": [
           {
            "colorbar": {
             "outlinewidth": 0,
             "ticks": ""
            },
            "colorscale": [
             [
              0,
              "#0d0887"
             ],
             [
              0.1111111111111111,
              "#46039f"
             ],
             [
              0.2222222222222222,
              "#7201a8"
             ],
             [
              0.3333333333333333,
              "#9c179e"
             ],
             [
              0.4444444444444444,
              "#bd3786"
             ],
             [
              0.5555555555555556,
              "#d8576b"
             ],
             [
              0.6666666666666666,
              "#ed7953"
             ],
             [
              0.7777777777777778,
              "#fb9f3a"
             ],
             [
              0.8888888888888888,
              "#fdca26"
             ],
             [
              1,
              "#f0f921"
             ]
            ],
            "type": "contour"
           }
          ],
          "contourcarpet": [
           {
            "colorbar": {
             "outlinewidth": 0,
             "ticks": ""
            },
            "type": "contourcarpet"
           }
          ],
          "heatmap": [
           {
            "colorbar": {
             "outlinewidth": 0,
             "ticks": ""
            },
            "colorscale": [
             [
              0,
              "#0d0887"
             ],
             [
              0.1111111111111111,
              "#46039f"
             ],
             [
              0.2222222222222222,
              "#7201a8"
             ],
             [
              0.3333333333333333,
              "#9c179e"
             ],
             [
              0.4444444444444444,
              "#bd3786"
             ],
             [
              0.5555555555555556,
              "#d8576b"
             ],
             [
              0.6666666666666666,
              "#ed7953"
             ],
             [
              0.7777777777777778,
              "#fb9f3a"
             ],
             [
              0.8888888888888888,
              "#fdca26"
             ],
             [
              1,
              "#f0f921"
             ]
            ],
            "type": "heatmap"
           }
          ],
          "heatmapgl": [
           {
            "colorbar": {
             "outlinewidth": 0,
             "ticks": ""
            },
            "colorscale": [
             [
              0,
              "#0d0887"
             ],
             [
              0.1111111111111111,
              "#46039f"
             ],
             [
              0.2222222222222222,
              "#7201a8"
             ],
             [
              0.3333333333333333,
              "#9c179e"
             ],
             [
              0.4444444444444444,
              "#bd3786"
             ],
             [
              0.5555555555555556,
              "#d8576b"
             ],
             [
              0.6666666666666666,
              "#ed7953"
             ],
             [
              0.7777777777777778,
              "#fb9f3a"
             ],
             [
              0.8888888888888888,
              "#fdca26"
             ],
             [
              1,
              "#f0f921"
             ]
            ],
            "type": "heatmapgl"
           }
          ],
          "histogram": [
           {
            "marker": {
             "pattern": {
              "fillmode": "overlay",
              "size": 10,
              "solidity": 0.2
             }
            },
            "type": "histogram"
           }
          ],
          "histogram2d": [
           {
            "colorbar": {
             "outlinewidth": 0,
             "ticks": ""
            },
            "colorscale": [
             [
              0,
              "#0d0887"
             ],
             [
              0.1111111111111111,
              "#46039f"
             ],
             [
              0.2222222222222222,
              "#7201a8"
             ],
             [
              0.3333333333333333,
              "#9c179e"
             ],
             [
              0.4444444444444444,
              "#bd3786"
             ],
             [
              0.5555555555555556,
              "#d8576b"
             ],
             [
              0.6666666666666666,
              "#ed7953"
             ],
             [
              0.7777777777777778,
              "#fb9f3a"
             ],
             [
              0.8888888888888888,
              "#fdca26"
             ],
             [
              1,
              "#f0f921"
             ]
            ],
            "type": "histogram2d"
           }
          ],
          "histogram2dcontour": [
           {
            "colorbar": {
             "outlinewidth": 0,
             "ticks": ""
            },
            "colorscale": [
             [
              0,
              "#0d0887"
             ],
             [
              0.1111111111111111,
              "#46039f"
             ],
             [
              0.2222222222222222,
              "#7201a8"
             ],
             [
              0.3333333333333333,
              "#9c179e"
             ],
             [
              0.4444444444444444,
              "#bd3786"
             ],
             [
              0.5555555555555556,
              "#d8576b"
             ],
             [
              0.6666666666666666,
              "#ed7953"
             ],
             [
              0.7777777777777778,
              "#fb9f3a"
             ],
             [
              0.8888888888888888,
              "#fdca26"
             ],
             [
              1,
              "#f0f921"
             ]
            ],
            "type": "histogram2dcontour"
           }
          ],
          "mesh3d": [
           {
            "colorbar": {
             "outlinewidth": 0,
             "ticks": ""
            },
            "type": "mesh3d"
           }
          ],
          "parcoords": [
           {
            "line": {
             "colorbar": {
              "outlinewidth": 0,
              "ticks": ""
             }
            },
            "type": "parcoords"
           }
          ],
          "pie": [
           {
            "automargin": true,
            "type": "pie"
           }
          ],
          "scatter": [
           {
            "fillpattern": {
             "fillmode": "overlay",
             "size": 10,
             "solidity": 0.2
            },
            "type": "scatter"
           }
          ],
          "scatter3d": [
           {
            "line": {
             "colorbar": {
              "outlinewidth": 0,
              "ticks": ""
             }
            },
            "marker": {
             "colorbar": {
              "outlinewidth": 0,
              "ticks": ""
             }
            },
            "type": "scatter3d"
           }
          ],
          "scattercarpet": [
           {
            "marker": {
             "colorbar": {
              "outlinewidth": 0,
              "ticks": ""
             }
            },
            "type": "scattercarpet"
           }
          ],
          "scattergeo": [
           {
            "marker": {
             "colorbar": {
              "outlinewidth": 0,
              "ticks": ""
             }
            },
            "type": "scattergeo"
           }
          ],
          "scattergl": [
           {
            "marker": {
             "colorbar": {
              "outlinewidth": 0,
              "ticks": ""
             }
            },
            "type": "scattergl"
           }
          ],
          "scattermapbox": [
           {
            "marker": {
             "colorbar": {
              "outlinewidth": 0,
              "ticks": ""
             }
            },
            "type": "scattermapbox"
           }
          ],
          "scatterpolar": [
           {
            "marker": {
             "colorbar": {
              "outlinewidth": 0,
              "ticks": ""
             }
            },
            "type": "scatterpolar"
           }
          ],
          "scatterpolargl": [
           {
            "marker": {
             "colorbar": {
              "outlinewidth": 0,
              "ticks": ""
             }
            },
            "type": "scatterpolargl"
           }
          ],
          "scatterternary": [
           {
            "marker": {
             "colorbar": {
              "outlinewidth": 0,
              "ticks": ""
             }
            },
            "type": "scatterternary"
           }
          ],
          "surface": [
           {
            "colorbar": {
             "outlinewidth": 0,
             "ticks": ""
            },
            "colorscale": [
             [
              0,
              "#0d0887"
             ],
             [
              0.1111111111111111,
              "#46039f"
             ],
             [
              0.2222222222222222,
              "#7201a8"
             ],
             [
              0.3333333333333333,
              "#9c179e"
             ],
             [
              0.4444444444444444,
              "#bd3786"
             ],
             [
              0.5555555555555556,
              "#d8576b"
             ],
             [
              0.6666666666666666,
              "#ed7953"
             ],
             [
              0.7777777777777778,
              "#fb9f3a"
             ],
             [
              0.8888888888888888,
              "#fdca26"
             ],
             [
              1,
              "#f0f921"
             ]
            ],
            "type": "surface"
           }
          ],
          "table": [
           {
            "cells": {
             "fill": {
              "color": "#EBF0F8"
             },
             "line": {
              "color": "white"
             }
            },
            "header": {
             "fill": {
              "color": "#C8D4E3"
             },
             "line": {
              "color": "white"
             }
            },
            "type": "table"
           }
          ]
         },
         "layout": {
          "annotationdefaults": {
           "arrowcolor": "#2a3f5f",
           "arrowhead": 0,
           "arrowwidth": 1
          },
          "autotypenumbers": "strict",
          "coloraxis": {
           "colorbar": {
            "outlinewidth": 0,
            "ticks": ""
           }
          },
          "colorscale": {
           "diverging": [
            [
             0,
             "#8e0152"
            ],
            [
             0.1,
             "#c51b7d"
            ],
            [
             0.2,
             "#de77ae"
            ],
            [
             0.3,
             "#f1b6da"
            ],
            [
             0.4,
             "#fde0ef"
            ],
            [
             0.5,
             "#f7f7f7"
            ],
            [
             0.6,
             "#e6f5d0"
            ],
            [
             0.7,
             "#b8e186"
            ],
            [
             0.8,
             "#7fbc41"
            ],
            [
             0.9,
             "#4d9221"
            ],
            [
             1,
             "#276419"
            ]
           ],
           "sequential": [
            [
             0,
             "#0d0887"
            ],
            [
             0.1111111111111111,
             "#46039f"
            ],
            [
             0.2222222222222222,
             "#7201a8"
            ],
            [
             0.3333333333333333,
             "#9c179e"
            ],
            [
             0.4444444444444444,
             "#bd3786"
            ],
            [
             0.5555555555555556,
             "#d8576b"
            ],
            [
             0.6666666666666666,
             "#ed7953"
            ],
            [
             0.7777777777777778,
             "#fb9f3a"
            ],
            [
             0.8888888888888888,
             "#fdca26"
            ],
            [
             1,
             "#f0f921"
            ]
           ],
           "sequentialminus": [
            [
             0,
             "#0d0887"
            ],
            [
             0.1111111111111111,
             "#46039f"
            ],
            [
             0.2222222222222222,
             "#7201a8"
            ],
            [
             0.3333333333333333,
             "#9c179e"
            ],
            [
             0.4444444444444444,
             "#bd3786"
            ],
            [
             0.5555555555555556,
             "#d8576b"
            ],
            [
             0.6666666666666666,
             "#ed7953"
            ],
            [
             0.7777777777777778,
             "#fb9f3a"
            ],
            [
             0.8888888888888888,
             "#fdca26"
            ],
            [
             1,
             "#f0f921"
            ]
           ]
          },
          "colorway": [
           "#636efa",
           "#EF553B",
           "#00cc96",
           "#ab63fa",
           "#FFA15A",
           "#19d3f3",
           "#FF6692",
           "#B6E880",
           "#FF97FF",
           "#FECB52"
          ],
          "font": {
           "color": "#2a3f5f"
          },
          "geo": {
           "bgcolor": "white",
           "lakecolor": "white",
           "landcolor": "#E5ECF6",
           "showlakes": true,
           "showland": true,
           "subunitcolor": "white"
          },
          "hoverlabel": {
           "align": "left"
          },
          "hovermode": "closest",
          "mapbox": {
           "style": "light"
          },
          "paper_bgcolor": "white",
          "plot_bgcolor": "#E5ECF6",
          "polar": {
           "angularaxis": {
            "gridcolor": "white",
            "linecolor": "white",
            "ticks": ""
           },
           "bgcolor": "#E5ECF6",
           "radialaxis": {
            "gridcolor": "white",
            "linecolor": "white",
            "ticks": ""
           }
          },
          "scene": {
           "xaxis": {
            "backgroundcolor": "#E5ECF6",
            "gridcolor": "white",
            "gridwidth": 2,
            "linecolor": "white",
            "showbackground": true,
            "ticks": "",
            "zerolinecolor": "white"
           },
           "yaxis": {
            "backgroundcolor": "#E5ECF6",
            "gridcolor": "white",
            "gridwidth": 2,
            "linecolor": "white",
            "showbackground": true,
            "ticks": "",
            "zerolinecolor": "white"
           },
           "zaxis": {
            "backgroundcolor": "#E5ECF6",
            "gridcolor": "white",
            "gridwidth": 2,
            "linecolor": "white",
            "showbackground": true,
            "ticks": "",
            "zerolinecolor": "white"
           }
          },
          "shapedefaults": {
           "line": {
            "color": "#2a3f5f"
           }
          },
          "ternary": {
           "aaxis": {
            "gridcolor": "white",
            "linecolor": "white",
            "ticks": ""
           },
           "baxis": {
            "gridcolor": "white",
            "linecolor": "white",
            "ticks": ""
           },
           "bgcolor": "#E5ECF6",
           "caxis": {
            "gridcolor": "white",
            "linecolor": "white",
            "ticks": ""
           }
          },
          "title": {
           "x": 0.05
          },
          "xaxis": {
           "automargin": true,
           "gridcolor": "white",
           "linecolor": "white",
           "ticks": "",
           "title": {
            "standoff": 15
           },
           "zerolinecolor": "white",
           "zerolinewidth": 2
          },
          "yaxis": {
           "automargin": true,
           "gridcolor": "white",
           "linecolor": "white",
           "ticks": "",
           "title": {
            "standoff": 15
           },
           "zerolinecolor": "white",
           "zerolinewidth": 2
          }
         }
        },
        "title": {
         "text": "loss and val_loss"
        },
        "width": 700,
        "yaxis": {
         "range": [
          0,
          1
         ]
        }
       }
      }
     },
     "metadata": {},
     "output_type": "display_data"
    },
    {
     "data": {
      "application/vnd.plotly.v1+json": {
       "config": {
        "plotlyServerURL": "https://plot.ly"
       },
       "data": [
        {
         "mode": "lines",
         "name": "accuracy",
         "type": "scatter",
         "x": [
          0,
          1,
          2,
          3,
          4,
          5,
          6,
          7,
          8,
          9,
          10,
          11,
          12,
          13,
          14,
          15,
          16,
          17,
          18,
          19,
          20,
          21,
          22,
          23,
          24,
          25,
          26
         ],
         "y": [
          0.7313240766525269,
          0.7743179798126221,
          0.7761748433113098,
          0.7827453017234802,
          0.7837451696395874,
          0.7903156876564026,
          0.7888873219490051,
          0.7888873219490051,
          0.7937437295913696,
          0.7906013131141663,
          0.7913155555725098,
          0.7926010489463806,
          0.7938866019248962,
          0.7937437295913696,
          0.7954577803611755,
          0.7960291504859924,
          0.7954577803611755,
          0.7954577803611755,
          0.7960291504859924,
          0.7958862781524658,
          0.8000285625457764,
          0.7971718311309814,
          0.7998857498168945,
          0.7981716990470886,
          0.7951720952987671,
          0.7977432012557983,
          0.7978860139846802
         ]
        },
        {
         "line": {
          "dash": "dot"
         },
         "mode": "lines",
         "name": "val_accuracy",
         "type": "scatter",
         "x": [
          0,
          1,
          2,
          3,
          4,
          5,
          6,
          7,
          8,
          9,
          10,
          11,
          12,
          13,
          14,
          15,
          16,
          17,
          18,
          19,
          20,
          21,
          22,
          23,
          24,
          25,
          26
         ],
         "y": [
          0.7765957713127136,
          0.7842789888381958,
          0.7913711667060852,
          0.7895981073379517,
          0.792553186416626,
          0.7919621467590332,
          0.7978723645210266,
          0.7972813248634338,
          0.7854610085487366,
          0.792553186416626,
          0.7907801270484924,
          0.7949172854423523,
          0.7872340679168701,
          0.7966902852058411,
          0.7966902852058411,
          0.7907801270484924,
          0.7960993051528931,
          0.7919621467590332,
          0.7949172854423523,
          0.7966902852058411,
          0.792553186416626,
          0.7907801270484924,
          0.7937352061271667,
          0.7937352061271667,
          0.7913711667060852,
          0.7895981073379517,
          0.7960993051528931
         ]
        }
       ],
       "layout": {
        "height": 500,
        "template": {
         "data": {
          "bar": [
           {
            "error_x": {
             "color": "#2a3f5f"
            },
            "error_y": {
             "color": "#2a3f5f"
            },
            "marker": {
             "line": {
              "color": "#E5ECF6",
              "width": 0.5
             },
             "pattern": {
              "fillmode": "overlay",
              "size": 10,
              "solidity": 0.2
             }
            },
            "type": "bar"
           }
          ],
          "barpolar": [
           {
            "marker": {
             "line": {
              "color": "#E5ECF6",
              "width": 0.5
             },
             "pattern": {
              "fillmode": "overlay",
              "size": 10,
              "solidity": 0.2
             }
            },
            "type": "barpolar"
           }
          ],
          "carpet": [
           {
            "aaxis": {
             "endlinecolor": "#2a3f5f",
             "gridcolor": "white",
             "linecolor": "white",
             "minorgridcolor": "white",
             "startlinecolor": "#2a3f5f"
            },
            "baxis": {
             "endlinecolor": "#2a3f5f",
             "gridcolor": "white",
             "linecolor": "white",
             "minorgridcolor": "white",
             "startlinecolor": "#2a3f5f"
            },
            "type": "carpet"
           }
          ],
          "choropleth": [
           {
            "colorbar": {
             "outlinewidth": 0,
             "ticks": ""
            },
            "type": "choropleth"
           }
          ],
          "contour": [
           {
            "colorbar": {
             "outlinewidth": 0,
             "ticks": ""
            },
            "colorscale": [
             [
              0,
              "#0d0887"
             ],
             [
              0.1111111111111111,
              "#46039f"
             ],
             [
              0.2222222222222222,
              "#7201a8"
             ],
             [
              0.3333333333333333,
              "#9c179e"
             ],
             [
              0.4444444444444444,
              "#bd3786"
             ],
             [
              0.5555555555555556,
              "#d8576b"
             ],
             [
              0.6666666666666666,
              "#ed7953"
             ],
             [
              0.7777777777777778,
              "#fb9f3a"
             ],
             [
              0.8888888888888888,
              "#fdca26"
             ],
             [
              1,
              "#f0f921"
             ]
            ],
            "type": "contour"
           }
          ],
          "contourcarpet": [
           {
            "colorbar": {
             "outlinewidth": 0,
             "ticks": ""
            },
            "type": "contourcarpet"
           }
          ],
          "heatmap": [
           {
            "colorbar": {
             "outlinewidth": 0,
             "ticks": ""
            },
            "colorscale": [
             [
              0,
              "#0d0887"
             ],
             [
              0.1111111111111111,
              "#46039f"
             ],
             [
              0.2222222222222222,
              "#7201a8"
             ],
             [
              0.3333333333333333,
              "#9c179e"
             ],
             [
              0.4444444444444444,
              "#bd3786"
             ],
             [
              0.5555555555555556,
              "#d8576b"
             ],
             [
              0.6666666666666666,
              "#ed7953"
             ],
             [
              0.7777777777777778,
              "#fb9f3a"
             ],
             [
              0.8888888888888888,
              "#fdca26"
             ],
             [
              1,
              "#f0f921"
             ]
            ],
            "type": "heatmap"
           }
          ],
          "heatmapgl": [
           {
            "colorbar": {
             "outlinewidth": 0,
             "ticks": ""
            },
            "colorscale": [
             [
              0,
              "#0d0887"
             ],
             [
              0.1111111111111111,
              "#46039f"
             ],
             [
              0.2222222222222222,
              "#7201a8"
             ],
             [
              0.3333333333333333,
              "#9c179e"
             ],
             [
              0.4444444444444444,
              "#bd3786"
             ],
             [
              0.5555555555555556,
              "#d8576b"
             ],
             [
              0.6666666666666666,
              "#ed7953"
             ],
             [
              0.7777777777777778,
              "#fb9f3a"
             ],
             [
              0.8888888888888888,
              "#fdca26"
             ],
             [
              1,
              "#f0f921"
             ]
            ],
            "type": "heatmapgl"
           }
          ],
          "histogram": [
           {
            "marker": {
             "pattern": {
              "fillmode": "overlay",
              "size": 10,
              "solidity": 0.2
             }
            },
            "type": "histogram"
           }
          ],
          "histogram2d": [
           {
            "colorbar": {
             "outlinewidth": 0,
             "ticks": ""
            },
            "colorscale": [
             [
              0,
              "#0d0887"
             ],
             [
              0.1111111111111111,
              "#46039f"
             ],
             [
              0.2222222222222222,
              "#7201a8"
             ],
             [
              0.3333333333333333,
              "#9c179e"
             ],
             [
              0.4444444444444444,
              "#bd3786"
             ],
             [
              0.5555555555555556,
              "#d8576b"
             ],
             [
              0.6666666666666666,
              "#ed7953"
             ],
             [
              0.7777777777777778,
              "#fb9f3a"
             ],
             [
              0.8888888888888888,
              "#fdca26"
             ],
             [
              1,
              "#f0f921"
             ]
            ],
            "type": "histogram2d"
           }
          ],
          "histogram2dcontour": [
           {
            "colorbar": {
             "outlinewidth": 0,
             "ticks": ""
            },
            "colorscale": [
             [
              0,
              "#0d0887"
             ],
             [
              0.1111111111111111,
              "#46039f"
             ],
             [
              0.2222222222222222,
              "#7201a8"
             ],
             [
              0.3333333333333333,
              "#9c179e"
             ],
             [
              0.4444444444444444,
              "#bd3786"
             ],
             [
              0.5555555555555556,
              "#d8576b"
             ],
             [
              0.6666666666666666,
              "#ed7953"
             ],
             [
              0.7777777777777778,
              "#fb9f3a"
             ],
             [
              0.8888888888888888,
              "#fdca26"
             ],
             [
              1,
              "#f0f921"
             ]
            ],
            "type": "histogram2dcontour"
           }
          ],
          "mesh3d": [
           {
            "colorbar": {
             "outlinewidth": 0,
             "ticks": ""
            },
            "type": "mesh3d"
           }
          ],
          "parcoords": [
           {
            "line": {
             "colorbar": {
              "outlinewidth": 0,
              "ticks": ""
             }
            },
            "type": "parcoords"
           }
          ],
          "pie": [
           {
            "automargin": true,
            "type": "pie"
           }
          ],
          "scatter": [
           {
            "fillpattern": {
             "fillmode": "overlay",
             "size": 10,
             "solidity": 0.2
            },
            "type": "scatter"
           }
          ],
          "scatter3d": [
           {
            "line": {
             "colorbar": {
              "outlinewidth": 0,
              "ticks": ""
             }
            },
            "marker": {
             "colorbar": {
              "outlinewidth": 0,
              "ticks": ""
             }
            },
            "type": "scatter3d"
           }
          ],
          "scattercarpet": [
           {
            "marker": {
             "colorbar": {
              "outlinewidth": 0,
              "ticks": ""
             }
            },
            "type": "scattercarpet"
           }
          ],
          "scattergeo": [
           {
            "marker": {
             "colorbar": {
              "outlinewidth": 0,
              "ticks": ""
             }
            },
            "type": "scattergeo"
           }
          ],
          "scattergl": [
           {
            "marker": {
             "colorbar": {
              "outlinewidth": 0,
              "ticks": ""
             }
            },
            "type": "scattergl"
           }
          ],
          "scattermapbox": [
           {
            "marker": {
             "colorbar": {
              "outlinewidth": 0,
              "ticks": ""
             }
            },
            "type": "scattermapbox"
           }
          ],
          "scatterpolar": [
           {
            "marker": {
             "colorbar": {
              "outlinewidth": 0,
              "ticks": ""
             }
            },
            "type": "scatterpolar"
           }
          ],
          "scatterpolargl": [
           {
            "marker": {
             "colorbar": {
              "outlinewidth": 0,
              "ticks": ""
             }
            },
            "type": "scatterpolargl"
           }
          ],
          "scatterternary": [
           {
            "marker": {
             "colorbar": {
              "outlinewidth": 0,
              "ticks": ""
             }
            },
            "type": "scatterternary"
           }
          ],
          "surface": [
           {
            "colorbar": {
             "outlinewidth": 0,
             "ticks": ""
            },
            "colorscale": [
             [
              0,
              "#0d0887"
             ],
             [
              0.1111111111111111,
              "#46039f"
             ],
             [
              0.2222222222222222,
              "#7201a8"
             ],
             [
              0.3333333333333333,
              "#9c179e"
             ],
             [
              0.4444444444444444,
              "#bd3786"
             ],
             [
              0.5555555555555556,
              "#d8576b"
             ],
             [
              0.6666666666666666,
              "#ed7953"
             ],
             [
              0.7777777777777778,
              "#fb9f3a"
             ],
             [
              0.8888888888888888,
              "#fdca26"
             ],
             [
              1,
              "#f0f921"
             ]
            ],
            "type": "surface"
           }
          ],
          "table": [
           {
            "cells": {
             "fill": {
              "color": "#EBF0F8"
             },
             "line": {
              "color": "white"
             }
            },
            "header": {
             "fill": {
              "color": "#C8D4E3"
             },
             "line": {
              "color": "white"
             }
            },
            "type": "table"
           }
          ]
         },
         "layout": {
          "annotationdefaults": {
           "arrowcolor": "#2a3f5f",
           "arrowhead": 0,
           "arrowwidth": 1
          },
          "autotypenumbers": "strict",
          "coloraxis": {
           "colorbar": {
            "outlinewidth": 0,
            "ticks": ""
           }
          },
          "colorscale": {
           "diverging": [
            [
             0,
             "#8e0152"
            ],
            [
             0.1,
             "#c51b7d"
            ],
            [
             0.2,
             "#de77ae"
            ],
            [
             0.3,
             "#f1b6da"
            ],
            [
             0.4,
             "#fde0ef"
            ],
            [
             0.5,
             "#f7f7f7"
            ],
            [
             0.6,
             "#e6f5d0"
            ],
            [
             0.7,
             "#b8e186"
            ],
            [
             0.8,
             "#7fbc41"
            ],
            [
             0.9,
             "#4d9221"
            ],
            [
             1,
             "#276419"
            ]
           ],
           "sequential": [
            [
             0,
             "#0d0887"
            ],
            [
             0.1111111111111111,
             "#46039f"
            ],
            [
             0.2222222222222222,
             "#7201a8"
            ],
            [
             0.3333333333333333,
             "#9c179e"
            ],
            [
             0.4444444444444444,
             "#bd3786"
            ],
            [
             0.5555555555555556,
             "#d8576b"
            ],
            [
             0.6666666666666666,
             "#ed7953"
            ],
            [
             0.7777777777777778,
             "#fb9f3a"
            ],
            [
             0.8888888888888888,
             "#fdca26"
            ],
            [
             1,
             "#f0f921"
            ]
           ],
           "sequentialminus": [
            [
             0,
             "#0d0887"
            ],
            [
             0.1111111111111111,
             "#46039f"
            ],
            [
             0.2222222222222222,
             "#7201a8"
            ],
            [
             0.3333333333333333,
             "#9c179e"
            ],
            [
             0.4444444444444444,
             "#bd3786"
            ],
            [
             0.5555555555555556,
             "#d8576b"
            ],
            [
             0.6666666666666666,
             "#ed7953"
            ],
            [
             0.7777777777777778,
             "#fb9f3a"
            ],
            [
             0.8888888888888888,
             "#fdca26"
            ],
            [
             1,
             "#f0f921"
            ]
           ]
          },
          "colorway": [
           "#636efa",
           "#EF553B",
           "#00cc96",
           "#ab63fa",
           "#FFA15A",
           "#19d3f3",
           "#FF6692",
           "#B6E880",
           "#FF97FF",
           "#FECB52"
          ],
          "font": {
           "color": "#2a3f5f"
          },
          "geo": {
           "bgcolor": "white",
           "lakecolor": "white",
           "landcolor": "#E5ECF6",
           "showlakes": true,
           "showland": true,
           "subunitcolor": "white"
          },
          "hoverlabel": {
           "align": "left"
          },
          "hovermode": "closest",
          "mapbox": {
           "style": "light"
          },
          "paper_bgcolor": "white",
          "plot_bgcolor": "#E5ECF6",
          "polar": {
           "angularaxis": {
            "gridcolor": "white",
            "linecolor": "white",
            "ticks": ""
           },
           "bgcolor": "#E5ECF6",
           "radialaxis": {
            "gridcolor": "white",
            "linecolor": "white",
            "ticks": ""
           }
          },
          "scene": {
           "xaxis": {
            "backgroundcolor": "#E5ECF6",
            "gridcolor": "white",
            "gridwidth": 2,
            "linecolor": "white",
            "showbackground": true,
            "ticks": "",
            "zerolinecolor": "white"
           },
           "yaxis": {
            "backgroundcolor": "#E5ECF6",
            "gridcolor": "white",
            "gridwidth": 2,
            "linecolor": "white",
            "showbackground": true,
            "ticks": "",
            "zerolinecolor": "white"
           },
           "zaxis": {
            "backgroundcolor": "#E5ECF6",
            "gridcolor": "white",
            "gridwidth": 2,
            "linecolor": "white",
            "showbackground": true,
            "ticks": "",
            "zerolinecolor": "white"
           }
          },
          "shapedefaults": {
           "line": {
            "color": "#2a3f5f"
           }
          },
          "ternary": {
           "aaxis": {
            "gridcolor": "white",
            "linecolor": "white",
            "ticks": ""
           },
           "baxis": {
            "gridcolor": "white",
            "linecolor": "white",
            "ticks": ""
           },
           "bgcolor": "#E5ECF6",
           "caxis": {
            "gridcolor": "white",
            "linecolor": "white",
            "ticks": ""
           }
          },
          "title": {
           "x": 0.05
          },
          "xaxis": {
           "automargin": true,
           "gridcolor": "white",
           "linecolor": "white",
           "ticks": "",
           "title": {
            "standoff": 15
           },
           "zerolinecolor": "white",
           "zerolinewidth": 2
          },
          "yaxis": {
           "automargin": true,
           "gridcolor": "white",
           "linecolor": "white",
           "ticks": "",
           "title": {
            "standoff": 15
           },
           "zerolinecolor": "white",
           "zerolinewidth": 2
          }
         }
        },
        "title": {
         "text": "accuracy and val_accuracy"
        },
        "width": 700,
        "yaxis": {
         "range": [
          0,
          1
         ]
        }
       }
      }
     },
     "metadata": {},
     "output_type": "display_data"
    }
   ],
   "source": [
    "history_df = pd.DataFrame(history.history)\n",
    "\n",
    "show_history_graph(history_df, 'loss', 'val_loss')\n",
    "show_history_graph(history_df, 'accuracy', 'val_accuracy')"
   ]
  },
  {
   "cell_type": "markdown",
   "metadata": {},
   "source": [
    "## Save model"
   ]
  },
  {
   "cell_type": "code",
   "execution_count": 17,
   "metadata": {},
   "outputs": [
    {
     "name": "stdout",
     "output_type": "stream",
     "text": [
      "INFO:tensorflow:Assets written to: c:\\PROJEKTY\\KAGGLE\\SpaceshipTytanic\\models\\neural_model\\assets\n"
     ]
    }
   ],
   "source": [
    "path = os.path.join(\n",
    "    os.getcwd(),\n",
    "    'models',\n",
    "    'neural_model'\n",
    ")\n",
    "model_2.save(path)"
   ]
  },
  {
   "cell_type": "markdown",
   "metadata": {},
   "source": [
    "# 3 - Add new ensembe feature"
   ]
  },
  {
   "cell_type": "code",
   "execution_count": null,
   "metadata": {},
   "outputs": [],
   "source": [
    "train_ensemble_df = pd.read_feather(r'C:\\PROJEKTY\\KAGGLE\\SpaceshipTytanic\\data\\ensemble_train_df.ftr')\n",
    "val_ensemble_df = pd.read_feather(r'C:\\PROJEKTY\\KAGGLE\\SpaceshipTytanic\\data\\ensemble_val_df.ftr')"
   ]
  },
  {
   "cell_type": "code",
   "execution_count": null,
   "metadata": {},
   "outputs": [],
   "source": [
    "features = ['neural', 'lgbm', 'ada_boost', 'svc']\n",
    "\n",
    "train_ensemble_feature = model_2.predict(x_train)\n",
    "train_ensemble_df['neural'] = train_ensemble_feature\n",
    "train_ensemble_df['mean'] = train_ensemble_df[features].mean(axis=1)\n",
    "\n",
    "val_ensemble_feature = model_2.predict(x_val)\n",
    "val_ensemble_df['neural'] = val_ensemble_feature\n",
    "val_ensemble_df['mean'] = val_ensemble_df[features].mean(axis=1)"
   ]
  },
  {
   "cell_type": "code",
   "execution_count": null,
   "metadata": {},
   "outputs": [],
   "source": [
    "cols = ['neural', 'lgbm', 'ada_boost', 'svc', 'mean', 'y']\n",
    "train_ensemble_df[cols].to_feather(r'C:\\PROJEKTY\\KAGGLE\\SpaceshipTytanic\\data\\ensemble_train_df.ftr')\n",
    "val_ensemble_df[cols].to_feather(r'C:\\PROJEKTY\\KAGGLE\\SpaceshipTytanic\\data\\ensemble_val_df.ftr')"
   ]
  },
  {
   "cell_type": "code",
   "execution_count": null,
   "metadata": {},
   "outputs": [],
   "source": [
    "features = ['neural', 'lgbm', 'ada_boost', 'svc', 'mean']\n",
    "show_ensemble_features(train_ensemble_df, features, 'train')"
   ]
  }
 ],
 "metadata": {
  "kernelspec": {
   "display_name": "Python 3.10.2 64-bit",
   "language": "python",
   "name": "python3"
  },
  "language_info": {
   "codemirror_mode": {
    "name": "ipython",
    "version": 3
   },
   "file_extension": ".py",
   "mimetype": "text/x-python",
   "name": "python",
   "nbconvert_exporter": "python",
   "pygments_lexer": "ipython3",
   "version": "3.10.2"
  },
  "orig_nbformat": 4,
  "vscode": {
   "interpreter": {
    "hash": "6a74854dbd35b3b1e1641f2d717929c6b738adcdd3262c03fe72ebc0e6c9a894"
   }
  }
 },
 "nbformat": 4,
 "nbformat_minor": 2
}
