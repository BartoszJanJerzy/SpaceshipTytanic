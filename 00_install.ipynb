{
 "cells": [
  {
   "cell_type": "markdown",
   "metadata": {},
   "source": [
    "# Install"
   ]
  },
  {
   "cell_type": "code",
   "execution_count": 1,
   "metadata": {},
   "outputs": [
    {
     "name": "stdout",
     "output_type": "stream",
     "text": [
      "Requirement already satisfied: pandas in c:\\users\\b1wojtow\\appdata\\local\\programs\\python\\python310\\lib\\site-packages (1.4.2)\n",
      "Requirement already satisfied: python-dateutil>=2.8.1 in c:\\users\\b1wojtow\\appdata\\local\\programs\\python\\python310\\lib\\site-packages (from pandas) (2.8.2)\n",
      "Requirement already satisfied: pytz>=2020.1 in c:\\users\\b1wojtow\\appdata\\local\\programs\\python\\python310\\lib\\site-packages (from pandas) (2022.1)\n",
      "Requirement already satisfied: numpy>=1.21.0 in c:\\users\\b1wojtow\\appdata\\local\\programs\\python\\python310\\lib\\site-packages (from pandas) (1.22.3)\n",
      "Requirement already satisfied: six>=1.5 in c:\\users\\b1wojtow\\appdata\\local\\programs\\python\\python310\\lib\\site-packages (from python-dateutil>=2.8.1->pandas) (1.16.0)\n",
      "Note: you may need to restart the kernel to use updated packages.\n"
     ]
    },
    {
     "name": "stderr",
     "output_type": "stream",
     "text": [
      "WARNING: There was an error checking the latest version of pip.\n"
     ]
    }
   ],
   "source": [
    "pip install pandas"
   ]
  },
  {
   "cell_type": "code",
   "execution_count": 2,
   "metadata": {
    "collapsed": true
   },
   "outputs": [
    {
     "name": "stdout",
     "output_type": "stream",
     "text": [
      "Requirement already satisfied: numpy in c:\\users\\b1wojtow\\appdata\\local\\programs\\python\\python310\\lib\\site-packages (1.22.3)\n",
      "Note: you may need to restart the kernel to use updated packages.\n"
     ]
    },
    {
     "name": "stderr",
     "output_type": "stream",
     "text": [
      "WARNING: There was an error checking the latest version of pip.\n"
     ]
    }
   ],
   "source": [
    "pip install numpy"
   ]
  },
  {
   "cell_type": "code",
   "execution_count": 3,
   "metadata": {
    "collapsed": true
   },
   "outputs": [
    {
     "name": "stdout",
     "output_type": "stream",
     "text": [
      "Requirement already satisfied: plotly in c:\\users\\b1wojtow\\appdata\\local\\programs\\python\\python310\\lib\\site-packages (5.7.0)\n",
      "Requirement already satisfied: tenacity>=6.2.0 in c:\\users\\b1wojtow\\appdata\\local\\programs\\python\\python310\\lib\\site-packages (from plotly) (8.0.1)\n",
      "Requirement already satisfied: six in c:\\users\\b1wojtow\\appdata\\local\\programs\\python\\python310\\lib\\site-packages (from plotly) (1.16.0)\n",
      "Note: you may need to restart the kernel to use updated packages.\n"
     ]
    },
    {
     "name": "stderr",
     "output_type": "stream",
     "text": [
      "WARNING: There was an error checking the latest version of pip.\n"
     ]
    }
   ],
   "source": [
    "pip install plotly"
   ]
  },
  {
   "cell_type": "code",
   "execution_count": 4,
   "metadata": {
    "collapsed": true
   },
   "outputs": [
    {
     "name": "stdout",
     "output_type": "stream",
     "text": [
      "Requirement already satisfied: sklearn in c:\\users\\b1wojtow\\appdata\\local\\programs\\python\\python310\\lib\\site-packages (0.0)Note: you may need to restart the kernel to use updated packages.\n",
      "\n",
      "Requirement already satisfied: scikit-learn in c:\\users\\b1wojtow\\appdata\\local\\programs\\python\\python310\\lib\\site-packages (from sklearn) (1.1.1)\n",
      "Requirement already satisfied: joblib>=1.0.0 in c:\\users\\b1wojtow\\appdata\\local\\programs\\python\\python310\\lib\\site-packages (from scikit-learn->sklearn) (1.1.0)\n",
      "Requirement already satisfied: scipy>=1.3.2 in c:\\users\\b1wojtow\\appdata\\local\\programs\\python\\python310\\lib\\site-packages (from scikit-learn->sklearn) (1.8.1)\n",
      "Requirement already satisfied: numpy>=1.17.3 in c:\\users\\b1wojtow\\appdata\\local\\programs\\python\\python310\\lib\\site-packages (from scikit-learn->sklearn) (1.22.3)\n",
      "Requirement already satisfied: threadpoolctl>=2.0.0 in c:\\users\\b1wojtow\\appdata\\local\\programs\\python\\python310\\lib\\site-packages (from scikit-learn->sklearn) (3.1.0)\n"
     ]
    },
    {
     "name": "stderr",
     "output_type": "stream",
     "text": [
      "WARNING: There was an error checking the latest version of pip.\n"
     ]
    }
   ],
   "source": [
    "pip install sklearn"
   ]
  },
  {
   "cell_type": "code",
   "execution_count": 5,
   "metadata": {
    "collapsed": true
   },
   "outputs": [
    {
     "name": "stdout",
     "output_type": "stream",
     "text": [
      "Collecting lightgbm\n",
      "  Using cached lightgbm-3.3.2-py3-none-win_amd64.whl (1.0 MB)\n",
      "Requirement already satisfied: numpy in c:\\users\\b1wojtow\\appdata\\local\\programs\\python\\python310\\lib\\site-packages (from lightgbm) (1.22.3)\n",
      "Requirement already satisfied: scikit-learn!=0.22.0 in c:\\users\\b1wojtow\\appdata\\local\\programs\\python\\python310\\lib\\site-packages (from lightgbm) (1.1.1)\n",
      "Requirement already satisfied: scipy in c:\\users\\b1wojtow\\appdata\\local\\programs\\python\\python310\\lib\\site-packages (from lightgbm) (1.8.1)\n",
      "Collecting wheel\n",
      "  Using cached wheel-0.37.1-py2.py3-none-any.whl (35 kB)\n",
      "Requirement already satisfied: threadpoolctl>=2.0.0 in c:\\users\\b1wojtow\\appdata\\local\\programs\\python\\python310\\lib\\site-packages (from scikit-learn!=0.22.0->lightgbm) (3.1.0)\n",
      "Requirement already satisfied: joblib>=1.0.0 in c:\\users\\b1wojtow\\appdata\\local\\programs\\python\\python310\\lib\\site-packages (from scikit-learn!=0.22.0->lightgbm) (1.1.0)\n",
      "Installing collected packages: wheel, lightgbm\n",
      "Successfully installed lightgbm-3.3.2 wheel-0.37.1\n",
      "Note: you may need to restart the kernel to use updated packages.\n"
     ]
    },
    {
     "name": "stderr",
     "output_type": "stream",
     "text": [
      "WARNING: There was an error checking the latest version of pip.\n"
     ]
    }
   ],
   "source": [
    "pip install lightgbm"
   ]
  },
  {
   "cell_type": "code",
   "execution_count": 6,
   "metadata": {
    "collapsed": true
   },
   "outputs": [
    {
     "name": "stdout",
     "output_type": "stream",
     "text": [
      "Collecting pytest-filter-subpackage\n",
      "  Using cached pytest_filter_subpackage-0.1.1-py2.py3-none-any.whl (5.1 kB)\n",
      "Requirement already satisfied: pytest>=3.0 in c:\\users\\b1wojtow\\appdata\\local\\programs\\python\\python310\\lib\\site-packages (from pytest-filter-subpackage) (7.1.2)\n",
      "Requirement already satisfied: colorama in c:\\users\\b1wojtow\\appdata\\local\\programs\\python\\python310\\lib\\site-packages (from pytest>=3.0->pytest-filter-subpackage) (0.4.4)\n",
      "Requirement already satisfied: packaging in c:\\users\\b1wojtow\\appdata\\local\\programs\\python\\python310\\lib\\site-packages (from pytest>=3.0->pytest-filter-subpackage) (21.3)\n",
      "Requirement already satisfied: attrs>=19.2.0 in c:\\users\\b1wojtow\\appdata\\local\\programs\\python\\python310\\lib\\site-packages (from pytest>=3.0->pytest-filter-subpackage) (21.4.0)\n",
      "Requirement already satisfied: tomli>=1.0.0 in c:\\users\\b1wojtow\\appdata\\local\\programs\\python\\python310\\lib\\site-packages (from pytest>=3.0->pytest-filter-subpackage) (2.0.1)\n",
      "Requirement already satisfied: atomicwrites>=1.0 in c:\\users\\b1wojtow\\appdata\\local\\programs\\python\\python310\\lib\\site-packages (from pytest>=3.0->pytest-filter-subpackage) (1.4.0)\n",
      "Requirement already satisfied: py>=1.8.2 in c:\\users\\b1wojtow\\appdata\\local\\programs\\python\\python310\\lib\\site-packages (from pytest>=3.0->pytest-filter-subpackage) (1.11.0)\n",
      "Requirement already satisfied: iniconfig in c:\\users\\b1wojtow\\appdata\\local\\programs\\python\\python310\\lib\\site-packages (from pytest>=3.0->pytest-filter-subpackage) (1.1.1)\n",
      "Requirement already satisfied: pluggy<2.0,>=0.12 in c:\\users\\b1wojtow\\appdata\\local\\programs\\python\\python310\\lib\\site-packages (from pytest>=3.0->pytest-filter-subpackage) (1.0.0)\n",
      "Requirement already satisfied: pyparsing!=3.0.5,>=2.0.2 in c:\\users\\b1wojtow\\appdata\\local\\programs\\python\\python310\\lib\\site-packages (from packaging->pytest>=3.0->pytest-filter-subpackage) (3.0.8)\n",
      "Installing collected packages: pytest-filter-subpackage\n",
      "Successfully installed pytest-filter-subpackage-0.1.1\n",
      "Note: you may need to restart the kernel to use updated packages.\n"
     ]
    },
    {
     "name": "stderr",
     "output_type": "stream",
     "text": [
      "WARNING: There was an error checking the latest version of pip.\n"
     ]
    }
   ],
   "source": [
    "pip install \"pytest-filter-subpackage\""
   ]
  },
  {
   "cell_type": "code",
   "execution_count": 7,
   "metadata": {
    "collapsed": true
   },
   "outputs": [
    {
     "name": "stdout",
     "output_type": "stream",
     "text": [
      "Collecting pytest-cov\n",
      "  Using cached pytest_cov-3.0.0-py3-none-any.whl (20 kB)\n",
      "Collecting coverage[toml]>=5.2.1\n",
      "  Downloading coverage-6.4.1-cp310-cp310-win_amd64.whl (187 kB)\n",
      "     ------------------------------------ 187.4/187.4 kB 110.0 kB/s eta 0:00:00\n",
      "Requirement already satisfied: pytest>=4.6 in c:\\users\\b1wojtow\\appdata\\local\\programs\\python\\python310\\lib\\site-packages (from pytest-cov) (7.1.2)\n",
      "Requirement already satisfied: tomli in c:\\users\\b1wojtow\\appdata\\local\\programs\\python\\python310\\lib\\site-packages (from coverage[toml]>=5.2.1->pytest-cov) (2.0.1)\n",
      "Requirement already satisfied: attrs>=19.2.0 in c:\\users\\b1wojtow\\appdata\\local\\programs\\python\\python310\\lib\\site-packages (from pytest>=4.6->pytest-cov) (21.4.0)\n",
      "Requirement already satisfied: py>=1.8.2 in c:\\users\\b1wojtow\\appdata\\local\\programs\\python\\python310\\lib\\site-packages (from pytest>=4.6->pytest-cov) (1.11.0)\n",
      "Requirement already satisfied: packaging in c:\\users\\b1wojtow\\appdata\\local\\programs\\python\\python310\\lib\\site-packages (from pytest>=4.6->pytest-cov) (21.3)\n",
      "Requirement already satisfied: pluggy<2.0,>=0.12 in c:\\users\\b1wojtow\\appdata\\local\\programs\\python\\python310\\lib\\site-packages (from pytest>=4.6->pytest-cov) (1.0.0)\n",
      "Requirement already satisfied: colorama in c:\\users\\b1wojtow\\appdata\\local\\programs\\python\\python310\\lib\\site-packages (from pytest>=4.6->pytest-cov) (0.4.4)\n",
      "Requirement already satisfied: atomicwrites>=1.0 in c:\\users\\b1wojtow\\appdata\\local\\programs\\python\\python310\\lib\\site-packages (from pytest>=4.6->pytest-cov) (1.4.0)\n",
      "Requirement already satisfied: iniconfig in c:\\users\\b1wojtow\\appdata\\local\\programs\\python\\python310\\lib\\site-packages (from pytest>=4.6->pytest-cov) (1.1.1)\n",
      "Requirement already satisfied: pyparsing!=3.0.5,>=2.0.2 in c:\\users\\b1wojtow\\appdata\\local\\programs\\python\\python310\\lib\\site-packages (from packaging->pytest>=4.6->pytest-cov) (3.0.8)\n",
      "Installing collected packages: coverage, pytest-cov\n",
      "Successfully installed coverage-6.4.1 pytest-cov-3.0.0\n",
      "Note: you may need to restart the kernel to use updated packages.\n"
     ]
    },
    {
     "name": "stderr",
     "output_type": "stream",
     "text": [
      "WARNING: There was an error checking the latest version of pip.\n"
     ]
    }
   ],
   "source": [
    "pip install pytest-cov"
   ]
  },
  {
   "cell_type": "code",
   "execution_count": 8,
   "metadata": {
    "collapsed": true
   },
   "outputs": [
    {
     "name": "stdout",
     "output_type": "stream",
     "text": [
      "Collecting astroid\n",
      "  Downloading astroid-2.11.6-py3-none-any.whl (251 kB)\n",
      "     -------------------------------------- 251.0/251.0 kB 1.7 MB/s eta 0:00:00\n",
      "Collecting wrapt<2,>=1.11\n",
      "  Downloading wrapt-1.14.1-cp310-cp310-win_amd64.whl (35 kB)\n",
      "Collecting lazy-object-proxy>=1.4.0\n",
      "  Downloading lazy_object_proxy-1.7.1-cp310-cp310-win_amd64.whl (23 kB)\n",
      "Requirement already satisfied: setuptools>=20.0 in c:\\users\\b1wojtow\\appdata\\local\\programs\\python\\python310\\lib\\site-packages (from astroid) (58.1.0)\n",
      "Installing collected packages: wrapt, lazy-object-proxy, astroid\n",
      "Successfully installed astroid-2.11.6 lazy-object-proxy-1.7.1 wrapt-1.14.1\n",
      "Note: you may need to restart the kernel to use updated packages.\n"
     ]
    },
    {
     "name": "stderr",
     "output_type": "stream",
     "text": [
      "WARNING: There was an error checking the latest version of pip.\n"
     ]
    }
   ],
   "source": [
    "pip install astroid"
   ]
  },
  {
   "cell_type": "code",
   "execution_count": 9,
   "metadata": {
    "collapsed": true
   },
   "outputs": [
    {
     "name": "stdout",
     "output_type": "stream",
     "text": [
      "Collecting PyYAML==5.3.1\n",
      "  Downloading PyYAML-5.3.1.tar.gz (269 kB)\n",
      "     -------------------------------------- 269.4/269.4 kB 1.7 MB/s eta 0:00:00\n",
      "  Preparing metadata (setup.py): started\n",
      "  Preparing metadata (setup.py): finished with status 'done'\n",
      "Building wheels for collected packages: PyYAML\n",
      "  Building wheel for PyYAML (setup.py): started\n",
      "  Building wheel for PyYAML (setup.py): finished with status 'done'\n",
      "  Created wheel for PyYAML: filename=PyYAML-5.3.1-cp310-cp310-win_amd64.whl size=44632 sha256=4e170cf9cdfaccc90b168eccfef33cba1af2c6d8aebacf289448376b433e2fb0\n",
      "  Stored in directory: c:\\users\\b1wojtow\\appdata\\local\\pip\\cache\\wheels\\0b\\a9\\6a\\d0a6981a8dbb698845178818642f72ce179f14336908c7df01\n",
      "Successfully built PyYAML\n",
      "Installing collected packages: PyYAML\n",
      "  Attempting uninstall: PyYAML\n",
      "    Found existing installation: PyYAML 6.0\n",
      "    Uninstalling PyYAML-6.0:\n",
      "      Successfully uninstalled PyYAML-6.0\n",
      "Successfully installed PyYAML-5.3.1\n",
      "Note: you may need to restart the kernel to use updated packages.\n"
     ]
    },
    {
     "name": "stderr",
     "output_type": "stream",
     "text": [
      "WARNING: There was an error checking the latest version of pip.\n"
     ]
    }
   ],
   "source": [
    "pip install PyYAML==5.3.1"
   ]
  },
  {
   "cell_type": "code",
   "execution_count": 10,
   "metadata": {
    "collapsed": true
   },
   "outputs": [
    {
     "name": "stdout",
     "output_type": "stream",
     "text": [
      "Collecting lazypredict\n",
      "  Using cached lazypredict-0.2.9-py2.py3-none-any.whl (12 kB)\n",
      "Collecting numpy==1.19.1\n",
      "  Downloading numpy-1.19.1.zip (7.3 MB)\n",
      "     ---------------------------------------- 7.3/7.3 MB 4.9 MB/s eta 0:00:00\n",
      "  Installing build dependencies: started\n",
      "  Installing build dependencies: finished with status 'done'\n",
      "  Getting requirements to build wheel: started\n",
      "  Getting requirements to build wheel: finished with status 'done'\n",
      "  Preparing metadata (pyproject.toml): started\n",
      "  Preparing metadata (pyproject.toml): still running...\n",
      "  Preparing metadata (pyproject.toml): finished with status 'error'\n",
      "Note: you may need to restart the kernel to use updated packages.\n"
     ]
    },
    {
     "name": "stderr",
     "output_type": "stream",
     "text": [
      "  error: subprocess-exited-with-error\n",
      "  \n",
      "  × Preparing metadata (pyproject.toml) did not run successfully.\n",
      "  │ exit code: 1\n",
      "  ╰─> [204 lines of output]\n",
      "      Running from numpy source directory.\n",
      "      setup.py:470: UserWarning: Unrecognized setuptools command, proceeding with generating Cython sources and expanding templates\n",
      "        run_build = parse_setuppy_commands()\n",
      "      Cythonizing sources\n",
      "      Processing numpy/random\\_bounded_integers.pxd.in\n",
      "      Processing numpy/random\\bit_generator.pyx\n",
      "      C:\\Users\\b1wojtow\\AppData\\Local\\Temp\\pip-install-ry4vd_i8\\numpy_8d7b46474dbb4931888bfa2fc4619a77\\tools\\cythonize.py:73: DeprecationWarning: distutils Version classes are deprecated. Use packaging.version instead.\n",
      "        required_version = LooseVersion('0.29.21')\n",
      "      C:\\Users\\b1wojtow\\AppData\\Local\\Temp\\pip-install-ry4vd_i8\\numpy_8d7b46474dbb4931888bfa2fc4619a77\\tools\\cythonize.py:75: DeprecationWarning: distutils Version classes are deprecated. Use packaging.version instead.\n",
      "        if LooseVersion(cython_version) < required_version:\n",
      "      Processing numpy/random\\mtrand.pyx\n",
      "      Processing numpy/random\\_bounded_integers.pyx.in\n",
      "      Processing numpy/random\\_common.pyx\n",
      "      Processing numpy/random\\_generator.pyx\n",
      "      Processing numpy/random\\_mt19937.pyx\n",
      "      Processing numpy/random\\_pcg64.pyx\n",
      "      Processing numpy/random\\_philox.pyx\n",
      "      Processing numpy/random\\_sfc64.pyx\n",
      "      blas_opt_info:\n",
      "      blas_mkl_info:\n",
      "      No module named 'numpy.distutils._msvccompiler' in numpy.distutils; trying from distutils\n",
      "      customize MSVCCompiler\n",
      "        libraries mkl_rt not found in ['c:\\\\Users\\\\b1wojtow\\\\AppData\\\\Local\\\\Programs\\\\Python\\\\Python310\\\\lib', 'C:\\\\', 'c:\\\\Users\\\\b1wojtow\\\\AppData\\\\Local\\\\Programs\\\\Python\\\\Python310\\\\libs']\n",
      "        NOT AVAILABLE\n",
      "      \n",
      "      blis_info:\n",
      "        libraries blis not found in ['c:\\\\Users\\\\b1wojtow\\\\AppData\\\\Local\\\\Programs\\\\Python\\\\Python310\\\\lib', 'C:\\\\', 'c:\\\\Users\\\\b1wojtow\\\\AppData\\\\Local\\\\Programs\\\\Python\\\\Python310\\\\libs']\n",
      "        NOT AVAILABLE\n",
      "      \n",
      "      openblas_info:\n",
      "        libraries openblas not found in ['c:\\\\Users\\\\b1wojtow\\\\AppData\\\\Local\\\\Programs\\\\Python\\\\Python310\\\\lib', 'C:\\\\', 'c:\\\\Users\\\\b1wojtow\\\\AppData\\\\Local\\\\Programs\\\\Python\\\\Python310\\\\libs']\n",
      "      get_default_fcompiler: matching types: '['gnu', 'intelv', 'absoft', 'compaqv', 'intelev', 'gnu95', 'g95', 'intelvem', 'intelem', 'flang']'\n",
      "      customize GnuFCompiler\n",
      "      Could not locate executable g77\n",
      "      Could not locate executable f77\n",
      "      customize IntelVisualFCompiler\n",
      "      Could not locate executable ifort\n",
      "      Could not locate executable ifl\n",
      "      customize AbsoftFCompiler\n",
      "      Could not locate executable f90\n",
      "      customize CompaqVisualFCompiler\n",
      "      Could not locate executable DF\n",
      "      customize IntelItaniumVisualFCompiler\n",
      "      Could not locate executable efl\n",
      "      customize Gnu95FCompiler\n",
      "      Could not locate executable gfortran\n",
      "      Could not locate executable f95\n",
      "      customize G95FCompiler\n",
      "      Could not locate executable g95\n",
      "      customize IntelEM64VisualFCompiler\n",
      "      customize IntelEM64TFCompiler\n",
      "      Could not locate executable efort\n",
      "      Could not locate executable efc\n",
      "      customize PGroupFlangCompiler\n",
      "      Could not locate executable flang\n",
      "      don't know how to compile Fortran code on platform 'nt'\n",
      "        NOT AVAILABLE\n",
      "      \n",
      "      atlas_3_10_blas_threads_info:\n",
      "      Setting PTATLAS=ATLAS\n",
      "        libraries tatlas not found in ['c:\\\\Users\\\\b1wojtow\\\\AppData\\\\Local\\\\Programs\\\\Python\\\\Python310\\\\lib', 'C:\\\\', 'c:\\\\Users\\\\b1wojtow\\\\AppData\\\\Local\\\\Programs\\\\Python\\\\Python310\\\\libs']\n",
      "        NOT AVAILABLE\n",
      "      \n",
      "      atlas_3_10_blas_info:\n",
      "        libraries satlas not found in ['c:\\\\Users\\\\b1wojtow\\\\AppData\\\\Local\\\\Programs\\\\Python\\\\Python310\\\\lib', 'C:\\\\', 'c:\\\\Users\\\\b1wojtow\\\\AppData\\\\Local\\\\Programs\\\\Python\\\\Python310\\\\libs']\n",
      "        NOT AVAILABLE\n",
      "      \n",
      "      atlas_blas_threads_info:\n",
      "      Setting PTATLAS=ATLAS\n",
      "        libraries ptf77blas,ptcblas,atlas not found in ['c:\\\\Users\\\\b1wojtow\\\\AppData\\\\Local\\\\Programs\\\\Python\\\\Python310\\\\lib', 'C:\\\\', 'c:\\\\Users\\\\b1wojtow\\\\AppData\\\\Local\\\\Programs\\\\Python\\\\Python310\\\\libs']\n",
      "        NOT AVAILABLE\n",
      "      \n",
      "      atlas_blas_info:\n",
      "        libraries f77blas,cblas,atlas not found in ['c:\\\\Users\\\\b1wojtow\\\\AppData\\\\Local\\\\Programs\\\\Python\\\\Python310\\\\lib', 'C:\\\\', 'c:\\\\Users\\\\b1wojtow\\\\AppData\\\\Local\\\\Programs\\\\Python\\\\Python310\\\\libs']\n",
      "        NOT AVAILABLE\n",
      "      \n",
      "      accelerate_info:\n",
      "        NOT AVAILABLE\n",
      "      \n",
      "      C:\\Users\\b1wojtow\\AppData\\Local\\Temp\\pip-install-ry4vd_i8\\numpy_8d7b46474dbb4931888bfa2fc4619a77\\numpy\\distutils\\system_info.py:1914: UserWarning:\n",
      "          Optimized (vendor) Blas libraries are not found.\n",
      "          Falls back to netlib Blas library which has worse performance.\n",
      "          A better performance should be easily gained by switching\n",
      "          Blas library.\n",
      "        if self._calc_info(blas):\n",
      "      blas_info:\n",
      "        libraries blas not found in ['c:\\\\Users\\\\b1wojtow\\\\AppData\\\\Local\\\\Programs\\\\Python\\\\Python310\\\\lib', 'C:\\\\', 'c:\\\\Users\\\\b1wojtow\\\\AppData\\\\Local\\\\Programs\\\\Python\\\\Python310\\\\libs']\n",
      "        NOT AVAILABLE\n",
      "      \n",
      "      C:\\Users\\b1wojtow\\AppData\\Local\\Temp\\pip-install-ry4vd_i8\\numpy_8d7b46474dbb4931888bfa2fc4619a77\\numpy\\distutils\\system_info.py:1914: UserWarning:\n",
      "          Blas (http://www.netlib.org/blas/) libraries not found.\n",
      "          Directories to search for the libraries can be specified in the\n",
      "          numpy/distutils/site.cfg file (section [blas]) or by setting\n",
      "          the BLAS environment variable.\n",
      "        if self._calc_info(blas):\n",
      "      blas_src_info:\n",
      "        NOT AVAILABLE\n",
      "      \n",
      "      C:\\Users\\b1wojtow\\AppData\\Local\\Temp\\pip-install-ry4vd_i8\\numpy_8d7b46474dbb4931888bfa2fc4619a77\\numpy\\distutils\\system_info.py:1914: UserWarning:\n",
      "          Blas (http://www.netlib.org/blas/) sources not found.\n",
      "          Directories to search for the sources can be specified in the\n",
      "          numpy/distutils/site.cfg file (section [blas_src]) or by setting\n",
      "          the BLAS_SRC environment variable.\n",
      "        if self._calc_info(blas):\n",
      "        NOT AVAILABLE\n",
      "      \n",
      "      non-existing path in 'numpy\\\\distutils': 'site.cfg'\n",
      "      lapack_opt_info:\n",
      "      lapack_mkl_info:\n",
      "        libraries mkl_rt not found in ['c:\\\\Users\\\\b1wojtow\\\\AppData\\\\Local\\\\Programs\\\\Python\\\\Python310\\\\lib', 'C:\\\\', 'c:\\\\Users\\\\b1wojtow\\\\AppData\\\\Local\\\\Programs\\\\Python\\\\Python310\\\\libs']\n",
      "        NOT AVAILABLE\n",
      "      \n",
      "      openblas_lapack_info:\n",
      "        libraries openblas not found in ['c:\\\\Users\\\\b1wojtow\\\\AppData\\\\Local\\\\Programs\\\\Python\\\\Python310\\\\lib', 'C:\\\\', 'c:\\\\Users\\\\b1wojtow\\\\AppData\\\\Local\\\\Programs\\\\Python\\\\Python310\\\\libs']\n",
      "        NOT AVAILABLE\n",
      "      \n",
      "      openblas_clapack_info:\n",
      "        libraries openblas,lapack not found in ['c:\\\\Users\\\\b1wojtow\\\\AppData\\\\Local\\\\Programs\\\\Python\\\\Python310\\\\lib', 'C:\\\\', 'c:\\\\Users\\\\b1wojtow\\\\AppData\\\\Local\\\\Programs\\\\Python\\\\Python310\\\\libs']\n",
      "        NOT AVAILABLE\n",
      "      \n",
      "      flame_info:\n",
      "        libraries flame not found in ['c:\\\\Users\\\\b1wojtow\\\\AppData\\\\Local\\\\Programs\\\\Python\\\\Python310\\\\lib', 'C:\\\\', 'c:\\\\Users\\\\b1wojtow\\\\AppData\\\\Local\\\\Programs\\\\Python\\\\Python310\\\\libs']\n",
      "        NOT AVAILABLE\n",
      "      \n",
      "      atlas_3_10_threads_info:\n",
      "      Setting PTATLAS=ATLAS\n",
      "        libraries lapack_atlas not found in c:\\Users\\b1wojtow\\AppData\\Local\\Programs\\Python\\Python310\\lib\n",
      "        libraries tatlas,tatlas not found in c:\\Users\\b1wojtow\\AppData\\Local\\Programs\\Python\\Python310\\lib\n",
      "        libraries lapack_atlas not found in C:\\\n",
      "        libraries tatlas,tatlas not found in C:\\\n",
      "        libraries lapack_atlas not found in c:\\Users\\b1wojtow\\AppData\\Local\\Programs\\Python\\Python310\\libs\n",
      "        libraries tatlas,tatlas not found in c:\\Users\\b1wojtow\\AppData\\Local\\Programs\\Python\\Python310\\libs\n",
      "      <class 'numpy.distutils.system_info.atlas_3_10_threads_info'>\n",
      "        NOT AVAILABLE\n",
      "      \n",
      "      atlas_3_10_info:\n",
      "        libraries lapack_atlas not found in c:\\Users\\b1wojtow\\AppData\\Local\\Programs\\Python\\Python310\\lib\n",
      "        libraries satlas,satlas not found in c:\\Users\\b1wojtow\\AppData\\Local\\Programs\\Python\\Python310\\lib\n",
      "        libraries lapack_atlas not found in C:\\\n",
      "        libraries satlas,satlas not found in C:\\\n",
      "        libraries lapack_atlas not found in c:\\Users\\b1wojtow\\AppData\\Local\\Programs\\Python\\Python310\\libs\n",
      "        libraries satlas,satlas not found in c:\\Users\\b1wojtow\\AppData\\Local\\Programs\\Python\\Python310\\libs\n",
      "      <class 'numpy.distutils.system_info.atlas_3_10_info'>\n",
      "        NOT AVAILABLE\n",
      "      \n",
      "      atlas_threads_info:\n",
      "      Setting PTATLAS=ATLAS\n",
      "        libraries lapack_atlas not found in c:\\Users\\b1wojtow\\AppData\\Local\\Programs\\Python\\Python310\\lib\n",
      "        libraries ptf77blas,ptcblas,atlas not found in c:\\Users\\b1wojtow\\AppData\\Local\\Programs\\Python\\Python310\\lib\n",
      "        libraries lapack_atlas not found in C:\\\n",
      "        libraries ptf77blas,ptcblas,atlas not found in C:\\\n",
      "        libraries lapack_atlas not found in c:\\Users\\b1wojtow\\AppData\\Local\\Programs\\Python\\Python310\\libs\n",
      "        libraries ptf77blas,ptcblas,atlas not found in c:\\Users\\b1wojtow\\AppData\\Local\\Programs\\Python\\Python310\\libs\n",
      "      <class 'numpy.distutils.system_info.atlas_threads_info'>\n",
      "        NOT AVAILABLE\n",
      "      \n",
      "      atlas_info:\n",
      "        libraries lapack_atlas not found in c:\\Users\\b1wojtow\\AppData\\Local\\Programs\\Python\\Python310\\lib\n",
      "        libraries f77blas,cblas,atlas not found in c:\\Users\\b1wojtow\\AppData\\Local\\Programs\\Python\\Python310\\lib\n",
      "        libraries lapack_atlas not found in C:\\\n",
      "        libraries f77blas,cblas,atlas not found in C:\\\n",
      "        libraries lapack_atlas not found in c:\\Users\\b1wojtow\\AppData\\Local\\Programs\\Python\\Python310\\libs\n",
      "        libraries f77blas,cblas,atlas not found in c:\\Users\\b1wojtow\\AppData\\Local\\Programs\\Python\\Python310\\libs\n",
      "      <class 'numpy.distutils.system_info.atlas_info'>\n",
      "        NOT AVAILABLE\n",
      "      \n",
      "      lapack_info:\n",
      "        libraries lapack not found in ['c:\\\\Users\\\\b1wojtow\\\\AppData\\\\Local\\\\Programs\\\\Python\\\\Python310\\\\lib', 'C:\\\\', 'c:\\\\Users\\\\b1wojtow\\\\AppData\\\\Local\\\\Programs\\\\Python\\\\Python310\\\\libs']\n",
      "        NOT AVAILABLE\n",
      "      \n",
      "      C:\\Users\\b1wojtow\\AppData\\Local\\Temp\\pip-install-ry4vd_i8\\numpy_8d7b46474dbb4931888bfa2fc4619a77\\numpy\\distutils\\system_info.py:1748: UserWarning:\n",
      "          Lapack (http://www.netlib.org/lapack/) libraries not found.\n",
      "          Directories to search for the libraries can be specified in the\n",
      "          numpy/distutils/site.cfg file (section [lapack]) or by setting\n",
      "          the LAPACK environment variable.\n",
      "        return getattr(self, '_calc_info_{}'.format(name))()\n",
      "      lapack_src_info:\n",
      "        NOT AVAILABLE\n",
      "      \n",
      "      C:\\Users\\b1wojtow\\AppData\\Local\\Temp\\pip-install-ry4vd_i8\\numpy_8d7b46474dbb4931888bfa2fc4619a77\\numpy\\distutils\\system_info.py:1748: UserWarning:\n",
      "          Lapack (http://www.netlib.org/lapack/) sources not found.\n",
      "          Directories to search for the sources can be specified in the\n",
      "          numpy/distutils/site.cfg file (section [lapack_src]) or by setting\n",
      "          the LAPACK_SRC environment variable.\n",
      "        return getattr(self, '_calc_info_{}'.format(name))()\n",
      "        NOT AVAILABLE\n",
      "      \n",
      "      numpy_linalg_lapack_lite:\n",
      "        FOUND:\n",
      "          language = c\n",
      "          define_macros = [('HAVE_BLAS_ILP64', None), ('BLAS_SYMBOL_SUFFIX', '64_')]\n",
      "      \n",
      "      C:\\Users\\b1wojtow\\AppData\\Local\\Temp\\pip-build-env-2_4e5vpp\\overlay\\Lib\\site-packages\\setuptools\\_distutils\\dist.py:257: UserWarning: Unknown distribution option: 'define_macros'\n",
      "        warnings.warn(msg)\n",
      "      running dist_info\n",
      "      running build_src\n",
      "      build_src\n",
      "      building py_modules sources\n",
      "      creating build\n",
      "      creating build\\src.win-amd64-3.10\n",
      "      creating build\\src.win-amd64-3.10\\numpy\n",
      "      creating build\\src.win-amd64-3.10\\numpy\\distutils\n",
      "      building library \"npymath\" sources\n",
      "      error: Microsoft Visual C++ 14.0 or greater is required. Get it with \"Microsoft C++ Build Tools\": https://visualstudio.microsoft.com/visual-cpp-build-tools/\n",
      "      [end of output]\n",
      "  \n",
      "  note: This error originates from a subprocess, and is likely not a problem with pip.\n",
      "error: metadata-generation-failed\n",
      "\n",
      "× Encountered error while generating package metadata.\n",
      "╰─> See above for output.\n",
      "\n",
      "note: This is an issue with the package mentioned above, not pip.\n",
      "hint: See above for details.\n",
      "WARNING: There was an error checking the latest version of pip.\n"
     ]
    }
   ],
   "source": [
    "pip install lazypredict"
   ]
  },
  {
   "cell_type": "code",
   "execution_count": 11,
   "metadata": {},
   "outputs": [
    {
     "name": "stdout",
     "output_type": "stream",
     "text": [
      "Requirement already satisfied: optuna in c:\\users\\b1wojtow\\appdata\\local\\programs\\python\\python310\\lib\\site-packages (2.10.1)\n",
      "Requirement already satisfied: packaging>=20.0 in c:\\users\\b1wojtow\\appdata\\local\\programs\\python\\python310\\lib\\site-packages (from optuna) (21.3)\n",
      "Requirement already satisfied: colorlog in c:\\users\\b1wojtow\\appdata\\local\\programs\\python\\python310\\lib\\site-packages (from optuna) (6.6.0)\n",
      "Requirement already satisfied: cmaes>=0.8.2 in c:\\users\\b1wojtow\\appdata\\local\\programs\\python\\python310\\lib\\site-packages (from optuna) (0.8.2)\n",
      "Requirement already satisfied: tqdm in c:\\users\\b1wojtow\\appdata\\local\\programs\\python\\python310\\lib\\site-packages (from optuna) (4.64.0)\n",
      "Requirement already satisfied: scipy!=1.4.0 in c:\\users\\b1wojtow\\appdata\\local\\programs\\python\\python310\\lib\\site-packages (from optuna) (1.8.1)\n",
      "Requirement already satisfied: cliff in c:\\users\\b1wojtow\\appdata\\local\\programs\\python\\python310\\lib\\site-packages (from optuna) (3.10.1)\n",
      "Requirement already satisfied: PyYAML in c:\\users\\b1wojtow\\appdata\\local\\programs\\python\\python310\\lib\\site-packages (from optuna) (5.3.1)\n",
      "Requirement already satisfied: numpy in c:\\users\\b1wojtow\\appdata\\local\\programs\\python\\python310\\lib\\site-packages (from optuna) (1.22.3)\n",
      "Requirement already satisfied: sqlalchemy>=1.1.0 in c:\\users\\b1wojtow\\appdata\\local\\programs\\python\\python310\\lib\\site-packages (from optuna) (1.4.36)\n",
      "Requirement already satisfied: alembic in c:\\users\\b1wojtow\\appdata\\local\\programs\\python\\python310\\lib\\site-packages (from optuna) (1.7.7)\n",
      "Requirement already satisfied: pyparsing!=3.0.5,>=2.0.2 in c:\\users\\b1wojtow\\appdata\\local\\programs\\python\\python310\\lib\\site-packages (from packaging>=20.0->optuna) (3.0.8)\n",
      "Requirement already satisfied: greenlet!=0.4.17 in c:\\users\\b1wojtow\\appdata\\local\\programs\\python\\python310\\lib\\site-packages (from sqlalchemy>=1.1.0->optuna) (1.1.2)\n",
      "Requirement already satisfied: Mako in c:\\users\\b1wojtow\\appdata\\local\\programs\\python\\python310\\lib\\site-packages (from alembic->optuna) (1.2.0)\n",
      "Requirement already satisfied: cmd2>=1.0.0 in c:\\users\\b1wojtow\\appdata\\local\\programs\\python\\python310\\lib\\site-packages (from cliff->optuna) (2.4.1)\n",
      "Requirement already satisfied: autopage>=0.4.0 in c:\\users\\b1wojtow\\appdata\\local\\programs\\python\\python310\\lib\\site-packages (from cliff->optuna) (0.5.1)\n",
      "Requirement already satisfied: PrettyTable>=0.7.2 in c:\\users\\b1wojtow\\appdata\\local\\programs\\python\\python310\\lib\\site-packages (from cliff->optuna) (3.3.0)\n",
      "Requirement already satisfied: stevedore>=2.0.1 in c:\\users\\b1wojtow\\appdata\\local\\programs\\python\\python310\\lib\\site-packages (from cliff->optuna) (3.5.0)\n",
      "Requirement already satisfied: pbr!=2.1.0,>=2.0.0 in c:\\users\\b1wojtow\\appdata\\local\\programs\\python\\python310\\lib\\site-packages (from cliff->optuna) (5.9.0)\n",
      "Requirement already satisfied: colorama in c:\\users\\b1wojtow\\appdata\\local\\programs\\python\\python310\\lib\\site-packages (from colorlog->optuna) (0.4.4)\n",
      "Requirement already satisfied: pyreadline3 in c:\\users\\b1wojtow\\appdata\\local\\programs\\python\\python310\\lib\\site-packages (from cmd2>=1.0.0->cliff->optuna) (3.4.1)\n",
      "Requirement already satisfied: attrs>=16.3.0 in c:\\users\\b1wojtow\\appdata\\local\\programs\\python\\python310\\lib\\site-packages (from cmd2>=1.0.0->cliff->optuna) (21.4.0)\n",
      "Requirement already satisfied: wcwidth>=0.1.7 in c:\\users\\b1wojtow\\appdata\\local\\programs\\python\\python310\\lib\\site-packages (from cmd2>=1.0.0->cliff->optuna) (0.2.5)\n",
      "Requirement already satisfied: pyperclip>=1.6 in c:\\users\\b1wojtow\\appdata\\local\\programs\\python\\python310\\lib\\site-packages (from cmd2>=1.0.0->cliff->optuna) (1.8.2)\n",
      "Requirement already satisfied: MarkupSafe>=0.9.2 in c:\\users\\b1wojtow\\appdata\\local\\programs\\python\\python310\\lib\\site-packages (from Mako->alembic->optuna) (2.1.1)\n",
      "Note: you may need to restart the kernel to use updated packages.\n"
     ]
    },
    {
     "name": "stderr",
     "output_type": "stream",
     "text": [
      "WARNING: There was an error checking the latest version of pip.\n"
     ]
    }
   ],
   "source": [
    "pip install optuna"
   ]
  },
  {
   "cell_type": "code",
   "execution_count": null,
   "metadata": {},
   "outputs": [],
   "source": []
  }
 ],
 "metadata": {
  "kernelspec": {
   "display_name": "Python 3.10.2 64-bit",
   "language": "python",
   "name": "python3"
  },
  "language_info": {
   "codemirror_mode": {
    "name": "ipython",
    "version": 3
   },
   "file_extension": ".py",
   "mimetype": "text/x-python",
   "name": "python",
   "nbconvert_exporter": "python",
   "pygments_lexer": "ipython3",
   "version": "3.10.2"
  },
  "vscode": {
   "interpreter": {
    "hash": "6a74854dbd35b3b1e1641f2d717929c6b738adcdd3262c03fe72ebc0e6c9a894"
   }
  }
 },
 "nbformat": 4,
 "nbformat_minor": 4
}
