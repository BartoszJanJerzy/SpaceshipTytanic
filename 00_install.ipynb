{
 "cells": [
  {
   "cell_type": "markdown",
   "metadata": {},
   "source": [
    "# Install"
   ]
  },
  {
   "cell_type": "code",
   "execution_count": 1,
   "metadata": {},
   "outputs": [
    {
     "name": "stdout",
     "output_type": "stream",
     "text": [
      "^C\n",
      "Note: you may need to restart the kernel to use updated packages.\n"
     ]
    }
   ],
   "source": [
    "pip install pandas"
   ]
  },
  {
   "cell_type": "code",
   "execution_count": 2,
   "metadata": {
    "collapsed": true
   },
   "outputs": [
    {
     "name": "stdout",
     "output_type": "stream",
     "text": [
      "Requirement already satisfied: numpy in c:\\users\\b1wojtow\\anaconda3\\lib\\site-packages (1.19.5)\n",
      "Note: you may need to restart the kernel to use updated packages.\n"
     ]
    }
   ],
   "source": [
    "pip install numpy"
   ]
  },
  {
   "cell_type": "code",
   "execution_count": 3,
   "metadata": {
    "collapsed": true
   },
   "outputs": [
    {
     "name": "stdout",
     "output_type": "stream",
     "text": [
      "Requirement already satisfied: plotly in c:\\users\\b1wojtow\\anaconda3\\lib\\site-packages (5.3.1)\n",
      "Requirement already satisfied: tenacity>=6.2.0 in c:\\users\\b1wojtow\\anaconda3\\lib\\site-packages (from plotly) (8.0.1)\n",
      "Requirement already satisfied: six in c:\\users\\b1wojtow\\anaconda3\\lib\\site-packages (from plotly) (1.15.0)\n",
      "Note: you may need to restart the kernel to use updated packages.\n"
     ]
    }
   ],
   "source": [
    "pip install plotly"
   ]
  },
  {
   "cell_type": "code",
   "execution_count": 4,
   "metadata": {
    "collapsed": true
   },
   "outputs": [
    {
     "name": "stdout",
     "output_type": "stream",
     "text": [
      "Requirement already satisfied: sklearn in c:\\users\\b1wojtow\\anaconda3\\lib\\site-packages (0.0)\n",
      "Requirement already satisfied: scikit-learn in c:\\users\\b1wojtow\\anaconda3\\lib\\site-packages (from sklearn) (0.24.1)\n",
      "Requirement already satisfied: threadpoolctl>=2.0.0 in c:\\users\\b1wojtow\\anaconda3\\lib\\site-packages (from scikit-learn->sklearn) (2.1.0)\n",
      "Requirement already satisfied: scipy>=0.19.1 in c:\\users\\b1wojtow\\anaconda3\\lib\\site-packages (from scikit-learn->sklearn) (1.6.2)\n",
      "Requirement already satisfied: numpy>=1.13.3 in c:\\users\\b1wojtow\\anaconda3\\lib\\site-packages (from scikit-learn->sklearn) (1.19.5)\n",
      "Requirement already satisfied: joblib>=0.11 in c:\\users\\b1wojtow\\anaconda3\\lib\\site-packages (from scikit-learn->sklearn) (1.0.1)\n",
      "Note: you may need to restart the kernel to use updated packages.\n"
     ]
    }
   ],
   "source": [
    "pip install sklearn"
   ]
  },
  {
   "cell_type": "code",
   "execution_count": 5,
   "metadata": {
    "collapsed": true
   },
   "outputs": [
    {
     "name": "stdout",
     "output_type": "stream",
     "text": [
      "Collecting lightgbm\n",
      "  Downloading lightgbm-3.3.2-py3-none-win_amd64.whl (1.0 MB)\n",
      "Requirement already satisfied: scipy in c:\\users\\b1wojtow\\anaconda3\\lib\\site-packages (from lightgbm) (1.6.2)\n",
      "Requirement already satisfied: scikit-learn!=0.22.0 in c:\\users\\b1wojtow\\anaconda3\\lib\\site-packages (from lightgbm) (0.24.1)\n",
      "Requirement already satisfied: wheel in c:\\users\\b1wojtow\\anaconda3\\lib\\site-packages (from lightgbm) (0.36.2)\n",
      "Requirement already satisfied: numpy in c:\\users\\b1wojtow\\anaconda3\\lib\\site-packages (from lightgbm) (1.19.5)\n",
      "Requirement already satisfied: threadpoolctl>=2.0.0 in c:\\users\\b1wojtow\\anaconda3\\lib\\site-packages (from scikit-learn!=0.22.0->lightgbm) (2.1.0)\n",
      "Requirement already satisfied: joblib>=0.11 in c:\\users\\b1wojtow\\anaconda3\\lib\\site-packages (from scikit-learn!=0.22.0->lightgbm) (1.0.1)\n",
      "Installing collected packages: lightgbm\n",
      "Successfully installed lightgbm-3.3.2\n",
      "Note: you may need to restart the kernel to use updated packages.\n"
     ]
    }
   ],
   "source": [
    "pip install lightgbm"
   ]
  },
  {
   "cell_type": "code",
   "execution_count": 6,
   "metadata": {
    "collapsed": true
   },
   "outputs": [
    {
     "name": "stdout",
     "output_type": "stream",
     "text": [
      "Collecting pytest-filter-subpackage\n",
      "  Downloading pytest_filter_subpackage-0.1.1-py2.py3-none-any.whl (5.1 kB)\n",
      "Requirement already satisfied: pytest>=3.0 in c:\\users\\b1wojtow\\anaconda3\\lib\\site-packages (from pytest-filter-subpackage) (6.2.3)\n",
      "Requirement already satisfied: attrs>=19.2.0 in c:\\users\\b1wojtow\\anaconda3\\lib\\site-packages (from pytest>=3.0->pytest-filter-subpackage) (20.3.0)\n",
      "Requirement already satisfied: iniconfig in c:\\users\\b1wojtow\\anaconda3\\lib\\site-packages (from pytest>=3.0->pytest-filter-subpackage) (1.1.1)\n",
      "Requirement already satisfied: packaging in c:\\users\\b1wojtow\\anaconda3\\lib\\site-packages (from pytest>=3.0->pytest-filter-subpackage) (20.9)\n",
      "Requirement already satisfied: pluggy<1.0.0a1,>=0.12 in c:\\users\\b1wojtow\\anaconda3\\lib\\site-packages (from pytest>=3.0->pytest-filter-subpackage) (0.13.1)\n",
      "Requirement already satisfied: py>=1.8.2 in c:\\users\\b1wojtow\\anaconda3\\lib\\site-packages (from pytest>=3.0->pytest-filter-subpackage) (1.10.0)\n",
      "Requirement already satisfied: toml in c:\\users\\b1wojtow\\anaconda3\\lib\\site-packages (from pytest>=3.0->pytest-filter-subpackage) (0.10.2)\n",
      "Requirement already satisfied: atomicwrites>=1.0 in c:\\users\\b1wojtow\\anaconda3\\lib\\site-packages (from pytest>=3.0->pytest-filter-subpackage) (1.4.0)\n",
      "Requirement already satisfied: colorama in c:\\users\\b1wojtow\\anaconda3\\lib\\site-packages (from pytest>=3.0->pytest-filter-subpackage) (0.4.4)\n",
      "Requirement already satisfied: pyparsing>=2.0.2 in c:\\users\\b1wojtow\\anaconda3\\lib\\site-packages (from packaging->pytest>=3.0->pytest-filter-subpackage) (2.4.7)\n",
      "Installing collected packages: pytest-filter-subpackage\n",
      "Successfully installed pytest-filter-subpackage-0.1.1\n",
      "Note: you may need to restart the kernel to use updated packages.\n"
     ]
    }
   ],
   "source": [
    "pip install \"pytest-filter-subpackage\""
   ]
  },
  {
   "cell_type": "code",
   "execution_count": 7,
   "metadata": {
    "collapsed": true
   },
   "outputs": [
    {
     "name": "stdout",
     "output_type": "stream",
     "text": [
      "Collecting pytest-covNote: you may need to restart the kernel to use updated packages.\n",
      "  Downloading pytest_cov-3.0.0-py3-none-any.whl (20 kB)\n",
      "Requirement already satisfied: pytest>=4.6 in c:\\users\\b1wojtow\\anaconda3\\lib\\site-packages (from pytest-cov) (6.2.3)\n",
      "Collecting coverage[toml]>=5.2.1\n",
      "  Downloading coverage-6.3.2-cp38-cp38-win_amd64.whl (187 kB)\n",
      "Collecting tomli\n",
      "  Using cached tomli-2.0.1-py3-none-any.whl (12 kB)\n",
      "Requirement already satisfied: attrs>=19.2.0 in c:\\users\\b1wojtow\\anaconda3\\lib\\site-packages (from pytest>=4.6->pytest-cov) (20.3.0)\n",
      "Requirement already satisfied: iniconfig in c:\\users\\b1wojtow\\anaconda3\\lib\\site-packages (from pytest>=4.6->pytest-cov) (1.1.1)\n",
      "Requirement already satisfied: packaging in c:\\users\\b1wojtow\\anaconda3\\lib\\site-packages (from pytest>=4.6->pytest-cov) (20.9)\n",
      "Requirement already satisfied: pluggy<1.0.0a1,>=0.12 in c:\\users\\b1wojtow\\anaconda3\\lib\\site-packages (from pytest>=4.6->pytest-cov) (0.13.1)\n",
      "Requirement already satisfied: py>=1.8.2 in c:\\users\\b1wojtow\\anaconda3\\lib\\site-packages (from pytest>=4.6->pytest-cov) (1.10.0)\n",
      "Requirement already satisfied: toml in c:\\users\\b1wojtow\\anaconda3\\lib\\site-packages (from pytest>=4.6->pytest-cov) (0.10.2)\n",
      "Requirement already satisfied: atomicwrites>=1.0 in c:\\users\\b1wojtow\\anaconda3\\lib\\site-packages (from pytest>=4.6->pytest-cov) (1.4.0)\n",
      "Requirement already satisfied: colorama in c:\\users\\b1wojtow\\anaconda3\\lib\\site-packages (from pytest>=4.6->pytest-cov) (0.4.4)\n",
      "Requirement already satisfied: pyparsing>=2.0.2 in c:\\users\\b1wojtow\\anaconda3\\lib\\site-packages (from packaging->pytest>=4.6->pytest-cov) (2.4.7)\n",
      "Installing collected packages: tomli, coverage, pytest-cov\n",
      "Successfully installed coverage-6.3.2 pytest-cov-3.0.0 tomli-2.0.1\n",
      "\n"
     ]
    }
   ],
   "source": [
    "pip install pytest-cov"
   ]
  },
  {
   "cell_type": "code",
   "execution_count": 8,
   "metadata": {
    "collapsed": true
   },
   "outputs": [
    {
     "name": "stdout",
     "output_type": "stream",
     "text": [
      "Requirement already satisfied: astroid in c:\\users\\b1wojtow\\anaconda3\\lib\\site-packages (2.5)\n",
      "Requirement already satisfied: wrapt<1.13,>=1.11 in c:\\users\\b1wojtow\\anaconda3\\lib\\site-packages (from astroid) (1.12.1)\n",
      "Requirement already satisfied: lazy-object-proxy>=1.4.0 in c:\\users\\b1wojtow\\anaconda3\\lib\\site-packages (from astroid) (1.6.0)\n",
      "Note: you may need to restart the kernel to use updated packages.\n"
     ]
    }
   ],
   "source": [
    "pip install astroid"
   ]
  },
  {
   "cell_type": "code",
   "execution_count": 9,
   "metadata": {
    "collapsed": true
   },
   "outputs": [
    {
     "name": "stdout",
     "output_type": "stream",
     "text": [
      "Collecting PyYAML==5.3.1Note: you may need to restart the kernel to use updated packages.\n"
     ]
    },
    {
     "name": "stderr",
     "output_type": "stream",
     "text": [
      "ERROR: pip's dependency resolver does not currently take into account all the packages that are installed. This behaviour is the source of the following dependency conflicts.\n",
      "conda-repo-cli 1.0.4 requires pathlib, which is not installed.\n"
     ]
    },
    {
     "name": "stdout",
     "output_type": "stream",
     "text": [
      "\n",
      "  Downloading PyYAML-5.3.1-cp38-cp38-win_amd64.whl (219 kB)\n",
      "Installing collected packages: PyYAML\n",
      "  Attempting uninstall: PyYAML\n",
      "    Found existing installation: PyYAML 5.4.1\n",
      "    Uninstalling PyYAML-5.4.1:\n",
      "      Successfully uninstalled PyYAML-5.4.1\n",
      "Successfully installed PyYAML-5.3.1\n"
     ]
    }
   ],
   "source": [
    "pip install PyYAML==5.3.1"
   ]
  },
  {
   "cell_type": "code",
   "execution_count": 10,
   "metadata": {
    "collapsed": true
   },
   "outputs": [
    {
     "name": "stdout",
     "output_type": "stream",
     "text": [
      "Collecting lazypredict\n",
      "  Downloading lazypredict-0.2.9-py2.py3-none-any.whl (12 kB)\n",
      "Collecting pytest==5.4.3\n",
      "  Downloading pytest-5.4.3-py3-none-any.whl (248 kB)\n",
      "Collecting xgboost==1.1.1\n",
      "  Downloading xgboost-1.1.1-py3-none-win_amd64.whl (54.4 MB)\n",
      "Collecting lightgbm==2.3.1\n",
      "  Downloading lightgbm-2.3.1-py2.py3-none-win_amd64.whl (544 kB)\n",
      "Requirement already satisfied: PyYAML==5.3.1 in c:\\users\\b1wojtow\\anaconda3\\lib\\site-packages (from lazypredict) (5.3.1)\n",
      "Collecting joblib==1.0.0\n",
      "  Downloading joblib-1.0.0-py3-none-any.whl (302 kB)\n",
      "Requirement already satisfied: six==1.15.0 in c:\\users\\b1wojtow\\anaconda3\\lib\\site-packages (from lazypredict) (1.15.0)\n",
      "Requirement already satisfied: click==7.1.2 in c:\\users\\b1wojtow\\anaconda3\\lib\\site-packages (from lazypredict) (7.1.2)\n",
      "Collecting tqdm==4.56.0\n",
      "  Downloading tqdm-4.56.0-py2.py3-none-any.whl (72 kB)\n",
      "Collecting numpy==1.19.1\n",
      "  Downloading numpy-1.19.1-cp38-cp38-win_amd64.whl (13.0 MB)\n",
      "Collecting scipy==1.5.4\n",
      "  Downloading scipy-1.5.4-cp38-cp38-win_amd64.whl (31.4 MB)\n",
      "Collecting pandas==1.0.5\n",
      "  Downloading pandas-1.0.5-cp38-cp38-win_amd64.whl (8.9 MB)\n",
      "Collecting scikit-learn==0.23.1\n",
      "  Downloading scikit_learn-0.23.1-cp38-cp38-win_amd64.whl (6.8 MB)\n",
      "Requirement already satisfied: python-dateutil>=2.6.1 in c:\\users\\b1wojtow\\anaconda3\\lib\\site-packages (from pandas==1.0.5->lazypredict) (2.8.1)\n",
      "Requirement already satisfied: pytz>=2017.2 in c:\\users\\b1wojtow\\anaconda3\\lib\\site-packages (from pandas==1.0.5->lazypredict) (2021.1)\n",
      "Requirement already satisfied: pluggy<1.0,>=0.12 in c:\\users\\b1wojtow\\anaconda3\\lib\\site-packages (from pytest==5.4.3->lazypredict) (0.13.1)\n",
      "Requirement already satisfied: wcwidth in c:\\users\\b1wojtow\\anaconda3\\lib\\site-packages (from pytest==5.4.3->lazypredict) (0.2.5)\n",
      "Requirement already satisfied: py>=1.5.0 in c:\\users\\b1wojtow\\anaconda3\\lib\\site-packages (from pytest==5.4.3->lazypredict) (1.10.0)\n",
      "Requirement already satisfied: packaging in c:\\users\\b1wojtow\\anaconda3\\lib\\site-packages (from pytest==5.4.3->lazypredict) (20.9)\n",
      "Requirement already satisfied: colorama in c:\\users\\b1wojtow\\anaconda3\\lib\\site-packages (from pytest==5.4.3->lazypredict) (0.4.4)\n",
      "Requirement already satisfied: more-itertools>=4.0.0 in c:\\users\\b1wojtow\\anaconda3\\lib\\site-packages (from pytest==5.4.3->lazypredict) (8.7.0)\n",
      "Requirement already satisfied: atomicwrites>=1.0 in c:\\users\\b1wojtow\\anaconda3\\lib\\site-packages (from pytest==5.4.3->lazypredict) (1.4.0)\n",
      "Requirement already satisfied: attrs>=17.4.0 in c:\\users\\b1wojtow\\anaconda3\\lib\\site-packages (from pytest==5.4.3->lazypredict) (20.3.0)\n",
      "Requirement already satisfied: threadpoolctl>=2.0.0 in c:\\users\\b1wojtow\\anaconda3\\lib\\site-packages (from scikit-learn==0.23.1->lazypredict) (2.1.0)\n",
      "Requirement already satisfied: pyparsing>=2.0.2 in c:\\users\\b1wojtow\\anaconda3\\lib\\site-packages (from packaging->pytest==5.4.3->lazypredict) (2.4.7)\n",
      "Installing collected packages: numpy, scipy, joblib, scikit-learn, xgboost, tqdm, pytest, pandas, lightgbm, lazypredict\n",
      "  Attempting uninstall: numpy\n",
      "    Found existing installation: numpy 1.19.5\n",
      "    Uninstalling numpy-1.19.5:\n",
      "      Successfully uninstalled numpy-1.19.5\n",
      "  Attempting uninstall: scipy\n",
      "    Found existing installation: scipy 1.6.2\n",
      "    Uninstalling scipy-1.6.2:\n",
      "      Successfully uninstalled scipy-1.6.2\n",
      "  Attempting uninstall: joblib\n",
      "    Found existing installation: joblib 1.0.1\n",
      "    Uninstalling joblib-1.0.1:\n",
      "      Successfully uninstalled joblib-1.0.1\n",
      "  Attempting uninstall: scikit-learn\n",
      "    Found existing installation: scikit-learn 0.24.1\n",
      "    Uninstalling scikit-learn-0.24.1:\n",
      "      Successfully uninstalled scikit-learn-0.24.1\n",
      "  Attempting uninstall: tqdm\n",
      "    Found existing installation: tqdm 4.59.0\n",
      "    Uninstalling tqdm-4.59.0:\n",
      "      Successfully uninstalled tqdm-4.59.0\n",
      "  Attempting uninstall: pytest\n",
      "    Found existing installation: pytest 6.2.3\n",
      "    Uninstalling pytest-6.2.3:\n",
      "      Successfully uninstalled pytest-6.2.3\n",
      "  Attempting uninstall: pandas\n",
      "    Found existing installation: pandas 1.1.5\n",
      "    Uninstalling pandas-1.1.5:\n",
      "      Successfully uninstalled pandas-1.1.5\n",
      "  Attempting uninstall: lightgbm\n",
      "    Found existing installation: lightgbm 3.3.2\n",
      "    Uninstalling lightgbm-3.3.2:\n",
      "      Successfully uninstalled lightgbm-3.3.2\n",
      "Successfully installed joblib-1.0.0 lazypredict-0.2.9 lightgbm-2.3.1 numpy-1.19.1 pandas-1.4.1 pytest-5.4.3 scikit-learn-0.23.1 scipy-1.5.4 tqdm-4.56.0 xgboost-1.1.1\n",
      "Note: you may need to restart the kernel to use updated packages.\n"
     ]
    },
    {
     "name": "stderr",
     "output_type": "stream",
     "text": [
      "ERROR: pip's dependency resolver does not currently take into account all the packages that are installed. This behaviour is the source of the following dependency conflicts.\n",
      "assecobs-mate 2.49.10 requires numpy~=1.19.5, but you have numpy 1.19.1 which is incompatible.\n",
      "assecobs-mate 2.49.10 requires pandas~=1.1.5, but you have pandas 1.0.5 which is incompatible.\n",
      "geoviews 1.9.1 requires bokeh<2.4,>=2.3.0, but you have bokeh 2.4.1 which is incompatible.\n"
     ]
    }
   ],
   "source": [
    "pip install lazypredict"
   ]
  },
  {
   "cell_type": "code",
   "execution_count": 1,
   "metadata": {},
   "outputs": [
    {
     "name": "stdout",
     "output_type": "stream",
     "text": [
      "Collecting optuna\n",
      "  Downloading optuna-2.10.0-py3-none-any.whl (308 kB)\n",
      "Collecting cmaes>=0.8.2\n",
      "  Downloading cmaes-0.8.2-py3-none-any.whl (15 kB)\n",
      "Collecting colorlog\n",
      "  Downloading colorlog-6.6.0-py2.py3-none-any.whl (11 kB)\n",
      "Requirement already satisfied: numpy in c:\\users\\b1wojtow\\anaconda3\\lib\\site-packages (from optuna) (1.19.1)\n",
      "Requirement already satisfied: sqlalchemy>=1.1.0 in c:\\users\\b1wojtow\\anaconda3\\lib\\site-packages (from optuna) (1.4.7)\n",
      "Requirement already satisfied: PyYAML in c:\\users\\b1wojtow\\anaconda3\\lib\\site-packages (from optuna) (5.3.1)\n",
      "Collecting cliff\n",
      "  Downloading cliff-3.10.1-py3-none-any.whl (81 kB)\n",
      "Requirement already satisfied: tqdm in c:\\users\\b1wojtow\\anaconda3\\lib\\site-packages (from optuna) (4.56.0)\n",
      "Requirement already satisfied: packaging>=20.0 in c:\\users\\b1wojtow\\anaconda3\\lib\\site-packages (from optuna) (20.9)\n",
      "Requirement already satisfied: scipy!=1.4.0 in c:\\users\\b1wojtow\\anaconda3\\lib\\site-packages (from optuna) (1.5.4)\n",
      "Collecting alembic\n",
      "  Downloading alembic-1.7.7-py3-none-any.whl (210 kB)\n",
      "Requirement already satisfied: pyparsing>=2.0.2 in c:\\users\\b1wojtow\\anaconda3\\lib\\site-packages (from packaging>=20.0->optuna) (2.4.7)\n",
      "Requirement already satisfied: greenlet!=0.4.17 in c:\\users\\b1wojtow\\anaconda3\\lib\\site-packages (from sqlalchemy>=1.1.0->optuna) (1.0.0)\n",
      "Requirement already satisfied: importlib-metadata in c:\\users\\b1wojtow\\anaconda3\\lib\\site-packages (from alembic->optuna) (3.10.0)\n",
      "Collecting Mako\n",
      "  Downloading Mako-1.2.0-py3-none-any.whl (78 kB)\n",
      "Collecting importlib-resources\n",
      "  Downloading importlib_resources-5.4.0-py3-none-any.whl (28 kB)\n",
      "Collecting autopage>=0.4.0\n",
      "  Downloading autopage-0.5.0-py3-none-any.whl (29 kB)\n",
      "Collecting PrettyTable>=0.7.2\n",
      "  Downloading prettytable-3.2.0-py3-none-any.whl (26 kB)\n",
      "Collecting cmd2>=1.0.0\n",
      "  Downloading cmd2-2.4.0-py3-none-any.whl (150 kB)\n",
      "Collecting stevedore>=2.0.1\n",
      "  Downloading stevedore-3.5.0-py3-none-any.whl (49 kB)\n",
      "Collecting pbr!=2.1.0,>=2.0.0\n",
      "  Downloading pbr-5.8.1-py2.py3-none-any.whl (113 kB)\n",
      "Requirement already satisfied: attrs>=16.3.0 in c:\\users\\b1wojtow\\anaconda3\\lib\\site-packages (from cmd2>=1.0.0->cliff->optuna) (20.3.0)\n",
      "Requirement already satisfied: wcwidth>=0.1.7 in c:\\users\\b1wojtow\\anaconda3\\lib\\site-packages (from cmd2>=1.0.0->cliff->optuna) (0.2.5)\n",
      "Collecting pyreadline3\n",
      "  Downloading pyreadline3-3.4.1-py3-none-any.whl (95 kB)\n",
      "Collecting pyperclip>=1.6\n",
      "  Downloading pyperclip-1.8.2.tar.gz (20 kB)\n",
      "Requirement already satisfied: colorama in c:\\users\\b1wojtow\\anaconda3\\lib\\site-packages (from colorlog->optuna) (0.4.4)\n",
      "Requirement already satisfied: zipp>=0.5 in c:\\users\\b1wojtow\\anaconda3\\lib\\site-packages (from importlib-metadata->alembic->optuna) (3.4.1)\n",
      "Requirement already satisfied: MarkupSafe>=0.9.2 in c:\\users\\b1wojtow\\anaconda3\\lib\\site-packages (from Mako->alembic->optuna) (1.1.1)\n",
      "Building wheels for collected packages: pyperclip\n",
      "  Building wheel for pyperclip (setup.py): started\n",
      "  Building wheel for pyperclip (setup.py): finished with status 'done'\n",
      "  Created wheel for pyperclip: filename=pyperclip-1.8.2-py3-none-any.whl size=11107 sha256=056f495714e20dd7eeade0a933354f282c037288c5634507bd3e986c432f65b2\n",
      "  Stored in directory: c:\\users\\b1wojtow\\appdata\\local\\pip\\cache\\wheels\\7f\\1a\\65\\84ff8c386bec21fca6d220ea1f5498a0367883a78dd5ba6122\n",
      "Successfully built pyperclip\n",
      "Installing collected packages: pyreadline3, pyperclip, pbr, stevedore, PrettyTable, Mako, importlib-resources, cmd2, autopage, colorlog, cmaes, cliff, alembic, optuna\n",
      "Successfully installed Mako-1.2.0 PrettyTable-3.2.0 alembic-1.7.7 autopage-0.5.0 cliff-3.10.1 cmaes-0.8.2 cmd2-2.4.0 colorlog-6.6.0 importlib-resources-5.4.0 optuna-2.10.0 pbr-5.8.1 pyperclip-1.8.2 pyreadline3-3.4.1 stevedore-3.5.0\n",
      "Note: you may need to restart the kernel to use updated packages.\n"
     ]
    }
   ],
   "source": [
    "pip install optuna"
   ]
  },
  {
   "cell_type": "code",
   "execution_count": null,
   "metadata": {},
   "outputs": [],
   "source": []
  }
 ],
 "metadata": {
  "kernelspec": {
   "display_name": "Python 3",
   "language": "python",
   "name": "python3"
  },
  "language_info": {
   "codemirror_mode": {
    "name": "ipython",
    "version": 3
   },
   "file_extension": ".py",
   "mimetype": "text/x-python",
   "name": "python",
   "nbconvert_exporter": "python",
   "pygments_lexer": "ipython3",
   "version": "3.8.8"
  }
 },
 "nbformat": 4,
 "nbformat_minor": 4
}
