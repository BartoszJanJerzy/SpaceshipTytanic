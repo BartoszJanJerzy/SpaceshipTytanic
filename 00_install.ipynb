{
 "cells": [
  {
   "cell_type": "markdown",
   "metadata": {},
   "source": [
    "# Install"
   ]
  },
  {
   "cell_type": "code",
   "execution_count": null,
   "metadata": {},
   "outputs": [],
   "source": [
    "pip install pandas"
   ]
  },
  {
   "cell_type": "code",
   "execution_count": null,
   "metadata": {},
   "outputs": [],
   "source": [
    "pip install numpy"
   ]
  },
  {
   "cell_type": "code",
   "execution_count": null,
   "metadata": {},
   "outputs": [],
   "source": [
    "pip install plotly"
   ]
  },
  {
   "cell_type": "code",
   "execution_count": null,
   "metadata": {},
   "outputs": [],
   "source": [
    "pip install sklearn"
   ]
  },
  {
   "cell_type": "code",
   "execution_count": null,
   "metadata": {},
   "outputs": [],
   "source": [
    "pip install lightgbm"
   ]
  },
  {
   "cell_type": "code",
   "execution_count": null,
   "metadata": {},
   "outputs": [],
   "source": [
    "pip install \"pytest-filter-subpackage\""
   ]
  },
  {
   "cell_type": "code",
   "execution_count": null,
   "metadata": {},
   "outputs": [],
   "source": [
    "pip install pytest-cov"
   ]
  },
  {
   "cell_type": "code",
   "execution_count": null,
   "metadata": {},
   "outputs": [],
   "source": [
    "pip install astroid"
   ]
  },
  {
   "cell_type": "code",
   "execution_count": null,
   "metadata": {},
   "outputs": [],
   "source": [
    "pip install PyYAML==5.3.1"
   ]
  },
  {
   "cell_type": "code",
   "execution_count": 2,
   "metadata": {},
   "outputs": [
    {
     "name": "stdout",
     "output_type": "stream",
     "text": [
      "Requirement already satisfied: lazypredict in c:\\users\\tytanowybartosz\\anaconda3\\lib\\site-packages (0.2.9)\n",
      "Requirement already satisfied: lightgbm==2.3.1 in c:\\users\\tytanowybartosz\\anaconda3\\lib\\site-packages (from lazypredict) (2.3.1)\n",
      "Requirement already satisfied: xgboost==1.1.1 in c:\\users\\tytanowybartosz\\anaconda3\\lib\\site-packages (from lazypredict) (1.1.1)\n",
      "Requirement already satisfied: tqdm==4.56.0 in c:\\users\\tytanowybartosz\\anaconda3\\lib\\site-packages (from lazypredict) (4.56.0)\n",
      "Requirement already satisfied: pytest==5.4.3 in c:\\users\\tytanowybartosz\\anaconda3\\lib\\site-packages (from lazypredict) (5.4.3)\n",
      "Requirement already satisfied: pandas==1.0.5 in c:\\users\\tytanowybartosz\\anaconda3\\lib\\site-packages (from lazypredict) (1.0.5)\n",
      "Requirement already satisfied: scipy==1.5.4 in c:\\users\\tytanowybartosz\\anaconda3\\lib\\site-packages (from lazypredict) (1.5.4)\n",
      "Requirement already satisfied: six==1.15.0 in c:\\users\\tytanowybartosz\\anaconda3\\lib\\site-packages (from lazypredict) (1.15.0)\n",
      "Requirement already satisfied: scikit-learn==0.23.1 in c:\\users\\tytanowybartosz\\anaconda3\\lib\\site-packages (from lazypredict) (0.23.1)\n",
      "Requirement already satisfied: PyYAML==5.3.1 in c:\\users\\tytanowybartosz\\anaconda3\\lib\\site-packages (from lazypredict) (5.3.1)\n",
      "Requirement already satisfied: joblib==1.0.0 in c:\\users\\tytanowybartosz\\anaconda3\\lib\\site-packages (from lazypredict) (1.0.0)\n",
      "Requirement already satisfied: numpy==1.19.1 in c:\\users\\tytanowybartosz\\anaconda3\\lib\\site-packages (from lazypredict) (1.19.1)\n",
      "Requirement already satisfied: click==7.1.2 in c:\\users\\tytanowybartosz\\anaconda3\\lib\\site-packages (from lazypredict) (7.1.2)\n",
      "Requirement already satisfied: importlib-metadata>=0.12; python_version < \"3.8\" in c:\\users\\tytanowybartosz\\anaconda3\\lib\\site-packages (from pytest==5.4.3->lazypredict) (4.11.2)\n",
      "Requirement already satisfied: packaging in c:\\users\\tytanowybartosz\\anaconda3\\lib\\site-packages (from pytest==5.4.3->lazypredict) (21.3)\n",
      "Requirement already satisfied: py>=1.5.0 in c:\\users\\tytanowybartosz\\anaconda3\\lib\\site-packages (from pytest==5.4.3->lazypredict) (1.11.0)\n",
      "Requirement already satisfied: pluggy<1.0,>=0.12 in c:\\users\\tytanowybartosz\\anaconda3\\lib\\site-packages (from pytest==5.4.3->lazypredict) (0.13.1)\n",
      "Requirement already satisfied: atomicwrites>=1.0; sys_platform == \"win32\" in c:\\users\\tytanowybartosz\\anaconda3\\lib\\site-packages (from pytest==5.4.3->lazypredict) (1.4.0)\n",
      "Requirement already satisfied: wcwidth in c:\\users\\tytanowybartosz\\anaconda3\\lib\\site-packages (from pytest==5.4.3->lazypredict) (0.2.5)\n",
      "Requirement already satisfied: colorama; sys_platform == \"win32\" in c:\\users\\tytanowybartosz\\anaconda3\\lib\\site-packages (from pytest==5.4.3->lazypredict) (0.4.4)\n",
      "Requirement already satisfied: more-itertools>=4.0.0 in c:\\users\\tytanowybartosz\\anaconda3\\lib\\site-packages (from pytest==5.4.3->lazypredict) (8.12.0)\n",
      "Requirement already satisfied: attrs>=17.4.0 in c:\\users\\tytanowybartosz\\anaconda3\\lib\\site-packages (from pytest==5.4.3->lazypredict) (21.4.0)\n",
      "Requirement already satisfied: pytz>=2017.2 in c:\\users\\tytanowybartosz\\anaconda3\\lib\\site-packages (from pandas==1.0.5->lazypredict) (2021.3)\n",
      "Requirement already satisfied: python-dateutil>=2.6.1 in c:\\users\\tytanowybartosz\\anaconda3\\lib\\site-packages (from pandas==1.0.5->lazypredict) (2.8.2)\n",
      "Requirement already satisfied: threadpoolctl>=2.0.0 in c:\\users\\tytanowybartosz\\anaconda3\\lib\\site-packages (from scikit-learn==0.23.1->lazypredict) (3.1.0)\n",
      "Requirement already satisfied: typing-extensions>=3.6.4; python_version < \"3.8\" in c:\\users\\tytanowybartosz\\anaconda3\\lib\\site-packages (from importlib-metadata>=0.12; python_version < \"3.8\"->pytest==5.4.3->lazypredict) (4.1.1)\n",
      "Requirement already satisfied: zipp>=0.5 in c:\\users\\tytanowybartosz\\anaconda3\\lib\\site-packages (from importlib-metadata>=0.12; python_version < \"3.8\"->pytest==5.4.3->lazypredict) (3.7.0)\n",
      "Requirement already satisfied: pyparsing!=3.0.5,>=2.0.2 in c:\\users\\tytanowybartosz\\anaconda3\\lib\\site-packages (from packaging->pytest==5.4.3->lazypredict) (3.0.7)\n",
      "Note: you may need to restart the kernel to use updated packages.\n"
     ]
    }
   ],
   "source": [
    "pip install lazypredict"
   ]
  }
 ],
 "metadata": {
  "kernelspec": {
   "display_name": "Python 3",
   "language": "python",
   "name": "python3"
  },
  "language_info": {
   "codemirror_mode": {
    "name": "ipython",
    "version": 3
   },
   "file_extension": ".py",
   "mimetype": "text/x-python",
   "name": "python",
   "nbconvert_exporter": "python",
   "pygments_lexer": "ipython3",
   "version": "3.7.6"
  }
 },
 "nbformat": 4,
 "nbformat_minor": 4
}
