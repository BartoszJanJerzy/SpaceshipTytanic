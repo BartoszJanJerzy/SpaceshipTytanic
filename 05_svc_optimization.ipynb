{
 "cells": [
  {
   "cell_type": "markdown",
   "id": "4595696c",
   "metadata": {},
   "source": [
    "# SVC optimization"
   ]
  },
  {
   "cell_type": "code",
   "execution_count": 2,
   "id": "fbdca02b",
   "metadata": {},
   "outputs": [
    {
     "name": "stderr",
     "output_type": "stream",
     "text": [
      "c:\\Users\\b1wojtow\\AppData\\Local\\Programs\\Python\\Python310\\lib\\site-packages\\tqdm\\auto.py:22: TqdmWarning: IProgress not found. Please update jupyter and ipywidgets. See https://ipywidgets.readthedocs.io/en/stable/user_install.html\n",
      "  from .autonotebook import tqdm as notebook_tqdm\n"
     ]
    }
   ],
   "source": [
    "import pandas as pd\n",
    "import numpy as np\n",
    "from sklearn.svm import SVC\n",
    "from sklearn.metrics import classification_report, accuracy_score\n",
    "from sklearn.model_selection import cross_val_score\n",
    "from sklearn.feature_selection import mutual_info_classif, f_classif\n",
    "from sklearn.preprocessing import StandardScaler\n",
    "import optuna\n",
    "from optuna.visualization import plot_optimization_history, plot_param_importances, plot_slice, plot_parallel_coordinate\n",
    "import plotly.express as px\n",
    "import os\n",
    "import pickle"
   ]
  },
  {
   "cell_type": "code",
   "execution_count": 3,
   "id": "7c0d9735",
   "metadata": {},
   "outputs": [
    {
     "data": {
      "text/html": [
       "<style>.container { width:100% !important; }</style>"
      ],
      "text/plain": [
       "<IPython.core.display.HTML object>"
      ]
     },
     "metadata": {},
     "output_type": "display_data"
    }
   ],
   "source": [
    "from IPython.display import display, HTML\n",
    "display(HTML(\"<style>.container { width:100% !important; }</style>\"))"
   ]
  },
  {
   "cell_type": "code",
   "execution_count": 4,
   "id": "1f0e9602",
   "metadata": {},
   "outputs": [],
   "source": [
    "train_df = pd.read_feather('./data/train_processed.ftr')\n",
    "val_df = pd.read_feather('./data/val_processed.ftr')\n",
    "cols = list(train_df.columns)"
   ]
  },
  {
   "cell_type": "markdown",
   "id": "b6876728",
   "metadata": {},
   "source": [
    "## Prepare SVC model"
   ]
  },
  {
   "cell_type": "code",
   "execution_count": 6,
   "id": "7d3b51a9",
   "metadata": {},
   "outputs": [],
   "source": [
    "train_x = train_df[cols[:-1]].to_numpy()\n",
    "train_y = train_df[cols[-1]].to_numpy()\n",
    "val_x = val_df[cols[:-1]].to_numpy()\n",
    "val_y = val_df[cols[-1]].to_numpy()"
   ]
  },
  {
   "cell_type": "code",
   "execution_count": 7,
   "id": "e76e4fb5",
   "metadata": {},
   "outputs": [],
   "source": [
    "class ModelTester:\n",
    "    \n",
    "    def __init__(\n",
    "        self,\n",
    "        params: dict,\n",
    "        train_x: np.array,\n",
    "        train_y: np.array,\n",
    "        val_x: np.array,\n",
    "        val_y: np.array\n",
    "    ):\n",
    "        self.params = params\n",
    "        self.train_x = train_x\n",
    "        self.train_y = train_y\n",
    "        self.val_x = val_x\n",
    "        self.val_y = val_y\n",
    "        \n",
    "        self.model = self.train_model()\n",
    "        self.y_pred_bin = self.get_bin_predictions()\n",
    "            \n",
    "    def train_model(self):\n",
    "        # 1 - Run model\n",
    "        model = SVC(\n",
    "            C=self.params['C'],\n",
    "            kernel=self.params['kernel'],\n",
    "            degree=self.params['degree'],\n",
    "            gamma=self.params['gamma'],\n",
    "            coef0=self.params['coef0'],\n",
    "            shrinking=self.params['shrinking'],\n",
    "            tol=self.params['tol']\n",
    "        )\n",
    "        model.fit(self.train_x, self.train_y)\n",
    "        return model\n",
    "    \n",
    "    def get_bin_predictions(self):\n",
    "        # 2 - Get predictions\n",
    "        y_pred = self.model.predict(val_x)\n",
    "        y_pred_bin = [1 if y else 0 for y in y_pred]\n",
    "        \n",
    "        return y_pred_bin\n",
    "    \n",
    "    def get_accuracy(self):\n",
    "        return round(accuracy_score(self.val_y, self.y_pred_bin), 3)\n",
    "    \n",
    "    def get_class_report(self):\n",
    "        return classification_report(self.val_y, self.y_pred_bin)    "
   ]
  },
  {
   "cell_type": "markdown",
   "id": "89b6431f",
   "metadata": {},
   "source": [
    "## Optuna research"
   ]
  },
  {
   "cell_type": "code",
   "execution_count": 8,
   "id": "4f152fde",
   "metadata": {},
   "outputs": [],
   "source": [
    "def objective(trial):\n",
    "    # 0 - Prepare params\n",
    "    C = trial.suggest_float('C', 0.001, 100.)\n",
    "\n",
    "    \n",
    "    kernel = trial.suggest_categorical('kernel', ['linear', 'rbf', 'sigmoid'])\n",
    "    \n",
    "    degree = trial.suggest_int(\"degree\", 2, 10)\n",
    "    gamma= trial.suggest_categorical('gamma', ['scale', 'auto'])\n",
    "    coef0 = trial.suggest_float('coef0', 0.001, 10.)\n",
    "    shrinking = bool(trial.suggest_int('shrinking', 0, 2))\n",
    "    tol = trial.suggest_float('tol', 0.001, 1)\n",
    "    \n",
    "    params = {\n",
    "        'C': C,\n",
    "        'kernel': kernel,\n",
    "        'degree': degree,\n",
    "        'gamma': gamma,\n",
    "        'coef0': coef0,\n",
    "        'shrinking': shrinking,\n",
    "        'tol': tol,\n",
    "    }\n",
    "    \n",
    "    # 1 - Model\n",
    "    model_tester = ModelTester(params, train_x, train_y, val_x, val_y)\n",
    "    acc = model_tester.get_accuracy()\n",
    "    error = 1 - acc\n",
    "    \n",
    "    return error"
   ]
  },
  {
   "cell_type": "code",
   "execution_count": 12,
   "id": "95179668",
   "metadata": {
    "collapsed": true
   },
   "outputs": [
    {
     "name": "stderr",
     "output_type": "stream",
     "text": [
      "\u001b[32m[I 2022-07-02 09:50:13,799]\u001b[0m A new study created in memory with name: no-name-84e2076b-d183-4961-a480-4a952adba4e6\u001b[0m\n",
      "\u001b[32m[I 2022-07-02 09:50:21,536]\u001b[0m Trial 0 finished with value: 0.21799999999999997 and parameters: {'C': 38.98226574904255, 'kernel': 'rbf', 'degree': 4, 'gamma': 'scale', 'coef0': 3.9127878415083077, 'shrinking': 0, 'tol': 0.22422958597357504}. Best is trial 0 with value: 0.21799999999999997.\u001b[0m\n",
      "\u001b[32m[I 2022-07-02 09:50:30,790]\u001b[0m Trial 1 finished with value: 0.52 and parameters: {'C': 26.328655904605405, 'kernel': 'sigmoid', 'degree': 7, 'gamma': 'scale', 'coef0': 8.834139889216967, 'shrinking': 2, 'tol': 0.5171553753042297}. Best is trial 0 with value: 0.21799999999999997.\u001b[0m\n",
      "\u001b[32m[I 2022-07-02 09:50:35,290]\u001b[0m Trial 2 finished with value: 0.22899999999999998 and parameters: {'C': 2.41697043504757, 'kernel': 'linear', 'degree': 10, 'gamma': 'scale', 'coef0': 6.555643199015921, 'shrinking': 1, 'tol': 0.9149308282896379}. Best is trial 0 with value: 0.21799999999999997.\u001b[0m\n",
      "\u001b[32m[I 2022-07-02 09:50:40,023]\u001b[0m Trial 3 finished with value: 0.363 and parameters: {'C': 99.95057483522518, 'kernel': 'sigmoid', 'degree': 6, 'gamma': 'auto', 'coef0': 0.920256277270486, 'shrinking': 2, 'tol': 0.8121487647619815}. Best is trial 0 with value: 0.21799999999999997.\u001b[0m\n",
      "\u001b[32m[I 2022-07-02 09:50:57,389]\u001b[0m Trial 4 finished with value: 0.22999999999999998 and parameters: {'C': 27.74051942336816, 'kernel': 'linear', 'degree': 8, 'gamma': 'auto', 'coef0': 2.6542672552533237, 'shrinking': 2, 'tol': 0.5853642926124095}. Best is trial 0 with value: 0.21799999999999997.\u001b[0m\n",
      "\u001b[32m[I 2022-07-02 09:51:11,239]\u001b[0m Trial 5 finished with value: 0.22999999999999998 and parameters: {'C': 14.423655405220131, 'kernel': 'linear', 'degree': 2, 'gamma': 'auto', 'coef0': 5.846796856711796, 'shrinking': 2, 'tol': 0.046365555164940356}. Best is trial 0 with value: 0.21799999999999997.\u001b[0m\n",
      "\u001b[32m[I 2022-07-02 09:51:17,632]\u001b[0m Trial 6 finished with value: 0.21999999999999997 and parameters: {'C': 98.61490926845252, 'kernel': 'rbf', 'degree': 5, 'gamma': 'scale', 'coef0': 2.423403276565155, 'shrinking': 1, 'tol': 0.8474107465300397}. Best is trial 0 with value: 0.21799999999999997.\u001b[0m\n",
      "\u001b[32m[I 2022-07-02 09:51:22,223]\u001b[0m Trial 7 finished with value: 0.21599999999999997 and parameters: {'C': 34.00600753956827, 'kernel': 'rbf', 'degree': 6, 'gamma': 'scale', 'coef0': 3.27382781191639, 'shrinking': 0, 'tol': 0.9339013414607468}. Best is trial 7 with value: 0.21599999999999997.\u001b[0m\n",
      "\u001b[32m[I 2022-07-02 09:51:59,933]\u001b[0m Trial 8 finished with value: 0.22899999999999998 and parameters: {'C': 83.92082458423667, 'kernel': 'linear', 'degree': 9, 'gamma': 'auto', 'coef0': 7.112121471398704, 'shrinking': 1, 'tol': 0.6556286857152133}. Best is trial 7 with value: 0.21599999999999997.\u001b[0m\n",
      "\u001b[32m[I 2022-07-02 09:52:04,183]\u001b[0m Trial 9 finished with value: 0.374 and parameters: {'C': 5.447839680922747, 'kernel': 'sigmoid', 'degree': 6, 'gamma': 'scale', 'coef0': 1.6509080808896406, 'shrinking': 0, 'tol': 0.221644283506991}. Best is trial 7 with value: 0.21599999999999997.\u001b[0m\n",
      "\u001b[32m[I 2022-07-02 09:52:09,957]\u001b[0m Trial 10 finished with value: 0.22299999999999998 and parameters: {'C': 61.023946947786186, 'kernel': 'rbf', 'degree': 3, 'gamma': 'scale', 'coef0': 4.203070783091, 'shrinking': 0, 'tol': 0.35729555673618707}. Best is trial 7 with value: 0.21599999999999997.\u001b[0m\n",
      "\u001b[32m[I 2022-07-02 09:52:15,836]\u001b[0m Trial 11 finished with value: 0.22199999999999998 and parameters: {'C': 49.07660290745831, 'kernel': 'rbf', 'degree': 4, 'gamma': 'scale', 'coef0': 4.16510780562654, 'shrinking': 0, 'tol': 0.28027573572427855}. Best is trial 7 with value: 0.21599999999999997.\u001b[0m\n",
      "\u001b[32m[I 2022-07-02 09:52:22,208]\u001b[0m Trial 12 finished with value: 0.21999999999999997 and parameters: {'C': 46.60262909751025, 'kernel': 'rbf', 'degree': 4, 'gamma': 'scale', 'coef0': 0.02043080854369661, 'shrinking': 0, 'tol': 0.1279005623901855}. Best is trial 7 with value: 0.21599999999999997.\u001b[0m\n",
      "\u001b[32m[I 2022-07-02 09:52:27,133]\u001b[0m Trial 13 finished with value: 0.21699999999999997 and parameters: {'C': 34.50003891398255, 'kernel': 'rbf', 'degree': 5, 'gamma': 'scale', 'coef0': 3.5950335655452488, 'shrinking': 0, 'tol': 0.412642629190311}. Best is trial 7 with value: 0.21599999999999997.\u001b[0m\n",
      "\u001b[32m[I 2022-07-02 09:52:32,151]\u001b[0m Trial 14 finished with value: 0.22199999999999998 and parameters: {'C': 68.21259214882723, 'kernel': 'rbf', 'degree': 7, 'gamma': 'scale', 'coef0': 3.3192619677588913, 'shrinking': 0, 'tol': 0.9945153865662133}. Best is trial 7 with value: 0.21599999999999997.\u001b[0m\n",
      "\u001b[32m[I 2022-07-02 09:52:37,149]\u001b[0m Trial 15 finished with value: 0.21799999999999997 and parameters: {'C': 30.88708556154803, 'kernel': 'rbf', 'degree': 5, 'gamma': 'scale', 'coef0': 5.062173677089261, 'shrinking': 1, 'tol': 0.699177362034852}. Best is trial 7 with value: 0.21599999999999997.\u001b[0m\n",
      "\u001b[32m[I 2022-07-02 09:52:41,369]\u001b[0m Trial 16 finished with value: 0.20899999999999996 and parameters: {'C': 14.622703011221986, 'kernel': 'rbf', 'degree': 7, 'gamma': 'scale', 'coef0': 7.716855045255563, 'shrinking': 0, 'tol': 0.41325851539855973}. Best is trial 16 with value: 0.20899999999999996.\u001b[0m\n",
      "\u001b[32m[I 2022-07-02 09:52:46,349]\u001b[0m Trial 17 finished with value: 0.21199999999999997 and parameters: {'C': 16.59755517447971, 'kernel': 'rbf', 'degree': 8, 'gamma': 'scale', 'coef0': 9.330909324092051, 'shrinking': 1, 'tol': 0.4468626381583036}. Best is trial 16 with value: 0.20899999999999996.\u001b[0m\n",
      "\u001b[32m[I 2022-07-02 09:52:50,907]\u001b[0m Trial 18 finished with value: 0.20899999999999996 and parameters: {'C': 18.63091825179268, 'kernel': 'rbf', 'degree': 9, 'gamma': 'auto', 'coef0': 9.956875613800879, 'shrinking': 1, 'tol': 0.43931584562345155}. Best is trial 16 with value: 0.20899999999999996.\u001b[0m\n",
      "\u001b[32m[I 2022-07-02 09:52:59,372]\u001b[0m Trial 19 finished with value: 0.52 and parameters: {'C': 15.252512281715802, 'kernel': 'sigmoid', 'degree': 10, 'gamma': 'auto', 'coef0': 7.816754438200973, 'shrinking': 1, 'tol': 0.5437873852756876}. Best is trial 16 with value: 0.20899999999999996.\u001b[0m\n",
      "\u001b[32m[I 2022-07-02 09:53:05,356]\u001b[0m Trial 20 finished with value: 0.20899999999999996 and parameters: {'C': 61.02554690467049, 'kernel': 'rbf', 'degree': 9, 'gamma': 'auto', 'coef0': 8.319354584965744, 'shrinking': 1, 'tol': 0.34774890321829416}. Best is trial 16 with value: 0.20899999999999996.\u001b[0m\n",
      "\u001b[32m[I 2022-07-02 09:53:11,640]\u001b[0m Trial 21 finished with value: 0.20999999999999996 and parameters: {'C': 72.2823585303682, 'kernel': 'rbf', 'degree': 9, 'gamma': 'auto', 'coef0': 8.366627345984536, 'shrinking': 1, 'tol': 0.335231659746085}. Best is trial 16 with value: 0.20899999999999996.\u001b[0m\n",
      "\u001b[32m[I 2022-07-02 09:53:17,424]\u001b[0m Trial 22 finished with value: 0.20999999999999996 and parameters: {'C': 61.372322945751904, 'kernel': 'rbf', 'degree': 9, 'gamma': 'auto', 'coef0': 9.836164128850436, 'shrinking': 1, 'tol': 0.44427237587017004}. Best is trial 16 with value: 0.20899999999999996.\u001b[0m\n",
      "\u001b[32m[I 2022-07-02 09:53:22,366]\u001b[0m Trial 23 finished with value: 0.20999999999999996 and parameters: {'C': 19.930911373538155, 'kernel': 'rbf', 'degree': 8, 'gamma': 'auto', 'coef0': 9.964940880387358, 'shrinking': 2, 'tol': 0.3340593593608833}. Best is trial 16 with value: 0.20899999999999996.\u001b[0m\n",
      "\u001b[32m[I 2022-07-02 09:53:26,382]\u001b[0m Trial 24 finished with value: 0.20899999999999996 and parameters: {'C': 8.99727840653231, 'kernel': 'rbf', 'degree': 7, 'gamma': 'auto', 'coef0': 7.7253128259588735, 'shrinking': 1, 'tol': 0.6241886471071765}. Best is trial 16 with value: 0.20899999999999996.\u001b[0m\n",
      "\u001b[32m[I 2022-07-02 09:53:29,924]\u001b[0m Trial 25 finished with value: 0.20499999999999996 and parameters: {'C': 1.6752693723626715, 'kernel': 'rbf', 'degree': 10, 'gamma': 'auto', 'coef0': 8.590382955345222, 'shrinking': 1, 'tol': 0.6548733356792616}. Best is trial 25 with value: 0.20499999999999996.\u001b[0m\n",
      "\u001b[32m[I 2022-07-02 09:53:35,233]\u001b[0m Trial 26 finished with value: 0.20899999999999996 and parameters: {'C': 55.226207836665345, 'kernel': 'rbf', 'degree': 10, 'gamma': 'auto', 'coef0': 8.869393097164753, 'shrinking': 1, 'tol': 0.7349821189355105}. Best is trial 25 with value: 0.20499999999999996.\u001b[0m\n",
      "\u001b[32m[I 2022-07-02 09:53:39,267]\u001b[0m Trial 27 finished with value: 0.22799999999999998 and parameters: {'C': 0.07148513418187719, 'kernel': 'rbf', 'degree': 10, 'gamma': 'auto', 'coef0': 6.704859260635531, 'shrinking': 1, 'tol': 0.7358811021454896}. Best is trial 25 with value: 0.20499999999999996.\u001b[0m\n",
      "\u001b[32m[I 2022-07-02 09:53:47,015]\u001b[0m Trial 28 finished with value: 0.22899999999999998 and parameters: {'C': 7.644781979567651, 'kernel': 'linear', 'degree': 8, 'gamma': 'auto', 'coef0': 5.751603804025703, 'shrinking': 1, 'tol': 0.6238441189915982}. Best is trial 25 with value: 0.20499999999999996.\u001b[0m\n",
      "\u001b[32m[I 2022-07-02 09:53:55,367]\u001b[0m Trial 29 finished with value: 0.52 and parameters: {'C': 37.70787923799662, 'kernel': 'sigmoid', 'degree': 10, 'gamma': 'auto', 'coef0': 8.974415014736365, 'shrinking': 2, 'tol': 0.7635790234270323}. Best is trial 25 with value: 0.20499999999999996.\u001b[0m\n",
      "\u001b[32m[I 2022-07-02 09:54:00,516]\u001b[0m Trial 30 finished with value: 0.20599999999999996 and parameters: {'C': 44.260346283486086, 'kernel': 'rbf', 'degree': 10, 'gamma': 'auto', 'coef0': 7.633833102373865, 'shrinking': 1, 'tol': 0.6331157667466455}. Best is trial 25 with value: 0.20499999999999996.\u001b[0m\n",
      "\u001b[32m[I 2022-07-02 09:54:05,791]\u001b[0m Trial 31 finished with value: 0.21199999999999997 and parameters: {'C': 43.488994401353786, 'kernel': 'rbf', 'degree': 10, 'gamma': 'auto', 'coef0': 7.5561586886977965, 'shrinking': 1, 'tol': 0.6699929319151083}. Best is trial 25 with value: 0.20499999999999996.\u001b[0m\n",
      "\u001b[32m[I 2022-07-02 09:54:10,992]\u001b[0m Trial 32 finished with value: 0.20399999999999996 and parameters: {'C': 55.269088337763066, 'kernel': 'rbf', 'degree': 10, 'gamma': 'auto', 'coef0': 8.363572073854568, 'shrinking': 1, 'tol': 0.5608852633036548}. Best is trial 32 with value: 0.20399999999999996.\u001b[0m\n",
      "\u001b[32m[I 2022-07-02 09:54:17,194]\u001b[0m Trial 33 finished with value: 0.21299999999999997 and parameters: {'C': 78.12273783746387, 'kernel': 'rbf', 'degree': 10, 'gamma': 'auto', 'coef0': 8.490492652792438, 'shrinking': 1, 'tol': 0.5379961758777508}. Best is trial 32 with value: 0.20399999999999996.\u001b[0m\n",
      "\u001b[32m[I 2022-07-02 09:54:21,458]\u001b[0m Trial 34 finished with value: 0.20999999999999996 and parameters: {'C': 25.56058610078077, 'kernel': 'rbf', 'degree': 9, 'gamma': 'auto', 'coef0': 6.154497576929063, 'shrinking': 0, 'tol': 0.4918036973199893}. Best is trial 32 with value: 0.20399999999999996.\u001b[0m\n",
      "\u001b[32m[I 2022-07-02 09:54:29,783]\u001b[0m Trial 35 finished with value: 0.52 and parameters: {'C': 53.25375445523671, 'kernel': 'sigmoid', 'degree': 10, 'gamma': 'auto', 'coef0': 9.197526500140762, 'shrinking': 1, 'tol': 0.8038223991103624}. Best is trial 32 with value: 0.20399999999999996.\u001b[0m\n",
      "\u001b[32m[I 2022-07-02 09:54:39,151]\u001b[0m Trial 36 finished with value: 0.22999999999999998 and parameters: {'C': 10.793908432799626, 'kernel': 'linear', 'degree': 8, 'gamma': 'auto', 'coef0': 7.392828218965084, 'shrinking': 2, 'tol': 0.5895418753524996}. Best is trial 32 with value: 0.20399999999999996.\u001b[0m\n",
      "\u001b[32m[I 2022-07-02 09:54:45,359]\u001b[0m Trial 37 finished with value: 0.20799999999999996 and parameters: {'C': 61.30304317433333, 'kernel': 'rbf', 'degree': 9, 'gamma': 'auto', 'coef0': 8.134126617879122, 'shrinking': 1, 'tol': 0.22938816833760906}. Best is trial 32 with value: 0.20399999999999996.\u001b[0m\n",
      "\u001b[32m[I 2022-07-02 09:54:52,391]\u001b[0m Trial 38 finished with value: 0.21299999999999997 and parameters: {'C': 86.23073064254478, 'kernel': 'rbf', 'degree': 9, 'gamma': 'auto', 'coef0': 6.848355804080021, 'shrinking': 2, 'tol': 0.16905758257754017}. Best is trial 32 with value: 0.20399999999999996.\u001b[0m\n",
      "\u001b[32m[I 2022-07-02 09:55:25,950]\u001b[0m Trial 39 finished with value: 0.22999999999999998 and parameters: {'C': 67.95208620342157, 'kernel': 'linear', 'degree': 10, 'gamma': 'auto', 'coef0': 8.070080283045856, 'shrinking': 1, 'tol': 0.49165261984470754}. Best is trial 32 with value: 0.20399999999999996.\u001b[0m\n",
      "\u001b[32m[I 2022-07-02 09:55:32,681]\u001b[0m Trial 40 finished with value: 0.261 and parameters: {'C': 43.59175456231608, 'kernel': 'sigmoid', 'degree': 9, 'gamma': 'auto', 'coef0': 4.800380074770338, 'shrinking': 1, 'tol': 0.07777804731720817}. Best is trial 32 with value: 0.20399999999999996.\u001b[0m\n",
      "\u001b[32m[I 2022-07-02 09:55:38,848]\u001b[0m Trial 41 finished with value: 0.20899999999999996 and parameters: {'C': 57.73219293854989, 'kernel': 'rbf', 'degree': 9, 'gamma': 'auto', 'coef0': 8.385440902306257, 'shrinking': 1, 'tol': 0.2332954560700616}. Best is trial 32 with value: 0.20399999999999996.\u001b[0m\n",
      "\u001b[32m[I 2022-07-02 09:55:44,606]\u001b[0m Trial 42 finished with value: 0.20899999999999996 and parameters: {'C': 63.171129083095, 'kernel': 'rbf', 'degree': 10, 'gamma': 'auto', 'coef0': 9.394296281598026, 'shrinking': 1, 'tol': 0.5778010986746781}. Best is trial 32 with value: 0.20399999999999996.\u001b[0m\n",
      "\u001b[32m[I 2022-07-02 09:55:50,334]\u001b[0m Trial 43 finished with value: 0.20699999999999996 and parameters: {'C': 66.79737380822706, 'kernel': 'rbf', 'degree': 10, 'gamma': 'auto', 'coef0': 9.466710503206226, 'shrinking': 1, 'tol': 0.583364787469374}. Best is trial 32 with value: 0.20399999999999996.\u001b[0m\n",
      "\u001b[32m[I 2022-07-02 09:55:56,248]\u001b[0m Trial 44 finished with value: 0.21299999999999997 and parameters: {'C': 76.95619288128793, 'kernel': 'rbf', 'degree': 10, 'gamma': 'auto', 'coef0': 8.721472865981793, 'shrinking': 1, 'tol': 0.679893929957284}. Best is trial 32 with value: 0.20399999999999996.\u001b[0m\n",
      "\u001b[32m[I 2022-07-02 09:56:03,633]\u001b[0m Trial 45 finished with value: 0.21199999999999997 and parameters: {'C': 93.39141424388076, 'kernel': 'rbf', 'degree': 2, 'gamma': 'auto', 'coef0': 9.488755890452977, 'shrinking': 1, 'tol': 0.6104051817122517}. Best is trial 32 with value: 0.20399999999999996.\u001b[0m\n",
      "\u001b[32m[I 2022-07-02 09:56:08,574]\u001b[0m Trial 46 finished with value: 0.21199999999999997 and parameters: {'C': 51.83730947916563, 'kernel': 'rbf', 'degree': 8, 'gamma': 'auto', 'coef0': 7.144415059434723, 'shrinking': 1, 'tol': 0.8386686901746205}. Best is trial 32 with value: 0.20399999999999996.\u001b[0m\n",
      "\u001b[32m[I 2022-07-02 09:56:40,715]\u001b[0m Trial 47 finished with value: 0.22899999999999998 and parameters: {'C': 67.84666606535227, 'kernel': 'linear', 'degree': 10, 'gamma': 'auto', 'coef0': 6.289995280518533, 'shrinking': 1, 'tol': 0.4906597543679038}. Best is trial 32 with value: 0.20399999999999996.\u001b[0m\n",
      "\u001b[32m[I 2022-07-02 09:56:46,665]\u001b[0m Trial 48 finished with value: 0.20799999999999996 and parameters: {'C': 73.39867594996703, 'kernel': 'rbf', 'degree': 9, 'gamma': 'auto', 'coef0': 8.881949631595552, 'shrinking': 1, 'tol': 0.5561990250684107}. Best is trial 32 with value: 0.20399999999999996.\u001b[0m\n",
      "\u001b[32m[I 2022-07-02 09:56:53,339]\u001b[0m Trial 49 finished with value: 0.21199999999999997 and parameters: {'C': 86.39844821250927, 'kernel': 'rbf', 'degree': 10, 'gamma': 'auto', 'coef0': 8.91241816732816, 'shrinking': 2, 'tol': 0.5308812766009838}. Best is trial 32 with value: 0.20399999999999996.\u001b[0m\n",
      "\u001b[32m[I 2022-07-02 09:56:58,798]\u001b[0m Trial 50 finished with value: 0.20799999999999996 and parameters: {'C': 71.56790715478685, 'kernel': 'rbf', 'degree': 3, 'gamma': 'auto', 'coef0': 9.555595680454413, 'shrinking': 1, 'tol': 0.7117856584336165}. Best is trial 32 with value: 0.20399999999999996.\u001b[0m\n",
      "\u001b[32m[I 2022-07-02 09:57:04,991]\u001b[0m Trial 51 finished with value: 0.21299999999999997 and parameters: {'C': 78.20348436521263, 'kernel': 'rbf', 'degree': 9, 'gamma': 'auto', 'coef0': 8.092046924636573, 'shrinking': 1, 'tol': 0.571358871450743}. Best is trial 32 with value: 0.20399999999999996.\u001b[0m\n",
      "\u001b[32m[I 2022-07-02 09:57:19,807]\u001b[0m Trial 52 finished with value: 0.20999999999999996 and parameters: {'C': 65.2161466318054, 'kernel': 'rbf', 'degree': 4, 'gamma': 'auto', 'coef0': 9.679250562724027, 'shrinking': 1, 'tol': 0.0013428457648929082}. Best is trial 32 with value: 0.20399999999999996.\u001b[0m\n",
      "\u001b[32m[I 2022-07-02 09:57:25,408]\u001b[0m Trial 53 finished with value: 0.20999999999999996 and parameters: {'C': 72.47944131673282, 'kernel': 'rbf', 'degree': 3, 'gamma': 'auto', 'coef0': 9.18882495155827, 'shrinking': 1, 'tol': 0.7066734356858569}. Best is trial 32 with value: 0.20399999999999996.\u001b[0m\n",
      "\u001b[32m[I 2022-07-02 09:57:30,851]\u001b[0m Trial 54 finished with value: 0.20899999999999996 and parameters: {'C': 56.883071029942506, 'kernel': 'rbf', 'degree': 5, 'gamma': 'auto', 'coef0': 8.686640329636734, 'shrinking': 1, 'tol': 0.6344467565042493}. Best is trial 32 with value: 0.20399999999999996.\u001b[0m\n",
      "\u001b[32m[I 2022-07-02 09:57:35,934]\u001b[0m Trial 55 finished with value: 0.20899999999999996 and parameters: {'C': 48.92368795588672, 'kernel': 'rbf', 'degree': 6, 'gamma': 'auto', 'coef0': 7.317071493629282, 'shrinking': 1, 'tol': 0.6627304770666367}. Best is trial 32 with value: 0.20399999999999996.\u001b[0m\n",
      "\u001b[32m[I 2022-07-02 09:57:41,948]\u001b[0m Trial 56 finished with value: 0.20999999999999996 and parameters: {'C': 73.34768338294067, 'kernel': 'rbf', 'degree': 3, 'gamma': 'auto', 'coef0': 9.432667200529407, 'shrinking': 1, 'tol': 0.7654779972421649}. Best is trial 32 with value: 0.20399999999999996.\u001b[0m\n",
      "\u001b[32m[I 2022-07-02 09:57:50,807]\u001b[0m Trial 57 finished with value: 0.52 and parameters: {'C': 82.7001498630878, 'kernel': 'sigmoid', 'degree': 2, 'gamma': 'scale', 'coef0': 7.846021658918776, 'shrinking': 1, 'tol': 0.9163151841176985}. Best is trial 32 with value: 0.20399999999999996.\u001b[0m\n",
      "\u001b[32m[I 2022-07-02 09:57:56,590]\u001b[0m Trial 58 finished with value: 0.20899999999999996 and parameters: {'C': 58.45160899966491, 'kernel': 'rbf', 'degree': 9, 'gamma': 'auto', 'coef0': 7.002819161331298, 'shrinking': 1, 'tol': 0.38492486714485497}. Best is trial 32 with value: 0.20399999999999996.\u001b[0m\n",
      "\u001b[32m[I 2022-07-02 09:58:02,489]\u001b[0m Trial 59 finished with value: 0.20899999999999996 and parameters: {'C': 64.90216780524906, 'kernel': 'rbf', 'degree': 10, 'gamma': 'auto', 'coef0': 8.132096839009963, 'shrinking': 1, 'tol': 0.7139674717309302}. Best is trial 32 with value: 0.20399999999999996.\u001b[0m\n",
      "\u001b[32m[I 2022-07-02 09:58:06,729]\u001b[0m Trial 60 finished with value: 0.20699999999999996 and parameters: {'C': 22.96162261495672, 'kernel': 'rbf', 'degree': 7, 'gamma': 'auto', 'coef0': 1.6909035964181185, 'shrinking': 1, 'tol': 0.875186439401169}. Best is trial 32 with value: 0.20399999999999996.\u001b[0m\n",
      "\u001b[32m[I 2022-07-02 09:58:11,431]\u001b[0m Trial 61 finished with value: 0.20999999999999996 and parameters: {'C': 43.043169279714334, 'kernel': 'rbf', 'degree': 9, 'gamma': 'auto', 'coef0': 1.290983470534632, 'shrinking': 1, 'tol': 0.9804233836531899}. Best is trial 32 with value: 0.20399999999999996.\u001b[0m\n",
      "\u001b[32m[I 2022-07-02 09:58:15,917]\u001b[0m Trial 62 finished with value: 0.21199999999999997 and parameters: {'C': 28.386590649872726, 'kernel': 'rbf', 'degree': 7, 'gamma': 'auto', 'coef0': 2.590886869121434, 'shrinking': 1, 'tol': 0.8516488948899043}. Best is trial 32 with value: 0.20399999999999996.\u001b[0m\n",
      "\u001b[32m[I 2022-07-02 09:58:20,390]\u001b[0m Trial 63 finished with value: 0.20899999999999996 and parameters: {'C': 33.5475013011163, 'kernel': 'rbf', 'degree': 10, 'gamma': 'auto', 'coef0': 2.8923315988249274, 'shrinking': 1, 'tol': 0.8001346869798566}. Best is trial 32 with value: 0.20399999999999996.\u001b[0m\n",
      "\u001b[32m[I 2022-07-02 09:58:24,556]\u001b[0m Trial 64 finished with value: 0.21299999999999997 and parameters: {'C': 23.023913800903674, 'kernel': 'rbf', 'degree': 6, 'gamma': 'auto', 'coef0': 9.652772107735924, 'shrinking': 1, 'tol': 0.8772548591665942}. Best is trial 32 with value: 0.20399999999999996.\u001b[0m\n",
      "\u001b[32m[I 2022-07-02 09:58:31,115]\u001b[0m Trial 65 finished with value: 0.22099999999999997 and parameters: {'C': 75.37545024877889, 'kernel': 'rbf', 'degree': 8, 'gamma': 'scale', 'coef0': 9.13685079248484, 'shrinking': 1, 'tol': 0.5682619494427511}. Best is trial 32 with value: 0.20399999999999996.\u001b[0m\n",
      "\u001b[32m[I 2022-07-02 09:58:36,622]\u001b[0m Trial 66 finished with value: 0.20599999999999996 and parameters: {'C': 37.60218668266548, 'kernel': 'rbf', 'degree': 8, 'gamma': 'auto', 'coef0': 0.1397371291416709, 'shrinking': 1, 'tol': 0.2897175911818707}. Best is trial 32 with value: 0.20399999999999996.\u001b[0m\n",
      "\u001b[32m[I 2022-07-02 09:59:00,823]\u001b[0m Trial 67 finished with value: 0.22999999999999998 and parameters: {'C': 46.69444896830337, 'kernel': 'linear', 'degree': 7, 'gamma': 'auto', 'coef0': 0.5102102460045979, 'shrinking': 1, 'tol': 0.45999143211134086}. Best is trial 32 with value: 0.20399999999999996.\u001b[0m\n",
      "\u001b[32m[I 2022-07-02 09:59:06,464]\u001b[0m Trial 68 finished with value: 0.20699999999999996 and parameters: {'C': 34.98785854983476, 'kernel': 'rbf', 'degree': 8, 'gamma': 'auto', 'coef0': 2.0623271638440226, 'shrinking': 1, 'tol': 0.20712481226422796}. Best is trial 32 with value: 0.20399999999999996.\u001b[0m\n",
      "\u001b[32m[I 2022-07-02 09:59:11,985]\u001b[0m Trial 69 finished with value: 0.20599999999999996 and parameters: {'C': 36.80666729689134, 'kernel': 'rbf', 'degree': 8, 'gamma': 'auto', 'coef0': 1.7597043963002628, 'shrinking': 0, 'tol': 0.17463488656338405}. Best is trial 32 with value: 0.20399999999999996.\u001b[0m\n",
      "\u001b[32m[I 2022-07-02 09:59:16,222]\u001b[0m Trial 70 finished with value: 0.375 and parameters: {'C': 39.46037814674263, 'kernel': 'sigmoid', 'degree': 8, 'gamma': 'scale', 'coef0': 2.02333367885539, 'shrinking': 0, 'tol': 0.17158062755383544}. Best is trial 32 with value: 0.20399999999999996.\u001b[0m\n",
      "\u001b[32m[I 2022-07-02 09:59:21,190]\u001b[0m Trial 71 finished with value: 0.20899999999999996 and parameters: {'C': 39.05161901109361, 'kernel': 'rbf', 'degree': 7, 'gamma': 'auto', 'coef0': 0.10361658951981068, 'shrinking': 0, 'tol': 0.30510080415808266}. Best is trial 32 with value: 0.20399999999999996.\u001b[0m\n",
      "\u001b[32m[I 2022-07-02 09:59:26,007]\u001b[0m Trial 72 finished with value: 0.20899999999999996 and parameters: {'C': 31.463669389375426, 'kernel': 'rbf', 'degree': 8, 'gamma': 'auto', 'coef0': 2.0504852703734895, 'shrinking': 0, 'tol': 0.27026067043928487}. Best is trial 32 with value: 0.20399999999999996.\u001b[0m\n",
      "\u001b[32m[I 2022-07-02 09:59:31,611]\u001b[0m Trial 73 finished with value: 0.20599999999999996 and parameters: {'C': 35.83603097860577, 'kernel': 'rbf', 'degree': 7, 'gamma': 'auto', 'coef0': 1.022933333360931, 'shrinking': 0, 'tol': 0.11976686381812388}. Best is trial 32 with value: 0.20399999999999996.\u001b[0m\n",
      "\u001b[32m[I 2022-07-02 09:59:37,474]\u001b[0m Trial 74 finished with value: 0.20599999999999996 and parameters: {'C': 35.527842255285755, 'kernel': 'rbf', 'degree': 8, 'gamma': 'auto', 'coef0': 0.8693648820263884, 'shrinking': 0, 'tol': 0.08988272172241377}. Best is trial 32 with value: 0.20399999999999996.\u001b[0m\n",
      "\u001b[32m[I 2022-07-02 09:59:43,233]\u001b[0m Trial 75 finished with value: 0.20599999999999996 and parameters: {'C': 37.24401639102522, 'kernel': 'rbf', 'degree': 8, 'gamma': 'auto', 'coef0': 0.9461795000136299, 'shrinking': 0, 'tol': 0.10796134908577526}. Best is trial 32 with value: 0.20399999999999996.\u001b[0m\n",
      "\u001b[32m[I 2022-07-02 09:59:48,899]\u001b[0m Trial 76 finished with value: 0.20599999999999996 and parameters: {'C': 36.95714723217102, 'kernel': 'rbf', 'degree': 7, 'gamma': 'auto', 'coef0': 0.8211176648647358, 'shrinking': 0, 'tol': 0.10198110269243822}. Best is trial 32 with value: 0.20399999999999996.\u001b[0m\n",
      "\u001b[32m[I 2022-07-02 09:59:55,150]\u001b[0m Trial 77 finished with value: 0.20699999999999996 and parameters: {'C': 41.235679012696, 'kernel': 'rbf', 'degree': 8, 'gamma': 'auto', 'coef0': 0.46036079230521776, 'shrinking': 0, 'tol': 0.0787535550536779}. Best is trial 32 with value: 0.20399999999999996.\u001b[0m\n",
      "\u001b[32m[I 2022-07-02 10:00:01,167]\u001b[0m Trial 78 finished with value: 0.20599999999999996 and parameters: {'C': 29.826448894514634, 'kernel': 'rbf', 'degree': 6, 'gamma': 'auto', 'coef0': 1.3006090887950918, 'shrinking': 0, 'tol': 0.09879152694777064}. Best is trial 32 with value: 0.20399999999999996.\u001b[0m\n",
      "\u001b[32m[I 2022-07-02 10:00:38,349]\u001b[0m Trial 79 finished with value: 0.22899999999999998 and parameters: {'C': 30.189476291439874, 'kernel': 'linear', 'degree': 6, 'gamma': 'auto', 'coef0': 1.229493394844337, 'shrinking': 0, 'tol': 0.15134469848470583}. Best is trial 32 with value: 0.20399999999999996.\u001b[0m\n",
      "\u001b[32m[I 2022-07-02 10:00:44,591]\u001b[0m Trial 80 finished with value: 0.20699999999999996 and parameters: {'C': 46.84931587838083, 'kernel': 'rbf', 'degree': 6, 'gamma': 'auto', 'coef0': 0.9168244917029704, 'shrinking': 0, 'tol': 0.0989515716759676}. Best is trial 32 with value: 0.20399999999999996.\u001b[0m\n",
      "\u001b[32m[I 2022-07-02 10:00:52,176]\u001b[0m Trial 81 finished with value: 0.20599999999999996 and parameters: {'C': 35.78452976943739, 'kernel': 'rbf', 'degree': 7, 'gamma': 'auto', 'coef0': 0.7754915444149408, 'shrinking': 0, 'tol': 0.031062216242730707}. Best is trial 32 with value: 0.20399999999999996.\u001b[0m\n",
      "\u001b[32m[I 2022-07-02 10:00:58,931]\u001b[0m Trial 82 finished with value: 0.20499999999999996 and parameters: {'C': 32.814878302253554, 'kernel': 'rbf', 'degree': 7, 'gamma': 'auto', 'coef0': 1.2749880111801497, 'shrinking': 0, 'tol': 0.035867886161942295}. Best is trial 32 with value: 0.20399999999999996.\u001b[0m\n",
      "\u001b[32m[I 2022-07-02 10:01:05,984]\u001b[0m Trial 83 finished with value: 0.20499999999999996 and parameters: {'C': 32.7770277033438, 'kernel': 'rbf', 'degree': 7, 'gamma': 'auto', 'coef0': 0.40770222278246004, 'shrinking': 0, 'tol': 0.03756064290043515}. Best is trial 32 with value: 0.20399999999999996.\u001b[0m\n",
      "\u001b[32m[I 2022-07-02 10:01:11,873]\u001b[0m Trial 84 finished with value: 0.20899999999999996 and parameters: {'C': 25.784154675745324, 'kernel': 'rbf', 'degree': 7, 'gamma': 'auto', 'coef0': 0.17817435648470958, 'shrinking': 0, 'tol': 0.0471322555971858}. Best is trial 32 with value: 0.20399999999999996.\u001b[0m\n",
      "\u001b[32m[I 2022-07-02 10:01:17,640]\u001b[0m Trial 85 finished with value: 0.20599999999999996 and parameters: {'C': 43.947337180276115, 'kernel': 'rbf', 'degree': 7, 'gamma': 'auto', 'coef0': 0.6285528731950403, 'shrinking': 0, 'tol': 0.13526318079794022}. Best is trial 32 with value: 0.20399999999999996.\u001b[0m\n",
      "\u001b[32m[I 2022-07-02 10:01:22,932]\u001b[0m Trial 86 finished with value: 0.20599999999999996 and parameters: {'C': 32.55327443952038, 'kernel': 'rbf', 'degree': 7, 'gamma': 'auto', 'coef0': 0.45693268009971555, 'shrinking': 0, 'tol': 0.1354130022919462}. Best is trial 32 with value: 0.20399999999999996.\u001b[0m\n",
      "\u001b[32m[I 2022-07-02 10:01:27,065]\u001b[0m Trial 87 finished with value: 0.369 and parameters: {'C': 52.54971379213436, 'kernel': 'sigmoid', 'degree': 7, 'gamma': 'auto', 'coef0': 1.5206107243699274, 'shrinking': 0, 'tol': 0.0517852944058876}. Best is trial 32 with value: 0.20399999999999996.\u001b[0m\n",
      "\u001b[32m[I 2022-07-02 10:01:54,857]\u001b[0m Trial 88 finished with value: 0.21999999999999997 and parameters: {'C': 40.88316549125007, 'kernel': 'rbf', 'degree': 6, 'gamma': 'scale', 'coef0': 1.0677623590080123, 'shrinking': 0, 'tol': 0.0017489097003928894}. Best is trial 32 with value: 0.20399999999999996.\u001b[0m\n",
      "\u001b[32m[I 2022-07-02 10:01:59,267]\u001b[0m Trial 89 finished with value: 0.21199999999999997 and parameters: {'C': 3.913730446725932, 'kernel': 'rbf', 'degree': 8, 'gamma': 'auto', 'coef0': 0.2209451788302177, 'shrinking': 0, 'tol': 0.03325009855452413}. Best is trial 32 with value: 0.20399999999999996.\u001b[0m\n",
      "\u001b[32m[I 2022-07-02 10:02:04,174]\u001b[0m Trial 90 finished with value: 0.20899999999999996 and parameters: {'C': 21.955413293673143, 'kernel': 'rbf', 'degree': 7, 'gamma': 'auto', 'coef0': 0.9681945989737558, 'shrinking': 0, 'tol': 0.10800526166084178}. Best is trial 32 with value: 0.20399999999999996.\u001b[0m\n",
      "\u001b[32m[I 2022-07-02 10:02:10,450]\u001b[0m Trial 91 finished with value: 0.20599999999999996 and parameters: {'C': 37.371825258487455, 'kernel': 'rbf', 'degree': 7, 'gamma': 'auto', 'coef0': 0.7553457461105917, 'shrinking': 0, 'tol': 0.07472938887713143}. Best is trial 32 with value: 0.20399999999999996.\u001b[0m\n",
      "\u001b[32m[I 2022-07-02 10:02:16,292]\u001b[0m Trial 92 finished with value: 0.20699999999999996 and parameters: {'C': 50.16997567400351, 'kernel': 'rbf', 'degree': 8, 'gamma': 'auto', 'coef0': 1.5113027765488902, 'shrinking': 0, 'tol': 0.17805835257098285}. Best is trial 32 with value: 0.20399999999999996.\u001b[0m\n",
      "\u001b[32m[I 2022-07-02 10:02:25,692]\u001b[0m Trial 93 finished with value: 0.20699999999999996 and parameters: {'C': 45.3683514214871, 'kernel': 'rbf', 'degree': 6, 'gamma': 'auto', 'coef0': 0.43454408984077997, 'shrinking': 0, 'tol': 0.02119225767451531}. Best is trial 32 with value: 0.20399999999999996.\u001b[0m\n",
      "\u001b[32m[I 2022-07-02 10:02:31,532]\u001b[0m Trial 94 finished with value: 0.20699999999999996 and parameters: {'C': 27.79393491268588, 'kernel': 'rbf', 'degree': 9, 'gamma': 'auto', 'coef0': 0.2842518269818137, 'shrinking': 0, 'tol': 0.05962185516245855}. Best is trial 32 with value: 0.20399999999999996.\u001b[0m\n",
      "\u001b[32m[I 2022-07-02 10:02:36,808]\u001b[0m Trial 95 finished with value: 0.20799999999999996 and parameters: {'C': 33.128190894573436, 'kernel': 'rbf', 'degree': 7, 'gamma': 'auto', 'coef0': 0.5853898667536759, 'shrinking': 0, 'tol': 0.14518099958801867}. Best is trial 32 with value: 0.20399999999999996.\u001b[0m\n",
      "\u001b[32m[I 2022-07-02 10:02:42,864]\u001b[0m Trial 96 finished with value: 0.20599999999999996 and parameters: {'C': 41.439607432060576, 'kernel': 'rbf', 'degree': 8, 'gamma': 'auto', 'coef0': 1.9072525605752049, 'shrinking': 0, 'tol': 0.1045794546104367}. Best is trial 32 with value: 0.20399999999999996.\u001b[0m\n",
      "\u001b[32m[I 2022-07-02 10:02:48,293]\u001b[0m Trial 97 finished with value: 0.20599999999999996 and parameters: {'C': 41.26861409040028, 'kernel': 'rbf', 'degree': 8, 'gamma': 'auto', 'coef0': 2.354992648565059, 'shrinking': 0, 'tol': 0.18414839246435297}. Best is trial 32 with value: 0.20399999999999996.\u001b[0m\n",
      "\u001b[32m[I 2022-07-02 10:03:37,625]\u001b[0m Trial 98 finished with value: 0.22899999999999998 and parameters: {'C': 41.16629887914973, 'kernel': 'linear', 'degree': 8, 'gamma': 'auto', 'coef0': 1.8959328361856729, 'shrinking': 0, 'tol': 0.2018300985594564}. Best is trial 32 with value: 0.20399999999999996.\u001b[0m\n",
      "\u001b[32m[I 2022-07-02 10:03:43,472]\u001b[0m Trial 99 finished with value: 0.20699999999999996 and parameters: {'C': 31.690227837974415, 'kernel': 'rbf', 'degree': 6, 'gamma': 'auto', 'coef0': 1.240828813757615, 'shrinking': 0, 'tol': 0.1325102811134158}. Best is trial 32 with value: 0.20399999999999996.\u001b[0m\n",
      "\u001b[32m[I 2022-07-02 10:03:52,498]\u001b[0m Trial 100 finished with value: 0.20599999999999996 and parameters: {'C': 43.96061794626574, 'kernel': 'rbf', 'degree': 5, 'gamma': 'auto', 'coef0': 5.229235414250116, 'shrinking': 0, 'tol': 0.02935706578586903}. Best is trial 32 with value: 0.20399999999999996.\u001b[0m\n",
      "\u001b[32m[I 2022-07-02 10:03:59,609]\u001b[0m Trial 101 finished with value: 0.20599999999999996 and parameters: {'C': 36.831835811371526, 'kernel': 'rbf', 'degree': 5, 'gamma': 'auto', 'coef0': 5.542240134933781, 'shrinking': 0, 'tol': 0.07219086171826672}. Best is trial 32 with value: 0.20399999999999996.\u001b[0m\n",
      "\u001b[32m[I 2022-07-02 10:04:06,344]\u001b[0m Trial 102 finished with value: 0.20599999999999996 and parameters: {'C': 35.26278132439754, 'kernel': 'rbf', 'degree': 5, 'gamma': 'auto', 'coef0': 1.0182053743988777, 'shrinking': 0, 'tol': 0.11619042637952057}. Best is trial 32 with value: 0.20399999999999996.\u001b[0m\n",
      "\u001b[32m[I 2022-07-02 10:04:14,940]\u001b[0m Trial 103 finished with value: 0.20699999999999996 and parameters: {'C': 36.3408232822948, 'kernel': 'rbf', 'degree': 10, 'gamma': 'auto', 'coef0': 1.6718095509750042, 'shrinking': 0, 'tol': 0.08213334038116997}. Best is trial 32 with value: 0.20399999999999996.\u001b[0m\n",
      "\u001b[32m[I 2022-07-02 10:04:20,873]\u001b[0m Trial 104 finished with value: 0.21099999999999997 and parameters: {'C': 12.146746511159364, 'kernel': 'rbf', 'degree': 5, 'gamma': 'auto', 'coef0': 1.3364559080295673, 'shrinking': 0, 'tol': 0.10226851025711466}. Best is trial 32 with value: 0.20399999999999996.\u001b[0m\n",
      "\u001b[32m[I 2022-07-02 10:04:26,556]\u001b[0m Trial 105 finished with value: 0.20799999999999996 and parameters: {'C': 38.14312426945311, 'kernel': 'rbf', 'degree': 7, 'gamma': 'auto', 'coef0': 0.7899295105770278, 'shrinking': 0, 'tol': 0.5971340033073413}. Best is trial 32 with value: 0.20399999999999996.\u001b[0m\n",
      "\u001b[32m[I 2022-07-02 10:04:30,626]\u001b[0m Trial 106 finished with value: 0.20699999999999996 and parameters: {'C': 17.509142873910335, 'kernel': 'rbf', 'degree': 7, 'gamma': 'auto', 'coef0': 0.6617708804236145, 'shrinking': 0, 'tol': 0.6272774857495793}. Best is trial 32 with value: 0.20399999999999996.\u001b[0m\n",
      "\u001b[32m[I 2022-07-02 10:04:34,517]\u001b[0m Trial 107 finished with value: 0.33899999999999997 and parameters: {'C': 49.17613380650674, 'kernel': 'sigmoid', 'degree': 7, 'gamma': 'auto', 'coef0': 0.024789356158562814, 'shrinking': 0, 'tol': 0.02646132599436532}. Best is trial 32 with value: 0.20399999999999996.\u001b[0m\n",
      "\u001b[32m[I 2022-07-02 10:04:41,976]\u001b[0m Trial 108 finished with value: 0.21799999999999997 and parameters: {'C': 29.349789292503697, 'kernel': 'rbf', 'degree': 6, 'gamma': 'scale', 'coef0': 4.553421953594983, 'shrinking': 2, 'tol': 0.07715760316975365}. Best is trial 32 with value: 0.20399999999999996.\u001b[0m\n",
      "\u001b[32m[I 2022-07-02 10:04:46,899]\u001b[0m Trial 109 finished with value: 0.20899999999999996 and parameters: {'C': 55.44857126361781, 'kernel': 'rbf', 'degree': 6, 'gamma': 'auto', 'coef0': 0.7945355578590466, 'shrinking': 0, 'tol': 0.6470512233781913}. Best is trial 32 with value: 0.20399999999999996.\u001b[0m\n",
      "\u001b[32m[I 2022-07-02 10:04:51,958]\u001b[0m Trial 110 finished with value: 0.20399999999999996 and parameters: {'C': 30.74293883011058, 'kernel': 'rbf', 'degree': 6, 'gamma': 'auto', 'coef0': 8.565720450360148, 'shrinking': 0, 'tol': 0.6803184066101464}. Best is trial 32 with value: 0.20399999999999996.\u001b[0m\n",
      "\u001b[32m[I 2022-07-02 10:04:57,540]\u001b[0m Trial 111 finished with value: 0.20799999999999996 and parameters: {'C': 33.95163054003675, 'kernel': 'rbf', 'degree': 8, 'gamma': 'auto', 'coef0': 8.395942289773217, 'shrinking': 0, 'tol': 0.683248348444663}. Best is trial 32 with value: 0.20399999999999996.\u001b[0m\n",
      "\u001b[32m[I 2022-07-02 10:05:02,433]\u001b[0m Trial 112 finished with value: 0.20899999999999996 and parameters: {'C': 26.49264286252421, 'kernel': 'rbf', 'degree': 6, 'gamma': 'auto', 'coef0': 8.62002122430365, 'shrinking': 0, 'tol': 0.254832403621049}. Best is trial 32 with value: 0.20399999999999996.\u001b[0m\n",
      "\u001b[32m[I 2022-07-02 10:05:07,015]\u001b[0m Trial 113 finished with value: 0.20699999999999996 and parameters: {'C': 30.587614998637164, 'kernel': 'rbf', 'degree': 6, 'gamma': 'auto', 'coef0': 1.4104260886678517, 'shrinking': 0, 'tol': 0.5083800925211401}. Best is trial 32 with value: 0.20399999999999996.\u001b[0m\n",
      "\u001b[32m[I 2022-07-02 10:05:12,505]\u001b[0m Trial 114 finished with value: 0.20599999999999996 and parameters: {'C': 32.29137194112027, 'kernel': 'rbf', 'degree': 7, 'gamma': 'auto', 'coef0': 7.895831538750272, 'shrinking': 0, 'tol': 0.13838955330449446}. Best is trial 32 with value: 0.20399999999999996.\u001b[0m\n",
      "\u001b[32m[I 2022-07-02 10:05:17,484]\u001b[0m Trial 115 finished with value: 0.21299999999999997 and parameters: {'C': 45.26500378596986, 'kernel': 'rbf', 'degree': 7, 'gamma': 'auto', 'coef0': 0.4457295617458198, 'shrinking': 0, 'tol': 0.7463933508945919}. Best is trial 32 with value: 0.20399999999999996.\u001b[0m\n",
      "\u001b[32m[I 2022-07-02 10:05:26,093]\u001b[0m Trial 116 finished with value: 0.20599999999999996 and parameters: {'C': 47.6591478667163, 'kernel': 'rbf', 'degree': 9, 'gamma': 'auto', 'coef0': 2.9458442117742853, 'shrinking': 0, 'tol': 0.16553595204570143}. Best is trial 32 with value: 0.20399999999999996.\u001b[0m\n",
      "\u001b[32m[I 2022-07-02 10:05:36,039]\u001b[0m Trial 117 finished with value: 0.20799999999999996 and parameters: {'C': 24.81738823643567, 'kernel': 'rbf', 'degree': 6, 'gamma': 'auto', 'coef0': 1.160941281839802, 'shrinking': 0, 'tol': 0.05505371167773075}. Best is trial 32 with value: 0.20399999999999996.\u001b[0m\n",
      "\u001b[32m[I 2022-07-02 10:05:52,990]\u001b[0m Trial 118 finished with value: 0.20599999999999996 and parameters: {'C': 38.892185264556694, 'kernel': 'rbf', 'degree': 10, 'gamma': 'auto', 'coef0': 7.5686861906956455, 'shrinking': 0, 'tol': 0.005820685931975211}. Best is trial 32 with value: 0.20399999999999996.\u001b[0m\n",
      "\u001b[32m[I 2022-07-02 10:06:28,265]\u001b[0m Trial 119 finished with value: 0.22899999999999998 and parameters: {'C': 38.810990315559835, 'kernel': 'linear', 'degree': 10, 'gamma': 'auto', 'coef0': 7.505898352861331, 'shrinking': 0, 'tol': 0.6087052524503257}. Best is trial 32 with value: 0.20399999999999996.\u001b[0m\n",
      "\u001b[32m[I 2022-07-02 10:06:34,840]\u001b[0m Trial 120 finished with value: 0.20599999999999996 and parameters: {'C': 42.36475159173886, 'kernel': 'rbf', 'degree': 5, 'gamma': 'auto', 'coef0': 3.9252191595384613, 'shrinking': 0, 'tol': 0.0646802938638987}. Best is trial 32 with value: 0.20399999999999996.\u001b[0m\n",
      "\u001b[32m[I 2022-07-02 10:06:40,633]\u001b[0m Trial 121 finished with value: 0.20599999999999996 and parameters: {'C': 35.09694151858556, 'kernel': 'rbf', 'degree': 4, 'gamma': 'auto', 'coef0': 3.4985741460516864, 'shrinking': 0, 'tol': 0.09533476796022139}. Best is trial 32 with value: 0.20399999999999996.\u001b[0m\n",
      "\u001b[32m[I 2022-07-02 10:06:46,389]\u001b[0m Trial 122 finished with value: 0.20599999999999996 and parameters: {'C': 34.90685649024092, 'kernel': 'rbf', 'degree': 4, 'gamma': 'auto', 'coef0': 3.395773316090356, 'shrinking': 0, 'tol': 0.09119911548454487}. Best is trial 32 with value: 0.20399999999999996.\u001b[0m\n",
      "\u001b[32m[I 2022-07-02 10:06:50,466]\u001b[0m Trial 123 finished with value: 0.20899999999999996 and parameters: {'C': 20.740107452332637, 'kernel': 'rbf', 'degree': 7, 'gamma': 'auto', 'coef0': 0.664961903999144, 'shrinking': 0, 'tol': 0.6903340518858205}. Best is trial 32 with value: 0.20399999999999996.\u001b[0m\n",
      "\u001b[32m[I 2022-07-02 10:06:55,899]\u001b[0m Trial 124 finished with value: 0.20699999999999996 and parameters: {'C': 27.663700176213446, 'kernel': 'rbf', 'degree': 7, 'gamma': 'auto', 'coef0': 1.5073234632070323, 'shrinking': 0, 'tol': 0.1198130090346983}. Best is trial 32 with value: 0.20399999999999996.\u001b[0m\n",
      "\u001b[32m[I 2022-07-02 10:07:01,557]\u001b[0m Trial 125 finished with value: 0.20599999999999996 and parameters: {'C': 32.0837209900213, 'kernel': 'rbf', 'degree': 7, 'gamma': 'auto', 'coef0': 0.6751573150694445, 'shrinking': 0, 'tol': 0.1167505142526369}. Best is trial 32 with value: 0.20399999999999996.\u001b[0m\n",
      "\u001b[32m[I 2022-07-02 10:07:08,498]\u001b[0m Trial 126 finished with value: 0.20599999999999996 and parameters: {'C': 44.438351047282126, 'kernel': 'rbf', 'degree': 5, 'gamma': 'auto', 'coef0': 5.368306550586129, 'shrinking': 0, 'tol': 0.0672735850881761}. Best is trial 32 with value: 0.20399999999999996.\u001b[0m\n",
      "\u001b[32m[I 2022-07-02 10:07:15,992]\u001b[0m Trial 127 finished with value: 0.20699999999999996 and parameters: {'C': 44.93944049748797, 'kernel': 'rbf', 'degree': 6, 'gamma': 'auto', 'coef0': 2.3210284485737898, 'shrinking': 0, 'tol': 0.04281437877280719}. Best is trial 32 with value: 0.20399999999999996.\u001b[0m\n",
      "\u001b[32m[I 2022-07-02 10:07:20,906]\u001b[0m Trial 128 finished with value: 0.22199999999999998 and parameters: {'C': 51.24074894970559, 'kernel': 'rbf', 'degree': 4, 'gamma': 'scale', 'coef0': 2.4386310483825335, 'shrinking': 0, 'tol': 0.651280930279939}. Best is trial 32 with value: 0.20399999999999996.\u001b[0m\n",
      "\u001b[32m[I 2022-07-02 10:07:24,438]\u001b[0m Trial 129 finished with value: 0.34299999999999997 and parameters: {'C': 36.55185233302748, 'kernel': 'sigmoid', 'degree': 8, 'gamma': 'auto', 'coef0': 0.30923214252893905, 'shrinking': 0, 'tol': 0.19347258109499}. Best is trial 32 with value: 0.20399999999999996.\u001b[0m\n",
      "\u001b[32m[I 2022-07-02 10:07:30,390]\u001b[0m Trial 130 finished with value: 0.20699999999999996 and parameters: {'C': 40.43016417029257, 'kernel': 'rbf', 'degree': 10, 'gamma': 'auto', 'coef0': 9.057595174944638, 'shrinking': 0, 'tol': 0.14125826847113765}. Best is trial 32 with value: 0.20399999999999996.\u001b[0m\n",
      "\u001b[32m[I 2022-07-02 10:07:36,425]\u001b[0m Trial 131 finished with value: 0.20599999999999996 and parameters: {'C': 29.91301711594018, 'kernel': 'rbf', 'degree': 7, 'gamma': 'auto', 'coef0': 6.373979924182656, 'shrinking': 2, 'tol': 0.08905200415334263}. Best is trial 32 with value: 0.20399999999999996.\u001b[0m\n",
      "\u001b[32m[I 2022-07-02 10:07:42,100]\u001b[0m Trial 132 finished with value: 0.20699999999999996 and parameters: {'C': 29.33944384519421, 'kernel': 'rbf', 'degree': 5, 'gamma': 'auto', 'coef0': 4.787412504232107, 'shrinking': 2, 'tol': 0.16367925872121367}. Best is trial 32 with value: 0.20399999999999996.\u001b[0m\n",
      "\u001b[32m[I 2022-07-02 10:07:48,389]\u001b[0m Trial 133 finished with value: 0.20899999999999996 and parameters: {'C': 53.702491551501794, 'kernel': 'rbf', 'degree': 7, 'gamma': 'auto', 'coef0': 0.38305719543007827, 'shrinking': 1, 'tol': 0.22644350307418892}. Best is trial 32 with value: 0.20399999999999996.\u001b[0m\n",
      "\u001b[32m[I 2022-07-02 10:07:56,781]\u001b[0m Trial 134 finished with value: 0.20599999999999996 and parameters: {'C': 42.21990307955433, 'kernel': 'rbf', 'degree': 7, 'gamma': 'auto', 'coef0': 0.06612703812188503, 'shrinking': 0, 'tol': 0.0279714116675032}. Best is trial 32 with value: 0.20399999999999996.\u001b[0m\n",
      "\u001b[32m[I 2022-07-02 10:08:01,073]\u001b[0m Trial 135 finished with value: 0.23299999999999998 and parameters: {'C': 0.07829149486975617, 'kernel': 'rbf', 'degree': 9, 'gamma': 'auto', 'coef0': 8.033562538817725, 'shrinking': 1, 'tol': 0.15599594872676664}. Best is trial 32 with value: 0.20399999999999996.\u001b[0m\n",
      "\u001b[32m[I 2022-07-02 10:08:07,431]\u001b[0m Trial 136 finished with value: 0.20499999999999996 and parameters: {'C': 32.47420215045476, 'kernel': 'rbf', 'degree': 7, 'gamma': 'auto', 'coef0': 0.6500813266790108, 'shrinking': 0, 'tol': 0.061500716582179836}. Best is trial 32 with value: 0.20399999999999996.\u001b[0m\n",
      "\u001b[32m[I 2022-07-02 10:08:12,315]\u001b[0m Trial 137 finished with value: 0.20699999999999996 and parameters: {'C': 32.60156294529113, 'kernel': 'rbf', 'degree': 6, 'gamma': 'auto', 'coef0': 0.5424188209376001, 'shrinking': 0, 'tol': 0.3025401951014794}. Best is trial 32 with value: 0.20399999999999996.\u001b[0m\n",
      "\u001b[32m[I 2022-07-02 10:08:20,206]\u001b[0m Trial 138 finished with value: 0.20799999999999996 and parameters: {'C': 47.87010568654159, 'kernel': 'rbf', 'degree': 7, 'gamma': 'auto', 'coef0': 8.736966297596812, 'shrinking': 1, 'tol': 0.018005983820188236}. Best is trial 32 with value: 0.20399999999999996.\u001b[0m\n",
      "\u001b[32m[I 2022-07-02 10:08:24,923]\u001b[0m Trial 139 finished with value: 0.20699999999999996 and parameters: {'C': 40.04720814309055, 'kernel': 'rbf', 'degree': 8, 'gamma': 'auto', 'coef0': 5.833860405367211, 'shrinking': 0, 'tol': 0.5499929862120063}. Best is trial 32 with value: 0.20399999999999996.\u001b[0m\n",
      "\u001b[32m[I 2022-07-02 10:08:31,606]\u001b[0m Trial 140 finished with value: 0.20599999999999996 and parameters: {'C': 37.278682130238515, 'kernel': 'rbf', 'degree': 5, 'gamma': 'auto', 'coef0': 4.246364976605307, 'shrinking': 0, 'tol': 0.061821991772805854}. Best is trial 32 with value: 0.20399999999999996.\u001b[0m\n",
      "\u001b[32m[I 2022-07-02 10:08:37,581]\u001b[0m Trial 141 finished with value: 0.20599999999999996 and parameters: {'C': 42.562540769671884, 'kernel': 'rbf', 'degree': 4, 'gamma': 'auto', 'coef0': 4.022527640130986, 'shrinking': 0, 'tol': 0.1300313225138252}. Best is trial 32 with value: 0.20399999999999996.\u001b[0m\n",
      "\u001b[32m[I 2022-07-02 10:08:44,849]\u001b[0m Trial 142 finished with value: 0.20599999999999996 and parameters: {'C': 42.89308363874994, 'kernel': 'rbf', 'degree': 4, 'gamma': 'auto', 'coef0': 3.1380836935289165, 'shrinking': 0, 'tol': 0.048966553438590694}. Best is trial 32 with value: 0.20399999999999996.\u001b[0m\n",
      "\u001b[32m[I 2022-07-02 10:08:52,400]\u001b[0m Trial 143 finished with value: 0.20599999999999996 and parameters: {'C': 38.48383927883811, 'kernel': 'rbf', 'degree': 8, 'gamma': 'auto', 'coef0': 5.298398692815886, 'shrinking': 0, 'tol': 0.04076391147901785}. Best is trial 32 with value: 0.20399999999999996.\u001b[0m\n",
      "\u001b[32m[I 2022-07-02 10:08:59,840]\u001b[0m Trial 144 finished with value: 0.20899999999999996 and parameters: {'C': 59.44515135455755, 'kernel': 'rbf', 'degree': 5, 'gamma': 'auto', 'coef0': 5.463974491005764, 'shrinking': 0, 'tol': 0.07180542637311019}. Best is trial 32 with value: 0.20399999999999996.\u001b[0m\n",
      "\u001b[32m[I 2022-07-02 10:09:04,300]\u001b[0m Trial 145 finished with value: 0.20599999999999996 and parameters: {'C': 34.04175790614848, 'kernel': 'rbf', 'degree': 5, 'gamma': 'auto', 'coef0': 1.7700830268815415, 'shrinking': 0, 'tol': 0.6639508668816266}. Best is trial 32 with value: 0.20399999999999996.\u001b[0m\n",
      "\u001b[32m[I 2022-07-02 10:09:40,556]\u001b[0m Trial 146 finished with value: 0.22999999999999998 and parameters: {'C': 24.470036779809735, 'kernel': 'linear', 'degree': 6, 'gamma': 'auto', 'coef0': 8.263971272944216, 'shrinking': 0, 'tol': 0.11950221587830259}. Best is trial 32 with value: 0.20399999999999996.\u001b[0m\n",
      "\u001b[32m[I 2022-07-02 10:09:47,425]\u001b[0m Trial 147 finished with value: 0.20599999999999996 and parameters: {'C': 46.16123558097868, 'kernel': 'rbf', 'degree': 10, 'gamma': 'auto', 'coef0': 7.877100720384202, 'shrinking': 0, 'tol': 0.06514815683596192}. Best is trial 32 with value: 0.20399999999999996.\u001b[0m\n",
      "\u001b[32m[I 2022-07-02 10:09:52,568]\u001b[0m Trial 148 finished with value: 0.21099999999999997 and parameters: {'C': 6.500500916616598, 'kernel': 'rbf', 'degree': 7, 'gamma': 'auto', 'coef0': 1.146966368046495, 'shrinking': 0, 'tol': 0.014923325044782453}. Best is trial 32 with value: 0.20399999999999996.\u001b[0m\n",
      "\u001b[32m[I 2022-07-02 10:09:58,182]\u001b[0m Trial 149 finished with value: 0.21899999999999997 and parameters: {'C': 34.44274814341787, 'kernel': 'rbf', 'degree': 5, 'gamma': 'scale', 'coef0': 3.4822095918372047, 'shrinking': 0, 'tol': 0.2106982531133837}. Best is trial 32 with value: 0.20399999999999996.\u001b[0m\n",
      "\u001b[32m[I 2022-07-02 10:10:04,056]\u001b[0m Trial 150 finished with value: 0.20599999999999996 and parameters: {'C': 34.62418372896495, 'kernel': 'rbf', 'degree': 3, 'gamma': 'auto', 'coef0': 4.018875064167318, 'shrinking': 0, 'tol': 0.09418261767475175}. Best is trial 32 with value: 0.20399999999999996.\u001b[0m\n",
      "\u001b[32m[I 2022-07-02 10:10:10,316]\u001b[0m Trial 151 finished with value: 0.20599999999999996 and parameters: {'C': 36.971658550629115, 'kernel': 'rbf', 'degree': 7, 'gamma': 'auto', 'coef0': 0.8380563555898486, 'shrinking': 0, 'tol': 0.0814238021426188}. Best is trial 32 with value: 0.20399999999999996.\u001b[0m\n",
      "\u001b[32m[I 2022-07-02 10:10:17,772]\u001b[0m Trial 152 finished with value: 0.20599999999999996 and parameters: {'C': 31.685578001498648, 'kernel': 'rbf', 'degree': 7, 'gamma': 'auto', 'coef0': 0.951337729363998, 'shrinking': 0, 'tol': 0.033116385121965644}. Best is trial 32 with value: 0.20399999999999996.\u001b[0m\n",
      "\u001b[32m[I 2022-07-02 10:10:23,899]\u001b[0m Trial 153 finished with value: 0.20499999999999996 and parameters: {'C': 35.865998375928875, 'kernel': 'rbf', 'degree': 7, 'gamma': 'auto', 'coef0': 0.8160671512447213, 'shrinking': 0, 'tol': 0.0830348685726045}. Best is trial 32 with value: 0.20399999999999996.\u001b[0m\n",
      "\u001b[32m[I 2022-07-02 10:10:30,856]\u001b[0m Trial 154 finished with value: 0.20599999999999996 and parameters: {'C': 30.666638782030525, 'kernel': 'rbf', 'degree': 2, 'gamma': 'auto', 'coef0': 0.9172806242868348, 'shrinking': 0, 'tol': 0.037655707581306104}. Best is trial 32 with value: 0.20399999999999996.\u001b[0m\n",
      "\u001b[32m[I 2022-07-02 10:10:37,047]\u001b[0m Trial 155 finished with value: 0.20799999999999996 and parameters: {'C': 39.79085563844563, 'kernel': 'rbf', 'degree': 5, 'gamma': 'auto', 'coef0': 8.434784930191567, 'shrinking': 1, 'tol': 0.18329707965495376}. Best is trial 32 with value: 0.20399999999999996.\u001b[0m\n",
      "\u001b[32m[I 2022-07-02 10:10:42,390]\u001b[0m Trial 156 finished with value: 0.20899999999999996 and parameters: {'C': 26.866723177354224, 'kernel': 'rbf', 'degree': 10, 'gamma': 'auto', 'coef0': 7.1738336425534035, 'shrinking': 1, 'tol': 0.38198024561341704}. Best is trial 32 with value: 0.20399999999999996.\u001b[0m\n",
      "\u001b[32m[I 2022-07-02 10:10:46,701]\u001b[0m Trial 157 finished with value: 0.363 and parameters: {'C': 50.77360088121389, 'kernel': 'sigmoid', 'degree': 4, 'gamma': 'auto', 'coef0': 3.16531023400965, 'shrinking': 0, 'tol': 0.15072420846096024}. Best is trial 32 with value: 0.20399999999999996.\u001b[0m\n",
      "\u001b[32m[I 2022-07-02 10:10:53,706]\u001b[0m Trial 158 finished with value: 0.20699999999999996 and parameters: {'C': 41.07095954204186, 'kernel': 'rbf', 'degree': 7, 'gamma': 'auto', 'coef0': 0.03285653490278784, 'shrinking': 0, 'tol': 0.0528988780568361}. Best is trial 32 with value: 0.20399999999999996.\u001b[0m\n",
      "\u001b[32m[I 2022-07-02 10:11:09,815]\u001b[0m Trial 159 finished with value: 0.20499999999999996 and parameters: {'C': 32.684696331701936, 'kernel': 'rbf', 'degree': 7, 'gamma': 'auto', 'coef0': 0.24680335003287684, 'shrinking': 0, 'tol': 0.003203007483392822}. Best is trial 32 with value: 0.20399999999999996.\u001b[0m\n",
      "\u001b[32m[I 2022-07-02 10:11:16,681]\u001b[0m Trial 160 finished with value: 0.20699999999999996 and parameters: {'C': 28.87103700958289, 'kernel': 'rbf', 'degree': 9, 'gamma': 'auto', 'coef0': 6.107127889442713, 'shrinking': 2, 'tol': 0.01740613869252744}. Best is trial 32 with value: 0.20399999999999996.\u001b[0m\n",
      "\u001b[32m[I 2022-07-02 10:11:21,073]\u001b[0m Trial 161 finished with value: 0.20599999999999996 and parameters: {'C': 33.49887231731059, 'kernel': 'rbf', 'degree': 10, 'gamma': 'auto', 'coef0': 2.2310821179082847, 'shrinking': 0, 'tol': 0.7152088517050917}. Best is trial 32 with value: 0.20399999999999996.\u001b[0m\n",
      "\u001b[32m[I 2022-07-02 10:11:26,144]\u001b[0m Trial 162 finished with value: 0.20699999999999996 and parameters: {'C': 33.64460757303867, 'kernel': 'rbf', 'degree': 10, 'gamma': 'auto', 'coef0': 8.60691253177734, 'shrinking': 0, 'tol': 0.7291579977826255}. Best is trial 32 with value: 0.20399999999999996.\u001b[0m\n",
      "\u001b[32m[I 2022-07-02 10:11:34,412]\u001b[0m Trial 163 finished with value: 0.20499999999999996 and parameters: {'C': 31.830439245770666, 'kernel': 'rbf', 'degree': 7, 'gamma': 'auto', 'coef0': 0.36963125116050877, 'shrinking': 0, 'tol': 0.03261623536884712}. Best is trial 32 with value: 0.20399999999999996.\u001b[0m\n",
      "\u001b[32m[I 2022-07-02 10:11:41,173]\u001b[0m Trial 164 finished with value: 0.20599999999999996 and parameters: {'C': 30.97246068508837, 'kernel': 'rbf', 'degree': 5, 'gamma': 'auto', 'coef0': 0.3363607522589247, 'shrinking': 0, 'tol': 0.11241833363675496}. Best is trial 32 with value: 0.20399999999999996.\u001b[0m\n",
      "\u001b[32m[I 2022-07-02 10:11:54,991]\u001b[0m Trial 165 finished with value: 0.20599999999999996 and parameters: {'C': 35.640053977862806, 'kernel': 'rbf', 'degree': 7, 'gamma': 'auto', 'coef0': 0.4925953472604805, 'shrinking': 0, 'tol': 0.006224813739801691}. Best is trial 32 with value: 0.20399999999999996.\u001b[0m\n",
      "\u001b[32m[I 2022-07-02 10:12:01,162]\u001b[0m Trial 166 finished with value: 0.20699999999999996 and parameters: {'C': 38.355714054813454, 'kernel': 'rbf', 'degree': 7, 'gamma': 'auto', 'coef0': 1.0817846379876754, 'shrinking': 0, 'tol': 0.11609271284646713}. Best is trial 32 with value: 0.20399999999999996.\u001b[0m\n",
      "\u001b[32m[I 2022-07-02 10:12:11,918]\u001b[0m Trial 167 finished with value: 0.20499999999999996 and parameters: {'C': 32.61062041179375, 'kernel': 'rbf', 'degree': 7, 'gamma': 'auto', 'coef0': 2.7318324101924163, 'shrinking': 0, 'tol': 0.008619547978936628}. Best is trial 32 with value: 0.20399999999999996.\u001b[0m\n",
      "\u001b[32m[I 2022-07-02 10:12:19,708]\u001b[0m Trial 168 finished with value: 0.20599999999999996 and parameters: {'C': 29.11970646849876, 'kernel': 'rbf', 'degree': 7, 'gamma': 'auto', 'coef0': 5.6174923889355615, 'shrinking': 2, 'tol': 0.005549394796274625}. Best is trial 32 with value: 0.20399999999999996.\u001b[0m\n",
      "\u001b[32m[I 2022-07-02 10:12:24,303]\u001b[0m Trial 169 finished with value: 0.20599999999999996 and parameters: {'C': 27.152968229586378, 'kernel': 'rbf', 'degree': 7, 'gamma': 'auto', 'coef0': 3.3031309006893315, 'shrinking': 0, 'tol': 0.46982455990863164}. Best is trial 32 with value: 0.20399999999999996.\u001b[0m\n",
      "\u001b[32m[I 2022-07-02 10:12:41,057]\u001b[0m Trial 170 finished with value: 0.20599999999999996 and parameters: {'C': 32.04802932540475, 'kernel': 'rbf', 'degree': 4, 'gamma': 'auto', 'coef0': 3.5730309826308977, 'shrinking': 0, 'tol': 0.0030814410865468746}. Best is trial 32 with value: 0.20399999999999996.\u001b[0m\n",
      "\u001b[32m[I 2022-07-02 10:12:46,057]\u001b[0m Trial 171 finished with value: 0.20999999999999996 and parameters: {'C': 32.51474024450765, 'kernel': 'rbf', 'degree': 7, 'gamma': 'auto', 'coef0': 2.632465036187532, 'shrinking': 0, 'tol': 0.42607598644002753}. Best is trial 32 with value: 0.20399999999999996.\u001b[0m\n",
      "\u001b[32m[I 2022-07-02 10:12:52,397]\u001b[0m Trial 172 finished with value: 0.20599999999999996 and parameters: {'C': 34.64191912858571, 'kernel': 'rbf', 'degree': 4, 'gamma': 'auto', 'coef0': 3.6894125102981477, 'shrinking': 0, 'tol': 0.07011632271481366}. Best is trial 32 with value: 0.20399999999999996.\u001b[0m\n",
      "\u001b[32m[I 2022-07-02 10:13:01,389]\u001b[0m Trial 173 finished with value: 0.20799999999999996 and parameters: {'C': 48.3739720359987, 'kernel': 'rbf', 'degree': 7, 'gamma': 'auto', 'coef0': 7.959756783756227, 'shrinking': 0, 'tol': 0.02958257605102342}. Best is trial 32 with value: 0.20399999999999996.\u001b[0m\n",
      "\u001b[32m[I 2022-07-02 10:13:07,248]\u001b[0m Trial 174 finished with value: 0.20599999999999996 and parameters: {'C': 32.37149838805469, 'kernel': 'rbf', 'degree': 4, 'gamma': 'auto', 'coef0': 2.9507301509705437, 'shrinking': 0, 'tol': 0.0940406060822777}. Best is trial 32 with value: 0.20399999999999996.\u001b[0m\n",
      "\u001b[32m[I 2022-07-02 10:13:14,789]\u001b[0m Trial 175 finished with value: 0.20599999999999996 and parameters: {'C': 36.36107757370584, 'kernel': 'rbf', 'degree': 7, 'gamma': 'auto', 'coef0': 0.7078410170741566, 'shrinking': 0, 'tol': 0.03363602797819222}. Best is trial 32 with value: 0.20399999999999996.\u001b[0m\n",
      "\u001b[32m[I 2022-07-02 10:13:40,941]\u001b[0m Trial 176 finished with value: 0.23099999999999998 and parameters: {'C': 30.343691686398373, 'kernel': 'linear', 'degree': 7, 'gamma': 'auto', 'coef0': 1.6476247019884709, 'shrinking': 0, 'tol': 0.6827077486188335}. Best is trial 32 with value: 0.20399999999999996.\u001b[0m\n",
      "\u001b[32m[I 2022-07-02 10:13:45,881]\u001b[0m Trial 177 finished with value: 0.20599999999999996 and parameters: {'C': 35.94615454034993, 'kernel': 'rbf', 'degree': 5, 'gamma': 'auto', 'coef0': 1.8798866285201428, 'shrinking': 0, 'tol': 0.6647107675969557}. Best is trial 32 with value: 0.20399999999999996.\u001b[0m\n",
      "\u001b[32m[I 2022-07-02 10:13:51,765]\u001b[0m Trial 178 finished with value: 0.20899999999999996 and parameters: {'C': 24.7114380596186, 'kernel': 'rbf', 'degree': 6, 'gamma': 'auto', 'coef0': 6.399683404901818, 'shrinking': 2, 'tol': 0.06482788751815546}. Best is trial 32 with value: 0.20399999999999996.\u001b[0m\n",
      "\u001b[32m[I 2022-07-02 10:13:59,199]\u001b[0m Trial 179 finished with value: 0.21899999999999997 and parameters: {'C': 34.72677130380294, 'kernel': 'rbf', 'degree': 4, 'gamma': 'scale', 'coef0': 4.287706042670234, 'shrinking': 0, 'tol': 0.043731861369445235}. Best is trial 32 with value: 0.20399999999999996.\u001b[0m\n",
      "\u001b[32m[I 2022-07-02 10:14:06,848]\u001b[0m Trial 180 finished with value: 0.20599999999999996 and parameters: {'C': 38.74815105265652, 'kernel': 'rbf', 'degree': 3, 'gamma': 'auto', 'coef0': 4.641624736276617, 'shrinking': 0, 'tol': 0.04807183682911067}. Best is trial 32 with value: 0.20399999999999996.\u001b[0m\n",
      "\u001b[32m[I 2022-07-02 10:14:13,608]\u001b[0m Trial 181 finished with value: 0.20599999999999996 and parameters: {'C': 28.99279676401063, 'kernel': 'rbf', 'degree': 7, 'gamma': 'auto', 'coef0': 6.678430984418678, 'shrinking': 0, 'tol': 0.07806165050366518}. Best is trial 32 with value: 0.20399999999999996.\u001b[0m\n",
      "\u001b[32m[I 2022-07-02 10:14:19,808]\u001b[0m Trial 182 finished with value: 0.20499999999999996 and parameters: {'C': 30.506976063434553, 'kernel': 'rbf', 'degree': 7, 'gamma': 'auto', 'coef0': 0.2518642183648292, 'shrinking': 0, 'tol': 0.09174954465090114}. Best is trial 32 with value: 0.20399999999999996.\u001b[0m\n",
      "\u001b[32m[I 2022-07-02 10:14:25,948]\u001b[0m Trial 183 finished with value: 0.20499999999999996 and parameters: {'C': 33.04872028128467, 'kernel': 'rbf', 'degree': 9, 'gamma': 'auto', 'coef0': 3.795400163754888, 'shrinking': 0, 'tol': 0.09450513246879472}. Best is trial 32 with value: 0.20399999999999996.\u001b[0m\n",
      "\u001b[32m[I 2022-07-02 10:14:32,981]\u001b[0m Trial 184 finished with value: 0.20599999999999996 and parameters: {'C': 34.96277986703004, 'kernel': 'rbf', 'degree': 9, 'gamma': 'auto', 'coef0': 2.8225838683573197, 'shrinking': 0, 'tol': 0.09200088828507025}. Best is trial 32 with value: 0.20399999999999996.\u001b[0m\n",
      "\u001b[32m[I 2022-07-02 10:14:39,214]\u001b[0m Trial 185 finished with value: 0.20599999999999996 and parameters: {'C': 31.912355330313567, 'kernel': 'rbf', 'degree': 10, 'gamma': 'auto', 'coef0': 3.7510325327424447, 'shrinking': 0, 'tol': 0.1307245565748796}. Best is trial 32 with value: 0.20399999999999996.\u001b[0m\n",
      "\u001b[32m[I 2022-07-02 10:15:29,571]\u001b[0m Trial 186 finished with value: 0.20799999999999996 and parameters: {'C': 54.340541199034575, 'kernel': 'rbf', 'degree': 7, 'gamma': 'auto', 'coef0': 3.0726881228422265, 'shrinking': 0, 'tol': 0.001937964081805299}. Best is trial 32 with value: 0.20399999999999996.\u001b[0m\n",
      "\u001b[32m[I 2022-07-02 10:15:37,821]\u001b[0m Trial 187 finished with value: 0.20599999999999996 and parameters: {'C': 29.63279566348278, 'kernel': 'rbf', 'degree': 7, 'gamma': 'auto', 'coef0': 0.15220821968987353, 'shrinking': 2, 'tol': 0.056139096540406865}. Best is trial 32 with value: 0.20399999999999996.\u001b[0m\n",
      "\u001b[32m[I 2022-07-02 10:15:47,932]\u001b[0m Trial 188 finished with value: 0.20799999999999996 and parameters: {'C': 27.366090393104813, 'kernel': 'rbf', 'degree': 7, 'gamma': 'auto', 'coef0': 0.011253161341231888, 'shrinking': 0, 'tol': 0.024854097404938616}. Best is trial 32 with value: 0.20399999999999996.\u001b[0m\n",
      "\u001b[32m[I 2022-07-02 10:15:58,433]\u001b[0m Trial 189 finished with value: 0.20599999999999996 and parameters: {'C': 42.25009823157777, 'kernel': 'rbf', 'degree': 7, 'gamma': 'auto', 'coef0': 4.281391452223492, 'shrinking': 0, 'tol': 0.030279371119238067}. Best is trial 32 with value: 0.20399999999999996.\u001b[0m\n",
      "\u001b[32m[I 2022-07-02 10:16:08,186]\u001b[0m Trial 190 finished with value: 0.52 and parameters: {'C': 56.27317559538724, 'kernel': 'sigmoid', 'degree': 10, 'gamma': 'auto', 'coef0': 8.171713336981616, 'shrinking': 0, 'tol': 0.06730917411318735}. Best is trial 32 with value: 0.20399999999999996.\u001b[0m\n",
      "\u001b[32m[I 2022-07-02 10:16:15,419]\u001b[0m Trial 191 finished with value: 0.21199999999999997 and parameters: {'C': 13.529274496064666, 'kernel': 'rbf', 'degree': 7, 'gamma': 'auto', 'coef0': 0.5311442993450866, 'shrinking': 0, 'tol': 0.10120125929336404}. Best is trial 32 with value: 0.20399999999999996.\u001b[0m\n",
      "\u001b[32m[I 2022-07-02 10:16:21,183]\u001b[0m Trial 192 finished with value: 0.20599999999999996 and parameters: {'C': 37.218054058205745, 'kernel': 'rbf', 'degree': 5, 'gamma': 'auto', 'coef0': 1.1417172357132888, 'shrinking': 0, 'tol': 0.7042485744187454}. Best is trial 32 with value: 0.20399999999999996.\u001b[0m\n",
      "\u001b[32m[I 2022-07-02 10:16:27,676]\u001b[0m Trial 193 finished with value: 0.20699999999999996 and parameters: {'C': 31.19688705268288, 'kernel': 'rbf', 'degree': 7, 'gamma': 'auto', 'coef0': 3.829791866551925, 'shrinking': 0, 'tol': 0.08483022762743589}. Best is trial 32 with value: 0.20399999999999996.\u001b[0m\n",
      "\u001b[32m[I 2022-07-02 10:16:36,281]\u001b[0m Trial 194 finished with value: 0.20499999999999996 and parameters: {'C': 32.23303193855794, 'kernel': 'rbf', 'degree': 7, 'gamma': 'auto', 'coef0': 0.2944602167330861, 'shrinking': 0, 'tol': 0.0193994993086928}. Best is trial 32 with value: 0.20399999999999996.\u001b[0m\n",
      "\u001b[32m[I 2022-07-02 10:16:43,511]\u001b[0m Trial 195 finished with value: 0.20499999999999996 and parameters: {'C': 32.465957252467, 'kernel': 'rbf', 'degree': 7, 'gamma': 'auto', 'coef0': 3.4968202843011533, 'shrinking': 0, 'tol': 0.05164119699008599}. Best is trial 32 with value: 0.20399999999999996.\u001b[0m\n",
      "\u001b[32m[I 2022-07-02 10:16:47,601]\u001b[0m Trial 196 finished with value: 0.20999999999999996 and parameters: {'C': 9.195748373825394, 'kernel': 'rbf', 'degree': 10, 'gamma': 'auto', 'coef0': 7.7389209337599585, 'shrinking': 0, 'tol': 0.528133840530145}. Best is trial 32 with value: 0.20399999999999996.\u001b[0m\n",
      "\u001b[32m[I 2022-07-02 10:16:54,472]\u001b[0m Trial 197 finished with value: 0.20599999999999996 and parameters: {'C': 30.77182766151396, 'kernel': 'rbf', 'degree': 7, 'gamma': 'auto', 'coef0': 0.3388613327630093, 'shrinking': 0, 'tol': 0.05162745373354722}. Best is trial 32 with value: 0.20399999999999996.\u001b[0m\n",
      "\u001b[32m[I 2022-07-02 10:17:00,462]\u001b[0m Trial 198 finished with value: 0.20599999999999996 and parameters: {'C': 32.80679866361315, 'kernel': 'rbf', 'degree': 8, 'gamma': 'auto', 'coef0': 0.2920346654599753, 'shrinking': 0, 'tol': 0.11393668871091572}. Best is trial 32 with value: 0.20399999999999996.\u001b[0m\n",
      "\u001b[32m[I 2022-07-02 10:17:09,314]\u001b[0m Trial 199 finished with value: 0.20499999999999996 and parameters: {'C': 34.094922466602156, 'kernel': 'rbf', 'degree': 7, 'gamma': 'auto', 'coef0': 3.467219600116003, 'shrinking': 0, 'tol': 0.022023430169532107}. Best is trial 32 with value: 0.20399999999999996.\u001b[0m\n",
      "\u001b[32m[I 2022-07-02 10:17:19,234]\u001b[0m Trial 200 finished with value: 0.20599999999999996 and parameters: {'C': 28.137122986412088, 'kernel': 'rbf', 'degree': 7, 'gamma': 'auto', 'coef0': 3.561774051457604, 'shrinking': 0, 'tol': 0.022480429622900127}. Best is trial 32 with value: 0.20399999999999996.\u001b[0m\n",
      "\u001b[32m[I 2022-07-02 10:17:26,982]\u001b[0m Trial 201 finished with value: 0.20599999999999996 and parameters: {'C': 34.409606812807965, 'kernel': 'rbf', 'degree': 7, 'gamma': 'auto', 'coef0': 3.31378417841922, 'shrinking': 0, 'tol': 0.047207240912087146}. Best is trial 32 with value: 0.20399999999999996.\u001b[0m\n",
      "\u001b[32m[I 2022-07-02 10:17:33,741]\u001b[0m Trial 202 finished with value: 0.20599999999999996 and parameters: {'C': 30.283051600120363, 'kernel': 'rbf', 'degree': 7, 'gamma': 'auto', 'coef0': 4.973203516160188, 'shrinking': 0, 'tol': 0.06980508893443112}. Best is trial 32 with value: 0.20399999999999996.\u001b[0m\n",
      "\u001b[32m[I 2022-07-02 10:18:01,932]\u001b[0m Trial 203 finished with value: 0.20499999999999996 and parameters: {'C': 32.4197923278436, 'kernel': 'rbf', 'degree': 7, 'gamma': 'auto', 'coef0': 0.6380920716153007, 'shrinking': 0, 'tol': 0.001682468644644254}. Best is trial 32 with value: 0.20399999999999996.\u001b[0m\n",
      "\u001b[32m[I 2022-07-02 10:18:11,041]\u001b[0m Trial 204 finished with value: 0.20499999999999996 and parameters: {'C': 32.87581523206727, 'kernel': 'rbf', 'degree': 7, 'gamma': 'auto', 'coef0': 0.1914602421408505, 'shrinking': 0, 'tol': 0.018936038259031424}. Best is trial 32 with value: 0.20399999999999996.\u001b[0m\n",
      "\u001b[32m[I 2022-07-02 10:18:22,816]\u001b[0m Trial 205 finished with value: 0.20499999999999996 and parameters: {'C': 33.29496982793528, 'kernel': 'rbf', 'degree': 7, 'gamma': 'auto', 'coef0': 0.21556093959036773, 'shrinking': 0, 'tol': 0.015965465647212403}. Best is trial 32 with value: 0.20399999999999996.\u001b[0m\n",
      "\u001b[32m[I 2022-07-02 10:18:46,408]\u001b[0m Trial 206 finished with value: 0.20499999999999996 and parameters: {'C': 32.82557876573492, 'kernel': 'rbf', 'degree': 7, 'gamma': 'auto', 'coef0': 0.1846724246114842, 'shrinking': 0, 'tol': 0.0020250749426822326}. Best is trial 32 with value: 0.20399999999999996.\u001b[0m\n",
      "\u001b[32m[I 2022-07-02 10:19:23,565]\u001b[0m Trial 207 finished with value: 0.20499999999999996 and parameters: {'C': 33.29333921466226, 'kernel': 'rbf', 'degree': 7, 'gamma': 'auto', 'coef0': 0.19105848577059795, 'shrinking': 0, 'tol': 0.0010513950684697092}. Best is trial 32 with value: 0.20399999999999996.\u001b[0m\n",
      "\u001b[32m[I 2022-07-02 10:19:37,491]\u001b[0m Trial 208 finished with value: 0.20499999999999996 and parameters: {'C': 33.298651261247336, 'kernel': 'rbf', 'degree': 7, 'gamma': 'auto', 'coef0': 0.22441625060773185, 'shrinking': 0, 'tol': 0.00544957094097885}. Best is trial 32 with value: 0.20399999999999996.\u001b[0m\n",
      "\u001b[32m[I 2022-07-02 10:20:06,662]\u001b[0m Trial 209 finished with value: 0.20899999999999996 and parameters: {'C': 26.18231556852682, 'kernel': 'rbf', 'degree': 7, 'gamma': 'auto', 'coef0': 0.2530697735703331, 'shrinking': 0, 'tol': 0.0010535644012367867}. Best is trial 32 with value: 0.20399999999999996.\u001b[0m\n",
      "\u001b[32m[I 2022-07-02 10:20:17,724]\u001b[0m Trial 210 finished with value: 0.20499999999999996 and parameters: {'C': 32.407302924528565, 'kernel': 'rbf', 'degree': 7, 'gamma': 'auto', 'coef0': 0.2532887299701341, 'shrinking': 0, 'tol': 0.015676389725561447}. Best is trial 32 with value: 0.20399999999999996.\u001b[0m\n",
      "\u001b[32m[I 2022-07-02 10:20:26,934]\u001b[0m Trial 211 finished with value: 0.20499999999999996 and parameters: {'C': 32.43744199464865, 'kernel': 'rbf', 'degree': 7, 'gamma': 'auto', 'coef0': 0.17425852701921438, 'shrinking': 0, 'tol': 0.01904178280109379}. Best is trial 32 with value: 0.20399999999999996.\u001b[0m\n",
      "\u001b[32m[I 2022-07-02 10:20:36,851]\u001b[0m Trial 212 finished with value: 0.20499999999999996 and parameters: {'C': 32.677089941280975, 'kernel': 'rbf', 'degree': 7, 'gamma': 'auto', 'coef0': 0.4472127147634719, 'shrinking': 0, 'tol': 0.016309632440149522}. Best is trial 32 with value: 0.20399999999999996.\u001b[0m\n",
      "\u001b[32m[I 2022-07-02 10:20:44,814]\u001b[0m Trial 213 finished with value: 0.20699999999999996 and parameters: {'C': 28.46955060036679, 'kernel': 'rbf', 'degree': 7, 'gamma': 'auto', 'coef0': 0.4995387874169399, 'shrinking': 0, 'tol': 0.02438025908827035}. Best is trial 32 with value: 0.20399999999999996.\u001b[0m\n",
      "\u001b[32m[I 2022-07-02 10:20:53,691]\u001b[0m Trial 214 finished with value: 0.20499999999999996 and parameters: {'C': 33.57875728918276, 'kernel': 'rbf', 'degree': 7, 'gamma': 'auto', 'coef0': 0.23869296913117893, 'shrinking': 0, 'tol': 0.017344502589155895}. Best is trial 32 with value: 0.20399999999999996.\u001b[0m\n",
      "\u001b[32m[I 2022-07-02 10:21:01,301]\u001b[0m Trial 215 finished with value: 0.20599999999999996 and parameters: {'C': 30.473841889070478, 'kernel': 'rbf', 'degree': 7, 'gamma': 'auto', 'coef0': 0.025871397683671277, 'shrinking': 0, 'tol': 0.03266867436594947}. Best is trial 32 with value: 0.20399999999999996.\u001b[0m\n",
      "\u001b[32m[I 2022-07-02 10:21:15,621]\u001b[0m Trial 216 finished with value: 0.20499999999999996 and parameters: {'C': 32.872412666836226, 'kernel': 'rbf', 'degree': 7, 'gamma': 'auto', 'coef0': 0.518247091635681, 'shrinking': 0, 'tol': 0.005012967814175753}. Best is trial 32 with value: 0.20399999999999996.\u001b[0m\n",
      "\u001b[32m[I 2022-07-02 10:21:23,371]\u001b[0m Trial 217 finished with value: 0.21699999999999997 and parameters: {'C': 30.912140131252738, 'kernel': 'rbf', 'degree': 7, 'gamma': 'scale', 'coef0': 0.3826345330545715, 'shrinking': 0, 'tol': 0.03693242912734726}. Best is trial 32 with value: 0.20399999999999996.\u001b[0m\n",
      "\u001b[32m[I 2022-07-02 10:22:55,318]\u001b[0m Trial 218 finished with value: 0.22799999999999998 and parameters: {'C': 28.69051951704238, 'kernel': 'linear', 'degree': 7, 'gamma': 'auto', 'coef0': 0.5891297542843664, 'shrinking': 0, 'tol': 0.019628710145053123}. Best is trial 32 with value: 0.20399999999999996.\u001b[0m\n",
      "\u001b[32m[I 2022-07-02 10:23:21,573]\u001b[0m Trial 219 finished with value: 0.20499999999999996 and parameters: {'C': 33.930991083485125, 'kernel': 'rbf', 'degree': 7, 'gamma': 'auto', 'coef0': 0.6439332269804295, 'shrinking': 0, 'tol': 0.002219803546086936}. Best is trial 32 with value: 0.20399999999999996.\u001b[0m\n",
      "\u001b[32m[I 2022-07-02 10:23:29,324]\u001b[0m Trial 220 finished with value: 0.20599999999999996 and parameters: {'C': 35.893574860136496, 'kernel': 'rbf', 'degree': 7, 'gamma': 'auto', 'coef0': 0.6410984019221161, 'shrinking': 0, 'tol': 0.04254248187384717}. Best is trial 32 with value: 0.20399999999999996.\u001b[0m\n",
      "\u001b[32m[I 2022-07-02 10:23:38,473]\u001b[0m Trial 221 finished with value: 0.20499999999999996 and parameters: {'C': 33.62115839644631, 'kernel': 'rbf', 'degree': 7, 'gamma': 'auto', 'coef0': 0.5116016499641987, 'shrinking': 0, 'tol': 0.019330450681767256}. Best is trial 32 with value: 0.20399999999999996.\u001b[0m\n",
      "\u001b[32m[I 2022-07-02 10:23:48,038]\u001b[0m Trial 222 finished with value: 0.20599999999999996 and parameters: {'C': 32.3748965239068, 'kernel': 'rbf', 'degree': 7, 'gamma': 'auto', 'coef0': 0.25805848564814904, 'shrinking': 0, 'tol': 0.01884564935842668}. Best is trial 32 with value: 0.20399999999999996.\u001b[0m\n",
      "\u001b[32m[I 2022-07-02 10:23:57,553]\u001b[0m Trial 223 finished with value: 0.20599999999999996 and parameters: {'C': 34.679740074557664, 'kernel': 'rbf', 'degree': 7, 'gamma': 'auto', 'coef0': 0.21309146920276362, 'shrinking': 0, 'tol': 0.015600857256925145}. Best is trial 32 with value: 0.20399999999999996.\u001b[0m\n",
      "\u001b[32m[I 2022-07-02 10:24:04,821]\u001b[0m Trial 224 finished with value: 0.20599999999999996 and parameters: {'C': 30.77886882864941, 'kernel': 'rbf', 'degree': 7, 'gamma': 'auto', 'coef0': 0.44149307475538485, 'shrinking': 0, 'tol': 0.04284645471507276}. Best is trial 32 with value: 0.20399999999999996.\u001b[0m\n",
      "\u001b[32m[I 2022-07-02 10:24:13,715]\u001b[0m Trial 225 finished with value: 0.20499999999999996 and parameters: {'C': 34.4770903813179, 'kernel': 'rbf', 'degree': 7, 'gamma': 'auto', 'coef0': 0.19574558329761693, 'shrinking': 0, 'tol': 0.01840870385917126}. Best is trial 32 with value: 0.20399999999999996.\u001b[0m\n",
      "\u001b[32m[I 2022-07-02 10:24:35,903]\u001b[0m Trial 226 finished with value: 0.20499999999999996 and parameters: {'C': 34.37950801162215, 'kernel': 'rbf', 'degree': 7, 'gamma': 'auto', 'coef0': 0.7202900732782892, 'shrinking': 0, 'tol': 0.0023625685629617317}. Best is trial 32 with value: 0.20399999999999996.\u001b[0m\n",
      "\u001b[32m[I 2022-07-02 10:24:51,173]\u001b[0m Trial 227 finished with value: 0.20599999999999996 and parameters: {'C': 35.924995855457794, 'kernel': 'rbf', 'degree': 7, 'gamma': 'auto', 'coef0': 0.7920503375230886, 'shrinking': 0, 'tol': 0.005650646272407592}. Best is trial 32 with value: 0.20399999999999996.\u001b[0m\n",
      "\u001b[32m[I 2022-07-02 10:25:20,865]\u001b[0m Trial 228 finished with value: 0.20699999999999996 and parameters: {'C': 28.675498365844376, 'kernel': 'rbf', 'degree': 7, 'gamma': 'auto', 'coef0': 0.03630006004952596, 'shrinking': 0, 'tol': 0.0010421716650549878}. Best is trial 32 with value: 0.20399999999999996.\u001b[0m\n",
      "\u001b[32m[I 2022-07-02 10:25:28,550]\u001b[0m Trial 229 finished with value: 0.20599999999999996 and parameters: {'C': 31.510703450779957, 'kernel': 'rbf', 'degree': 7, 'gamma': 'auto', 'coef0': 0.2516956595496611, 'shrinking': 0, 'tol': 0.049684127681323006}. Best is trial 32 with value: 0.20399999999999996.\u001b[0m\n",
      "\u001b[32m[I 2022-07-02 10:25:37,034]\u001b[0m Trial 230 finished with value: 0.20499999999999996 and parameters: {'C': 33.95364230302204, 'kernel': 'rbf', 'degree': 7, 'gamma': 'auto', 'coef0': 0.031596454402898266, 'shrinking': 0, 'tol': 0.03466848436185817}. Best is trial 32 with value: 0.20399999999999996.\u001b[0m\n",
      "\u001b[32m[I 2022-07-02 10:25:44,653]\u001b[0m Trial 231 finished with value: 0.20499999999999996 and parameters: {'C': 32.67868527402465, 'kernel': 'rbf', 'degree': 7, 'gamma': 'auto', 'coef0': 0.12325053141679566, 'shrinking': 0, 'tol': 0.03609067517179356}. Best is trial 32 with value: 0.20399999999999996.\u001b[0m\n",
      "\u001b[32m[I 2022-07-02 10:25:53,058]\u001b[0m Trial 232 finished with value: 0.20499999999999996 and parameters: {'C': 32.46222914187572, 'kernel': 'rbf', 'degree': 7, 'gamma': 'auto', 'coef0': 0.021875201358466462, 'shrinking': 0, 'tol': 0.03764214900053363}. Best is trial 32 with value: 0.20399999999999996.\u001b[0m\n",
      "\u001b[32m[I 2022-07-02 10:25:59,705]\u001b[0m Trial 233 finished with value: 0.20599999999999996 and parameters: {'C': 29.905186493469532, 'kernel': 'rbf', 'degree': 7, 'gamma': 'auto', 'coef0': 0.016521449687240147, 'shrinking': 0, 'tol': 0.05417623895407104}. Best is trial 32 with value: 0.20399999999999996.\u001b[0m\n",
      "\u001b[32m[I 2022-07-02 10:26:12,006]\u001b[0m Trial 234 finished with value: 0.21299999999999997 and parameters: {'C': 95.64486407101379, 'kernel': 'rbf', 'degree': 7, 'gamma': 'auto', 'coef0': 0.0029617316545236805, 'shrinking': 0, 'tol': 0.02754970815816972}. Best is trial 32 with value: 0.20399999999999996.\u001b[0m\n",
      "\u001b[32m[I 2022-07-02 10:26:20,464]\u001b[0m Trial 235 finished with value: 0.20599999999999996 and parameters: {'C': 31.948888568754672, 'kernel': 'rbf', 'degree': 7, 'gamma': 'auto', 'coef0': 0.3388206860325212, 'shrinking': 0, 'tol': 0.020104614378032164}. Best is trial 32 with value: 0.20399999999999996.\u001b[0m\n",
      "\u001b[32m[I 2022-07-02 10:26:27,929]\u001b[0m Trial 236 finished with value: 0.20499999999999996 and parameters: {'C': 33.372017888354996, 'kernel': 'rbf', 'degree': 7, 'gamma': 'auto', 'coef0': 0.22248076836479758, 'shrinking': 0, 'tol': 0.03924095260661233}. Best is trial 32 with value: 0.20399999999999996.\u001b[0m\n",
      "\u001b[32m[I 2022-07-02 10:26:36,533]\u001b[0m Trial 237 finished with value: 0.20899999999999996 and parameters: {'C': 26.52192913475644, 'kernel': 'rbf', 'degree': 7, 'gamma': 'auto', 'coef0': 0.37908435542285834, 'shrinking': 0, 'tol': 0.014351438124634252}. Best is trial 32 with value: 0.20399999999999996.\u001b[0m\n",
      "\u001b[32m[I 2022-07-02 10:26:40,263]\u001b[0m Trial 238 finished with value: 0.34199999999999997 and parameters: {'C': 31.843261842418272, 'kernel': 'sigmoid', 'degree': 7, 'gamma': 'auto', 'coef0': 0.24055249943006918, 'shrinking': 0, 'tol': 0.05588625603743608}. Best is trial 32 with value: 0.20399999999999996.\u001b[0m\n",
      "\u001b[32m[I 2022-07-02 10:27:18,108]\u001b[0m Trial 239 finished with value: 0.20599999999999996 and parameters: {'C': 36.841768436915004, 'kernel': 'rbf', 'degree': 7, 'gamma': 'auto', 'coef0': 0.5238971413077645, 'shrinking': 0, 'tol': 0.0010838937843834044}. Best is trial 32 with value: 0.20399999999999996.\u001b[0m\n",
      "\u001b[32m[I 2022-07-02 10:27:51,878]\u001b[0m Trial 240 finished with value: 0.20499999999999996 and parameters: {'C': 33.70101324902442, 'kernel': 'rbf', 'degree': 7, 'gamma': 'auto', 'coef0': 0.6366333896028025, 'shrinking': 0, 'tol': 0.0012922070248831872}. Best is trial 32 with value: 0.20399999999999996.\u001b[0m\n",
      "\u001b[32m[I 2022-07-02 10:27:59,148]\u001b[0m Trial 241 finished with value: 0.20599999999999996 and parameters: {'C': 30.181066947494692, 'kernel': 'rbf', 'degree': 7, 'gamma': 'auto', 'coef0': 0.4141911234705914, 'shrinking': 0, 'tol': 0.039542878054692185}. Best is trial 32 with value: 0.20399999999999996.\u001b[0m\n",
      "\u001b[32m[I 2022-07-02 10:28:08,528]\u001b[0m Trial 242 finished with value: 0.20499999999999996 and parameters: {'C': 33.251007181524244, 'kernel': 'rbf', 'degree': 7, 'gamma': 'auto', 'coef0': 0.28019378729597466, 'shrinking': 0, 'tol': 0.01655900216533672}. Best is trial 32 with value: 0.20399999999999996.\u001b[0m\n",
      "\u001b[32m[I 2022-07-02 10:28:16,728]\u001b[0m Trial 243 finished with value: 0.20599999999999996 and parameters: {'C': 30.862070675362546, 'kernel': 'rbf', 'degree': 7, 'gamma': 'auto', 'coef0': 0.22103601091947347, 'shrinking': 0, 'tol': 0.024309284419633898}. Best is trial 32 with value: 0.20399999999999996.\u001b[0m\n",
      "\u001b[32m[I 2022-07-02 10:28:50,728]\u001b[0m Trial 244 finished with value: 0.20599999999999996 and parameters: {'C': 35.724363038793406, 'kernel': 'rbf', 'degree': 7, 'gamma': 'auto', 'coef0': 0.5816798105235144, 'shrinking': 0, 'tol': 0.0012357594810515915}. Best is trial 32 with value: 0.20399999999999996.\u001b[0m\n",
      "\u001b[32m[I 2022-07-02 10:28:59,333]\u001b[0m Trial 245 finished with value: 0.20499999999999996 and parameters: {'C': 32.94648034463885, 'kernel': 'rbf', 'degree': 7, 'gamma': 'auto', 'coef0': 0.3795974537398112, 'shrinking': 0, 'tol': 0.02048328284644555}. Best is trial 32 with value: 0.20399999999999996.\u001b[0m\n",
      "\u001b[32m[I 2022-07-02 10:29:08,402]\u001b[0m Trial 246 finished with value: 0.20499999999999996 and parameters: {'C': 32.222920780245644, 'kernel': 'rbf', 'degree': 7, 'gamma': 'auto', 'coef0': 0.36947027461957593, 'shrinking': 0, 'tol': 0.019119077663186854}. Best is trial 32 with value: 0.20399999999999996.\u001b[0m\n",
      "\u001b[32m[I 2022-07-02 10:29:17,392]\u001b[0m Trial 247 finished with value: 0.20499999999999996 and parameters: {'C': 33.761032290291446, 'kernel': 'rbf', 'degree': 7, 'gamma': 'auto', 'coef0': 0.48976695340774956, 'shrinking': 0, 'tol': 0.0178626352637406}. Best is trial 32 with value: 0.20399999999999996.\u001b[0m\n",
      "\u001b[32m[I 2022-07-02 10:29:44,470]\u001b[0m Trial 248 finished with value: 0.20499999999999996 and parameters: {'C': 33.46797361198229, 'kernel': 'rbf', 'degree': 7, 'gamma': 'auto', 'coef0': 0.5848535828516155, 'shrinking': 0, 'tol': 0.0016546528768121077}. Best is trial 32 with value: 0.20399999999999996.\u001b[0m\n",
      "\u001b[32m[I 2022-07-02 10:29:52,544]\u001b[0m Trial 249 finished with value: 0.20599999999999996 and parameters: {'C': 28.156330258711893, 'kernel': 'rbf', 'degree': 7, 'gamma': 'auto', 'coef0': 0.8396629846738848, 'shrinking': 0, 'tol': 0.05531187339346917}. Best is trial 32 with value: 0.20399999999999996.\u001b[0m\n",
      "\u001b[32m[I 2022-07-02 10:30:14,938]\u001b[0m Trial 250 finished with value: 0.20599999999999996 and parameters: {'C': 35.69668702120829, 'kernel': 'rbf', 'degree': 7, 'gamma': 'auto', 'coef0': 0.7752113321159587, 'shrinking': 0, 'tol': 0.003976106891963329}. Best is trial 32 with value: 0.20399999999999996.\u001b[0m\n",
      "\u001b[32m[I 2022-07-02 10:30:22,158]\u001b[0m Trial 251 finished with value: 0.21899999999999997 and parameters: {'C': 29.411909810523298, 'kernel': 'rbf', 'degree': 7, 'gamma': 'scale', 'coef0': 0.6463242147946653, 'shrinking': 0, 'tol': 0.04978669862351112}. Best is trial 32 with value: 0.20399999999999996.\u001b[0m\n"
     ]
    },
    {
     "ename": "KeyboardInterrupt",
     "evalue": "",
     "output_type": "error",
     "traceback": [
      "\u001b[1;31m---------------------------------------------------------------------------\u001b[0m",
      "\u001b[1;31mKeyboardInterrupt\u001b[0m                         Traceback (most recent call last)",
      "\u001b[1;32mc:\\PROJEKTY\\KAGGLE\\SpaceshipTytanic\\05_svc_optimization.ipynb Cell 11'\u001b[0m in \u001b[0;36m<cell line: 2>\u001b[1;34m()\u001b[0m\n\u001b[0;32m      <a href='vscode-notebook-cell:/c%3A/PROJEKTY/KAGGLE/SpaceshipTytanic/05_svc_optimization.ipynb#ch0000010?line=0'>1</a>\u001b[0m study \u001b[39m=\u001b[39m optuna\u001b[39m.\u001b[39mcreate_study()\n\u001b[1;32m----> <a href='vscode-notebook-cell:/c%3A/PROJEKTY/KAGGLE/SpaceshipTytanic/05_svc_optimization.ipynb#ch0000010?line=1'>2</a>\u001b[0m study\u001b[39m.\u001b[39;49moptimize(objective, n_trials\u001b[39m=\u001b[39;49m\u001b[39m1000\u001b[39;49m)\n",
      "File \u001b[1;32mc:\\Users\\b1wojtow\\AppData\\Local\\Programs\\Python\\Python310\\lib\\site-packages\\optuna\\study\\study.py:400\u001b[0m, in \u001b[0;36mStudy.optimize\u001b[1;34m(self, func, n_trials, timeout, n_jobs, catch, callbacks, gc_after_trial, show_progress_bar)\u001b[0m\n\u001b[0;32m    392\u001b[0m \u001b[39mif\u001b[39;00m n_jobs \u001b[39m!=\u001b[39m \u001b[39m1\u001b[39m:\n\u001b[0;32m    393\u001b[0m     warnings\u001b[39m.\u001b[39mwarn(\n\u001b[0;32m    394\u001b[0m         \u001b[39m\"\u001b[39m\u001b[39m`n_jobs` argument has been deprecated in v2.7.0. \u001b[39m\u001b[39m\"\u001b[39m\n\u001b[0;32m    395\u001b[0m         \u001b[39m\"\u001b[39m\u001b[39mThis feature will be removed in v4.0.0. \u001b[39m\u001b[39m\"\u001b[39m\n\u001b[0;32m    396\u001b[0m         \u001b[39m\"\u001b[39m\u001b[39mSee https://github.com/optuna/optuna/releases/tag/v2.7.0.\u001b[39m\u001b[39m\"\u001b[39m,\n\u001b[0;32m    397\u001b[0m         \u001b[39mFutureWarning\u001b[39;00m,\n\u001b[0;32m    398\u001b[0m     )\n\u001b[1;32m--> 400\u001b[0m _optimize(\n\u001b[0;32m    401\u001b[0m     study\u001b[39m=\u001b[39;49m\u001b[39mself\u001b[39;49m,\n\u001b[0;32m    402\u001b[0m     func\u001b[39m=\u001b[39;49mfunc,\n\u001b[0;32m    403\u001b[0m     n_trials\u001b[39m=\u001b[39;49mn_trials,\n\u001b[0;32m    404\u001b[0m     timeout\u001b[39m=\u001b[39;49mtimeout,\n\u001b[0;32m    405\u001b[0m     n_jobs\u001b[39m=\u001b[39;49mn_jobs,\n\u001b[0;32m    406\u001b[0m     catch\u001b[39m=\u001b[39;49mcatch,\n\u001b[0;32m    407\u001b[0m     callbacks\u001b[39m=\u001b[39;49mcallbacks,\n\u001b[0;32m    408\u001b[0m     gc_after_trial\u001b[39m=\u001b[39;49mgc_after_trial,\n\u001b[0;32m    409\u001b[0m     show_progress_bar\u001b[39m=\u001b[39;49mshow_progress_bar,\n\u001b[0;32m    410\u001b[0m )\n",
      "File \u001b[1;32mc:\\Users\\b1wojtow\\AppData\\Local\\Programs\\Python\\Python310\\lib\\site-packages\\optuna\\study\\_optimize.py:66\u001b[0m, in \u001b[0;36m_optimize\u001b[1;34m(study, func, n_trials, timeout, n_jobs, catch, callbacks, gc_after_trial, show_progress_bar)\u001b[0m\n\u001b[0;32m     64\u001b[0m \u001b[39mtry\u001b[39;00m:\n\u001b[0;32m     65\u001b[0m     \u001b[39mif\u001b[39;00m n_jobs \u001b[39m==\u001b[39m \u001b[39m1\u001b[39m:\n\u001b[1;32m---> 66\u001b[0m         _optimize_sequential(\n\u001b[0;32m     67\u001b[0m             study,\n\u001b[0;32m     68\u001b[0m             func,\n\u001b[0;32m     69\u001b[0m             n_trials,\n\u001b[0;32m     70\u001b[0m             timeout,\n\u001b[0;32m     71\u001b[0m             catch,\n\u001b[0;32m     72\u001b[0m             callbacks,\n\u001b[0;32m     73\u001b[0m             gc_after_trial,\n\u001b[0;32m     74\u001b[0m             reseed_sampler_rng\u001b[39m=\u001b[39;49m\u001b[39mFalse\u001b[39;49;00m,\n\u001b[0;32m     75\u001b[0m             time_start\u001b[39m=\u001b[39;49m\u001b[39mNone\u001b[39;49;00m,\n\u001b[0;32m     76\u001b[0m             progress_bar\u001b[39m=\u001b[39;49mprogress_bar,\n\u001b[0;32m     77\u001b[0m         )\n\u001b[0;32m     78\u001b[0m     \u001b[39melse\u001b[39;00m:\n\u001b[0;32m     79\u001b[0m         \u001b[39mif\u001b[39;00m show_progress_bar:\n",
      "File \u001b[1;32mc:\\Users\\b1wojtow\\AppData\\Local\\Programs\\Python\\Python310\\lib\\site-packages\\optuna\\study\\_optimize.py:163\u001b[0m, in \u001b[0;36m_optimize_sequential\u001b[1;34m(study, func, n_trials, timeout, catch, callbacks, gc_after_trial, reseed_sampler_rng, time_start, progress_bar)\u001b[0m\n\u001b[0;32m    160\u001b[0m         \u001b[39mbreak\u001b[39;00m\n\u001b[0;32m    162\u001b[0m \u001b[39mtry\u001b[39;00m:\n\u001b[1;32m--> 163\u001b[0m     trial \u001b[39m=\u001b[39m _run_trial(study, func, catch)\n\u001b[0;32m    164\u001b[0m \u001b[39mexcept\u001b[39;00m \u001b[39mException\u001b[39;00m:\n\u001b[0;32m    165\u001b[0m     \u001b[39mraise\u001b[39;00m\n",
      "File \u001b[1;32mc:\\Users\\b1wojtow\\AppData\\Local\\Programs\\Python\\Python310\\lib\\site-packages\\optuna\\study\\_optimize.py:213\u001b[0m, in \u001b[0;36m_run_trial\u001b[1;34m(study, func, catch)\u001b[0m\n\u001b[0;32m    210\u001b[0m     thread\u001b[39m.\u001b[39mstart()\n\u001b[0;32m    212\u001b[0m \u001b[39mtry\u001b[39;00m:\n\u001b[1;32m--> 213\u001b[0m     value_or_values \u001b[39m=\u001b[39m func(trial)\n\u001b[0;32m    214\u001b[0m \u001b[39mexcept\u001b[39;00m exceptions\u001b[39m.\u001b[39mTrialPruned \u001b[39mas\u001b[39;00m e:\n\u001b[0;32m    215\u001b[0m     \u001b[39m# TODO(mamu): Handle multi-objective cases.\u001b[39;00m\n\u001b[0;32m    216\u001b[0m     state \u001b[39m=\u001b[39m TrialState\u001b[39m.\u001b[39mPRUNED\n",
      "\u001b[1;32mc:\\PROJEKTY\\KAGGLE\\SpaceshipTytanic\\05_svc_optimization.ipynb Cell 10'\u001b[0m in \u001b[0;36mobjective\u001b[1;34m(trial)\u001b[0m\n\u001b[0;32m     <a href='vscode-notebook-cell:/c%3A/PROJEKTY/KAGGLE/SpaceshipTytanic/05_svc_optimization.ipynb#ch0000009?line=13'>14</a>\u001b[0m params \u001b[39m=\u001b[39m {\n\u001b[0;32m     <a href='vscode-notebook-cell:/c%3A/PROJEKTY/KAGGLE/SpaceshipTytanic/05_svc_optimization.ipynb#ch0000009?line=14'>15</a>\u001b[0m     \u001b[39m'\u001b[39m\u001b[39mC\u001b[39m\u001b[39m'\u001b[39m: C,\n\u001b[0;32m     <a href='vscode-notebook-cell:/c%3A/PROJEKTY/KAGGLE/SpaceshipTytanic/05_svc_optimization.ipynb#ch0000009?line=15'>16</a>\u001b[0m     \u001b[39m'\u001b[39m\u001b[39mkernel\u001b[39m\u001b[39m'\u001b[39m: kernel,\n\u001b[1;32m   (...)\u001b[0m\n\u001b[0;32m     <a href='vscode-notebook-cell:/c%3A/PROJEKTY/KAGGLE/SpaceshipTytanic/05_svc_optimization.ipynb#ch0000009?line=20'>21</a>\u001b[0m     \u001b[39m'\u001b[39m\u001b[39mtol\u001b[39m\u001b[39m'\u001b[39m: tol,\n\u001b[0;32m     <a href='vscode-notebook-cell:/c%3A/PROJEKTY/KAGGLE/SpaceshipTytanic/05_svc_optimization.ipynb#ch0000009?line=21'>22</a>\u001b[0m }\n\u001b[0;32m     <a href='vscode-notebook-cell:/c%3A/PROJEKTY/KAGGLE/SpaceshipTytanic/05_svc_optimization.ipynb#ch0000009?line=23'>24</a>\u001b[0m \u001b[39m# 1 - Model\u001b[39;00m\n\u001b[1;32m---> <a href='vscode-notebook-cell:/c%3A/PROJEKTY/KAGGLE/SpaceshipTytanic/05_svc_optimization.ipynb#ch0000009?line=24'>25</a>\u001b[0m model_tester \u001b[39m=\u001b[39m ModelTester(params, train_x, train_y, val_x, val_y)\n\u001b[0;32m     <a href='vscode-notebook-cell:/c%3A/PROJEKTY/KAGGLE/SpaceshipTytanic/05_svc_optimization.ipynb#ch0000009?line=25'>26</a>\u001b[0m acc \u001b[39m=\u001b[39m model_tester\u001b[39m.\u001b[39mget_accuracy()\n\u001b[0;32m     <a href='vscode-notebook-cell:/c%3A/PROJEKTY/KAGGLE/SpaceshipTytanic/05_svc_optimization.ipynb#ch0000009?line=26'>27</a>\u001b[0m error \u001b[39m=\u001b[39m \u001b[39m1\u001b[39m \u001b[39m-\u001b[39m acc\n",
      "\u001b[1;32mc:\\PROJEKTY\\KAGGLE\\SpaceshipTytanic\\05_svc_optimization.ipynb Cell 8'\u001b[0m in \u001b[0;36mModelTester.__init__\u001b[1;34m(self, params, train_x, train_y, val_x, val_y)\u001b[0m\n\u001b[0;32m     <a href='vscode-notebook-cell:/c%3A/PROJEKTY/KAGGLE/SpaceshipTytanic/05_svc_optimization.ipynb#ch0000007?line=14'>15</a>\u001b[0m \u001b[39mself\u001b[39m\u001b[39m.\u001b[39mval_y \u001b[39m=\u001b[39m val_y\n\u001b[0;32m     <a href='vscode-notebook-cell:/c%3A/PROJEKTY/KAGGLE/SpaceshipTytanic/05_svc_optimization.ipynb#ch0000007?line=16'>17</a>\u001b[0m \u001b[39mself\u001b[39m\u001b[39m.\u001b[39mmodel \u001b[39m=\u001b[39m \u001b[39mself\u001b[39m\u001b[39m.\u001b[39mtrain_model()\n\u001b[1;32m---> <a href='vscode-notebook-cell:/c%3A/PROJEKTY/KAGGLE/SpaceshipTytanic/05_svc_optimization.ipynb#ch0000007?line=17'>18</a>\u001b[0m \u001b[39mself\u001b[39m\u001b[39m.\u001b[39my_pred_bin \u001b[39m=\u001b[39m \u001b[39mself\u001b[39;49m\u001b[39m.\u001b[39;49mget_bin_predictions()\n",
      "\u001b[1;32mc:\\PROJEKTY\\KAGGLE\\SpaceshipTytanic\\05_svc_optimization.ipynb Cell 8'\u001b[0m in \u001b[0;36mModelTester.get_bin_predictions\u001b[1;34m(self)\u001b[0m\n\u001b[0;32m     <a href='vscode-notebook-cell:/c%3A/PROJEKTY/KAGGLE/SpaceshipTytanic/05_svc_optimization.ipynb#ch0000007?line=33'>34</a>\u001b[0m \u001b[39mdef\u001b[39;00m \u001b[39mget_bin_predictions\u001b[39m(\u001b[39mself\u001b[39m):\n\u001b[0;32m     <a href='vscode-notebook-cell:/c%3A/PROJEKTY/KAGGLE/SpaceshipTytanic/05_svc_optimization.ipynb#ch0000007?line=34'>35</a>\u001b[0m     \u001b[39m# 2 - Get predictions\u001b[39;00m\n\u001b[1;32m---> <a href='vscode-notebook-cell:/c%3A/PROJEKTY/KAGGLE/SpaceshipTytanic/05_svc_optimization.ipynb#ch0000007?line=35'>36</a>\u001b[0m     y_pred \u001b[39m=\u001b[39m \u001b[39mself\u001b[39;49m\u001b[39m.\u001b[39;49mmodel\u001b[39m.\u001b[39;49mpredict(val_x)\n\u001b[0;32m     <a href='vscode-notebook-cell:/c%3A/PROJEKTY/KAGGLE/SpaceshipTytanic/05_svc_optimization.ipynb#ch0000007?line=36'>37</a>\u001b[0m     y_pred_bin \u001b[39m=\u001b[39m [\u001b[39m1\u001b[39m \u001b[39mif\u001b[39;00m y \u001b[39melse\u001b[39;00m \u001b[39m0\u001b[39m \u001b[39mfor\u001b[39;00m y \u001b[39min\u001b[39;00m y_pred]\n\u001b[0;32m     <a href='vscode-notebook-cell:/c%3A/PROJEKTY/KAGGLE/SpaceshipTytanic/05_svc_optimization.ipynb#ch0000007?line=38'>39</a>\u001b[0m     \u001b[39mreturn\u001b[39;00m y_pred_bin\n",
      "File \u001b[1;32mc:\\Users\\b1wojtow\\AppData\\Local\\Programs\\Python\\Python310\\lib\\site-packages\\sklearn\\svm\\_base.py:810\u001b[0m, in \u001b[0;36mBaseSVC.predict\u001b[1;34m(self, X)\u001b[0m\n\u001b[0;32m    808\u001b[0m     y \u001b[39m=\u001b[39m np\u001b[39m.\u001b[39margmax(\u001b[39mself\u001b[39m\u001b[39m.\u001b[39mdecision_function(X), axis\u001b[39m=\u001b[39m\u001b[39m1\u001b[39m)\n\u001b[0;32m    809\u001b[0m \u001b[39melse\u001b[39;00m:\n\u001b[1;32m--> 810\u001b[0m     y \u001b[39m=\u001b[39m \u001b[39msuper\u001b[39;49m()\u001b[39m.\u001b[39;49mpredict(X)\n\u001b[0;32m    811\u001b[0m \u001b[39mreturn\u001b[39;00m \u001b[39mself\u001b[39m\u001b[39m.\u001b[39mclasses_\u001b[39m.\u001b[39mtake(np\u001b[39m.\u001b[39masarray(y, dtype\u001b[39m=\u001b[39mnp\u001b[39m.\u001b[39mintp))\n",
      "File \u001b[1;32mc:\\Users\\b1wojtow\\AppData\\Local\\Programs\\Python\\Python310\\lib\\site-packages\\sklearn\\svm\\_base.py:435\u001b[0m, in \u001b[0;36mBaseLibSVM.predict\u001b[1;34m(self, X)\u001b[0m\n\u001b[0;32m    433\u001b[0m X \u001b[39m=\u001b[39m \u001b[39mself\u001b[39m\u001b[39m.\u001b[39m_validate_for_predict(X)\n\u001b[0;32m    434\u001b[0m predict \u001b[39m=\u001b[39m \u001b[39mself\u001b[39m\u001b[39m.\u001b[39m_sparse_predict \u001b[39mif\u001b[39;00m \u001b[39mself\u001b[39m\u001b[39m.\u001b[39m_sparse \u001b[39melse\u001b[39;00m \u001b[39mself\u001b[39m\u001b[39m.\u001b[39m_dense_predict\n\u001b[1;32m--> 435\u001b[0m \u001b[39mreturn\u001b[39;00m predict(X)\n",
      "File \u001b[1;32mc:\\Users\\b1wojtow\\AppData\\Local\\Programs\\Python\\Python310\\lib\\site-packages\\sklearn\\svm\\_base.py:454\u001b[0m, in \u001b[0;36mBaseLibSVM._dense_predict\u001b[1;34m(self, X)\u001b[0m\n\u001b[0;32m    446\u001b[0m         \u001b[39mraise\u001b[39;00m \u001b[39mValueError\u001b[39;00m(\n\u001b[0;32m    447\u001b[0m             \u001b[39m\"\u001b[39m\u001b[39mX.shape[1] = \u001b[39m\u001b[39m%d\u001b[39;00m\u001b[39m should be equal to \u001b[39m\u001b[39m%d\u001b[39;00m\u001b[39m, \u001b[39m\u001b[39m\"\u001b[39m\n\u001b[0;32m    448\u001b[0m             \u001b[39m\"\u001b[39m\u001b[39mthe number of samples at training time\u001b[39m\u001b[39m\"\u001b[39m\n\u001b[0;32m    449\u001b[0m             \u001b[39m%\u001b[39m (X\u001b[39m.\u001b[39mshape[\u001b[39m1\u001b[39m], \u001b[39mself\u001b[39m\u001b[39m.\u001b[39mshape_fit_[\u001b[39m0\u001b[39m])\n\u001b[0;32m    450\u001b[0m         )\n\u001b[0;32m    452\u001b[0m svm_type \u001b[39m=\u001b[39m LIBSVM_IMPL\u001b[39m.\u001b[39mindex(\u001b[39mself\u001b[39m\u001b[39m.\u001b[39m_impl)\n\u001b[1;32m--> 454\u001b[0m \u001b[39mreturn\u001b[39;00m libsvm\u001b[39m.\u001b[39;49mpredict(\n\u001b[0;32m    455\u001b[0m     X,\n\u001b[0;32m    456\u001b[0m     \u001b[39mself\u001b[39;49m\u001b[39m.\u001b[39;49msupport_,\n\u001b[0;32m    457\u001b[0m     \u001b[39mself\u001b[39;49m\u001b[39m.\u001b[39;49msupport_vectors_,\n\u001b[0;32m    458\u001b[0m     \u001b[39mself\u001b[39;49m\u001b[39m.\u001b[39;49m_n_support,\n\u001b[0;32m    459\u001b[0m     \u001b[39mself\u001b[39;49m\u001b[39m.\u001b[39;49m_dual_coef_,\n\u001b[0;32m    460\u001b[0m     \u001b[39mself\u001b[39;49m\u001b[39m.\u001b[39;49m_intercept_,\n\u001b[0;32m    461\u001b[0m     \u001b[39mself\u001b[39;49m\u001b[39m.\u001b[39;49m_probA,\n\u001b[0;32m    462\u001b[0m     \u001b[39mself\u001b[39;49m\u001b[39m.\u001b[39;49m_probB,\n\u001b[0;32m    463\u001b[0m     svm_type\u001b[39m=\u001b[39;49msvm_type,\n\u001b[0;32m    464\u001b[0m     kernel\u001b[39m=\u001b[39;49mkernel,\n\u001b[0;32m    465\u001b[0m     degree\u001b[39m=\u001b[39;49m\u001b[39mself\u001b[39;49m\u001b[39m.\u001b[39;49mdegree,\n\u001b[0;32m    466\u001b[0m     coef0\u001b[39m=\u001b[39;49m\u001b[39mself\u001b[39;49m\u001b[39m.\u001b[39;49mcoef0,\n\u001b[0;32m    467\u001b[0m     gamma\u001b[39m=\u001b[39;49m\u001b[39mself\u001b[39;49m\u001b[39m.\u001b[39;49m_gamma,\n\u001b[0;32m    468\u001b[0m     cache_size\u001b[39m=\u001b[39;49m\u001b[39mself\u001b[39;49m\u001b[39m.\u001b[39;49mcache_size,\n\u001b[0;32m    469\u001b[0m )\n",
      "\u001b[1;31mKeyboardInterrupt\u001b[0m: "
     ]
    }
   ],
   "source": [
    "study = optuna.create_study()\n",
    "study.optimize(objective, n_trials=1000)"
   ]
  },
  {
   "cell_type": "markdown",
   "id": "d25d9501",
   "metadata": {},
   "source": [
    "### Show results"
   ]
  },
  {
   "cell_type": "code",
   "execution_count": 13,
   "id": "ef653720",
   "metadata": {
    "collapsed": true
   },
   "outputs": [
    {
     "data": {
      "application/vnd.plotly.v1+json": {
       "config": {
        "plotlyServerURL": "https://plot.ly"
       },
       "data": [
        {
         "mode": "markers",
         "name": "Objective Value",
         "type": "scatter",
         "x": [
          0,
          1,
          2,
          3,
          4,
          5,
          6,
          7,
          8,
          9,
          10,
          11,
          12,
          13,
          14,
          15,
          16,
          17,
          18,
          19,
          20,
          21,
          22,
          23,
          24,
          25,
          26,
          27,
          28,
          29,
          30,
          31,
          32,
          33,
          34,
          35,
          36,
          37,
          38,
          39,
          40,
          41,
          42,
          43,
          44,
          45,
          46,
          47,
          48,
          49,
          50,
          51,
          52,
          53,
          54,
          55,
          56,
          57,
          58,
          59,
          60,
          61,
          62,
          63,
          64,
          65,
          66,
          67,
          68,
          69,
          70,
          71,
          72,
          73,
          74,
          75,
          76,
          77,
          78,
          79,
          80,
          81,
          82,
          83,
          84,
          85,
          86,
          87,
          88,
          89,
          90,
          91,
          92,
          93,
          94,
          95,
          96,
          97,
          98,
          99,
          100,
          101,
          102,
          103,
          104,
          105,
          106,
          107,
          108,
          109,
          110,
          111,
          112,
          113,
          114,
          115,
          116,
          117,
          118,
          119,
          120,
          121,
          122,
          123,
          124,
          125,
          126,
          127,
          128,
          129,
          130,
          131,
          132,
          133,
          134,
          135,
          136,
          137,
          138,
          139,
          140,
          141,
          142,
          143,
          144,
          145,
          146,
          147,
          148,
          149,
          150,
          151,
          152,
          153,
          154,
          155,
          156,
          157,
          158,
          159,
          160,
          161,
          162,
          163,
          164,
          165,
          166,
          167,
          168,
          169,
          170,
          171,
          172,
          173,
          174,
          175,
          176,
          177,
          178,
          179,
          180,
          181,
          182,
          183,
          184,
          185,
          186,
          187,
          188,
          189,
          190,
          191,
          192,
          193,
          194,
          195,
          196,
          197,
          198,
          199,
          200,
          201,
          202,
          203,
          204,
          205,
          206,
          207,
          208,
          209,
          210,
          211,
          212,
          213,
          214,
          215,
          216,
          217,
          218,
          219,
          220,
          221,
          222,
          223,
          224,
          225,
          226,
          227,
          228,
          229,
          230,
          231,
          232,
          233,
          234,
          235,
          236,
          237,
          238,
          239,
          240,
          241,
          242,
          243,
          244,
          245,
          246,
          247,
          248,
          249,
          250,
          251
         ],
         "y": [
          0.21799999999999997,
          0.52,
          0.22899999999999998,
          0.363,
          0.22999999999999998,
          0.22999999999999998,
          0.21999999999999997,
          0.21599999999999997,
          0.22899999999999998,
          0.374,
          0.22299999999999998,
          0.22199999999999998,
          0.21999999999999997,
          0.21699999999999997,
          0.22199999999999998,
          0.21799999999999997,
          0.20899999999999996,
          0.21199999999999997,
          0.20899999999999996,
          0.52,
          0.20899999999999996,
          0.20999999999999996,
          0.20999999999999996,
          0.20999999999999996,
          0.20899999999999996,
          0.20499999999999996,
          0.20899999999999996,
          0.22799999999999998,
          0.22899999999999998,
          0.52,
          0.20599999999999996,
          0.21199999999999997,
          0.20399999999999996,
          0.21299999999999997,
          0.20999999999999996,
          0.52,
          0.22999999999999998,
          0.20799999999999996,
          0.21299999999999997,
          0.22999999999999998,
          0.261,
          0.20899999999999996,
          0.20899999999999996,
          0.20699999999999996,
          0.21299999999999997,
          0.21199999999999997,
          0.21199999999999997,
          0.22899999999999998,
          0.20799999999999996,
          0.21199999999999997,
          0.20799999999999996,
          0.21299999999999997,
          0.20999999999999996,
          0.20999999999999996,
          0.20899999999999996,
          0.20899999999999996,
          0.20999999999999996,
          0.52,
          0.20899999999999996,
          0.20899999999999996,
          0.20699999999999996,
          0.20999999999999996,
          0.21199999999999997,
          0.20899999999999996,
          0.21299999999999997,
          0.22099999999999997,
          0.20599999999999996,
          0.22999999999999998,
          0.20699999999999996,
          0.20599999999999996,
          0.375,
          0.20899999999999996,
          0.20899999999999996,
          0.20599999999999996,
          0.20599999999999996,
          0.20599999999999996,
          0.20599999999999996,
          0.20699999999999996,
          0.20599999999999996,
          0.22899999999999998,
          0.20699999999999996,
          0.20599999999999996,
          0.20499999999999996,
          0.20499999999999996,
          0.20899999999999996,
          0.20599999999999996,
          0.20599999999999996,
          0.369,
          0.21999999999999997,
          0.21199999999999997,
          0.20899999999999996,
          0.20599999999999996,
          0.20699999999999996,
          0.20699999999999996,
          0.20699999999999996,
          0.20799999999999996,
          0.20599999999999996,
          0.20599999999999996,
          0.22899999999999998,
          0.20699999999999996,
          0.20599999999999996,
          0.20599999999999996,
          0.20599999999999996,
          0.20699999999999996,
          0.21099999999999997,
          0.20799999999999996,
          0.20699999999999996,
          0.33899999999999997,
          0.21799999999999997,
          0.20899999999999996,
          0.20399999999999996,
          0.20799999999999996,
          0.20899999999999996,
          0.20699999999999996,
          0.20599999999999996,
          0.21299999999999997,
          0.20599999999999996,
          0.20799999999999996,
          0.20599999999999996,
          0.22899999999999998,
          0.20599999999999996,
          0.20599999999999996,
          0.20599999999999996,
          0.20899999999999996,
          0.20699999999999996,
          0.20599999999999996,
          0.20599999999999996,
          0.20699999999999996,
          0.22199999999999998,
          0.34299999999999997,
          0.20699999999999996,
          0.20599999999999996,
          0.20699999999999996,
          0.20899999999999996,
          0.20599999999999996,
          0.23299999999999998,
          0.20499999999999996,
          0.20699999999999996,
          0.20799999999999996,
          0.20699999999999996,
          0.20599999999999996,
          0.20599999999999996,
          0.20599999999999996,
          0.20599999999999996,
          0.20899999999999996,
          0.20599999999999996,
          0.22999999999999998,
          0.20599999999999996,
          0.21099999999999997,
          0.21899999999999997,
          0.20599999999999996,
          0.20599999999999996,
          0.20599999999999996,
          0.20499999999999996,
          0.20599999999999996,
          0.20799999999999996,
          0.20899999999999996,
          0.363,
          0.20699999999999996,
          0.20499999999999996,
          0.20699999999999996,
          0.20599999999999996,
          0.20699999999999996,
          0.20499999999999996,
          0.20599999999999996,
          0.20599999999999996,
          0.20699999999999996,
          0.20499999999999996,
          0.20599999999999996,
          0.20599999999999996,
          0.20599999999999996,
          0.20999999999999996,
          0.20599999999999996,
          0.20799999999999996,
          0.20599999999999996,
          0.20599999999999996,
          0.23099999999999998,
          0.20599999999999996,
          0.20899999999999996,
          0.21899999999999997,
          0.20599999999999996,
          0.20599999999999996,
          0.20499999999999996,
          0.20499999999999996,
          0.20599999999999996,
          0.20599999999999996,
          0.20799999999999996,
          0.20599999999999996,
          0.20799999999999996,
          0.20599999999999996,
          0.52,
          0.21199999999999997,
          0.20599999999999996,
          0.20699999999999996,
          0.20499999999999996,
          0.20499999999999996,
          0.20999999999999996,
          0.20599999999999996,
          0.20599999999999996,
          0.20499999999999996,
          0.20599999999999996,
          0.20599999999999996,
          0.20599999999999996,
          0.20499999999999996,
          0.20499999999999996,
          0.20499999999999996,
          0.20499999999999996,
          0.20499999999999996,
          0.20499999999999996,
          0.20899999999999996,
          0.20499999999999996,
          0.20499999999999996,
          0.20499999999999996,
          0.20699999999999996,
          0.20499999999999996,
          0.20599999999999996,
          0.20499999999999996,
          0.21699999999999997,
          0.22799999999999998,
          0.20499999999999996,
          0.20599999999999996,
          0.20499999999999996,
          0.20599999999999996,
          0.20599999999999996,
          0.20599999999999996,
          0.20499999999999996,
          0.20499999999999996,
          0.20599999999999996,
          0.20699999999999996,
          0.20599999999999996,
          0.20499999999999996,
          0.20499999999999996,
          0.20499999999999996,
          0.20599999999999996,
          0.21299999999999997,
          0.20599999999999996,
          0.20499999999999996,
          0.20899999999999996,
          0.34199999999999997,
          0.20599999999999996,
          0.20499999999999996,
          0.20599999999999996,
          0.20499999999999996,
          0.20599999999999996,
          0.20599999999999996,
          0.20499999999999996,
          0.20499999999999996,
          0.20499999999999996,
          0.20499999999999996,
          0.20599999999999996,
          0.20599999999999996,
          0.21899999999999997
         ]
        },
        {
         "name": "Best Value",
         "type": "scatter",
         "x": [
          0,
          1,
          2,
          3,
          4,
          5,
          6,
          7,
          8,
          9,
          10,
          11,
          12,
          13,
          14,
          15,
          16,
          17,
          18,
          19,
          20,
          21,
          22,
          23,
          24,
          25,
          26,
          27,
          28,
          29,
          30,
          31,
          32,
          33,
          34,
          35,
          36,
          37,
          38,
          39,
          40,
          41,
          42,
          43,
          44,
          45,
          46,
          47,
          48,
          49,
          50,
          51,
          52,
          53,
          54,
          55,
          56,
          57,
          58,
          59,
          60,
          61,
          62,
          63,
          64,
          65,
          66,
          67,
          68,
          69,
          70,
          71,
          72,
          73,
          74,
          75,
          76,
          77,
          78,
          79,
          80,
          81,
          82,
          83,
          84,
          85,
          86,
          87,
          88,
          89,
          90,
          91,
          92,
          93,
          94,
          95,
          96,
          97,
          98,
          99,
          100,
          101,
          102,
          103,
          104,
          105,
          106,
          107,
          108,
          109,
          110,
          111,
          112,
          113,
          114,
          115,
          116,
          117,
          118,
          119,
          120,
          121,
          122,
          123,
          124,
          125,
          126,
          127,
          128,
          129,
          130,
          131,
          132,
          133,
          134,
          135,
          136,
          137,
          138,
          139,
          140,
          141,
          142,
          143,
          144,
          145,
          146,
          147,
          148,
          149,
          150,
          151,
          152,
          153,
          154,
          155,
          156,
          157,
          158,
          159,
          160,
          161,
          162,
          163,
          164,
          165,
          166,
          167,
          168,
          169,
          170,
          171,
          172,
          173,
          174,
          175,
          176,
          177,
          178,
          179,
          180,
          181,
          182,
          183,
          184,
          185,
          186,
          187,
          188,
          189,
          190,
          191,
          192,
          193,
          194,
          195,
          196,
          197,
          198,
          199,
          200,
          201,
          202,
          203,
          204,
          205,
          206,
          207,
          208,
          209,
          210,
          211,
          212,
          213,
          214,
          215,
          216,
          217,
          218,
          219,
          220,
          221,
          222,
          223,
          224,
          225,
          226,
          227,
          228,
          229,
          230,
          231,
          232,
          233,
          234,
          235,
          236,
          237,
          238,
          239,
          240,
          241,
          242,
          243,
          244,
          245,
          246,
          247,
          248,
          249,
          250,
          251
         ],
         "y": [
          0.21799999999999997,
          0.21799999999999997,
          0.21799999999999997,
          0.21799999999999997,
          0.21799999999999997,
          0.21799999999999997,
          0.21799999999999997,
          0.21599999999999997,
          0.21599999999999997,
          0.21599999999999997,
          0.21599999999999997,
          0.21599999999999997,
          0.21599999999999997,
          0.21599999999999997,
          0.21599999999999997,
          0.21599999999999997,
          0.20899999999999996,
          0.20899999999999996,
          0.20899999999999996,
          0.20899999999999996,
          0.20899999999999996,
          0.20899999999999996,
          0.20899999999999996,
          0.20899999999999996,
          0.20899999999999996,
          0.20499999999999996,
          0.20499999999999996,
          0.20499999999999996,
          0.20499999999999996,
          0.20499999999999996,
          0.20499999999999996,
          0.20499999999999996,
          0.20399999999999996,
          0.20399999999999996,
          0.20399999999999996,
          0.20399999999999996,
          0.20399999999999996,
          0.20399999999999996,
          0.20399999999999996,
          0.20399999999999996,
          0.20399999999999996,
          0.20399999999999996,
          0.20399999999999996,
          0.20399999999999996,
          0.20399999999999996,
          0.20399999999999996,
          0.20399999999999996,
          0.20399999999999996,
          0.20399999999999996,
          0.20399999999999996,
          0.20399999999999996,
          0.20399999999999996,
          0.20399999999999996,
          0.20399999999999996,
          0.20399999999999996,
          0.20399999999999996,
          0.20399999999999996,
          0.20399999999999996,
          0.20399999999999996,
          0.20399999999999996,
          0.20399999999999996,
          0.20399999999999996,
          0.20399999999999996,
          0.20399999999999996,
          0.20399999999999996,
          0.20399999999999996,
          0.20399999999999996,
          0.20399999999999996,
          0.20399999999999996,
          0.20399999999999996,
          0.20399999999999996,
          0.20399999999999996,
          0.20399999999999996,
          0.20399999999999996,
          0.20399999999999996,
          0.20399999999999996,
          0.20399999999999996,
          0.20399999999999996,
          0.20399999999999996,
          0.20399999999999996,
          0.20399999999999996,
          0.20399999999999996,
          0.20399999999999996,
          0.20399999999999996,
          0.20399999999999996,
          0.20399999999999996,
          0.20399999999999996,
          0.20399999999999996,
          0.20399999999999996,
          0.20399999999999996,
          0.20399999999999996,
          0.20399999999999996,
          0.20399999999999996,
          0.20399999999999996,
          0.20399999999999996,
          0.20399999999999996,
          0.20399999999999996,
          0.20399999999999996,
          0.20399999999999996,
          0.20399999999999996,
          0.20399999999999996,
          0.20399999999999996,
          0.20399999999999996,
          0.20399999999999996,
          0.20399999999999996,
          0.20399999999999996,
          0.20399999999999996,
          0.20399999999999996,
          0.20399999999999996,
          0.20399999999999996,
          0.20399999999999996,
          0.20399999999999996,
          0.20399999999999996,
          0.20399999999999996,
          0.20399999999999996,
          0.20399999999999996,
          0.20399999999999996,
          0.20399999999999996,
          0.20399999999999996,
          0.20399999999999996,
          0.20399999999999996,
          0.20399999999999996,
          0.20399999999999996,
          0.20399999999999996,
          0.20399999999999996,
          0.20399999999999996,
          0.20399999999999996,
          0.20399999999999996,
          0.20399999999999996,
          0.20399999999999996,
          0.20399999999999996,
          0.20399999999999996,
          0.20399999999999996,
          0.20399999999999996,
          0.20399999999999996,
          0.20399999999999996,
          0.20399999999999996,
          0.20399999999999996,
          0.20399999999999996,
          0.20399999999999996,
          0.20399999999999996,
          0.20399999999999996,
          0.20399999999999996,
          0.20399999999999996,
          0.20399999999999996,
          0.20399999999999996,
          0.20399999999999996,
          0.20399999999999996,
          0.20399999999999996,
          0.20399999999999996,
          0.20399999999999996,
          0.20399999999999996,
          0.20399999999999996,
          0.20399999999999996,
          0.20399999999999996,
          0.20399999999999996,
          0.20399999999999996,
          0.20399999999999996,
          0.20399999999999996,
          0.20399999999999996,
          0.20399999999999996,
          0.20399999999999996,
          0.20399999999999996,
          0.20399999999999996,
          0.20399999999999996,
          0.20399999999999996,
          0.20399999999999996,
          0.20399999999999996,
          0.20399999999999996,
          0.20399999999999996,
          0.20399999999999996,
          0.20399999999999996,
          0.20399999999999996,
          0.20399999999999996,
          0.20399999999999996,
          0.20399999999999996,
          0.20399999999999996,
          0.20399999999999996,
          0.20399999999999996,
          0.20399999999999996,
          0.20399999999999996,
          0.20399999999999996,
          0.20399999999999996,
          0.20399999999999996,
          0.20399999999999996,
          0.20399999999999996,
          0.20399999999999996,
          0.20399999999999996,
          0.20399999999999996,
          0.20399999999999996,
          0.20399999999999996,
          0.20399999999999996,
          0.20399999999999996,
          0.20399999999999996,
          0.20399999999999996,
          0.20399999999999996,
          0.20399999999999996,
          0.20399999999999996,
          0.20399999999999996,
          0.20399999999999996,
          0.20399999999999996,
          0.20399999999999996,
          0.20399999999999996,
          0.20399999999999996,
          0.20399999999999996,
          0.20399999999999996,
          0.20399999999999996,
          0.20399999999999996,
          0.20399999999999996,
          0.20399999999999996,
          0.20399999999999996,
          0.20399999999999996,
          0.20399999999999996,
          0.20399999999999996,
          0.20399999999999996,
          0.20399999999999996,
          0.20399999999999996,
          0.20399999999999996,
          0.20399999999999996,
          0.20399999999999996,
          0.20399999999999996,
          0.20399999999999996,
          0.20399999999999996,
          0.20399999999999996,
          0.20399999999999996,
          0.20399999999999996,
          0.20399999999999996,
          0.20399999999999996,
          0.20399999999999996,
          0.20399999999999996,
          0.20399999999999996,
          0.20399999999999996,
          0.20399999999999996,
          0.20399999999999996,
          0.20399999999999996,
          0.20399999999999996,
          0.20399999999999996,
          0.20399999999999996,
          0.20399999999999996,
          0.20399999999999996,
          0.20399999999999996,
          0.20399999999999996,
          0.20399999999999996,
          0.20399999999999996,
          0.20399999999999996,
          0.20399999999999996,
          0.20399999999999996,
          0.20399999999999996,
          0.20399999999999996,
          0.20399999999999996,
          0.20399999999999996,
          0.20399999999999996
         ]
        }
       ],
       "layout": {
        "template": {
         "data": {
          "bar": [
           {
            "error_x": {
             "color": "#2a3f5f"
            },
            "error_y": {
             "color": "#2a3f5f"
            },
            "marker": {
             "line": {
              "color": "#E5ECF6",
              "width": 0.5
             },
             "pattern": {
              "fillmode": "overlay",
              "size": 10,
              "solidity": 0.2
             }
            },
            "type": "bar"
           }
          ],
          "barpolar": [
           {
            "marker": {
             "line": {
              "color": "#E5ECF6",
              "width": 0.5
             },
             "pattern": {
              "fillmode": "overlay",
              "size": 10,
              "solidity": 0.2
             }
            },
            "type": "barpolar"
           }
          ],
          "carpet": [
           {
            "aaxis": {
             "endlinecolor": "#2a3f5f",
             "gridcolor": "white",
             "linecolor": "white",
             "minorgridcolor": "white",
             "startlinecolor": "#2a3f5f"
            },
            "baxis": {
             "endlinecolor": "#2a3f5f",
             "gridcolor": "white",
             "linecolor": "white",
             "minorgridcolor": "white",
             "startlinecolor": "#2a3f5f"
            },
            "type": "carpet"
           }
          ],
          "choropleth": [
           {
            "colorbar": {
             "outlinewidth": 0,
             "ticks": ""
            },
            "type": "choropleth"
           }
          ],
          "contour": [
           {
            "colorbar": {
             "outlinewidth": 0,
             "ticks": ""
            },
            "colorscale": [
             [
              0,
              "#0d0887"
             ],
             [
              0.1111111111111111,
              "#46039f"
             ],
             [
              0.2222222222222222,
              "#7201a8"
             ],
             [
              0.3333333333333333,
              "#9c179e"
             ],
             [
              0.4444444444444444,
              "#bd3786"
             ],
             [
              0.5555555555555556,
              "#d8576b"
             ],
             [
              0.6666666666666666,
              "#ed7953"
             ],
             [
              0.7777777777777778,
              "#fb9f3a"
             ],
             [
              0.8888888888888888,
              "#fdca26"
             ],
             [
              1,
              "#f0f921"
             ]
            ],
            "type": "contour"
           }
          ],
          "contourcarpet": [
           {
            "colorbar": {
             "outlinewidth": 0,
             "ticks": ""
            },
            "type": "contourcarpet"
           }
          ],
          "heatmap": [
           {
            "colorbar": {
             "outlinewidth": 0,
             "ticks": ""
            },
            "colorscale": [
             [
              0,
              "#0d0887"
             ],
             [
              0.1111111111111111,
              "#46039f"
             ],
             [
              0.2222222222222222,
              "#7201a8"
             ],
             [
              0.3333333333333333,
              "#9c179e"
             ],
             [
              0.4444444444444444,
              "#bd3786"
             ],
             [
              0.5555555555555556,
              "#d8576b"
             ],
             [
              0.6666666666666666,
              "#ed7953"
             ],
             [
              0.7777777777777778,
              "#fb9f3a"
             ],
             [
              0.8888888888888888,
              "#fdca26"
             ],
             [
              1,
              "#f0f921"
             ]
            ],
            "type": "heatmap"
           }
          ],
          "heatmapgl": [
           {
            "colorbar": {
             "outlinewidth": 0,
             "ticks": ""
            },
            "colorscale": [
             [
              0,
              "#0d0887"
             ],
             [
              0.1111111111111111,
              "#46039f"
             ],
             [
              0.2222222222222222,
              "#7201a8"
             ],
             [
              0.3333333333333333,
              "#9c179e"
             ],
             [
              0.4444444444444444,
              "#bd3786"
             ],
             [
              0.5555555555555556,
              "#d8576b"
             ],
             [
              0.6666666666666666,
              "#ed7953"
             ],
             [
              0.7777777777777778,
              "#fb9f3a"
             ],
             [
              0.8888888888888888,
              "#fdca26"
             ],
             [
              1,
              "#f0f921"
             ]
            ],
            "type": "heatmapgl"
           }
          ],
          "histogram": [
           {
            "marker": {
             "pattern": {
              "fillmode": "overlay",
              "size": 10,
              "solidity": 0.2
             }
            },
            "type": "histogram"
           }
          ],
          "histogram2d": [
           {
            "colorbar": {
             "outlinewidth": 0,
             "ticks": ""
            },
            "colorscale": [
             [
              0,
              "#0d0887"
             ],
             [
              0.1111111111111111,
              "#46039f"
             ],
             [
              0.2222222222222222,
              "#7201a8"
             ],
             [
              0.3333333333333333,
              "#9c179e"
             ],
             [
              0.4444444444444444,
              "#bd3786"
             ],
             [
              0.5555555555555556,
              "#d8576b"
             ],
             [
              0.6666666666666666,
              "#ed7953"
             ],
             [
              0.7777777777777778,
              "#fb9f3a"
             ],
             [
              0.8888888888888888,
              "#fdca26"
             ],
             [
              1,
              "#f0f921"
             ]
            ],
            "type": "histogram2d"
           }
          ],
          "histogram2dcontour": [
           {
            "colorbar": {
             "outlinewidth": 0,
             "ticks": ""
            },
            "colorscale": [
             [
              0,
              "#0d0887"
             ],
             [
              0.1111111111111111,
              "#46039f"
             ],
             [
              0.2222222222222222,
              "#7201a8"
             ],
             [
              0.3333333333333333,
              "#9c179e"
             ],
             [
              0.4444444444444444,
              "#bd3786"
             ],
             [
              0.5555555555555556,
              "#d8576b"
             ],
             [
              0.6666666666666666,
              "#ed7953"
             ],
             [
              0.7777777777777778,
              "#fb9f3a"
             ],
             [
              0.8888888888888888,
              "#fdca26"
             ],
             [
              1,
              "#f0f921"
             ]
            ],
            "type": "histogram2dcontour"
           }
          ],
          "mesh3d": [
           {
            "colorbar": {
             "outlinewidth": 0,
             "ticks": ""
            },
            "type": "mesh3d"
           }
          ],
          "parcoords": [
           {
            "line": {
             "colorbar": {
              "outlinewidth": 0,
              "ticks": ""
             }
            },
            "type": "parcoords"
           }
          ],
          "pie": [
           {
            "automargin": true,
            "type": "pie"
           }
          ],
          "scatter": [
           {
            "fillpattern": {
             "fillmode": "overlay",
             "size": 10,
             "solidity": 0.2
            },
            "type": "scatter"
           }
          ],
          "scatter3d": [
           {
            "line": {
             "colorbar": {
              "outlinewidth": 0,
              "ticks": ""
             }
            },
            "marker": {
             "colorbar": {
              "outlinewidth": 0,
              "ticks": ""
             }
            },
            "type": "scatter3d"
           }
          ],
          "scattercarpet": [
           {
            "marker": {
             "colorbar": {
              "outlinewidth": 0,
              "ticks": ""
             }
            },
            "type": "scattercarpet"
           }
          ],
          "scattergeo": [
           {
            "marker": {
             "colorbar": {
              "outlinewidth": 0,
              "ticks": ""
             }
            },
            "type": "scattergeo"
           }
          ],
          "scattergl": [
           {
            "marker": {
             "colorbar": {
              "outlinewidth": 0,
              "ticks": ""
             }
            },
            "type": "scattergl"
           }
          ],
          "scattermapbox": [
           {
            "marker": {
             "colorbar": {
              "outlinewidth": 0,
              "ticks": ""
             }
            },
            "type": "scattermapbox"
           }
          ],
          "scatterpolar": [
           {
            "marker": {
             "colorbar": {
              "outlinewidth": 0,
              "ticks": ""
             }
            },
            "type": "scatterpolar"
           }
          ],
          "scatterpolargl": [
           {
            "marker": {
             "colorbar": {
              "outlinewidth": 0,
              "ticks": ""
             }
            },
            "type": "scatterpolargl"
           }
          ],
          "scatterternary": [
           {
            "marker": {
             "colorbar": {
              "outlinewidth": 0,
              "ticks": ""
             }
            },
            "type": "scatterternary"
           }
          ],
          "surface": [
           {
            "colorbar": {
             "outlinewidth": 0,
             "ticks": ""
            },
            "colorscale": [
             [
              0,
              "#0d0887"
             ],
             [
              0.1111111111111111,
              "#46039f"
             ],
             [
              0.2222222222222222,
              "#7201a8"
             ],
             [
              0.3333333333333333,
              "#9c179e"
             ],
             [
              0.4444444444444444,
              "#bd3786"
             ],
             [
              0.5555555555555556,
              "#d8576b"
             ],
             [
              0.6666666666666666,
              "#ed7953"
             ],
             [
              0.7777777777777778,
              "#fb9f3a"
             ],
             [
              0.8888888888888888,
              "#fdca26"
             ],
             [
              1,
              "#f0f921"
             ]
            ],
            "type": "surface"
           }
          ],
          "table": [
           {
            "cells": {
             "fill": {
              "color": "#EBF0F8"
             },
             "line": {
              "color": "white"
             }
            },
            "header": {
             "fill": {
              "color": "#C8D4E3"
             },
             "line": {
              "color": "white"
             }
            },
            "type": "table"
           }
          ]
         },
         "layout": {
          "annotationdefaults": {
           "arrowcolor": "#2a3f5f",
           "arrowhead": 0,
           "arrowwidth": 1
          },
          "autotypenumbers": "strict",
          "coloraxis": {
           "colorbar": {
            "outlinewidth": 0,
            "ticks": ""
           }
          },
          "colorscale": {
           "diverging": [
            [
             0,
             "#8e0152"
            ],
            [
             0.1,
             "#c51b7d"
            ],
            [
             0.2,
             "#de77ae"
            ],
            [
             0.3,
             "#f1b6da"
            ],
            [
             0.4,
             "#fde0ef"
            ],
            [
             0.5,
             "#f7f7f7"
            ],
            [
             0.6,
             "#e6f5d0"
            ],
            [
             0.7,
             "#b8e186"
            ],
            [
             0.8,
             "#7fbc41"
            ],
            [
             0.9,
             "#4d9221"
            ],
            [
             1,
             "#276419"
            ]
           ],
           "sequential": [
            [
             0,
             "#0d0887"
            ],
            [
             0.1111111111111111,
             "#46039f"
            ],
            [
             0.2222222222222222,
             "#7201a8"
            ],
            [
             0.3333333333333333,
             "#9c179e"
            ],
            [
             0.4444444444444444,
             "#bd3786"
            ],
            [
             0.5555555555555556,
             "#d8576b"
            ],
            [
             0.6666666666666666,
             "#ed7953"
            ],
            [
             0.7777777777777778,
             "#fb9f3a"
            ],
            [
             0.8888888888888888,
             "#fdca26"
            ],
            [
             1,
             "#f0f921"
            ]
           ],
           "sequentialminus": [
            [
             0,
             "#0d0887"
            ],
            [
             0.1111111111111111,
             "#46039f"
            ],
            [
             0.2222222222222222,
             "#7201a8"
            ],
            [
             0.3333333333333333,
             "#9c179e"
            ],
            [
             0.4444444444444444,
             "#bd3786"
            ],
            [
             0.5555555555555556,
             "#d8576b"
            ],
            [
             0.6666666666666666,
             "#ed7953"
            ],
            [
             0.7777777777777778,
             "#fb9f3a"
            ],
            [
             0.8888888888888888,
             "#fdca26"
            ],
            [
             1,
             "#f0f921"
            ]
           ]
          },
          "colorway": [
           "#636efa",
           "#EF553B",
           "#00cc96",
           "#ab63fa",
           "#FFA15A",
           "#19d3f3",
           "#FF6692",
           "#B6E880",
           "#FF97FF",
           "#FECB52"
          ],
          "font": {
           "color": "#2a3f5f"
          },
          "geo": {
           "bgcolor": "white",
           "lakecolor": "white",
           "landcolor": "#E5ECF6",
           "showlakes": true,
           "showland": true,
           "subunitcolor": "white"
          },
          "hoverlabel": {
           "align": "left"
          },
          "hovermode": "closest",
          "mapbox": {
           "style": "light"
          },
          "paper_bgcolor": "white",
          "plot_bgcolor": "#E5ECF6",
          "polar": {
           "angularaxis": {
            "gridcolor": "white",
            "linecolor": "white",
            "ticks": ""
           },
           "bgcolor": "#E5ECF6",
           "radialaxis": {
            "gridcolor": "white",
            "linecolor": "white",
            "ticks": ""
           }
          },
          "scene": {
           "xaxis": {
            "backgroundcolor": "#E5ECF6",
            "gridcolor": "white",
            "gridwidth": 2,
            "linecolor": "white",
            "showbackground": true,
            "ticks": "",
            "zerolinecolor": "white"
           },
           "yaxis": {
            "backgroundcolor": "#E5ECF6",
            "gridcolor": "white",
            "gridwidth": 2,
            "linecolor": "white",
            "showbackground": true,
            "ticks": "",
            "zerolinecolor": "white"
           },
           "zaxis": {
            "backgroundcolor": "#E5ECF6",
            "gridcolor": "white",
            "gridwidth": 2,
            "linecolor": "white",
            "showbackground": true,
            "ticks": "",
            "zerolinecolor": "white"
           }
          },
          "shapedefaults": {
           "line": {
            "color": "#2a3f5f"
           }
          },
          "ternary": {
           "aaxis": {
            "gridcolor": "white",
            "linecolor": "white",
            "ticks": ""
           },
           "baxis": {
            "gridcolor": "white",
            "linecolor": "white",
            "ticks": ""
           },
           "bgcolor": "#E5ECF6",
           "caxis": {
            "gridcolor": "white",
            "linecolor": "white",
            "ticks": ""
           }
          },
          "title": {
           "x": 0.05
          },
          "xaxis": {
           "automargin": true,
           "gridcolor": "white",
           "linecolor": "white",
           "ticks": "",
           "title": {
            "standoff": 15
           },
           "zerolinecolor": "white",
           "zerolinewidth": 2
          },
          "yaxis": {
           "automargin": true,
           "gridcolor": "white",
           "linecolor": "white",
           "ticks": "",
           "title": {
            "standoff": 15
           },
           "zerolinecolor": "white",
           "zerolinewidth": 2
          }
         }
        },
        "title": {
         "text": "Optimization History Plot"
        },
        "xaxis": {
         "title": {
          "text": "#Trials"
         }
        },
        "yaxis": {
         "title": {
          "text": "Objective Value"
         }
        }
       }
      }
     },
     "metadata": {},
     "output_type": "display_data"
    }
   ],
   "source": [
    "plot_optimization_history(study)"
   ]
  },
  {
   "cell_type": "code",
   "execution_count": 14,
   "id": "5322cc73",
   "metadata": {
    "collapsed": true
   },
   "outputs": [
    {
     "data": {
      "application/vnd.plotly.v1+json": {
       "config": {
        "plotlyServerURL": "https://plot.ly"
       },
       "data": [
        {
         "cliponaxis": false,
         "hovertemplate": [
          "gamma (CategoricalDistribution): 0.000352477845526118<extra></extra>",
          "C (UniformDistribution): 0.003921533909963662<extra></extra>",
          "shrinking (IntUniformDistribution): 0.005337360102229658<extra></extra>",
          "tol (UniformDistribution): 0.010498454062696257<extra></extra>",
          "degree (IntUniformDistribution): 0.019838008874990612<extra></extra>",
          "coef0 (UniformDistribution): 0.14035913463820401<extra></extra>",
          "kernel (CategoricalDistribution): 0.8196930305663898<extra></extra>"
         ],
         "marker": {
          "color": "rgb(66,146,198)"
         },
         "orientation": "h",
         "text": [
          "0.000352477845526118",
          "0.003921533909963662",
          "0.005337360102229658",
          "0.010498454062696257",
          "0.019838008874990612",
          "0.14035913463820401",
          "0.8196930305663898"
         ],
         "textposition": "outside",
         "texttemplate": "%{text:.2f}",
         "type": "bar",
         "x": [
          0.000352477845526118,
          0.003921533909963662,
          0.005337360102229658,
          0.010498454062696257,
          0.019838008874990612,
          0.14035913463820401,
          0.8196930305663898
         ],
         "y": [
          "gamma",
          "C",
          "shrinking",
          "tol",
          "degree",
          "coef0",
          "kernel"
         ]
        }
       ],
       "layout": {
        "showlegend": false,
        "template": {
         "data": {
          "bar": [
           {
            "error_x": {
             "color": "#2a3f5f"
            },
            "error_y": {
             "color": "#2a3f5f"
            },
            "marker": {
             "line": {
              "color": "#E5ECF6",
              "width": 0.5
             },
             "pattern": {
              "fillmode": "overlay",
              "size": 10,
              "solidity": 0.2
             }
            },
            "type": "bar"
           }
          ],
          "barpolar": [
           {
            "marker": {
             "line": {
              "color": "#E5ECF6",
              "width": 0.5
             },
             "pattern": {
              "fillmode": "overlay",
              "size": 10,
              "solidity": 0.2
             }
            },
            "type": "barpolar"
           }
          ],
          "carpet": [
           {
            "aaxis": {
             "endlinecolor": "#2a3f5f",
             "gridcolor": "white",
             "linecolor": "white",
             "minorgridcolor": "white",
             "startlinecolor": "#2a3f5f"
            },
            "baxis": {
             "endlinecolor": "#2a3f5f",
             "gridcolor": "white",
             "linecolor": "white",
             "minorgridcolor": "white",
             "startlinecolor": "#2a3f5f"
            },
            "type": "carpet"
           }
          ],
          "choropleth": [
           {
            "colorbar": {
             "outlinewidth": 0,
             "ticks": ""
            },
            "type": "choropleth"
           }
          ],
          "contour": [
           {
            "colorbar": {
             "outlinewidth": 0,
             "ticks": ""
            },
            "colorscale": [
             [
              0,
              "#0d0887"
             ],
             [
              0.1111111111111111,
              "#46039f"
             ],
             [
              0.2222222222222222,
              "#7201a8"
             ],
             [
              0.3333333333333333,
              "#9c179e"
             ],
             [
              0.4444444444444444,
              "#bd3786"
             ],
             [
              0.5555555555555556,
              "#d8576b"
             ],
             [
              0.6666666666666666,
              "#ed7953"
             ],
             [
              0.7777777777777778,
              "#fb9f3a"
             ],
             [
              0.8888888888888888,
              "#fdca26"
             ],
             [
              1,
              "#f0f921"
             ]
            ],
            "type": "contour"
           }
          ],
          "contourcarpet": [
           {
            "colorbar": {
             "outlinewidth": 0,
             "ticks": ""
            },
            "type": "contourcarpet"
           }
          ],
          "heatmap": [
           {
            "colorbar": {
             "outlinewidth": 0,
             "ticks": ""
            },
            "colorscale": [
             [
              0,
              "#0d0887"
             ],
             [
              0.1111111111111111,
              "#46039f"
             ],
             [
              0.2222222222222222,
              "#7201a8"
             ],
             [
              0.3333333333333333,
              "#9c179e"
             ],
             [
              0.4444444444444444,
              "#bd3786"
             ],
             [
              0.5555555555555556,
              "#d8576b"
             ],
             [
              0.6666666666666666,
              "#ed7953"
             ],
             [
              0.7777777777777778,
              "#fb9f3a"
             ],
             [
              0.8888888888888888,
              "#fdca26"
             ],
             [
              1,
              "#f0f921"
             ]
            ],
            "type": "heatmap"
           }
          ],
          "heatmapgl": [
           {
            "colorbar": {
             "outlinewidth": 0,
             "ticks": ""
            },
            "colorscale": [
             [
              0,
              "#0d0887"
             ],
             [
              0.1111111111111111,
              "#46039f"
             ],
             [
              0.2222222222222222,
              "#7201a8"
             ],
             [
              0.3333333333333333,
              "#9c179e"
             ],
             [
              0.4444444444444444,
              "#bd3786"
             ],
             [
              0.5555555555555556,
              "#d8576b"
             ],
             [
              0.6666666666666666,
              "#ed7953"
             ],
             [
              0.7777777777777778,
              "#fb9f3a"
             ],
             [
              0.8888888888888888,
              "#fdca26"
             ],
             [
              1,
              "#f0f921"
             ]
            ],
            "type": "heatmapgl"
           }
          ],
          "histogram": [
           {
            "marker": {
             "pattern": {
              "fillmode": "overlay",
              "size": 10,
              "solidity": 0.2
             }
            },
            "type": "histogram"
           }
          ],
          "histogram2d": [
           {
            "colorbar": {
             "outlinewidth": 0,
             "ticks": ""
            },
            "colorscale": [
             [
              0,
              "#0d0887"
             ],
             [
              0.1111111111111111,
              "#46039f"
             ],
             [
              0.2222222222222222,
              "#7201a8"
             ],
             [
              0.3333333333333333,
              "#9c179e"
             ],
             [
              0.4444444444444444,
              "#bd3786"
             ],
             [
              0.5555555555555556,
              "#d8576b"
             ],
             [
              0.6666666666666666,
              "#ed7953"
             ],
             [
              0.7777777777777778,
              "#fb9f3a"
             ],
             [
              0.8888888888888888,
              "#fdca26"
             ],
             [
              1,
              "#f0f921"
             ]
            ],
            "type": "histogram2d"
           }
          ],
          "histogram2dcontour": [
           {
            "colorbar": {
             "outlinewidth": 0,
             "ticks": ""
            },
            "colorscale": [
             [
              0,
              "#0d0887"
             ],
             [
              0.1111111111111111,
              "#46039f"
             ],
             [
              0.2222222222222222,
              "#7201a8"
             ],
             [
              0.3333333333333333,
              "#9c179e"
             ],
             [
              0.4444444444444444,
              "#bd3786"
             ],
             [
              0.5555555555555556,
              "#d8576b"
             ],
             [
              0.6666666666666666,
              "#ed7953"
             ],
             [
              0.7777777777777778,
              "#fb9f3a"
             ],
             [
              0.8888888888888888,
              "#fdca26"
             ],
             [
              1,
              "#f0f921"
             ]
            ],
            "type": "histogram2dcontour"
           }
          ],
          "mesh3d": [
           {
            "colorbar": {
             "outlinewidth": 0,
             "ticks": ""
            },
            "type": "mesh3d"
           }
          ],
          "parcoords": [
           {
            "line": {
             "colorbar": {
              "outlinewidth": 0,
              "ticks": ""
             }
            },
            "type": "parcoords"
           }
          ],
          "pie": [
           {
            "automargin": true,
            "type": "pie"
           }
          ],
          "scatter": [
           {
            "fillpattern": {
             "fillmode": "overlay",
             "size": 10,
             "solidity": 0.2
            },
            "type": "scatter"
           }
          ],
          "scatter3d": [
           {
            "line": {
             "colorbar": {
              "outlinewidth": 0,
              "ticks": ""
             }
            },
            "marker": {
             "colorbar": {
              "outlinewidth": 0,
              "ticks": ""
             }
            },
            "type": "scatter3d"
           }
          ],
          "scattercarpet": [
           {
            "marker": {
             "colorbar": {
              "outlinewidth": 0,
              "ticks": ""
             }
            },
            "type": "scattercarpet"
           }
          ],
          "scattergeo": [
           {
            "marker": {
             "colorbar": {
              "outlinewidth": 0,
              "ticks": ""
             }
            },
            "type": "scattergeo"
           }
          ],
          "scattergl": [
           {
            "marker": {
             "colorbar": {
              "outlinewidth": 0,
              "ticks": ""
             }
            },
            "type": "scattergl"
           }
          ],
          "scattermapbox": [
           {
            "marker": {
             "colorbar": {
              "outlinewidth": 0,
              "ticks": ""
             }
            },
            "type": "scattermapbox"
           }
          ],
          "scatterpolar": [
           {
            "marker": {
             "colorbar": {
              "outlinewidth": 0,
              "ticks": ""
             }
            },
            "type": "scatterpolar"
           }
          ],
          "scatterpolargl": [
           {
            "marker": {
             "colorbar": {
              "outlinewidth": 0,
              "ticks": ""
             }
            },
            "type": "scatterpolargl"
           }
          ],
          "scatterternary": [
           {
            "marker": {
             "colorbar": {
              "outlinewidth": 0,
              "ticks": ""
             }
            },
            "type": "scatterternary"
           }
          ],
          "surface": [
           {
            "colorbar": {
             "outlinewidth": 0,
             "ticks": ""
            },
            "colorscale": [
             [
              0,
              "#0d0887"
             ],
             [
              0.1111111111111111,
              "#46039f"
             ],
             [
              0.2222222222222222,
              "#7201a8"
             ],
             [
              0.3333333333333333,
              "#9c179e"
             ],
             [
              0.4444444444444444,
              "#bd3786"
             ],
             [
              0.5555555555555556,
              "#d8576b"
             ],
             [
              0.6666666666666666,
              "#ed7953"
             ],
             [
              0.7777777777777778,
              "#fb9f3a"
             ],
             [
              0.8888888888888888,
              "#fdca26"
             ],
             [
              1,
              "#f0f921"
             ]
            ],
            "type": "surface"
           }
          ],
          "table": [
           {
            "cells": {
             "fill": {
              "color": "#EBF0F8"
             },
             "line": {
              "color": "white"
             }
            },
            "header": {
             "fill": {
              "color": "#C8D4E3"
             },
             "line": {
              "color": "white"
             }
            },
            "type": "table"
           }
          ]
         },
         "layout": {
          "annotationdefaults": {
           "arrowcolor": "#2a3f5f",
           "arrowhead": 0,
           "arrowwidth": 1
          },
          "autotypenumbers": "strict",
          "coloraxis": {
           "colorbar": {
            "outlinewidth": 0,
            "ticks": ""
           }
          },
          "colorscale": {
           "diverging": [
            [
             0,
             "#8e0152"
            ],
            [
             0.1,
             "#c51b7d"
            ],
            [
             0.2,
             "#de77ae"
            ],
            [
             0.3,
             "#f1b6da"
            ],
            [
             0.4,
             "#fde0ef"
            ],
            [
             0.5,
             "#f7f7f7"
            ],
            [
             0.6,
             "#e6f5d0"
            ],
            [
             0.7,
             "#b8e186"
            ],
            [
             0.8,
             "#7fbc41"
            ],
            [
             0.9,
             "#4d9221"
            ],
            [
             1,
             "#276419"
            ]
           ],
           "sequential": [
            [
             0,
             "#0d0887"
            ],
            [
             0.1111111111111111,
             "#46039f"
            ],
            [
             0.2222222222222222,
             "#7201a8"
            ],
            [
             0.3333333333333333,
             "#9c179e"
            ],
            [
             0.4444444444444444,
             "#bd3786"
            ],
            [
             0.5555555555555556,
             "#d8576b"
            ],
            [
             0.6666666666666666,
             "#ed7953"
            ],
            [
             0.7777777777777778,
             "#fb9f3a"
            ],
            [
             0.8888888888888888,
             "#fdca26"
            ],
            [
             1,
             "#f0f921"
            ]
           ],
           "sequentialminus": [
            [
             0,
             "#0d0887"
            ],
            [
             0.1111111111111111,
             "#46039f"
            ],
            [
             0.2222222222222222,
             "#7201a8"
            ],
            [
             0.3333333333333333,
             "#9c179e"
            ],
            [
             0.4444444444444444,
             "#bd3786"
            ],
            [
             0.5555555555555556,
             "#d8576b"
            ],
            [
             0.6666666666666666,
             "#ed7953"
            ],
            [
             0.7777777777777778,
             "#fb9f3a"
            ],
            [
             0.8888888888888888,
             "#fdca26"
            ],
            [
             1,
             "#f0f921"
            ]
           ]
          },
          "colorway": [
           "#636efa",
           "#EF553B",
           "#00cc96",
           "#ab63fa",
           "#FFA15A",
           "#19d3f3",
           "#FF6692",
           "#B6E880",
           "#FF97FF",
           "#FECB52"
          ],
          "font": {
           "color": "#2a3f5f"
          },
          "geo": {
           "bgcolor": "white",
           "lakecolor": "white",
           "landcolor": "#E5ECF6",
           "showlakes": true,
           "showland": true,
           "subunitcolor": "white"
          },
          "hoverlabel": {
           "align": "left"
          },
          "hovermode": "closest",
          "mapbox": {
           "style": "light"
          },
          "paper_bgcolor": "white",
          "plot_bgcolor": "#E5ECF6",
          "polar": {
           "angularaxis": {
            "gridcolor": "white",
            "linecolor": "white",
            "ticks": ""
           },
           "bgcolor": "#E5ECF6",
           "radialaxis": {
            "gridcolor": "white",
            "linecolor": "white",
            "ticks": ""
           }
          },
          "scene": {
           "xaxis": {
            "backgroundcolor": "#E5ECF6",
            "gridcolor": "white",
            "gridwidth": 2,
            "linecolor": "white",
            "showbackground": true,
            "ticks": "",
            "zerolinecolor": "white"
           },
           "yaxis": {
            "backgroundcolor": "#E5ECF6",
            "gridcolor": "white",
            "gridwidth": 2,
            "linecolor": "white",
            "showbackground": true,
            "ticks": "",
            "zerolinecolor": "white"
           },
           "zaxis": {
            "backgroundcolor": "#E5ECF6",
            "gridcolor": "white",
            "gridwidth": 2,
            "linecolor": "white",
            "showbackground": true,
            "ticks": "",
            "zerolinecolor": "white"
           }
          },
          "shapedefaults": {
           "line": {
            "color": "#2a3f5f"
           }
          },
          "ternary": {
           "aaxis": {
            "gridcolor": "white",
            "linecolor": "white",
            "ticks": ""
           },
           "baxis": {
            "gridcolor": "white",
            "linecolor": "white",
            "ticks": ""
           },
           "bgcolor": "#E5ECF6",
           "caxis": {
            "gridcolor": "white",
            "linecolor": "white",
            "ticks": ""
           }
          },
          "title": {
           "x": 0.05
          },
          "xaxis": {
           "automargin": true,
           "gridcolor": "white",
           "linecolor": "white",
           "ticks": "",
           "title": {
            "standoff": 15
           },
           "zerolinecolor": "white",
           "zerolinewidth": 2
          },
          "yaxis": {
           "automargin": true,
           "gridcolor": "white",
           "linecolor": "white",
           "ticks": "",
           "title": {
            "standoff": 15
           },
           "zerolinecolor": "white",
           "zerolinewidth": 2
          }
         }
        },
        "title": {
         "text": "Hyperparameter Importances"
        },
        "xaxis": {
         "title": {
          "text": "Importance for Objective Value"
         }
        },
        "yaxis": {
         "title": {
          "text": "Hyperparameter"
         }
        }
       }
      }
     },
     "metadata": {},
     "output_type": "display_data"
    }
   ],
   "source": [
    "plot_param_importances(study)"
   ]
  },
  {
   "cell_type": "code",
   "execution_count": 15,
   "id": "005a9a2a",
   "metadata": {
    "collapsed": true
   },
   "outputs": [
    {
     "data": {
      "application/vnd.plotly.v1+json": {
       "config": {
        "plotlyServerURL": "https://plot.ly"
       },
       "data": [
        {
         "marker": {
          "color": [
           0,
           1,
           2,
           3,
           4,
           5,
           6,
           7,
           8,
           9,
           10,
           11,
           12,
           13,
           14,
           15,
           16,
           17,
           18,
           19,
           20,
           21,
           22,
           23,
           24,
           25,
           26,
           27,
           28,
           29,
           30,
           31,
           32,
           33,
           34,
           35,
           36,
           37,
           38,
           39,
           40,
           41,
           42,
           43,
           44,
           45,
           46,
           47,
           48,
           49,
           50,
           51,
           52,
           53,
           54,
           55,
           56,
           57,
           58,
           59,
           60,
           61,
           62,
           63,
           64,
           65,
           66,
           67,
           68,
           69,
           70,
           71,
           72,
           73,
           74,
           75,
           76,
           77,
           78,
           79,
           80,
           81,
           82,
           83,
           84,
           85,
           86,
           87,
           88,
           89,
           90,
           91,
           92,
           93,
           94,
           95,
           96,
           97,
           98,
           99,
           100,
           101,
           102,
           103,
           104,
           105,
           106,
           107,
           108,
           109,
           110,
           111,
           112,
           113,
           114,
           115,
           116,
           117,
           118,
           119,
           120,
           121,
           122,
           123,
           124,
           125,
           126,
           127,
           128,
           129,
           130,
           131,
           132,
           133,
           134,
           135,
           136,
           137,
           138,
           139,
           140,
           141,
           142,
           143,
           144,
           145,
           146,
           147,
           148,
           149,
           150,
           151,
           152,
           153,
           154,
           155,
           156,
           157,
           158,
           159,
           160,
           161,
           162,
           163,
           164,
           165,
           166,
           167,
           168,
           169,
           170,
           171,
           172,
           173,
           174,
           175,
           176,
           177,
           178,
           179,
           180,
           181,
           182,
           183,
           184,
           185,
           186,
           187,
           188,
           189,
           190,
           191,
           192,
           193,
           194,
           195,
           196,
           197,
           198,
           199,
           200,
           201,
           202,
           203,
           204,
           205,
           206,
           207,
           208,
           209,
           210,
           211,
           212,
           213,
           214,
           215,
           216,
           217,
           218,
           219,
           220,
           221,
           222,
           223,
           224,
           225,
           226,
           227,
           228,
           229,
           230,
           231,
           232,
           233,
           234,
           235,
           236,
           237,
           238,
           239,
           240,
           241,
           242,
           243,
           244,
           245,
           246,
           247,
           248,
           249,
           250,
           251
          ],
          "colorbar": {
           "title": {
            "text": "#Trials"
           },
           "x": 1,
           "xpad": 40
          },
          "colorscale": [
           [
            0,
            "rgb(247,251,255)"
           ],
           [
            0.125,
            "rgb(222,235,247)"
           ],
           [
            0.25,
            "rgb(198,219,239)"
           ],
           [
            0.375,
            "rgb(158,202,225)"
           ],
           [
            0.5,
            "rgb(107,174,214)"
           ],
           [
            0.625,
            "rgb(66,146,198)"
           ],
           [
            0.75,
            "rgb(33,113,181)"
           ],
           [
            0.875,
            "rgb(8,81,156)"
           ],
           [
            1,
            "rgb(8,48,107)"
           ]
          ],
          "line": {
           "color": "Grey",
           "width": 0.5
          },
          "showscale": true
         },
         "mode": "markers",
         "showlegend": false,
         "type": "scatter",
         "x": [
          3.9127878415083077,
          8.834139889216967,
          6.555643199015921,
          0.920256277270486,
          2.6542672552533237,
          5.846796856711796,
          2.423403276565155,
          3.27382781191639,
          7.112121471398704,
          1.6509080808896406,
          4.203070783091,
          4.16510780562654,
          0.02043080854369661,
          3.5950335655452488,
          3.3192619677588913,
          5.062173677089261,
          7.716855045255563,
          9.330909324092051,
          9.956875613800879,
          7.816754438200973,
          8.319354584965744,
          8.366627345984536,
          9.836164128850436,
          9.964940880387358,
          7.7253128259588735,
          8.590382955345222,
          8.869393097164753,
          6.704859260635531,
          5.751603804025703,
          8.974415014736365,
          7.633833102373865,
          7.5561586886977965,
          8.363572073854568,
          8.490492652792438,
          6.154497576929063,
          9.197526500140762,
          7.392828218965084,
          8.134126617879122,
          6.848355804080021,
          8.070080283045856,
          4.800380074770338,
          8.385440902306257,
          9.394296281598026,
          9.466710503206226,
          8.721472865981793,
          9.488755890452977,
          7.144415059434723,
          6.289995280518533,
          8.881949631595552,
          8.91241816732816,
          9.555595680454413,
          8.092046924636573,
          9.679250562724027,
          9.18882495155827,
          8.686640329636734,
          7.317071493629282,
          9.432667200529407,
          7.846021658918776,
          7.002819161331298,
          8.132096839009963,
          1.6909035964181185,
          1.290983470534632,
          2.590886869121434,
          2.8923315988249274,
          9.652772107735924,
          9.13685079248484,
          0.1397371291416709,
          0.5102102460045979,
          2.0623271638440226,
          1.7597043963002628,
          2.02333367885539,
          0.10361658951981068,
          2.0504852703734895,
          1.022933333360931,
          0.8693648820263884,
          0.9461795000136299,
          0.8211176648647358,
          0.46036079230521776,
          1.3006090887950918,
          1.229493394844337,
          0.9168244917029704,
          0.7754915444149408,
          1.2749880111801497,
          0.40770222278246004,
          0.17817435648470958,
          0.6285528731950403,
          0.45693268009971555,
          1.5206107243699274,
          1.0677623590080123,
          0.2209451788302177,
          0.9681945989737558,
          0.7553457461105917,
          1.5113027765488902,
          0.43454408984077997,
          0.2842518269818137,
          0.5853898667536759,
          1.9072525605752049,
          2.354992648565059,
          1.8959328361856729,
          1.240828813757615,
          5.229235414250116,
          5.542240134933781,
          1.0182053743988777,
          1.6718095509750042,
          1.3364559080295673,
          0.7899295105770278,
          0.6617708804236145,
          0.024789356158562814,
          4.553421953594983,
          0.7945355578590466,
          8.565720450360148,
          8.395942289773217,
          8.62002122430365,
          1.4104260886678517,
          7.895831538750272,
          0.4457295617458198,
          2.9458442117742853,
          1.160941281839802,
          7.5686861906956455,
          7.505898352861331,
          3.9252191595384613,
          3.4985741460516864,
          3.395773316090356,
          0.664961903999144,
          1.5073234632070323,
          0.6751573150694445,
          5.368306550586129,
          2.3210284485737898,
          2.4386310483825335,
          0.30923214252893905,
          9.057595174944638,
          6.373979924182656,
          4.787412504232107,
          0.38305719543007827,
          0.06612703812188503,
          8.033562538817725,
          0.6500813266790108,
          0.5424188209376001,
          8.736966297596812,
          5.833860405367211,
          4.246364976605307,
          4.022527640130986,
          3.1380836935289165,
          5.298398692815886,
          5.463974491005764,
          1.7700830268815415,
          8.263971272944216,
          7.877100720384202,
          1.146966368046495,
          3.4822095918372047,
          4.018875064167318,
          0.8380563555898486,
          0.951337729363998,
          0.8160671512447213,
          0.9172806242868348,
          8.434784930191567,
          7.1738336425534035,
          3.16531023400965,
          0.03285653490278784,
          0.24680335003287684,
          6.107127889442713,
          2.2310821179082847,
          8.60691253177734,
          0.36963125116050877,
          0.3363607522589247,
          0.4925953472604805,
          1.0817846379876754,
          2.7318324101924163,
          5.6174923889355615,
          3.3031309006893315,
          3.5730309826308977,
          2.632465036187532,
          3.6894125102981477,
          7.959756783756227,
          2.9507301509705437,
          0.7078410170741566,
          1.6476247019884709,
          1.8798866285201428,
          6.399683404901818,
          4.287706042670234,
          4.641624736276617,
          6.678430984418678,
          0.2518642183648292,
          3.795400163754888,
          2.8225838683573197,
          3.7510325327424447,
          3.0726881228422265,
          0.15220821968987353,
          0.011253161341231888,
          4.281391452223492,
          8.171713336981616,
          0.5311442993450866,
          1.1417172357132888,
          3.829791866551925,
          0.2944602167330861,
          3.4968202843011533,
          7.7389209337599585,
          0.3388613327630093,
          0.2920346654599753,
          3.467219600116003,
          3.561774051457604,
          3.31378417841922,
          4.973203516160188,
          0.6380920716153007,
          0.1914602421408505,
          0.21556093959036773,
          0.1846724246114842,
          0.19105848577059795,
          0.22441625060773185,
          0.2530697735703331,
          0.2532887299701341,
          0.17425852701921438,
          0.4472127147634719,
          0.4995387874169399,
          0.23869296913117893,
          0.025871397683671277,
          0.518247091635681,
          0.3826345330545715,
          0.5891297542843664,
          0.6439332269804295,
          0.6410984019221161,
          0.5116016499641987,
          0.25805848564814904,
          0.21309146920276362,
          0.44149307475538485,
          0.19574558329761693,
          0.7202900732782892,
          0.7920503375230886,
          0.03630006004952596,
          0.2516956595496611,
          0.031596454402898266,
          0.12325053141679566,
          0.021875201358466462,
          0.016521449687240147,
          0.0029617316545236805,
          0.3388206860325212,
          0.22248076836479758,
          0.37908435542285834,
          0.24055249943006918,
          0.5238971413077645,
          0.6366333896028025,
          0.4141911234705914,
          0.28019378729597466,
          0.22103601091947347,
          0.5816798105235144,
          0.3795974537398112,
          0.36947027461957593,
          0.48976695340774956,
          0.5848535828516155,
          0.8396629846738848,
          0.7752113321159587,
          0.6463242147946653
         ],
         "xaxis": "x",
         "y": [
          0.21799999999999997,
          0.52,
          0.22899999999999998,
          0.363,
          0.22999999999999998,
          0.22999999999999998,
          0.21999999999999997,
          0.21599999999999997,
          0.22899999999999998,
          0.374,
          0.22299999999999998,
          0.22199999999999998,
          0.21999999999999997,
          0.21699999999999997,
          0.22199999999999998,
          0.21799999999999997,
          0.20899999999999996,
          0.21199999999999997,
          0.20899999999999996,
          0.52,
          0.20899999999999996,
          0.20999999999999996,
          0.20999999999999996,
          0.20999999999999996,
          0.20899999999999996,
          0.20499999999999996,
          0.20899999999999996,
          0.22799999999999998,
          0.22899999999999998,
          0.52,
          0.20599999999999996,
          0.21199999999999997,
          0.20399999999999996,
          0.21299999999999997,
          0.20999999999999996,
          0.52,
          0.22999999999999998,
          0.20799999999999996,
          0.21299999999999997,
          0.22999999999999998,
          0.261,
          0.20899999999999996,
          0.20899999999999996,
          0.20699999999999996,
          0.21299999999999997,
          0.21199999999999997,
          0.21199999999999997,
          0.22899999999999998,
          0.20799999999999996,
          0.21199999999999997,
          0.20799999999999996,
          0.21299999999999997,
          0.20999999999999996,
          0.20999999999999996,
          0.20899999999999996,
          0.20899999999999996,
          0.20999999999999996,
          0.52,
          0.20899999999999996,
          0.20899999999999996,
          0.20699999999999996,
          0.20999999999999996,
          0.21199999999999997,
          0.20899999999999996,
          0.21299999999999997,
          0.22099999999999997,
          0.20599999999999996,
          0.22999999999999998,
          0.20699999999999996,
          0.20599999999999996,
          0.375,
          0.20899999999999996,
          0.20899999999999996,
          0.20599999999999996,
          0.20599999999999996,
          0.20599999999999996,
          0.20599999999999996,
          0.20699999999999996,
          0.20599999999999996,
          0.22899999999999998,
          0.20699999999999996,
          0.20599999999999996,
          0.20499999999999996,
          0.20499999999999996,
          0.20899999999999996,
          0.20599999999999996,
          0.20599999999999996,
          0.369,
          0.21999999999999997,
          0.21199999999999997,
          0.20899999999999996,
          0.20599999999999996,
          0.20699999999999996,
          0.20699999999999996,
          0.20699999999999996,
          0.20799999999999996,
          0.20599999999999996,
          0.20599999999999996,
          0.22899999999999998,
          0.20699999999999996,
          0.20599999999999996,
          0.20599999999999996,
          0.20599999999999996,
          0.20699999999999996,
          0.21099999999999997,
          0.20799999999999996,
          0.20699999999999996,
          0.33899999999999997,
          0.21799999999999997,
          0.20899999999999996,
          0.20399999999999996,
          0.20799999999999996,
          0.20899999999999996,
          0.20699999999999996,
          0.20599999999999996,
          0.21299999999999997,
          0.20599999999999996,
          0.20799999999999996,
          0.20599999999999996,
          0.22899999999999998,
          0.20599999999999996,
          0.20599999999999996,
          0.20599999999999996,
          0.20899999999999996,
          0.20699999999999996,
          0.20599999999999996,
          0.20599999999999996,
          0.20699999999999996,
          0.22199999999999998,
          0.34299999999999997,
          0.20699999999999996,
          0.20599999999999996,
          0.20699999999999996,
          0.20899999999999996,
          0.20599999999999996,
          0.23299999999999998,
          0.20499999999999996,
          0.20699999999999996,
          0.20799999999999996,
          0.20699999999999996,
          0.20599999999999996,
          0.20599999999999996,
          0.20599999999999996,
          0.20599999999999996,
          0.20899999999999996,
          0.20599999999999996,
          0.22999999999999998,
          0.20599999999999996,
          0.21099999999999997,
          0.21899999999999997,
          0.20599999999999996,
          0.20599999999999996,
          0.20599999999999996,
          0.20499999999999996,
          0.20599999999999996,
          0.20799999999999996,
          0.20899999999999996,
          0.363,
          0.20699999999999996,
          0.20499999999999996,
          0.20699999999999996,
          0.20599999999999996,
          0.20699999999999996,
          0.20499999999999996,
          0.20599999999999996,
          0.20599999999999996,
          0.20699999999999996,
          0.20499999999999996,
          0.20599999999999996,
          0.20599999999999996,
          0.20599999999999996,
          0.20999999999999996,
          0.20599999999999996,
          0.20799999999999996,
          0.20599999999999996,
          0.20599999999999996,
          0.23099999999999998,
          0.20599999999999996,
          0.20899999999999996,
          0.21899999999999997,
          0.20599999999999996,
          0.20599999999999996,
          0.20499999999999996,
          0.20499999999999996,
          0.20599999999999996,
          0.20599999999999996,
          0.20799999999999996,
          0.20599999999999996,
          0.20799999999999996,
          0.20599999999999996,
          0.52,
          0.21199999999999997,
          0.20599999999999996,
          0.20699999999999996,
          0.20499999999999996,
          0.20499999999999996,
          0.20999999999999996,
          0.20599999999999996,
          0.20599999999999996,
          0.20499999999999996,
          0.20599999999999996,
          0.20599999999999996,
          0.20599999999999996,
          0.20499999999999996,
          0.20499999999999996,
          0.20499999999999996,
          0.20499999999999996,
          0.20499999999999996,
          0.20499999999999996,
          0.20899999999999996,
          0.20499999999999996,
          0.20499999999999996,
          0.20499999999999996,
          0.20699999999999996,
          0.20499999999999996,
          0.20599999999999996,
          0.20499999999999996,
          0.21699999999999997,
          0.22799999999999998,
          0.20499999999999996,
          0.20599999999999996,
          0.20499999999999996,
          0.20599999999999996,
          0.20599999999999996,
          0.20599999999999996,
          0.20499999999999996,
          0.20499999999999996,
          0.20599999999999996,
          0.20699999999999996,
          0.20599999999999996,
          0.20499999999999996,
          0.20499999999999996,
          0.20499999999999996,
          0.20599999999999996,
          0.21299999999999997,
          0.20599999999999996,
          0.20499999999999996,
          0.20899999999999996,
          0.34199999999999997,
          0.20599999999999996,
          0.20499999999999996,
          0.20599999999999996,
          0.20499999999999996,
          0.20599999999999996,
          0.20599999999999996,
          0.20499999999999996,
          0.20499999999999996,
          0.20499999999999996,
          0.20499999999999996,
          0.20599999999999996,
          0.20599999999999996,
          0.21899999999999997
         ],
         "yaxis": "y"
        },
        {
         "marker": {
          "color": [
           0,
           1,
           2,
           3,
           4,
           5,
           6,
           7,
           8,
           9,
           10,
           11,
           12,
           13,
           14,
           15,
           16,
           17,
           18,
           19,
           20,
           21,
           22,
           23,
           24,
           25,
           26,
           27,
           28,
           29,
           30,
           31,
           32,
           33,
           34,
           35,
           36,
           37,
           38,
           39,
           40,
           41,
           42,
           43,
           44,
           45,
           46,
           47,
           48,
           49,
           50,
           51,
           52,
           53,
           54,
           55,
           56,
           57,
           58,
           59,
           60,
           61,
           62,
           63,
           64,
           65,
           66,
           67,
           68,
           69,
           70,
           71,
           72,
           73,
           74,
           75,
           76,
           77,
           78,
           79,
           80,
           81,
           82,
           83,
           84,
           85,
           86,
           87,
           88,
           89,
           90,
           91,
           92,
           93,
           94,
           95,
           96,
           97,
           98,
           99,
           100,
           101,
           102,
           103,
           104,
           105,
           106,
           107,
           108,
           109,
           110,
           111,
           112,
           113,
           114,
           115,
           116,
           117,
           118,
           119,
           120,
           121,
           122,
           123,
           124,
           125,
           126,
           127,
           128,
           129,
           130,
           131,
           132,
           133,
           134,
           135,
           136,
           137,
           138,
           139,
           140,
           141,
           142,
           143,
           144,
           145,
           146,
           147,
           148,
           149,
           150,
           151,
           152,
           153,
           154,
           155,
           156,
           157,
           158,
           159,
           160,
           161,
           162,
           163,
           164,
           165,
           166,
           167,
           168,
           169,
           170,
           171,
           172,
           173,
           174,
           175,
           176,
           177,
           178,
           179,
           180,
           181,
           182,
           183,
           184,
           185,
           186,
           187,
           188,
           189,
           190,
           191,
           192,
           193,
           194,
           195,
           196,
           197,
           198,
           199,
           200,
           201,
           202,
           203,
           204,
           205,
           206,
           207,
           208,
           209,
           210,
           211,
           212,
           213,
           214,
           215,
           216,
           217,
           218,
           219,
           220,
           221,
           222,
           223,
           224,
           225,
           226,
           227,
           228,
           229,
           230,
           231,
           232,
           233,
           234,
           235,
           236,
           237,
           238,
           239,
           240,
           241,
           242,
           243,
           244,
           245,
           246,
           247,
           248,
           249,
           250,
           251
          ],
          "colorbar": {
           "title": {
            "text": "#Trials"
           },
           "x": 1,
           "xpad": 40
          },
          "colorscale": [
           [
            0,
            "rgb(247,251,255)"
           ],
           [
            0.125,
            "rgb(222,235,247)"
           ],
           [
            0.25,
            "rgb(198,219,239)"
           ],
           [
            0.375,
            "rgb(158,202,225)"
           ],
           [
            0.5,
            "rgb(107,174,214)"
           ],
           [
            0.625,
            "rgb(66,146,198)"
           ],
           [
            0.75,
            "rgb(33,113,181)"
           ],
           [
            0.875,
            "rgb(8,81,156)"
           ],
           [
            1,
            "rgb(8,48,107)"
           ]
          ],
          "line": {
           "color": "Grey",
           "width": 0.5
          },
          "showscale": false
         },
         "mode": "markers",
         "showlegend": false,
         "type": "scatter",
         "x": [
          4,
          7,
          10,
          6,
          8,
          2,
          5,
          6,
          9,
          6,
          3,
          4,
          4,
          5,
          7,
          5,
          7,
          8,
          9,
          10,
          9,
          9,
          9,
          8,
          7,
          10,
          10,
          10,
          8,
          10,
          10,
          10,
          10,
          10,
          9,
          10,
          8,
          9,
          9,
          10,
          9,
          9,
          10,
          10,
          10,
          2,
          8,
          10,
          9,
          10,
          3,
          9,
          4,
          3,
          5,
          6,
          3,
          2,
          9,
          10,
          7,
          9,
          7,
          10,
          6,
          8,
          8,
          7,
          8,
          8,
          8,
          7,
          8,
          7,
          8,
          8,
          7,
          8,
          6,
          6,
          6,
          7,
          7,
          7,
          7,
          7,
          7,
          7,
          6,
          8,
          7,
          7,
          8,
          6,
          9,
          7,
          8,
          8,
          8,
          6,
          5,
          5,
          5,
          10,
          5,
          7,
          7,
          7,
          6,
          6,
          6,
          8,
          6,
          6,
          7,
          7,
          9,
          6,
          10,
          10,
          5,
          4,
          4,
          7,
          7,
          7,
          5,
          6,
          4,
          8,
          10,
          7,
          5,
          7,
          7,
          9,
          7,
          6,
          7,
          8,
          5,
          4,
          4,
          8,
          5,
          5,
          6,
          10,
          7,
          5,
          3,
          7,
          7,
          7,
          2,
          5,
          10,
          4,
          7,
          7,
          9,
          10,
          10,
          7,
          5,
          7,
          7,
          7,
          7,
          7,
          4,
          7,
          4,
          7,
          4,
          7,
          7,
          5,
          6,
          4,
          3,
          7,
          7,
          9,
          9,
          10,
          7,
          7,
          7,
          7,
          10,
          7,
          5,
          7,
          7,
          7,
          10,
          7,
          8,
          7,
          7,
          7,
          7,
          7,
          7,
          7,
          7,
          7,
          7,
          7,
          7,
          7,
          7,
          7,
          7,
          7,
          7,
          7,
          7,
          7,
          7,
          7,
          7,
          7,
          7,
          7,
          7,
          7,
          7,
          7,
          7,
          7,
          7,
          7,
          7,
          7,
          7,
          7,
          7,
          7,
          7,
          7,
          7,
          7,
          7,
          7,
          7,
          7,
          7,
          7,
          7,
          7
         ],
         "xaxis": "x2",
         "y": [
          0.21799999999999997,
          0.52,
          0.22899999999999998,
          0.363,
          0.22999999999999998,
          0.22999999999999998,
          0.21999999999999997,
          0.21599999999999997,
          0.22899999999999998,
          0.374,
          0.22299999999999998,
          0.22199999999999998,
          0.21999999999999997,
          0.21699999999999997,
          0.22199999999999998,
          0.21799999999999997,
          0.20899999999999996,
          0.21199999999999997,
          0.20899999999999996,
          0.52,
          0.20899999999999996,
          0.20999999999999996,
          0.20999999999999996,
          0.20999999999999996,
          0.20899999999999996,
          0.20499999999999996,
          0.20899999999999996,
          0.22799999999999998,
          0.22899999999999998,
          0.52,
          0.20599999999999996,
          0.21199999999999997,
          0.20399999999999996,
          0.21299999999999997,
          0.20999999999999996,
          0.52,
          0.22999999999999998,
          0.20799999999999996,
          0.21299999999999997,
          0.22999999999999998,
          0.261,
          0.20899999999999996,
          0.20899999999999996,
          0.20699999999999996,
          0.21299999999999997,
          0.21199999999999997,
          0.21199999999999997,
          0.22899999999999998,
          0.20799999999999996,
          0.21199999999999997,
          0.20799999999999996,
          0.21299999999999997,
          0.20999999999999996,
          0.20999999999999996,
          0.20899999999999996,
          0.20899999999999996,
          0.20999999999999996,
          0.52,
          0.20899999999999996,
          0.20899999999999996,
          0.20699999999999996,
          0.20999999999999996,
          0.21199999999999997,
          0.20899999999999996,
          0.21299999999999997,
          0.22099999999999997,
          0.20599999999999996,
          0.22999999999999998,
          0.20699999999999996,
          0.20599999999999996,
          0.375,
          0.20899999999999996,
          0.20899999999999996,
          0.20599999999999996,
          0.20599999999999996,
          0.20599999999999996,
          0.20599999999999996,
          0.20699999999999996,
          0.20599999999999996,
          0.22899999999999998,
          0.20699999999999996,
          0.20599999999999996,
          0.20499999999999996,
          0.20499999999999996,
          0.20899999999999996,
          0.20599999999999996,
          0.20599999999999996,
          0.369,
          0.21999999999999997,
          0.21199999999999997,
          0.20899999999999996,
          0.20599999999999996,
          0.20699999999999996,
          0.20699999999999996,
          0.20699999999999996,
          0.20799999999999996,
          0.20599999999999996,
          0.20599999999999996,
          0.22899999999999998,
          0.20699999999999996,
          0.20599999999999996,
          0.20599999999999996,
          0.20599999999999996,
          0.20699999999999996,
          0.21099999999999997,
          0.20799999999999996,
          0.20699999999999996,
          0.33899999999999997,
          0.21799999999999997,
          0.20899999999999996,
          0.20399999999999996,
          0.20799999999999996,
          0.20899999999999996,
          0.20699999999999996,
          0.20599999999999996,
          0.21299999999999997,
          0.20599999999999996,
          0.20799999999999996,
          0.20599999999999996,
          0.22899999999999998,
          0.20599999999999996,
          0.20599999999999996,
          0.20599999999999996,
          0.20899999999999996,
          0.20699999999999996,
          0.20599999999999996,
          0.20599999999999996,
          0.20699999999999996,
          0.22199999999999998,
          0.34299999999999997,
          0.20699999999999996,
          0.20599999999999996,
          0.20699999999999996,
          0.20899999999999996,
          0.20599999999999996,
          0.23299999999999998,
          0.20499999999999996,
          0.20699999999999996,
          0.20799999999999996,
          0.20699999999999996,
          0.20599999999999996,
          0.20599999999999996,
          0.20599999999999996,
          0.20599999999999996,
          0.20899999999999996,
          0.20599999999999996,
          0.22999999999999998,
          0.20599999999999996,
          0.21099999999999997,
          0.21899999999999997,
          0.20599999999999996,
          0.20599999999999996,
          0.20599999999999996,
          0.20499999999999996,
          0.20599999999999996,
          0.20799999999999996,
          0.20899999999999996,
          0.363,
          0.20699999999999996,
          0.20499999999999996,
          0.20699999999999996,
          0.20599999999999996,
          0.20699999999999996,
          0.20499999999999996,
          0.20599999999999996,
          0.20599999999999996,
          0.20699999999999996,
          0.20499999999999996,
          0.20599999999999996,
          0.20599999999999996,
          0.20599999999999996,
          0.20999999999999996,
          0.20599999999999996,
          0.20799999999999996,
          0.20599999999999996,
          0.20599999999999996,
          0.23099999999999998,
          0.20599999999999996,
          0.20899999999999996,
          0.21899999999999997,
          0.20599999999999996,
          0.20599999999999996,
          0.20499999999999996,
          0.20499999999999996,
          0.20599999999999996,
          0.20599999999999996,
          0.20799999999999996,
          0.20599999999999996,
          0.20799999999999996,
          0.20599999999999996,
          0.52,
          0.21199999999999997,
          0.20599999999999996,
          0.20699999999999996,
          0.20499999999999996,
          0.20499999999999996,
          0.20999999999999996,
          0.20599999999999996,
          0.20599999999999996,
          0.20499999999999996,
          0.20599999999999996,
          0.20599999999999996,
          0.20599999999999996,
          0.20499999999999996,
          0.20499999999999996,
          0.20499999999999996,
          0.20499999999999996,
          0.20499999999999996,
          0.20499999999999996,
          0.20899999999999996,
          0.20499999999999996,
          0.20499999999999996,
          0.20499999999999996,
          0.20699999999999996,
          0.20499999999999996,
          0.20599999999999996,
          0.20499999999999996,
          0.21699999999999997,
          0.22799999999999998,
          0.20499999999999996,
          0.20599999999999996,
          0.20499999999999996,
          0.20599999999999996,
          0.20599999999999996,
          0.20599999999999996,
          0.20499999999999996,
          0.20499999999999996,
          0.20599999999999996,
          0.20699999999999996,
          0.20599999999999996,
          0.20499999999999996,
          0.20499999999999996,
          0.20499999999999996,
          0.20599999999999996,
          0.21299999999999997,
          0.20599999999999996,
          0.20499999999999996,
          0.20899999999999996,
          0.34199999999999997,
          0.20599999999999996,
          0.20499999999999996,
          0.20599999999999996,
          0.20499999999999996,
          0.20599999999999996,
          0.20599999999999996,
          0.20499999999999996,
          0.20499999999999996,
          0.20499999999999996,
          0.20499999999999996,
          0.20599999999999996,
          0.20599999999999996,
          0.21899999999999997
         ],
         "yaxis": "y2"
        },
        {
         "marker": {
          "color": [
           0,
           1,
           2,
           3,
           4,
           5,
           6,
           7,
           8,
           9,
           10,
           11,
           12,
           13,
           14,
           15,
           16,
           17,
           18,
           19,
           20,
           21,
           22,
           23,
           24,
           25,
           26,
           27,
           28,
           29,
           30,
           31,
           32,
           33,
           34,
           35,
           36,
           37,
           38,
           39,
           40,
           41,
           42,
           43,
           44,
           45,
           46,
           47,
           48,
           49,
           50,
           51,
           52,
           53,
           54,
           55,
           56,
           57,
           58,
           59,
           60,
           61,
           62,
           63,
           64,
           65,
           66,
           67,
           68,
           69,
           70,
           71,
           72,
           73,
           74,
           75,
           76,
           77,
           78,
           79,
           80,
           81,
           82,
           83,
           84,
           85,
           86,
           87,
           88,
           89,
           90,
           91,
           92,
           93,
           94,
           95,
           96,
           97,
           98,
           99,
           100,
           101,
           102,
           103,
           104,
           105,
           106,
           107,
           108,
           109,
           110,
           111,
           112,
           113,
           114,
           115,
           116,
           117,
           118,
           119,
           120,
           121,
           122,
           123,
           124,
           125,
           126,
           127,
           128,
           129,
           130,
           131,
           132,
           133,
           134,
           135,
           136,
           137,
           138,
           139,
           140,
           141,
           142,
           143,
           144,
           145,
           146,
           147,
           148,
           149,
           150,
           151,
           152,
           153,
           154,
           155,
           156,
           157,
           158,
           159,
           160,
           161,
           162,
           163,
           164,
           165,
           166,
           167,
           168,
           169,
           170,
           171,
           172,
           173,
           174,
           175,
           176,
           177,
           178,
           179,
           180,
           181,
           182,
           183,
           184,
           185,
           186,
           187,
           188,
           189,
           190,
           191,
           192,
           193,
           194,
           195,
           196,
           197,
           198,
           199,
           200,
           201,
           202,
           203,
           204,
           205,
           206,
           207,
           208,
           209,
           210,
           211,
           212,
           213,
           214,
           215,
           216,
           217,
           218,
           219,
           220,
           221,
           222,
           223,
           224,
           225,
           226,
           227,
           228,
           229,
           230,
           231,
           232,
           233,
           234,
           235,
           236,
           237,
           238,
           239,
           240,
           241,
           242,
           243,
           244,
           245,
           246,
           247,
           248,
           249,
           250,
           251
          ],
          "colorbar": {
           "title": {
            "text": "#Trials"
           },
           "x": 1,
           "xpad": 40
          },
          "colorscale": [
           [
            0,
            "rgb(247,251,255)"
           ],
           [
            0.125,
            "rgb(222,235,247)"
           ],
           [
            0.25,
            "rgb(198,219,239)"
           ],
           [
            0.375,
            "rgb(158,202,225)"
           ],
           [
            0.5,
            "rgb(107,174,214)"
           ],
           [
            0.625,
            "rgb(66,146,198)"
           ],
           [
            0.75,
            "rgb(33,113,181)"
           ],
           [
            0.875,
            "rgb(8,81,156)"
           ],
           [
            1,
            "rgb(8,48,107)"
           ]
          ],
          "line": {
           "color": "Grey",
           "width": 0.5
          },
          "showscale": false
         },
         "mode": "markers",
         "showlegend": false,
         "type": "scatter",
         "x": [
          "rbf",
          "sigmoid",
          "linear",
          "sigmoid",
          "linear",
          "linear",
          "rbf",
          "rbf",
          "linear",
          "sigmoid",
          "rbf",
          "rbf",
          "rbf",
          "rbf",
          "rbf",
          "rbf",
          "rbf",
          "rbf",
          "rbf",
          "sigmoid",
          "rbf",
          "rbf",
          "rbf",
          "rbf",
          "rbf",
          "rbf",
          "rbf",
          "rbf",
          "linear",
          "sigmoid",
          "rbf",
          "rbf",
          "rbf",
          "rbf",
          "rbf",
          "sigmoid",
          "linear",
          "rbf",
          "rbf",
          "linear",
          "sigmoid",
          "rbf",
          "rbf",
          "rbf",
          "rbf",
          "rbf",
          "rbf",
          "linear",
          "rbf",
          "rbf",
          "rbf",
          "rbf",
          "rbf",
          "rbf",
          "rbf",
          "rbf",
          "rbf",
          "sigmoid",
          "rbf",
          "rbf",
          "rbf",
          "rbf",
          "rbf",
          "rbf",
          "rbf",
          "rbf",
          "rbf",
          "linear",
          "rbf",
          "rbf",
          "sigmoid",
          "rbf",
          "rbf",
          "rbf",
          "rbf",
          "rbf",
          "rbf",
          "rbf",
          "rbf",
          "linear",
          "rbf",
          "rbf",
          "rbf",
          "rbf",
          "rbf",
          "rbf",
          "rbf",
          "sigmoid",
          "rbf",
          "rbf",
          "rbf",
          "rbf",
          "rbf",
          "rbf",
          "rbf",
          "rbf",
          "rbf",
          "rbf",
          "linear",
          "rbf",
          "rbf",
          "rbf",
          "rbf",
          "rbf",
          "rbf",
          "rbf",
          "rbf",
          "sigmoid",
          "rbf",
          "rbf",
          "rbf",
          "rbf",
          "rbf",
          "rbf",
          "rbf",
          "rbf",
          "rbf",
          "rbf",
          "rbf",
          "linear",
          "rbf",
          "rbf",
          "rbf",
          "rbf",
          "rbf",
          "rbf",
          "rbf",
          "rbf",
          "rbf",
          "sigmoid",
          "rbf",
          "rbf",
          "rbf",
          "rbf",
          "rbf",
          "rbf",
          "rbf",
          "rbf",
          "rbf",
          "rbf",
          "rbf",
          "rbf",
          "rbf",
          "rbf",
          "rbf",
          "rbf",
          "linear",
          "rbf",
          "rbf",
          "rbf",
          "rbf",
          "rbf",
          "rbf",
          "rbf",
          "rbf",
          "rbf",
          "rbf",
          "sigmoid",
          "rbf",
          "rbf",
          "rbf",
          "rbf",
          "rbf",
          "rbf",
          "rbf",
          "rbf",
          "rbf",
          "rbf",
          "rbf",
          "rbf",
          "rbf",
          "rbf",
          "rbf",
          "rbf",
          "rbf",
          "rbf",
          "linear",
          "rbf",
          "rbf",
          "rbf",
          "rbf",
          "rbf",
          "rbf",
          "rbf",
          "rbf",
          "rbf",
          "rbf",
          "rbf",
          "rbf",
          "rbf",
          "sigmoid",
          "rbf",
          "rbf",
          "rbf",
          "rbf",
          "rbf",
          "rbf",
          "rbf",
          "rbf",
          "rbf",
          "rbf",
          "rbf",
          "rbf",
          "rbf",
          "rbf",
          "rbf",
          "rbf",
          "rbf",
          "rbf",
          "rbf",
          "rbf",
          "rbf",
          "rbf",
          "rbf",
          "rbf",
          "rbf",
          "rbf",
          "rbf",
          "linear",
          "rbf",
          "rbf",
          "rbf",
          "rbf",
          "rbf",
          "rbf",
          "rbf",
          "rbf",
          "rbf",
          "rbf",
          "rbf",
          "rbf",
          "rbf",
          "rbf",
          "rbf",
          "rbf",
          "rbf",
          "rbf",
          "rbf",
          "sigmoid",
          "rbf",
          "rbf",
          "rbf",
          "rbf",
          "rbf",
          "rbf",
          "rbf",
          "rbf",
          "rbf",
          "rbf",
          "rbf",
          "rbf",
          "rbf"
         ],
         "xaxis": "x3",
         "y": [
          0.21799999999999997,
          0.52,
          0.22899999999999998,
          0.363,
          0.22999999999999998,
          0.22999999999999998,
          0.21999999999999997,
          0.21599999999999997,
          0.22899999999999998,
          0.374,
          0.22299999999999998,
          0.22199999999999998,
          0.21999999999999997,
          0.21699999999999997,
          0.22199999999999998,
          0.21799999999999997,
          0.20899999999999996,
          0.21199999999999997,
          0.20899999999999996,
          0.52,
          0.20899999999999996,
          0.20999999999999996,
          0.20999999999999996,
          0.20999999999999996,
          0.20899999999999996,
          0.20499999999999996,
          0.20899999999999996,
          0.22799999999999998,
          0.22899999999999998,
          0.52,
          0.20599999999999996,
          0.21199999999999997,
          0.20399999999999996,
          0.21299999999999997,
          0.20999999999999996,
          0.52,
          0.22999999999999998,
          0.20799999999999996,
          0.21299999999999997,
          0.22999999999999998,
          0.261,
          0.20899999999999996,
          0.20899999999999996,
          0.20699999999999996,
          0.21299999999999997,
          0.21199999999999997,
          0.21199999999999997,
          0.22899999999999998,
          0.20799999999999996,
          0.21199999999999997,
          0.20799999999999996,
          0.21299999999999997,
          0.20999999999999996,
          0.20999999999999996,
          0.20899999999999996,
          0.20899999999999996,
          0.20999999999999996,
          0.52,
          0.20899999999999996,
          0.20899999999999996,
          0.20699999999999996,
          0.20999999999999996,
          0.21199999999999997,
          0.20899999999999996,
          0.21299999999999997,
          0.22099999999999997,
          0.20599999999999996,
          0.22999999999999998,
          0.20699999999999996,
          0.20599999999999996,
          0.375,
          0.20899999999999996,
          0.20899999999999996,
          0.20599999999999996,
          0.20599999999999996,
          0.20599999999999996,
          0.20599999999999996,
          0.20699999999999996,
          0.20599999999999996,
          0.22899999999999998,
          0.20699999999999996,
          0.20599999999999996,
          0.20499999999999996,
          0.20499999999999996,
          0.20899999999999996,
          0.20599999999999996,
          0.20599999999999996,
          0.369,
          0.21999999999999997,
          0.21199999999999997,
          0.20899999999999996,
          0.20599999999999996,
          0.20699999999999996,
          0.20699999999999996,
          0.20699999999999996,
          0.20799999999999996,
          0.20599999999999996,
          0.20599999999999996,
          0.22899999999999998,
          0.20699999999999996,
          0.20599999999999996,
          0.20599999999999996,
          0.20599999999999996,
          0.20699999999999996,
          0.21099999999999997,
          0.20799999999999996,
          0.20699999999999996,
          0.33899999999999997,
          0.21799999999999997,
          0.20899999999999996,
          0.20399999999999996,
          0.20799999999999996,
          0.20899999999999996,
          0.20699999999999996,
          0.20599999999999996,
          0.21299999999999997,
          0.20599999999999996,
          0.20799999999999996,
          0.20599999999999996,
          0.22899999999999998,
          0.20599999999999996,
          0.20599999999999996,
          0.20599999999999996,
          0.20899999999999996,
          0.20699999999999996,
          0.20599999999999996,
          0.20599999999999996,
          0.20699999999999996,
          0.22199999999999998,
          0.34299999999999997,
          0.20699999999999996,
          0.20599999999999996,
          0.20699999999999996,
          0.20899999999999996,
          0.20599999999999996,
          0.23299999999999998,
          0.20499999999999996,
          0.20699999999999996,
          0.20799999999999996,
          0.20699999999999996,
          0.20599999999999996,
          0.20599999999999996,
          0.20599999999999996,
          0.20599999999999996,
          0.20899999999999996,
          0.20599999999999996,
          0.22999999999999998,
          0.20599999999999996,
          0.21099999999999997,
          0.21899999999999997,
          0.20599999999999996,
          0.20599999999999996,
          0.20599999999999996,
          0.20499999999999996,
          0.20599999999999996,
          0.20799999999999996,
          0.20899999999999996,
          0.363,
          0.20699999999999996,
          0.20499999999999996,
          0.20699999999999996,
          0.20599999999999996,
          0.20699999999999996,
          0.20499999999999996,
          0.20599999999999996,
          0.20599999999999996,
          0.20699999999999996,
          0.20499999999999996,
          0.20599999999999996,
          0.20599999999999996,
          0.20599999999999996,
          0.20999999999999996,
          0.20599999999999996,
          0.20799999999999996,
          0.20599999999999996,
          0.20599999999999996,
          0.23099999999999998,
          0.20599999999999996,
          0.20899999999999996,
          0.21899999999999997,
          0.20599999999999996,
          0.20599999999999996,
          0.20499999999999996,
          0.20499999999999996,
          0.20599999999999996,
          0.20599999999999996,
          0.20799999999999996,
          0.20599999999999996,
          0.20799999999999996,
          0.20599999999999996,
          0.52,
          0.21199999999999997,
          0.20599999999999996,
          0.20699999999999996,
          0.20499999999999996,
          0.20499999999999996,
          0.20999999999999996,
          0.20599999999999996,
          0.20599999999999996,
          0.20499999999999996,
          0.20599999999999996,
          0.20599999999999996,
          0.20599999999999996,
          0.20499999999999996,
          0.20499999999999996,
          0.20499999999999996,
          0.20499999999999996,
          0.20499999999999996,
          0.20499999999999996,
          0.20899999999999996,
          0.20499999999999996,
          0.20499999999999996,
          0.20499999999999996,
          0.20699999999999996,
          0.20499999999999996,
          0.20599999999999996,
          0.20499999999999996,
          0.21699999999999997,
          0.22799999999999998,
          0.20499999999999996,
          0.20599999999999996,
          0.20499999999999996,
          0.20599999999999996,
          0.20599999999999996,
          0.20599999999999996,
          0.20499999999999996,
          0.20499999999999996,
          0.20599999999999996,
          0.20699999999999996,
          0.20599999999999996,
          0.20499999999999996,
          0.20499999999999996,
          0.20499999999999996,
          0.20599999999999996,
          0.21299999999999997,
          0.20599999999999996,
          0.20499999999999996,
          0.20899999999999996,
          0.34199999999999997,
          0.20599999999999996,
          0.20499999999999996,
          0.20599999999999996,
          0.20499999999999996,
          0.20599999999999996,
          0.20599999999999996,
          0.20499999999999996,
          0.20499999999999996,
          0.20499999999999996,
          0.20499999999999996,
          0.20599999999999996,
          0.20599999999999996,
          0.21899999999999997
         ],
         "yaxis": "y3"
        }
       ],
       "layout": {
        "template": {
         "data": {
          "bar": [
           {
            "error_x": {
             "color": "#2a3f5f"
            },
            "error_y": {
             "color": "#2a3f5f"
            },
            "marker": {
             "line": {
              "color": "#E5ECF6",
              "width": 0.5
             },
             "pattern": {
              "fillmode": "overlay",
              "size": 10,
              "solidity": 0.2
             }
            },
            "type": "bar"
           }
          ],
          "barpolar": [
           {
            "marker": {
             "line": {
              "color": "#E5ECF6",
              "width": 0.5
             },
             "pattern": {
              "fillmode": "overlay",
              "size": 10,
              "solidity": 0.2
             }
            },
            "type": "barpolar"
           }
          ],
          "carpet": [
           {
            "aaxis": {
             "endlinecolor": "#2a3f5f",
             "gridcolor": "white",
             "linecolor": "white",
             "minorgridcolor": "white",
             "startlinecolor": "#2a3f5f"
            },
            "baxis": {
             "endlinecolor": "#2a3f5f",
             "gridcolor": "white",
             "linecolor": "white",
             "minorgridcolor": "white",
             "startlinecolor": "#2a3f5f"
            },
            "type": "carpet"
           }
          ],
          "choropleth": [
           {
            "colorbar": {
             "outlinewidth": 0,
             "ticks": ""
            },
            "type": "choropleth"
           }
          ],
          "contour": [
           {
            "colorbar": {
             "outlinewidth": 0,
             "ticks": ""
            },
            "colorscale": [
             [
              0,
              "#0d0887"
             ],
             [
              0.1111111111111111,
              "#46039f"
             ],
             [
              0.2222222222222222,
              "#7201a8"
             ],
             [
              0.3333333333333333,
              "#9c179e"
             ],
             [
              0.4444444444444444,
              "#bd3786"
             ],
             [
              0.5555555555555556,
              "#d8576b"
             ],
             [
              0.6666666666666666,
              "#ed7953"
             ],
             [
              0.7777777777777778,
              "#fb9f3a"
             ],
             [
              0.8888888888888888,
              "#fdca26"
             ],
             [
              1,
              "#f0f921"
             ]
            ],
            "type": "contour"
           }
          ],
          "contourcarpet": [
           {
            "colorbar": {
             "outlinewidth": 0,
             "ticks": ""
            },
            "type": "contourcarpet"
           }
          ],
          "heatmap": [
           {
            "colorbar": {
             "outlinewidth": 0,
             "ticks": ""
            },
            "colorscale": [
             [
              0,
              "#0d0887"
             ],
             [
              0.1111111111111111,
              "#46039f"
             ],
             [
              0.2222222222222222,
              "#7201a8"
             ],
             [
              0.3333333333333333,
              "#9c179e"
             ],
             [
              0.4444444444444444,
              "#bd3786"
             ],
             [
              0.5555555555555556,
              "#d8576b"
             ],
             [
              0.6666666666666666,
              "#ed7953"
             ],
             [
              0.7777777777777778,
              "#fb9f3a"
             ],
             [
              0.8888888888888888,
              "#fdca26"
             ],
             [
              1,
              "#f0f921"
             ]
            ],
            "type": "heatmap"
           }
          ],
          "heatmapgl": [
           {
            "colorbar": {
             "outlinewidth": 0,
             "ticks": ""
            },
            "colorscale": [
             [
              0,
              "#0d0887"
             ],
             [
              0.1111111111111111,
              "#46039f"
             ],
             [
              0.2222222222222222,
              "#7201a8"
             ],
             [
              0.3333333333333333,
              "#9c179e"
             ],
             [
              0.4444444444444444,
              "#bd3786"
             ],
             [
              0.5555555555555556,
              "#d8576b"
             ],
             [
              0.6666666666666666,
              "#ed7953"
             ],
             [
              0.7777777777777778,
              "#fb9f3a"
             ],
             [
              0.8888888888888888,
              "#fdca26"
             ],
             [
              1,
              "#f0f921"
             ]
            ],
            "type": "heatmapgl"
           }
          ],
          "histogram": [
           {
            "marker": {
             "pattern": {
              "fillmode": "overlay",
              "size": 10,
              "solidity": 0.2
             }
            },
            "type": "histogram"
           }
          ],
          "histogram2d": [
           {
            "colorbar": {
             "outlinewidth": 0,
             "ticks": ""
            },
            "colorscale": [
             [
              0,
              "#0d0887"
             ],
             [
              0.1111111111111111,
              "#46039f"
             ],
             [
              0.2222222222222222,
              "#7201a8"
             ],
             [
              0.3333333333333333,
              "#9c179e"
             ],
             [
              0.4444444444444444,
              "#bd3786"
             ],
             [
              0.5555555555555556,
              "#d8576b"
             ],
             [
              0.6666666666666666,
              "#ed7953"
             ],
             [
              0.7777777777777778,
              "#fb9f3a"
             ],
             [
              0.8888888888888888,
              "#fdca26"
             ],
             [
              1,
              "#f0f921"
             ]
            ],
            "type": "histogram2d"
           }
          ],
          "histogram2dcontour": [
           {
            "colorbar": {
             "outlinewidth": 0,
             "ticks": ""
            },
            "colorscale": [
             [
              0,
              "#0d0887"
             ],
             [
              0.1111111111111111,
              "#46039f"
             ],
             [
              0.2222222222222222,
              "#7201a8"
             ],
             [
              0.3333333333333333,
              "#9c179e"
             ],
             [
              0.4444444444444444,
              "#bd3786"
             ],
             [
              0.5555555555555556,
              "#d8576b"
             ],
             [
              0.6666666666666666,
              "#ed7953"
             ],
             [
              0.7777777777777778,
              "#fb9f3a"
             ],
             [
              0.8888888888888888,
              "#fdca26"
             ],
             [
              1,
              "#f0f921"
             ]
            ],
            "type": "histogram2dcontour"
           }
          ],
          "mesh3d": [
           {
            "colorbar": {
             "outlinewidth": 0,
             "ticks": ""
            },
            "type": "mesh3d"
           }
          ],
          "parcoords": [
           {
            "line": {
             "colorbar": {
              "outlinewidth": 0,
              "ticks": ""
             }
            },
            "type": "parcoords"
           }
          ],
          "pie": [
           {
            "automargin": true,
            "type": "pie"
           }
          ],
          "scatter": [
           {
            "fillpattern": {
             "fillmode": "overlay",
             "size": 10,
             "solidity": 0.2
            },
            "type": "scatter"
           }
          ],
          "scatter3d": [
           {
            "line": {
             "colorbar": {
              "outlinewidth": 0,
              "ticks": ""
             }
            },
            "marker": {
             "colorbar": {
              "outlinewidth": 0,
              "ticks": ""
             }
            },
            "type": "scatter3d"
           }
          ],
          "scattercarpet": [
           {
            "marker": {
             "colorbar": {
              "outlinewidth": 0,
              "ticks": ""
             }
            },
            "type": "scattercarpet"
           }
          ],
          "scattergeo": [
           {
            "marker": {
             "colorbar": {
              "outlinewidth": 0,
              "ticks": ""
             }
            },
            "type": "scattergeo"
           }
          ],
          "scattergl": [
           {
            "marker": {
             "colorbar": {
              "outlinewidth": 0,
              "ticks": ""
             }
            },
            "type": "scattergl"
           }
          ],
          "scattermapbox": [
           {
            "marker": {
             "colorbar": {
              "outlinewidth": 0,
              "ticks": ""
             }
            },
            "type": "scattermapbox"
           }
          ],
          "scatterpolar": [
           {
            "marker": {
             "colorbar": {
              "outlinewidth": 0,
              "ticks": ""
             }
            },
            "type": "scatterpolar"
           }
          ],
          "scatterpolargl": [
           {
            "marker": {
             "colorbar": {
              "outlinewidth": 0,
              "ticks": ""
             }
            },
            "type": "scatterpolargl"
           }
          ],
          "scatterternary": [
           {
            "marker": {
             "colorbar": {
              "outlinewidth": 0,
              "ticks": ""
             }
            },
            "type": "scatterternary"
           }
          ],
          "surface": [
           {
            "colorbar": {
             "outlinewidth": 0,
             "ticks": ""
            },
            "colorscale": [
             [
              0,
              "#0d0887"
             ],
             [
              0.1111111111111111,
              "#46039f"
             ],
             [
              0.2222222222222222,
              "#7201a8"
             ],
             [
              0.3333333333333333,
              "#9c179e"
             ],
             [
              0.4444444444444444,
              "#bd3786"
             ],
             [
              0.5555555555555556,
              "#d8576b"
             ],
             [
              0.6666666666666666,
              "#ed7953"
             ],
             [
              0.7777777777777778,
              "#fb9f3a"
             ],
             [
              0.8888888888888888,
              "#fdca26"
             ],
             [
              1,
              "#f0f921"
             ]
            ],
            "type": "surface"
           }
          ],
          "table": [
           {
            "cells": {
             "fill": {
              "color": "#EBF0F8"
             },
             "line": {
              "color": "white"
             }
            },
            "header": {
             "fill": {
              "color": "#C8D4E3"
             },
             "line": {
              "color": "white"
             }
            },
            "type": "table"
           }
          ]
         },
         "layout": {
          "annotationdefaults": {
           "arrowcolor": "#2a3f5f",
           "arrowhead": 0,
           "arrowwidth": 1
          },
          "autotypenumbers": "strict",
          "coloraxis": {
           "colorbar": {
            "outlinewidth": 0,
            "ticks": ""
           }
          },
          "colorscale": {
           "diverging": [
            [
             0,
             "#8e0152"
            ],
            [
             0.1,
             "#c51b7d"
            ],
            [
             0.2,
             "#de77ae"
            ],
            [
             0.3,
             "#f1b6da"
            ],
            [
             0.4,
             "#fde0ef"
            ],
            [
             0.5,
             "#f7f7f7"
            ],
            [
             0.6,
             "#e6f5d0"
            ],
            [
             0.7,
             "#b8e186"
            ],
            [
             0.8,
             "#7fbc41"
            ],
            [
             0.9,
             "#4d9221"
            ],
            [
             1,
             "#276419"
            ]
           ],
           "sequential": [
            [
             0,
             "#0d0887"
            ],
            [
             0.1111111111111111,
             "#46039f"
            ],
            [
             0.2222222222222222,
             "#7201a8"
            ],
            [
             0.3333333333333333,
             "#9c179e"
            ],
            [
             0.4444444444444444,
             "#bd3786"
            ],
            [
             0.5555555555555556,
             "#d8576b"
            ],
            [
             0.6666666666666666,
             "#ed7953"
            ],
            [
             0.7777777777777778,
             "#fb9f3a"
            ],
            [
             0.8888888888888888,
             "#fdca26"
            ],
            [
             1,
             "#f0f921"
            ]
           ],
           "sequentialminus": [
            [
             0,
             "#0d0887"
            ],
            [
             0.1111111111111111,
             "#46039f"
            ],
            [
             0.2222222222222222,
             "#7201a8"
            ],
            [
             0.3333333333333333,
             "#9c179e"
            ],
            [
             0.4444444444444444,
             "#bd3786"
            ],
            [
             0.5555555555555556,
             "#d8576b"
            ],
            [
             0.6666666666666666,
             "#ed7953"
            ],
            [
             0.7777777777777778,
             "#fb9f3a"
            ],
            [
             0.8888888888888888,
             "#fdca26"
            ],
            [
             1,
             "#f0f921"
            ]
           ]
          },
          "colorway": [
           "#636efa",
           "#EF553B",
           "#00cc96",
           "#ab63fa",
           "#FFA15A",
           "#19d3f3",
           "#FF6692",
           "#B6E880",
           "#FF97FF",
           "#FECB52"
          ],
          "font": {
           "color": "#2a3f5f"
          },
          "geo": {
           "bgcolor": "white",
           "lakecolor": "white",
           "landcolor": "#E5ECF6",
           "showlakes": true,
           "showland": true,
           "subunitcolor": "white"
          },
          "hoverlabel": {
           "align": "left"
          },
          "hovermode": "closest",
          "mapbox": {
           "style": "light"
          },
          "paper_bgcolor": "white",
          "plot_bgcolor": "#E5ECF6",
          "polar": {
           "angularaxis": {
            "gridcolor": "white",
            "linecolor": "white",
            "ticks": ""
           },
           "bgcolor": "#E5ECF6",
           "radialaxis": {
            "gridcolor": "white",
            "linecolor": "white",
            "ticks": ""
           }
          },
          "scene": {
           "xaxis": {
            "backgroundcolor": "#E5ECF6",
            "gridcolor": "white",
            "gridwidth": 2,
            "linecolor": "white",
            "showbackground": true,
            "ticks": "",
            "zerolinecolor": "white"
           },
           "yaxis": {
            "backgroundcolor": "#E5ECF6",
            "gridcolor": "white",
            "gridwidth": 2,
            "linecolor": "white",
            "showbackground": true,
            "ticks": "",
            "zerolinecolor": "white"
           },
           "zaxis": {
            "backgroundcolor": "#E5ECF6",
            "gridcolor": "white",
            "gridwidth": 2,
            "linecolor": "white",
            "showbackground": true,
            "ticks": "",
            "zerolinecolor": "white"
           }
          },
          "shapedefaults": {
           "line": {
            "color": "#2a3f5f"
           }
          },
          "ternary": {
           "aaxis": {
            "gridcolor": "white",
            "linecolor": "white",
            "ticks": ""
           },
           "baxis": {
            "gridcolor": "white",
            "linecolor": "white",
            "ticks": ""
           },
           "bgcolor": "#E5ECF6",
           "caxis": {
            "gridcolor": "white",
            "linecolor": "white",
            "ticks": ""
           }
          },
          "title": {
           "x": 0.05
          },
          "xaxis": {
           "automargin": true,
           "gridcolor": "white",
           "linecolor": "white",
           "ticks": "",
           "title": {
            "standoff": 15
           },
           "zerolinecolor": "white",
           "zerolinewidth": 2
          },
          "yaxis": {
           "automargin": true,
           "gridcolor": "white",
           "linecolor": "white",
           "ticks": "",
           "title": {
            "standoff": 15
           },
           "zerolinecolor": "white",
           "zerolinewidth": 2
          }
         }
        },
        "title": {
         "text": "Slice Plot"
        },
        "xaxis": {
         "anchor": "y",
         "domain": [
          0,
          0.2888888888888889
         ],
         "title": {
          "text": "coef0"
         }
        },
        "xaxis2": {
         "anchor": "y2",
         "domain": [
          0.35555555555555557,
          0.6444444444444445
         ],
         "title": {
          "text": "degree"
         }
        },
        "xaxis3": {
         "anchor": "y3",
         "domain": [
          0.7111111111111111,
          1
         ],
         "title": {
          "text": "kernel"
         }
        },
        "yaxis": {
         "anchor": "x",
         "domain": [
          0,
          1
         ],
         "title": {
          "text": "Objective Value"
         }
        },
        "yaxis2": {
         "anchor": "x2",
         "domain": [
          0,
          1
         ],
         "matches": "y",
         "showticklabels": false
        },
        "yaxis3": {
         "anchor": "x3",
         "domain": [
          0,
          1
         ],
         "matches": "y",
         "showticklabels": false
        }
       }
      }
     },
     "metadata": {},
     "output_type": "display_data"
    }
   ],
   "source": [
    "key_params = ['kernel', 'coef0', 'degree']\n",
    "plot_slice(study, params = key_params).show()"
   ]
  },
  {
   "cell_type": "code",
   "execution_count": 16,
   "id": "42fbc305",
   "metadata": {},
   "outputs": [
    {
     "data": {
      "text/plain": [
       "{'C': 55.269088337763066,\n",
       " 'kernel': 'rbf',\n",
       " 'degree': 10,\n",
       " 'gamma': 'auto',\n",
       " 'coef0': 8.363572073854568,\n",
       " 'shrinking': 1,\n",
       " 'tol': 0.5608852633036548}"
      ]
     },
     "execution_count": 16,
     "metadata": {},
     "output_type": "execute_result"
    }
   ],
   "source": [
    "study.best_params"
   ]
  },
  {
   "cell_type": "code",
   "execution_count": 9,
   "id": "ead10b2a",
   "metadata": {},
   "outputs": [],
   "source": [
    "best_params = {\n",
    "    'C': 55.269088337763066,\n",
    "    'kernel': 'rbf',\n",
    "    'degree': 10,\n",
    "    'gamma': 'auto',\n",
    "    'coef0': 8.363572073854568,\n",
    "    'shrinking': 1,\n",
    "    'tol': 0.5608852633036548\n",
    " }"
   ]
  },
  {
   "cell_type": "markdown",
   "id": "70694319",
   "metadata": {},
   "source": [
    "## Create model with best params"
   ]
  },
  {
   "cell_type": "code",
   "execution_count": 10,
   "id": "92f6c415",
   "metadata": {},
   "outputs": [],
   "source": [
    "train_x = train_df[cols[:-1]].to_numpy()\n",
    "train_y = train_df[cols[-1]].to_numpy()\n",
    "val_x = val_df[cols[:-1]].to_numpy()\n",
    "val_y = val_df[cols[-1]].to_numpy()"
   ]
  },
  {
   "cell_type": "code",
   "execution_count": 11,
   "id": "ccf85a70",
   "metadata": {},
   "outputs": [],
   "source": [
    "params = best_params\n",
    "model = SVC(\n",
    "    C=params['C'],\n",
    "    kernel=params['kernel'],\n",
    "    degree=params['degree'],\n",
    "    gamma=params['gamma'],\n",
    "    coef0=params['coef0'],\n",
    "    shrinking=params['shrinking'],\n",
    "    tol=params['tol']\n",
    ")"
   ]
  },
  {
   "cell_type": "code",
   "execution_count": 12,
   "id": "0ee98031",
   "metadata": {},
   "outputs": [],
   "source": [
    "X = pd.concat([train_df[cols[:-1]], val_df[cols[:-1]]])\n",
    "y = pd.concat([train_df[cols[-1]], val_df[cols[-1]]])"
   ]
  },
  {
   "cell_type": "code",
   "execution_count": 16,
   "id": "b381b946",
   "metadata": {},
   "outputs": [
    {
     "name": "stdout",
     "output_type": "stream",
     "text": [
      "Mean cv (k=10) accuracy score = 0.791\n"
     ]
    }
   ],
   "source": [
    "cv_scores = cross_val_score(model, X, y, cv=10)\n",
    "print(f'Mean cv (k=10) accuracy score = {round(np.mean(cv_scores), 3)}')"
   ]
  },
  {
   "cell_type": "markdown",
   "id": "9269b371",
   "metadata": {},
   "source": [
    "## Feature selection"
   ]
  },
  {
   "cell_type": "code",
   "execution_count": 17,
   "id": "adebec87",
   "metadata": {},
   "outputs": [],
   "source": [
    "is_cat_col = {\n",
    "    'is_g734s': True,\n",
    "    'CryoSleep': True,\n",
    "    'VIP': True,\n",
    "    'Europa': True,\n",
    "    'Mars': True,\n",
    "    'PSO J318.5-22': True,\n",
    "    'TRAPPIST-1e': True,\n",
    "    'Age': False,\n",
    "    'RoomService': False,\n",
    "    'FoodCourt': False,\n",
    "    'ShoppingMall': False,\n",
    "    'Spa': False,\n",
    "    'VRDeck': False,\n",
    "    'segment': True\n",
    " }"
   ]
  },
  {
   "cell_type": "code",
   "execution_count": 18,
   "id": "0598027b",
   "metadata": {},
   "outputs": [],
   "source": [
    "feature_mi = mutual_info_classif(X, y, discrete_features=list(is_cat_col.values()))\n",
    "feature_f = f_classif(X, y)"
   ]
  },
  {
   "cell_type": "code",
   "execution_count": 19,
   "id": "fa6ccc86",
   "metadata": {},
   "outputs": [
    {
     "data": {
      "text/html": [
       "<div>\n",
       "<style scoped>\n",
       "    .dataframe tbody tr th:only-of-type {\n",
       "        vertical-align: middle;\n",
       "    }\n",
       "\n",
       "    .dataframe tbody tr th {\n",
       "        vertical-align: top;\n",
       "    }\n",
       "\n",
       "    .dataframe thead th {\n",
       "        text-align: right;\n",
       "    }\n",
       "</style>\n",
       "<table border=\"1\" class=\"dataframe\">\n",
       "  <thead>\n",
       "    <tr style=\"text-align: right;\">\n",
       "      <th></th>\n",
       "      <th>feature</th>\n",
       "      <th>mi</th>\n",
       "      <th>f</th>\n",
       "      <th>mi_z</th>\n",
       "      <th>f_z</th>\n",
       "      <th>feature_quality</th>\n",
       "    </tr>\n",
       "  </thead>\n",
       "  <tbody>\n",
       "    <tr>\n",
       "      <th>1</th>\n",
       "      <td>CryoSleep</td>\n",
       "      <td>1.072555e-01</td>\n",
       "      <td>2228.334929</td>\n",
       "      <td>1.758079</td>\n",
       "      <td>2.196114</td>\n",
       "      <td>1.977097</td>\n",
       "    </tr>\n",
       "    <tr>\n",
       "      <th>13</th>\n",
       "      <td>segment</td>\n",
       "      <td>1.066814e-01</td>\n",
       "      <td>1800.139509</td>\n",
       "      <td>1.743288</td>\n",
       "      <td>1.616080</td>\n",
       "      <td>1.679684</td>\n",
       "    </tr>\n",
       "    <tr>\n",
       "      <th>11</th>\n",
       "      <td>Spa</td>\n",
       "      <td>7.617253e-02</td>\n",
       "      <td>1285.480254</td>\n",
       "      <td>0.957209</td>\n",
       "      <td>0.918922</td>\n",
       "      <td>0.938065</td>\n",
       "    </tr>\n",
       "    <tr>\n",
       "      <th>8</th>\n",
       "      <td>RoomService</td>\n",
       "      <td>7.764053e-02</td>\n",
       "      <td>1239.221137</td>\n",
       "      <td>0.995033</td>\n",
       "      <td>0.856260</td>\n",
       "      <td>0.925646</td>\n",
       "    </tr>\n",
       "    <tr>\n",
       "      <th>12</th>\n",
       "      <td>VRDeck</td>\n",
       "      <td>6.039245e-02</td>\n",
       "      <td>1101.496913</td>\n",
       "      <td>0.550625</td>\n",
       "      <td>0.669698</td>\n",
       "      <td>0.610162</td>\n",
       "    </tr>\n",
       "    <tr>\n",
       "      <th>10</th>\n",
       "      <td>ShoppingMall</td>\n",
       "      <td>4.501290e-02</td>\n",
       "      <td>267.552878</td>\n",
       "      <td>0.154362</td>\n",
       "      <td>-0.459963</td>\n",
       "      <td>-0.152801</td>\n",
       "    </tr>\n",
       "    <tr>\n",
       "      <th>9</th>\n",
       "      <td>FoodCourt</td>\n",
       "      <td>4.011436e-02</td>\n",
       "      <td>151.085174</td>\n",
       "      <td>0.028148</td>\n",
       "      <td>-0.617730</td>\n",
       "      <td>-0.294791</td>\n",
       "    </tr>\n",
       "    <tr>\n",
       "      <th>3</th>\n",
       "      <td>Europa</td>\n",
       "      <td>1.587072e-02</td>\n",
       "      <td>280.812746</td>\n",
       "      <td>-0.596504</td>\n",
       "      <td>-0.442001</td>\n",
       "      <td>-0.519253</td>\n",
       "    </tr>\n",
       "    <tr>\n",
       "      <th>7</th>\n",
       "      <td>Age</td>\n",
       "      <td>1.161459e-02</td>\n",
       "      <td>48.491713</td>\n",
       "      <td>-0.706166</td>\n",
       "      <td>-0.756703</td>\n",
       "      <td>-0.731435</td>\n",
       "    </tr>\n",
       "    <tr>\n",
       "      <th>6</th>\n",
       "      <td>TRAPPIST-1e</td>\n",
       "      <td>4.653416e-03</td>\n",
       "      <td>81.384065</td>\n",
       "      <td>-0.885525</td>\n",
       "      <td>-0.712147</td>\n",
       "      <td>-0.798836</td>\n",
       "    </tr>\n",
       "    <tr>\n",
       "      <th>2</th>\n",
       "      <td>VIP</td>\n",
       "      <td>7.002228e-04</td>\n",
       "      <td>12.083096</td>\n",
       "      <td>-0.987381</td>\n",
       "      <td>-0.806022</td>\n",
       "      <td>-0.896702</td>\n",
       "    </tr>\n",
       "    <tr>\n",
       "      <th>4</th>\n",
       "      <td>Mars</td>\n",
       "      <td>1.953682e-04</td>\n",
       "      <td>3.396187</td>\n",
       "      <td>-1.000389</td>\n",
       "      <td>-0.817790</td>\n",
       "      <td>-0.909089</td>\n",
       "    </tr>\n",
       "    <tr>\n",
       "      <th>0</th>\n",
       "      <td>is_g734s</td>\n",
       "      <td>2.644404e-06</td>\n",
       "      <td>0.045960</td>\n",
       "      <td>-1.005355</td>\n",
       "      <td>-0.822328</td>\n",
       "      <td>-0.913841</td>\n",
       "    </tr>\n",
       "    <tr>\n",
       "      <th>5</th>\n",
       "      <td>PSO J318.5-22</td>\n",
       "      <td>4.252760e-09</td>\n",
       "      <td>0.000074</td>\n",
       "      <td>-1.005423</td>\n",
       "      <td>-0.822390</td>\n",
       "      <td>-0.913906</td>\n",
       "    </tr>\n",
       "  </tbody>\n",
       "</table>\n",
       "</div>"
      ],
      "text/plain": [
       "          feature            mi            f      mi_z       f_z  \\\n",
       "1       CryoSleep  1.072555e-01  2228.334929  1.758079  2.196114   \n",
       "13        segment  1.066814e-01  1800.139509  1.743288  1.616080   \n",
       "11            Spa  7.617253e-02  1285.480254  0.957209  0.918922   \n",
       "8     RoomService  7.764053e-02  1239.221137  0.995033  0.856260   \n",
       "12         VRDeck  6.039245e-02  1101.496913  0.550625  0.669698   \n",
       "10   ShoppingMall  4.501290e-02   267.552878  0.154362 -0.459963   \n",
       "9       FoodCourt  4.011436e-02   151.085174  0.028148 -0.617730   \n",
       "3          Europa  1.587072e-02   280.812746 -0.596504 -0.442001   \n",
       "7             Age  1.161459e-02    48.491713 -0.706166 -0.756703   \n",
       "6     TRAPPIST-1e  4.653416e-03    81.384065 -0.885525 -0.712147   \n",
       "2             VIP  7.002228e-04    12.083096 -0.987381 -0.806022   \n",
       "4            Mars  1.953682e-04     3.396187 -1.000389 -0.817790   \n",
       "0        is_g734s  2.644404e-06     0.045960 -1.005355 -0.822328   \n",
       "5   PSO J318.5-22  4.252760e-09     0.000074 -1.005423 -0.822390   \n",
       "\n",
       "    feature_quality  \n",
       "1          1.977097  \n",
       "13         1.679684  \n",
       "11         0.938065  \n",
       "8          0.925646  \n",
       "12         0.610162  \n",
       "10        -0.152801  \n",
       "9         -0.294791  \n",
       "3         -0.519253  \n",
       "7         -0.731435  \n",
       "6         -0.798836  \n",
       "2         -0.896702  \n",
       "4         -0.909089  \n",
       "0         -0.913841  \n",
       "5         -0.913906  "
      ]
     },
     "execution_count": 19,
     "metadata": {},
     "output_type": "execute_result"
    }
   ],
   "source": [
    "feature_df = pd.DataFrame({\n",
    "    'feature': cols[:-1],\n",
    "    'mi': feature_mi,\n",
    "    'f': feature_f[0]\n",
    "})\n",
    "\n",
    "scaler = StandardScaler()\n",
    "feature_df[['mi_z', 'f_z']] = scaler.fit_transform(feature_df[['mi', 'f']])\n",
    "feature_df['feature_quality'] = feature_df[['mi_z', 'f_z']].mean(axis=1)\n",
    "\n",
    "feature_df.sort_values('feature_quality', ascending=False, inplace=True)\n",
    "best_features = feature_df['feature'].to_list()\n",
    "feature_df"
   ]
  },
  {
   "cell_type": "code",
   "execution_count": 20,
   "id": "687cee0f",
   "metadata": {},
   "outputs": [
    {
     "data": {
      "application/vnd.plotly.v1+json": {
       "config": {
        "plotlyServerURL": "https://plot.ly"
       },
       "data": [
        {
         "alignmentgroup": "True",
         "hovertemplate": "feature_quality=%{x}<br>feature=%{y}<extra></extra>",
         "legendgroup": "",
         "marker": {
          "color": "#636efa",
          "pattern": {
           "shape": ""
          }
         },
         "name": "",
         "offsetgroup": "",
         "orientation": "h",
         "showlegend": false,
         "textposition": "auto",
         "type": "bar",
         "x": [
          1.9770965767521298,
          1.67968412749418,
          0.9380654682181895,
          0.9256461468401821,
          0.6101618443325223,
          -0.15280054273063412,
          -0.29479108528461573,
          -0.5192526704014835,
          -0.7314346553545492,
          -0.7988360657332018,
          -0.8967018542247325,
          -0.9090894442235028,
          -0.9138413773259961,
          -0.9139064683584882
         ],
         "xaxis": "x",
         "y": [
          "CryoSleep",
          "segment",
          "Spa",
          "RoomService",
          "VRDeck",
          "ShoppingMall",
          "FoodCourt",
          "Europa",
          "Age",
          "TRAPPIST-1e",
          "VIP",
          "Mars",
          "is_g734s",
          "PSO J318.5-22"
         ],
         "yaxis": "y"
        }
       ],
       "layout": {
        "barmode": "relative",
        "legend": {
         "tracegroupgap": 0
        },
        "margin": {
         "t": 60
        },
        "template": {
         "data": {
          "bar": [
           {
            "error_x": {
             "color": "#2a3f5f"
            },
            "error_y": {
             "color": "#2a3f5f"
            },
            "marker": {
             "line": {
              "color": "#E5ECF6",
              "width": 0.5
             },
             "pattern": {
              "fillmode": "overlay",
              "size": 10,
              "solidity": 0.2
             }
            },
            "type": "bar"
           }
          ],
          "barpolar": [
           {
            "marker": {
             "line": {
              "color": "#E5ECF6",
              "width": 0.5
             },
             "pattern": {
              "fillmode": "overlay",
              "size": 10,
              "solidity": 0.2
             }
            },
            "type": "barpolar"
           }
          ],
          "carpet": [
           {
            "aaxis": {
             "endlinecolor": "#2a3f5f",
             "gridcolor": "white",
             "linecolor": "white",
             "minorgridcolor": "white",
             "startlinecolor": "#2a3f5f"
            },
            "baxis": {
             "endlinecolor": "#2a3f5f",
             "gridcolor": "white",
             "linecolor": "white",
             "minorgridcolor": "white",
             "startlinecolor": "#2a3f5f"
            },
            "type": "carpet"
           }
          ],
          "choropleth": [
           {
            "colorbar": {
             "outlinewidth": 0,
             "ticks": ""
            },
            "type": "choropleth"
           }
          ],
          "contour": [
           {
            "colorbar": {
             "outlinewidth": 0,
             "ticks": ""
            },
            "colorscale": [
             [
              0,
              "#0d0887"
             ],
             [
              0.1111111111111111,
              "#46039f"
             ],
             [
              0.2222222222222222,
              "#7201a8"
             ],
             [
              0.3333333333333333,
              "#9c179e"
             ],
             [
              0.4444444444444444,
              "#bd3786"
             ],
             [
              0.5555555555555556,
              "#d8576b"
             ],
             [
              0.6666666666666666,
              "#ed7953"
             ],
             [
              0.7777777777777778,
              "#fb9f3a"
             ],
             [
              0.8888888888888888,
              "#fdca26"
             ],
             [
              1,
              "#f0f921"
             ]
            ],
            "type": "contour"
           }
          ],
          "contourcarpet": [
           {
            "colorbar": {
             "outlinewidth": 0,
             "ticks": ""
            },
            "type": "contourcarpet"
           }
          ],
          "heatmap": [
           {
            "colorbar": {
             "outlinewidth": 0,
             "ticks": ""
            },
            "colorscale": [
             [
              0,
              "#0d0887"
             ],
             [
              0.1111111111111111,
              "#46039f"
             ],
             [
              0.2222222222222222,
              "#7201a8"
             ],
             [
              0.3333333333333333,
              "#9c179e"
             ],
             [
              0.4444444444444444,
              "#bd3786"
             ],
             [
              0.5555555555555556,
              "#d8576b"
             ],
             [
              0.6666666666666666,
              "#ed7953"
             ],
             [
              0.7777777777777778,
              "#fb9f3a"
             ],
             [
              0.8888888888888888,
              "#fdca26"
             ],
             [
              1,
              "#f0f921"
             ]
            ],
            "type": "heatmap"
           }
          ],
          "heatmapgl": [
           {
            "colorbar": {
             "outlinewidth": 0,
             "ticks": ""
            },
            "colorscale": [
             [
              0,
              "#0d0887"
             ],
             [
              0.1111111111111111,
              "#46039f"
             ],
             [
              0.2222222222222222,
              "#7201a8"
             ],
             [
              0.3333333333333333,
              "#9c179e"
             ],
             [
              0.4444444444444444,
              "#bd3786"
             ],
             [
              0.5555555555555556,
              "#d8576b"
             ],
             [
              0.6666666666666666,
              "#ed7953"
             ],
             [
              0.7777777777777778,
              "#fb9f3a"
             ],
             [
              0.8888888888888888,
              "#fdca26"
             ],
             [
              1,
              "#f0f921"
             ]
            ],
            "type": "heatmapgl"
           }
          ],
          "histogram": [
           {
            "marker": {
             "pattern": {
              "fillmode": "overlay",
              "size": 10,
              "solidity": 0.2
             }
            },
            "type": "histogram"
           }
          ],
          "histogram2d": [
           {
            "colorbar": {
             "outlinewidth": 0,
             "ticks": ""
            },
            "colorscale": [
             [
              0,
              "#0d0887"
             ],
             [
              0.1111111111111111,
              "#46039f"
             ],
             [
              0.2222222222222222,
              "#7201a8"
             ],
             [
              0.3333333333333333,
              "#9c179e"
             ],
             [
              0.4444444444444444,
              "#bd3786"
             ],
             [
              0.5555555555555556,
              "#d8576b"
             ],
             [
              0.6666666666666666,
              "#ed7953"
             ],
             [
              0.7777777777777778,
              "#fb9f3a"
             ],
             [
              0.8888888888888888,
              "#fdca26"
             ],
             [
              1,
              "#f0f921"
             ]
            ],
            "type": "histogram2d"
           }
          ],
          "histogram2dcontour": [
           {
            "colorbar": {
             "outlinewidth": 0,
             "ticks": ""
            },
            "colorscale": [
             [
              0,
              "#0d0887"
             ],
             [
              0.1111111111111111,
              "#46039f"
             ],
             [
              0.2222222222222222,
              "#7201a8"
             ],
             [
              0.3333333333333333,
              "#9c179e"
             ],
             [
              0.4444444444444444,
              "#bd3786"
             ],
             [
              0.5555555555555556,
              "#d8576b"
             ],
             [
              0.6666666666666666,
              "#ed7953"
             ],
             [
              0.7777777777777778,
              "#fb9f3a"
             ],
             [
              0.8888888888888888,
              "#fdca26"
             ],
             [
              1,
              "#f0f921"
             ]
            ],
            "type": "histogram2dcontour"
           }
          ],
          "mesh3d": [
           {
            "colorbar": {
             "outlinewidth": 0,
             "ticks": ""
            },
            "type": "mesh3d"
           }
          ],
          "parcoords": [
           {
            "line": {
             "colorbar": {
              "outlinewidth": 0,
              "ticks": ""
             }
            },
            "type": "parcoords"
           }
          ],
          "pie": [
           {
            "automargin": true,
            "type": "pie"
           }
          ],
          "scatter": [
           {
            "fillpattern": {
             "fillmode": "overlay",
             "size": 10,
             "solidity": 0.2
            },
            "type": "scatter"
           }
          ],
          "scatter3d": [
           {
            "line": {
             "colorbar": {
              "outlinewidth": 0,
              "ticks": ""
             }
            },
            "marker": {
             "colorbar": {
              "outlinewidth": 0,
              "ticks": ""
             }
            },
            "type": "scatter3d"
           }
          ],
          "scattercarpet": [
           {
            "marker": {
             "colorbar": {
              "outlinewidth": 0,
              "ticks": ""
             }
            },
            "type": "scattercarpet"
           }
          ],
          "scattergeo": [
           {
            "marker": {
             "colorbar": {
              "outlinewidth": 0,
              "ticks": ""
             }
            },
            "type": "scattergeo"
           }
          ],
          "scattergl": [
           {
            "marker": {
             "colorbar": {
              "outlinewidth": 0,
              "ticks": ""
             }
            },
            "type": "scattergl"
           }
          ],
          "scattermapbox": [
           {
            "marker": {
             "colorbar": {
              "outlinewidth": 0,
              "ticks": ""
             }
            },
            "type": "scattermapbox"
           }
          ],
          "scatterpolar": [
           {
            "marker": {
             "colorbar": {
              "outlinewidth": 0,
              "ticks": ""
             }
            },
            "type": "scatterpolar"
           }
          ],
          "scatterpolargl": [
           {
            "marker": {
             "colorbar": {
              "outlinewidth": 0,
              "ticks": ""
             }
            },
            "type": "scatterpolargl"
           }
          ],
          "scatterternary": [
           {
            "marker": {
             "colorbar": {
              "outlinewidth": 0,
              "ticks": ""
             }
            },
            "type": "scatterternary"
           }
          ],
          "surface": [
           {
            "colorbar": {
             "outlinewidth": 0,
             "ticks": ""
            },
            "colorscale": [
             [
              0,
              "#0d0887"
             ],
             [
              0.1111111111111111,
              "#46039f"
             ],
             [
              0.2222222222222222,
              "#7201a8"
             ],
             [
              0.3333333333333333,
              "#9c179e"
             ],
             [
              0.4444444444444444,
              "#bd3786"
             ],
             [
              0.5555555555555556,
              "#d8576b"
             ],
             [
              0.6666666666666666,
              "#ed7953"
             ],
             [
              0.7777777777777778,
              "#fb9f3a"
             ],
             [
              0.8888888888888888,
              "#fdca26"
             ],
             [
              1,
              "#f0f921"
             ]
            ],
            "type": "surface"
           }
          ],
          "table": [
           {
            "cells": {
             "fill": {
              "color": "#EBF0F8"
             },
             "line": {
              "color": "white"
             }
            },
            "header": {
             "fill": {
              "color": "#C8D4E3"
             },
             "line": {
              "color": "white"
             }
            },
            "type": "table"
           }
          ]
         },
         "layout": {
          "annotationdefaults": {
           "arrowcolor": "#2a3f5f",
           "arrowhead": 0,
           "arrowwidth": 1
          },
          "autotypenumbers": "strict",
          "coloraxis": {
           "colorbar": {
            "outlinewidth": 0,
            "ticks": ""
           }
          },
          "colorscale": {
           "diverging": [
            [
             0,
             "#8e0152"
            ],
            [
             0.1,
             "#c51b7d"
            ],
            [
             0.2,
             "#de77ae"
            ],
            [
             0.3,
             "#f1b6da"
            ],
            [
             0.4,
             "#fde0ef"
            ],
            [
             0.5,
             "#f7f7f7"
            ],
            [
             0.6,
             "#e6f5d0"
            ],
            [
             0.7,
             "#b8e186"
            ],
            [
             0.8,
             "#7fbc41"
            ],
            [
             0.9,
             "#4d9221"
            ],
            [
             1,
             "#276419"
            ]
           ],
           "sequential": [
            [
             0,
             "#0d0887"
            ],
            [
             0.1111111111111111,
             "#46039f"
            ],
            [
             0.2222222222222222,
             "#7201a8"
            ],
            [
             0.3333333333333333,
             "#9c179e"
            ],
            [
             0.4444444444444444,
             "#bd3786"
            ],
            [
             0.5555555555555556,
             "#d8576b"
            ],
            [
             0.6666666666666666,
             "#ed7953"
            ],
            [
             0.7777777777777778,
             "#fb9f3a"
            ],
            [
             0.8888888888888888,
             "#fdca26"
            ],
            [
             1,
             "#f0f921"
            ]
           ],
           "sequentialminus": [
            [
             0,
             "#0d0887"
            ],
            [
             0.1111111111111111,
             "#46039f"
            ],
            [
             0.2222222222222222,
             "#7201a8"
            ],
            [
             0.3333333333333333,
             "#9c179e"
            ],
            [
             0.4444444444444444,
             "#bd3786"
            ],
            [
             0.5555555555555556,
             "#d8576b"
            ],
            [
             0.6666666666666666,
             "#ed7953"
            ],
            [
             0.7777777777777778,
             "#fb9f3a"
            ],
            [
             0.8888888888888888,
             "#fdca26"
            ],
            [
             1,
             "#f0f921"
            ]
           ]
          },
          "colorway": [
           "#636efa",
           "#EF553B",
           "#00cc96",
           "#ab63fa",
           "#FFA15A",
           "#19d3f3",
           "#FF6692",
           "#B6E880",
           "#FF97FF",
           "#FECB52"
          ],
          "font": {
           "color": "#2a3f5f"
          },
          "geo": {
           "bgcolor": "white",
           "lakecolor": "white",
           "landcolor": "#E5ECF6",
           "showlakes": true,
           "showland": true,
           "subunitcolor": "white"
          },
          "hoverlabel": {
           "align": "left"
          },
          "hovermode": "closest",
          "mapbox": {
           "style": "light"
          },
          "paper_bgcolor": "white",
          "plot_bgcolor": "#E5ECF6",
          "polar": {
           "angularaxis": {
            "gridcolor": "white",
            "linecolor": "white",
            "ticks": ""
           },
           "bgcolor": "#E5ECF6",
           "radialaxis": {
            "gridcolor": "white",
            "linecolor": "white",
            "ticks": ""
           }
          },
          "scene": {
           "xaxis": {
            "backgroundcolor": "#E5ECF6",
            "gridcolor": "white",
            "gridwidth": 2,
            "linecolor": "white",
            "showbackground": true,
            "ticks": "",
            "zerolinecolor": "white"
           },
           "yaxis": {
            "backgroundcolor": "#E5ECF6",
            "gridcolor": "white",
            "gridwidth": 2,
            "linecolor": "white",
            "showbackground": true,
            "ticks": "",
            "zerolinecolor": "white"
           },
           "zaxis": {
            "backgroundcolor": "#E5ECF6",
            "gridcolor": "white",
            "gridwidth": 2,
            "linecolor": "white",
            "showbackground": true,
            "ticks": "",
            "zerolinecolor": "white"
           }
          },
          "shapedefaults": {
           "line": {
            "color": "#2a3f5f"
           }
          },
          "ternary": {
           "aaxis": {
            "gridcolor": "white",
            "linecolor": "white",
            "ticks": ""
           },
           "baxis": {
            "gridcolor": "white",
            "linecolor": "white",
            "ticks": ""
           },
           "bgcolor": "#E5ECF6",
           "caxis": {
            "gridcolor": "white",
            "linecolor": "white",
            "ticks": ""
           }
          },
          "title": {
           "x": 0.05
          },
          "xaxis": {
           "automargin": true,
           "gridcolor": "white",
           "linecolor": "white",
           "ticks": "",
           "title": {
            "standoff": 15
           },
           "zerolinecolor": "white",
           "zerolinewidth": 2
          },
          "yaxis": {
           "automargin": true,
           "gridcolor": "white",
           "linecolor": "white",
           "ticks": "",
           "title": {
            "standoff": 15
           },
           "zerolinecolor": "white",
           "zerolinewidth": 2
          }
         }
        },
        "xaxis": {
         "anchor": "y",
         "domain": [
          0,
          1
         ],
         "title": {
          "text": "feature_quality"
         }
        },
        "yaxis": {
         "anchor": "x",
         "domain": [
          0,
          1
         ],
         "title": {
          "text": "feature"
         }
        }
       }
      }
     },
     "metadata": {},
     "output_type": "display_data"
    }
   ],
   "source": [
    "fig = px.bar(feature_df, x='feature_quality', y='feature')\n",
    "fig.show()"
   ]
  },
  {
   "cell_type": "code",
   "execution_count": 23,
   "id": "63880f52",
   "metadata": {},
   "outputs": [],
   "source": [
    "temp_cols = []\n",
    "cv_list = []\n",
    "\n",
    "model = SVC(\n",
    "    C=params['C'],\n",
    "    kernel=params['kernel'],\n",
    "    degree=params['degree'],\n",
    "    gamma=params['gamma'],\n",
    "    coef0=params['coef0'],\n",
    "    shrinking=params['shrinking'],\n",
    "    tol=params['tol']\n",
    ")\n",
    "\n",
    "for feature in best_features:\n",
    "    temp_cols.append(feature)\n",
    "    X = pd.concat([train_df[temp_cols], val_df[temp_cols]]).to_numpy()\n",
    "    cv_score = cross_val_score(model, X, y, cv=10)\n",
    "    cv_list.append(cv_score)"
   ]
  },
  {
   "cell_type": "code",
   "execution_count": 24,
   "id": "b5a54e06",
   "metadata": {},
   "outputs": [
    {
     "name": "stdout",
     "output_type": "stream",
     "text": [
      "8\n"
     ]
    }
   ],
   "source": [
    "means = []\n",
    "for scores in cv_list:\n",
    "    means.append(round(np.mean(scores), 3))\n",
    "\n",
    "i_features = 0\n",
    "for i in range(len(means)):\n",
    "    if means[i] == max(means):\n",
    "        i_features = i\n",
    "        print(i_features)\n",
    "        break"
   ]
  },
  {
   "cell_type": "code",
   "execution_count": 25,
   "id": "715bcd4c",
   "metadata": {},
   "outputs": [
    {
     "data": {
      "text/plain": [
       "['CryoSleep',\n",
       " 'segment',\n",
       " 'Spa',\n",
       " 'RoomService',\n",
       " 'VRDeck',\n",
       " 'ShoppingMall',\n",
       " 'FoodCourt',\n",
       " 'Europa',\n",
       " 'Age']"
      ]
     },
     "execution_count": 25,
     "metadata": {},
     "output_type": "execute_result"
    }
   ],
   "source": [
    "best_features[:i_features+1]"
   ]
  },
  {
   "cell_type": "markdown",
   "id": "4e9bf73f",
   "metadata": {},
   "source": [
    "## Make final model"
   ]
  },
  {
   "cell_type": "code",
   "execution_count": 26,
   "id": "e05e6bdf",
   "metadata": {},
   "outputs": [],
   "source": [
    "train_x = train_df[best_features[:i_features+1]].to_numpy()\n",
    "val_x = val_df[best_features[:i_features+1]].to_numpy()"
   ]
  },
  {
   "cell_type": "code",
   "execution_count": 27,
   "id": "bef7140c",
   "metadata": {},
   "outputs": [],
   "source": [
    "params = best_params\n",
    "model = SVC(\n",
    "    C=params['C'],\n",
    "    kernel=params['kernel'],\n",
    "    degree=params['degree'],\n",
    "    gamma=params['gamma'],\n",
    "    coef0=params['coef0'],\n",
    "    shrinking=params['shrinking'],\n",
    "    tol=params['tol'],\n",
    "    probability=True\n",
    ")"
   ]
  },
  {
   "cell_type": "code",
   "execution_count": 28,
   "id": "c848b37b",
   "metadata": {},
   "outputs": [],
   "source": [
    "model.fit(train_x, train_y)\n",
    "pred_val = model.predict_proba(val_x)\n",
    "pred_train = model.predict_proba(train_x)"
   ]
  },
  {
   "cell_type": "code",
   "execution_count": 29,
   "id": "21671008",
   "metadata": {},
   "outputs": [
    {
     "data": {
      "text/html": [
       "<div>\n",
       "<style scoped>\n",
       "    .dataframe tbody tr th:only-of-type {\n",
       "        vertical-align: middle;\n",
       "    }\n",
       "\n",
       "    .dataframe tbody tr th {\n",
       "        vertical-align: top;\n",
       "    }\n",
       "\n",
       "    .dataframe thead th {\n",
       "        text-align: right;\n",
       "    }\n",
       "</style>\n",
       "<table border=\"1\" class=\"dataframe\">\n",
       "  <thead>\n",
       "    <tr style=\"text-align: right;\">\n",
       "      <th></th>\n",
       "      <th>svc</th>\n",
       "      <th>y</th>\n",
       "    </tr>\n",
       "  </thead>\n",
       "  <tbody>\n",
       "    <tr>\n",
       "      <th>0</th>\n",
       "      <td>0.789785</td>\n",
       "      <td>0</td>\n",
       "    </tr>\n",
       "    <tr>\n",
       "      <th>1</th>\n",
       "      <td>0.751823</td>\n",
       "      <td>0</td>\n",
       "    </tr>\n",
       "    <tr>\n",
       "      <th>2</th>\n",
       "      <td>0.121129</td>\n",
       "      <td>0</td>\n",
       "    </tr>\n",
       "    <tr>\n",
       "      <th>3</th>\n",
       "      <td>0.500000</td>\n",
       "      <td>1</td>\n",
       "    </tr>\n",
       "    <tr>\n",
       "      <th>4</th>\n",
       "      <td>0.154317</td>\n",
       "      <td>0</td>\n",
       "    </tr>\n",
       "    <tr>\n",
       "      <th>...</th>\n",
       "      <td>...</td>\n",
       "      <td>...</td>\n",
       "    </tr>\n",
       "    <tr>\n",
       "      <th>6996</th>\n",
       "      <td>0.355281</td>\n",
       "      <td>0</td>\n",
       "    </tr>\n",
       "    <tr>\n",
       "      <th>6997</th>\n",
       "      <td>0.186197</td>\n",
       "      <td>0</td>\n",
       "    </tr>\n",
       "    <tr>\n",
       "      <th>6998</th>\n",
       "      <td>0.839701</td>\n",
       "      <td>1</td>\n",
       "    </tr>\n",
       "    <tr>\n",
       "      <th>6999</th>\n",
       "      <td>0.238495</td>\n",
       "      <td>0</td>\n",
       "    </tr>\n",
       "    <tr>\n",
       "      <th>7000</th>\n",
       "      <td>0.201669</td>\n",
       "      <td>0</td>\n",
       "    </tr>\n",
       "  </tbody>\n",
       "</table>\n",
       "<p>7001 rows × 2 columns</p>\n",
       "</div>"
      ],
      "text/plain": [
       "           svc  y\n",
       "0     0.789785  0\n",
       "1     0.751823  0\n",
       "2     0.121129  0\n",
       "3     0.500000  1\n",
       "4     0.154317  0\n",
       "...        ... ..\n",
       "6996  0.355281  0\n",
       "6997  0.186197  0\n",
       "6998  0.839701  1\n",
       "6999  0.238495  0\n",
       "7000  0.201669  0\n",
       "\n",
       "[7001 rows x 2 columns]"
      ]
     },
     "execution_count": 29,
     "metadata": {},
     "output_type": "execute_result"
    }
   ],
   "source": [
    "train_proba_df = pd.DataFrame(pred_train)\n",
    "train_proba_df.columns = ['0', 'svc']\n",
    "train_proba_df['y'] = train_y.astype(int)\n",
    "train_proba_df.drop(columns='0', inplace=True)\n",
    "train_proba_df"
   ]
  },
  {
   "cell_type": "code",
   "execution_count": 30,
   "id": "e1872046",
   "metadata": {},
   "outputs": [
    {
     "data": {
      "text/html": [
       "<div>\n",
       "<style scoped>\n",
       "    .dataframe tbody tr th:only-of-type {\n",
       "        vertical-align: middle;\n",
       "    }\n",
       "\n",
       "    .dataframe tbody tr th {\n",
       "        vertical-align: top;\n",
       "    }\n",
       "\n",
       "    .dataframe thead th {\n",
       "        text-align: right;\n",
       "    }\n",
       "</style>\n",
       "<table border=\"1\" class=\"dataframe\">\n",
       "  <thead>\n",
       "    <tr style=\"text-align: right;\">\n",
       "      <th></th>\n",
       "      <th>svc</th>\n",
       "      <th>y</th>\n",
       "    </tr>\n",
       "  </thead>\n",
       "  <tbody>\n",
       "    <tr>\n",
       "      <th>0</th>\n",
       "      <td>0.300525</td>\n",
       "      <td>1</td>\n",
       "    </tr>\n",
       "    <tr>\n",
       "      <th>1</th>\n",
       "      <td>0.742213</td>\n",
       "      <td>0</td>\n",
       "    </tr>\n",
       "    <tr>\n",
       "      <th>2</th>\n",
       "      <td>0.545838</td>\n",
       "      <td>1</td>\n",
       "    </tr>\n",
       "    <tr>\n",
       "      <th>3</th>\n",
       "      <td>0.141895</td>\n",
       "      <td>0</td>\n",
       "    </tr>\n",
       "    <tr>\n",
       "      <th>4</th>\n",
       "      <td>0.773805</td>\n",
       "      <td>1</td>\n",
       "    </tr>\n",
       "    <tr>\n",
       "      <th>...</th>\n",
       "      <td>...</td>\n",
       "      <td>...</td>\n",
       "    </tr>\n",
       "    <tr>\n",
       "      <th>1687</th>\n",
       "      <td>0.144930</td>\n",
       "      <td>0</td>\n",
       "    </tr>\n",
       "    <tr>\n",
       "      <th>1688</th>\n",
       "      <td>0.811434</td>\n",
       "      <td>1</td>\n",
       "    </tr>\n",
       "    <tr>\n",
       "      <th>1689</th>\n",
       "      <td>0.765861</td>\n",
       "      <td>1</td>\n",
       "    </tr>\n",
       "    <tr>\n",
       "      <th>1690</th>\n",
       "      <td>0.500000</td>\n",
       "      <td>1</td>\n",
       "    </tr>\n",
       "    <tr>\n",
       "      <th>1691</th>\n",
       "      <td>0.756031</td>\n",
       "      <td>0</td>\n",
       "    </tr>\n",
       "  </tbody>\n",
       "</table>\n",
       "<p>1692 rows × 2 columns</p>\n",
       "</div>"
      ],
      "text/plain": [
       "           svc  y\n",
       "0     0.300525  1\n",
       "1     0.742213  0\n",
       "2     0.545838  1\n",
       "3     0.141895  0\n",
       "4     0.773805  1\n",
       "...        ... ..\n",
       "1687  0.144930  0\n",
       "1688  0.811434  1\n",
       "1689  0.765861  1\n",
       "1690  0.500000  1\n",
       "1691  0.756031  0\n",
       "\n",
       "[1692 rows x 2 columns]"
      ]
     },
     "execution_count": 30,
     "metadata": {},
     "output_type": "execute_result"
    }
   ],
   "source": [
    "val_proba_df = pd.DataFrame(pred_val)\n",
    "val_proba_df.columns = ['0', 'svc']\n",
    "val_proba_df['y'] = val_y.astype(int)\n",
    "val_proba_df.drop(columns='0', inplace=True)\n",
    "val_proba_df"
   ]
  },
  {
   "cell_type": "code",
   "execution_count": 31,
   "id": "a88225e9",
   "metadata": {},
   "outputs": [],
   "source": [
    "train_proba_final = pd.read_csv('./data/ensemble_train_df.csv')\n",
    "train_proba_final['svc'] = train_proba_df['svc']\n",
    "val_proba_final = pd.read_csv('./data/ensemble_val_df.csv')\n",
    "val_proba_final['svc'] = val_proba_df['svc']"
   ]
  },
  {
   "cell_type": "code",
   "execution_count": 32,
   "id": "b32c2316",
   "metadata": {},
   "outputs": [],
   "source": [
    "train_proba_final.to_csv('./data/ensemble_train_df.csv')\n",
    "val_proba_final.to_csv('./data/ensemble_val_df.csv')"
   ]
  },
  {
   "cell_type": "code",
   "execution_count": null,
   "id": "872f5977",
   "metadata": {},
   "outputs": [],
   "source": [
    "filepath = os.path.join('models', 'svc.pickle')\n",
    "pickle.dump(model, open(filepath, 'wb'))"
   ]
  },
  {
   "cell_type": "code",
   "execution_count": 34,
   "id": "1338a021",
   "metadata": {},
   "outputs": [
    {
     "data": {
      "text/html": [
       "<style>#sk-container-id-1 {color: black;background-color: white;}#sk-container-id-1 pre{padding: 0;}#sk-container-id-1 div.sk-toggleable {background-color: white;}#sk-container-id-1 label.sk-toggleable__label {cursor: pointer;display: block;width: 100%;margin-bottom: 0;padding: 0.3em;box-sizing: border-box;text-align: center;}#sk-container-id-1 label.sk-toggleable__label-arrow:before {content: \"▸\";float: left;margin-right: 0.25em;color: #696969;}#sk-container-id-1 label.sk-toggleable__label-arrow:hover:before {color: black;}#sk-container-id-1 div.sk-estimator:hover label.sk-toggleable__label-arrow:before {color: black;}#sk-container-id-1 div.sk-toggleable__content {max-height: 0;max-width: 0;overflow: hidden;text-align: left;background-color: #f0f8ff;}#sk-container-id-1 div.sk-toggleable__content pre {margin: 0.2em;color: black;border-radius: 0.25em;background-color: #f0f8ff;}#sk-container-id-1 input.sk-toggleable__control:checked~div.sk-toggleable__content {max-height: 200px;max-width: 100%;overflow: auto;}#sk-container-id-1 input.sk-toggleable__control:checked~label.sk-toggleable__label-arrow:before {content: \"▾\";}#sk-container-id-1 div.sk-estimator input.sk-toggleable__control:checked~label.sk-toggleable__label {background-color: #d4ebff;}#sk-container-id-1 div.sk-label input.sk-toggleable__control:checked~label.sk-toggleable__label {background-color: #d4ebff;}#sk-container-id-1 input.sk-hidden--visually {border: 0;clip: rect(1px 1px 1px 1px);clip: rect(1px, 1px, 1px, 1px);height: 1px;margin: -1px;overflow: hidden;padding: 0;position: absolute;width: 1px;}#sk-container-id-1 div.sk-estimator {font-family: monospace;background-color: #f0f8ff;border: 1px dotted black;border-radius: 0.25em;box-sizing: border-box;margin-bottom: 0.5em;}#sk-container-id-1 div.sk-estimator:hover {background-color: #d4ebff;}#sk-container-id-1 div.sk-parallel-item::after {content: \"\";width: 100%;border-bottom: 1px solid gray;flex-grow: 1;}#sk-container-id-1 div.sk-label:hover label.sk-toggleable__label {background-color: #d4ebff;}#sk-container-id-1 div.sk-serial::before {content: \"\";position: absolute;border-left: 1px solid gray;box-sizing: border-box;top: 0;bottom: 0;left: 50%;z-index: 0;}#sk-container-id-1 div.sk-serial {display: flex;flex-direction: column;align-items: center;background-color: white;padding-right: 0.2em;padding-left: 0.2em;position: relative;}#sk-container-id-1 div.sk-item {position: relative;z-index: 1;}#sk-container-id-1 div.sk-parallel {display: flex;align-items: stretch;justify-content: center;background-color: white;position: relative;}#sk-container-id-1 div.sk-item::before, #sk-container-id-1 div.sk-parallel-item::before {content: \"\";position: absolute;border-left: 1px solid gray;box-sizing: border-box;top: 0;bottom: 0;left: 50%;z-index: -1;}#sk-container-id-1 div.sk-parallel-item {display: flex;flex-direction: column;z-index: 1;position: relative;background-color: white;}#sk-container-id-1 div.sk-parallel-item:first-child::after {align-self: flex-end;width: 50%;}#sk-container-id-1 div.sk-parallel-item:last-child::after {align-self: flex-start;width: 50%;}#sk-container-id-1 div.sk-parallel-item:only-child::after {width: 0;}#sk-container-id-1 div.sk-dashed-wrapped {border: 1px dashed gray;margin: 0 0.4em 0.5em 0.4em;box-sizing: border-box;padding-bottom: 0.4em;background-color: white;}#sk-container-id-1 div.sk-label label {font-family: monospace;font-weight: bold;display: inline-block;line-height: 1.2em;}#sk-container-id-1 div.sk-label-container {text-align: center;}#sk-container-id-1 div.sk-container {/* jupyter's `normalize.less` sets `[hidden] { display: none; }` but bootstrap.min.css set `[hidden] { display: none !important; }` so we also need the `!important` here to be able to override the default hidden behavior on the sphinx rendered scikit-learn.org. See: https://github.com/scikit-learn/scikit-learn/issues/21755 */display: inline-block !important;position: relative;}#sk-container-id-1 div.sk-text-repr-fallback {display: none;}</style><div id=\"sk-container-id-1\" class=\"sk-top-container\"><div class=\"sk-text-repr-fallback\"><pre>SVC(C=55.269088337763066, coef0=8.363572073854568, degree=10, gamma=&#x27;auto&#x27;,\n",
       "    probability=True, shrinking=1, tol=0.5608852633036548)</pre><b>In a Jupyter environment, please rerun this cell to show the HTML representation or trust the notebook. <br />On GitHub, the HTML representation is unable to render, please try loading this page with nbviewer.org.</b></div><div class=\"sk-container\" hidden><div class=\"sk-item\"><div class=\"sk-estimator sk-toggleable\"><input class=\"sk-toggleable__control sk-hidden--visually\" id=\"sk-estimator-id-1\" type=\"checkbox\" checked><label for=\"sk-estimator-id-1\" class=\"sk-toggleable__label sk-toggleable__label-arrow\">SVC</label><div class=\"sk-toggleable__content\"><pre>SVC(C=55.269088337763066, coef0=8.363572073854568, degree=10, gamma=&#x27;auto&#x27;,\n",
       "    probability=True, shrinking=1, tol=0.5608852633036548)</pre></div></div></div></div></div>"
      ],
      "text/plain": [
       "SVC(C=55.269088337763066, coef0=8.363572073854568, degree=10, gamma='auto',\n",
       "    probability=True, shrinking=1, tol=0.5608852633036548)"
      ]
     },
     "execution_count": 34,
     "metadata": {},
     "output_type": "execute_result"
    }
   ],
   "source": []
  },
  {
   "cell_type": "code",
   "execution_count": null,
   "id": "8d46dc8b",
   "metadata": {},
   "outputs": [],
   "source": []
  }
 ],
 "metadata": {
  "kernelspec": {
   "display_name": "Python 3.10.2 64-bit",
   "language": "python",
   "name": "python3"
  },
  "language_info": {
   "codemirror_mode": {
    "name": "ipython",
    "version": 3
   },
   "file_extension": ".py",
   "mimetype": "text/x-python",
   "name": "python",
   "nbconvert_exporter": "python",
   "pygments_lexer": "ipython3",
   "version": "3.10.2"
  },
  "vscode": {
   "interpreter": {
    "hash": "6a74854dbd35b3b1e1641f2d717929c6b738adcdd3262c03fe72ebc0e6c9a894"
   }
  }
 },
 "nbformat": 4,
 "nbformat_minor": 5
}
